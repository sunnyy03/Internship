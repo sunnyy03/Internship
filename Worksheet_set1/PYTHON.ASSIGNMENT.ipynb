{
 "cells": [
  {
   "cell_type": "raw",
   "id": "be2c6cf1",
   "metadata": {},
   "source": [
    "Answers:\n",
    "    "
   ]
  },
  {
   "cell_type": "markdown",
   "id": "5cb072d6",
   "metadata": {},
   "source": [
    "11."
   ]
  },
  {
   "cell_type": "code",
   "execution_count": 1,
   "id": "cd8ce250",
   "metadata": {},
   "outputs": [],
   "source": [
    "def factorial(n):\n",
    "    #This is a code to find the factorial of a number.\n",
    "    if n==1 or n==0:\n",
    "        return 1\n",
    "    elif n<0:\n",
    "        print('Factorial is not defined for negative numbers.')\n",
    "    else:\n",
    "        return (n*factorial(n-1))"
   ]
  },
  {
   "cell_type": "code",
   "execution_count": 2,
   "id": "fd1eb189",
   "metadata": {},
   "outputs": [
    {
     "name": "stdout",
     "output_type": "stream",
     "text": [
      "Enter a number:5\n",
      "The factorial of the 5 is equal to: 120\n"
     ]
    }
   ],
   "source": [
    "number=int(input('Enter a number:')) \n",
    "print('The factorial of the',number,'is equal to:',factorial(number))"
   ]
  },
  {
   "cell_type": "code",
   "execution_count": null,
   "id": "83939f38",
   "metadata": {},
   "outputs": [],
   "source": []
  },
  {
   "cell_type": "markdown",
   "id": "01d83f7b",
   "metadata": {},
   "source": [
    "12."
   ]
  },
  {
   "cell_type": "code",
   "execution_count": 3,
   "id": "658f0793",
   "metadata": {},
   "outputs": [
    {
     "name": "stdout",
     "output_type": "stream",
     "text": [
      "Enter a number:19\n",
      "The number you entered is a prime number\n"
     ]
    }
   ],
   "source": [
    "number=int(input('Enter a number:'))\n",
    "#This is a code to find whether a number is prime or composite.\n",
    "if number>1:\n",
    "    for i in range(2,number):\n",
    "        if number%i==0:\n",
    "            print('The number you entered is a composite number.')\n",
    "            break\n",
    "        else:\n",
    "            print('The number you entered is a prime number')\n",
    "            break\n",
    "            \n",
    "elif number==0 or number==1:\n",
    "    print('The number you entered is neither prime nor composite')\n"
   ]
  },
  {
   "cell_type": "code",
   "execution_count": null,
   "id": "dbe6f811",
   "metadata": {},
   "outputs": [],
   "source": []
  },
  {
   "cell_type": "markdown",
   "id": "b243d91f",
   "metadata": {},
   "source": [
    "13.\n"
   ]
  },
  {
   "cell_type": "code",
   "execution_count": 4,
   "id": "0ff4f1b8",
   "metadata": {},
   "outputs": [
    {
     "name": "stdout",
     "output_type": "stream",
     "text": [
      "Enter a string:level\n",
      "The string you entered is palindrome\n"
     ]
    }
   ],
   "source": [
    "string=str(input('Enter a string:'))\n",
    "#This is a code to find whether a string is palindrome or not.\n",
    "if string==string[::-1]:\n",
    "    print('The string you entered is palindrome')\n",
    "else:\n",
    "    print('The string you entered is not palindrome')"
   ]
  },
  {
   "cell_type": "code",
   "execution_count": null,
   "id": "c8ffe501",
   "metadata": {},
   "outputs": [],
   "source": []
  },
  {
   "cell_type": "markdown",
   "id": "2d45fed5",
   "metadata": {},
   "source": [
    "14."
   ]
  },
  {
   "cell_type": "code",
   "execution_count": 5,
   "id": "cf59fa8b",
   "metadata": {},
   "outputs": [],
   "source": [
    "def Rtriangle(base,perpendicular,hypotenuse):\n",
    "    #This is a code to find the third side of a right-angled triangle from two given sides:\n",
    "    if base==str('x'):\n",
    "        return ('base='+str(((hypotenuse**2)-(perpendicular**2))**0.5))\n",
    "    elif perpendicular==('x'):\n",
    "        return ('perpendicular='+str(((hypotenuse**2)-(base**2))**0.5))\n",
    "    elif hypotenuse==('x'):\n",
    "        return ('hypotenuse='+str(((perpendicular**2)+(base**2))**0.5))"
   ]
  },
  {
   "cell_type": "code",
   "execution_count": 6,
   "id": "a4b0d860",
   "metadata": {},
   "outputs": [
    {
     "data": {
      "text/plain": [
       "'hypotenuse=5.0'"
      ]
     },
     "execution_count": 6,
     "metadata": {},
     "output_type": "execute_result"
    }
   ],
   "source": [
    "Rtriangle(3,4,'x')"
   ]
  },
  {
   "cell_type": "code",
   "execution_count": null,
   "id": "12e9f3f0",
   "metadata": {},
   "outputs": [],
   "source": []
  },
  {
   "cell_type": "markdown",
   "id": "0909e3d5",
   "metadata": {},
   "source": [
    "15."
   ]
  },
  {
   "cell_type": "code",
   "execution_count": 7,
   "id": "e86e00fe",
   "metadata": {},
   "outputs": [],
   "source": [
    "from collections import Counter"
   ]
  },
  {
   "cell_type": "code",
   "execution_count": 8,
   "id": "c0934e08",
   "metadata": {},
   "outputs": [
    {
     "name": "stdout",
     "output_type": "stream",
     "text": [
      "Enter a string here:frequency\n",
      "The frequency of characters in the given string is: Counter({'e': 2, 'f': 1, 'r': 1, 'q': 1, 'u': 1, 'n': 1, 'c': 1, 'y': 1})\n"
     ]
    }
   ],
   "source": [
    "#This is a code to find the frequency of a given string.\n",
    "string=str(input('Enter a string here:'))\n",
    "a=Counter(string)\n",
    "print('The frequency of characters in the given string is:',a)"
   ]
  },
  {
   "cell_type": "code",
   "execution_count": null,
   "id": "552661dd",
   "metadata": {},
   "outputs": [],
   "source": []
  }
 ],
 "metadata": {
  "kernelspec": {
   "display_name": "Python 3 (ipykernel)",
   "language": "python",
   "name": "python3"
  },
  "language_info": {
   "codemirror_mode": {
    "name": "ipython",
    "version": 3
   },
   "file_extension": ".py",
   "mimetype": "text/x-python",
   "name": "python",
   "nbconvert_exporter": "python",
   "pygments_lexer": "ipython3",
   "version": "3.9.7"
  }
 },
 "nbformat": 4,
 "nbformat_minor": 5
}
