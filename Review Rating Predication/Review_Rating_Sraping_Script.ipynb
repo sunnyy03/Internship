{
 "cells": [
  {
   "cell_type": "code",
   "execution_count": 1,
   "id": "2cdb67e8",
   "metadata": {},
   "outputs": [],
   "source": [
    "# Importing Libraries\n",
    "import selenium\n",
    "import pandas as pd\n",
    "import time\n",
    "from bs4 import BeautifulSoup\n",
    "\n",
    "# Importing selenium webdriver \n",
    "from selenium import webdriver\n",
    "\n",
    "# Importing required Exceptions which needs to handled\n",
    "from selenium.common.exceptions import StaleElementReferenceException, NoSuchElementException , ElementClickInterceptedException , WebDriverException\n",
    "\n",
    "#importing time\n",
    "import time\n",
    "\n",
    "#Importing requests\n",
    "import requests\n",
    "\n",
    "#importing warnings\n",
    "import warnings\n",
    "warnings.filterwarnings('ignore')\n",
    "\n",
    "# importing regex\n",
    "import re\n",
    "\n",
    "#importing keys\n",
    "from selenium.webdriver.common.keys import Keys\n",
    "from selenium.webdriver.common.by import By\n",
    "from selenium.webdriver.support.ui import WebDriverWait\n",
    "from selenium.webdriver.support import expected_conditions as EC"
   ]
  },
  {
   "cell_type": "markdown",
   "id": "9cee2a59",
   "metadata": {},
   "source": [
    "So, we are going to scrape data from different e-commerce websites and for various products as well"
   ]
  },
  {
   "cell_type": "code",
   "execution_count": 28,
   "id": "cd24217e",
   "metadata": {},
   "outputs": [],
   "source": [
    "driver=webdriver.Chrome(\"chromedriver.exe\")"
   ]
  },
  {
   "cell_type": "markdown",
   "id": "0c82e6cc",
   "metadata": {},
   "source": [
    "**AMAZON**"
   ]
  },
  {
   "cell_type": "markdown",
   "id": "e988e45c",
   "metadata": {},
   "source": [
    "SMARTPHONES"
   ]
  },
  {
   "cell_type": "code",
   "execution_count": 3,
   "id": "50dca24f",
   "metadata": {},
   "outputs": [],
   "source": [
    "#loading the website\n",
    "driver.get(\"https://www.amazon.in/?ie=UTF8&tag=googinprimeexpt5-21&ascsubtag=_k_Cj0KCQjwgO2XBhCaARIsANrW2X0qQKZwafnRiTVbuzA5GAGKH_ieBqxPCDxWqrXZkM17GqSz3p_YXqMaAio6EALw_wcB_k_&gclid=Cj0KCQjwgO2XBhCaARIsANrW2X0qQKZwafnRiTVbuzA5GAGKH_ieBqxPCDxWqrXZkM17GqSz3p_YXqMaAio6EALw_wcB\")"
   ]
  },
  {
   "cell_type": "code",
   "execution_count": 4,
   "id": "b62b4b37",
   "metadata": {},
   "outputs": [
    {
     "name": "stdout",
     "output_type": "stream",
     "text": [
      "Enter the product:Smartphone\n"
     ]
    }
   ],
   "source": [
    "#search box\n",
    "search = driver.find_element_by_xpath(\"//div[@class='nav-search-field ']/input\")\n",
    "\n",
    "#sending the keys to the search box\n",
    "search.send_keys(input(str(\"Enter the product:\")))\n",
    "\n",
    "#clicking on search button\n",
    "driver.find_element_by_id(\"nav-search-submit-button\").click()"
   ]
  },
  {
   "cell_type": "code",
   "execution_count": 5,
   "id": "6f2429f3",
   "metadata": {},
   "outputs": [],
   "source": [
    "URL = []              #making empt lists\n",
    "review = []\n",
    "rating = []"
   ]
  },
  {
   "cell_type": "code",
   "execution_count": 6,
   "id": "7960b688",
   "metadata": {},
   "outputs": [],
   "source": [
    "#extracting top 4 smartphones link\n",
    "for i in driver.find_elements_by_xpath(\"//h2[@class='a-size-mini a-spacing-none a-color-base s-line-clamp-2']/a\")[:5]:\n",
    "    URL.append(i.get_attribute('href'))"
   ]
  },
  {
   "cell_type": "code",
   "execution_count": 7,
   "id": "5d919ee6",
   "metadata": {},
   "outputs": [
    {
     "name": "stdout",
     "output_type": "stream",
     "text": [
      "No customer reviews\n"
     ]
    }
   ],
   "source": [
    "for i in URL:\n",
    "    driver.get(i)\n",
    "    time.sleep(2)\n",
    "    \n",
    "    try:\n",
    "        if driver.find_element_by_xpath(\"//h3[@class='a-spacing-small']/span[1]\").text == 'No customer reviews':\n",
    "            print('No customer reviews')\n",
    "            continue\n",
    "    except NoSuchElementException:\n",
    "        pass\n",
    "\n",
    "#clicking on see all reviews\n",
    "    try:\n",
    "        all_review = driver.find_element_by_xpath(\"//a[@class='a-link-emphasis a-text-bold']\")\n",
    "        all_review.click()\n",
    "        time.sleep(2)\n",
    "    except WebDriverException:\n",
    "        pass\n",
    "    \n",
    "    for next_ in range(100):       #scraping the details\n",
    "    \n",
    "        try:\n",
    "            for i in driver.find_elements_by_xpath(\"//div[@class='a-row a-spacing-small review-data']/span/span\"):\n",
    "                review.append(i.text.replace('\\n',''))\n",
    "        except StaleElementReferenceException:\n",
    "            review.append('No review')\n",
    "    \n",
    "        try:\n",
    "            for i in driver.find_elements_by_xpath(\"//div[@class='a-section celwidget']/div[2]/a[1]\"):\n",
    "                rating.append((i.get_attribute('title')[:3]))\n",
    "        except StaleElementReferenceException:\n",
    "            rating.append('No rating')\n",
    "    \n",
    "       \n",
    "        delay = 10 \n",
    "        try:               #clicking the next page\n",
    "            if driver.find_element_by_xpath(\"//li[@class='a-last']\").text == 'Next page→':\n",
    "                WebDriverWait(driver,delay).until(EC.presence_of_element_located((By.CLASS_NAME,'a-last')))\n",
    "                next_page=driver.find_element_by_xpath(\"//div[@id='cm_cr-pagination_bar']/ul/li[2]/a\")\n",
    "                next_page.click()\n",
    "                time.sleep(2)\n",
    "        except:\n",
    "            continue"
   ]
  },
  {
   "cell_type": "code",
   "execution_count": 10,
   "id": "973cf8f4",
   "metadata": {},
   "outputs": [
    {
     "data": {
      "text/plain": [
       "(3647, 3674)"
      ]
     },
     "execution_count": 10,
     "metadata": {},
     "output_type": "execute_result"
    }
   ],
   "source": [
    "len(review) , len(rating)"
   ]
  },
  {
   "cell_type": "code",
   "execution_count": null,
   "id": "2fc446de",
   "metadata": {},
   "outputs": [],
   "source": []
  },
  {
   "cell_type": "code",
   "execution_count": 11,
   "id": "6602e9be",
   "metadata": {},
   "outputs": [
    {
     "data": {
      "text/plain": [
       "(3647, 3647)"
      ]
     },
     "execution_count": 11,
     "metadata": {},
     "output_type": "execute_result"
    }
   ],
   "source": [
    "rating = rating[:3647]\n",
    "len(review) , len(rating)"
   ]
  },
  {
   "cell_type": "markdown",
   "id": "f7b1be39",
   "metadata": {},
   "source": [
    "LAPTOPS"
   ]
  },
  {
   "cell_type": "code",
   "execution_count": 12,
   "id": "49d92c7b",
   "metadata": {},
   "outputs": [],
   "source": [
    "#loading the website\n",
    "driver.get(\"https://www.amazon.in/?ie=UTF8&tag=googinprimeexpt5-21&ascsubtag=_k_Cj0KCQjwgO2XBhCaARIsANrW2X0qQKZwafnRiTVbuzA5GAGKH_ieBqxPCDxWqrXZkM17GqSz3p_YXqMaAio6EALw_wcB_k_&gclid=Cj0KCQjwgO2XBhCaARIsANrW2X0qQKZwafnRiTVbuzA5GAGKH_ieBqxPCDxWqrXZkM17GqSz3p_YXqMaAio6EALw_wcB\")"
   ]
  },
  {
   "cell_type": "code",
   "execution_count": 13,
   "id": "bec87a5b",
   "metadata": {},
   "outputs": [
    {
     "name": "stdout",
     "output_type": "stream",
     "text": [
      "Enter the product:Laptops\n"
     ]
    }
   ],
   "source": [
    "#search box\n",
    "search = driver.find_element_by_xpath(\"//div[@class='nav-search-field ']/input\")\n",
    "\n",
    "#sending the keys to the search box\n",
    "search.send_keys(input(str(\"Enter the product:\")))\n",
    "\n",
    "#clicking on search button\n",
    "driver.find_element_by_id(\"nav-search-submit-button\").click()"
   ]
  },
  {
   "cell_type": "code",
   "execution_count": 14,
   "id": "cf75a1b6",
   "metadata": {},
   "outputs": [],
   "source": [
    "URL = []"
   ]
  },
  {
   "cell_type": "code",
   "execution_count": 15,
   "id": "d390ab42",
   "metadata": {},
   "outputs": [],
   "source": [
    "#extracting top 5 laptops links\n",
    "for i in driver.find_elements_by_xpath(\"//h2[@class='a-size-mini a-spacing-none a-color-base s-line-clamp-2']/a\")[:6]:\n",
    "    URL.append(i.get_attribute('href'))"
   ]
  },
  {
   "cell_type": "code",
   "execution_count": 16,
   "id": "e898ccfb",
   "metadata": {},
   "outputs": [],
   "source": [
    "for i in URL:               #looping over different products\n",
    "    driver.get(i)\n",
    "    time.sleep(2)\n",
    "    \n",
    "    try:                #checking if the product has reviews or not\n",
    "        if driver.find_element_by_xpath(\"//h3[@class='a-spacing-small']/span[1]\").text == 'No customer reviews':\n",
    "            print('No customer reviews')\n",
    "            continue\n",
    "    except NoSuchElementException:\n",
    "        pass\n",
    "\n",
    "#clicking on see all reviews\n",
    "    try:\n",
    "        all_review = driver.find_element_by_xpath(\"//a[@class='a-link-emphasis a-text-bold']\")\n",
    "        all_review.click()\n",
    "        time.sleep(2)\n",
    "    except WebDriverException:\n",
    "        pass\n",
    "    \n",
    "    #scraping review and ratings\n",
    "    for next_ in range(100):\n",
    "    \n",
    "        try:\n",
    "            for i in driver.find_elements_by_xpath(\"//div[@class='a-row a-spacing-small review-data']/span/span\"):\n",
    "                review.append(i.text.replace('\\n',''))\n",
    "        except StaleElementReferenceException:\n",
    "            review.append('No review')\n",
    "    \n",
    "        try:\n",
    "            for i in driver.find_elements_by_xpath(\"//div[@class='a-section celwidget']/div[2]/a[1]\"):\n",
    "                rating.append((i.get_attribute('title')[:3]))\n",
    "        except StaleElementReferenceException:\n",
    "            rating.append('No rating')\n",
    "    \n",
    "       \n",
    "        #for clicking on next page of reviews\n",
    "        delay = 10 \n",
    "        try:\n",
    "            if driver.find_element_by_xpath(\"//li[@class='a-last']\").text == 'Next page→':\n",
    "                WebDriverWait(driver,delay).until(EC.presence_of_element_located((By.CLASS_NAME,'a-last')))\n",
    "                next_page=driver.find_element_by_xpath(\"//div[@id='cm_cr-pagination_bar']/ul/li[2]/a\")\n",
    "                next_page.click()\n",
    "                time.sleep(2)\n",
    "        except:\n",
    "            continue"
   ]
  },
  {
   "cell_type": "code",
   "execution_count": 19,
   "id": "d5162b7f",
   "metadata": {},
   "outputs": [
    {
     "data": {
      "text/plain": [
       "(4285, 4321)"
      ]
     },
     "execution_count": 19,
     "metadata": {},
     "output_type": "execute_result"
    }
   ],
   "source": [
    "len(review) , len(rating)"
   ]
  },
  {
   "cell_type": "code",
   "execution_count": 36,
   "id": "220fa9ae",
   "metadata": {},
   "outputs": [
    {
     "data": {
      "text/plain": [
       "(4285, 4285)"
      ]
     },
     "execution_count": 36,
     "metadata": {},
     "output_type": "execute_result"
    }
   ],
   "source": [
    "rating = rating[:4285]\n",
    "review = review[:4285]\n",
    "\n",
    "len(review) , len(rating)"
   ]
  },
  {
   "cell_type": "markdown",
   "id": "ccaa96f6",
   "metadata": {},
   "source": [
    "HEADPHONES"
   ]
  },
  {
   "cell_type": "code",
   "execution_count": 37,
   "id": "a4458ddf",
   "metadata": {},
   "outputs": [],
   "source": [
    "#loading the website\n",
    "driver.get(\"https://www.amazon.in/?ie=UTF8&tag=googinprimeexpt5-21&ascsubtag=_k_Cj0KCQjwgO2XBhCaARIsANrW2X0qQKZwafnRiTVbuzA5GAGKH_ieBqxPCDxWqrXZkM17GqSz3p_YXqMaAio6EALw_wcB_k_&gclid=Cj0KCQjwgO2XBhCaARIsANrW2X0qQKZwafnRiTVbuzA5GAGKH_ieBqxPCDxWqrXZkM17GqSz3p_YXqMaAio6EALw_wcB\")"
   ]
  },
  {
   "cell_type": "code",
   "execution_count": 38,
   "id": "ce752e64",
   "metadata": {},
   "outputs": [
    {
     "name": "stdout",
     "output_type": "stream",
     "text": [
      "Enter the product:headphones\n"
     ]
    }
   ],
   "source": [
    "#search box\n",
    "search = driver.find_element_by_xpath(\"//div[@class='nav-search-field ']/input\")\n",
    "\n",
    "#sending the keys to the search box\n",
    "search.send_keys(input(str(\"Enter the product:\")))\n",
    "\n",
    "#clicking on search button\n",
    "driver.find_element_by_id(\"nav-search-submit-button\").click()"
   ]
  },
  {
   "cell_type": "code",
   "execution_count": 52,
   "id": "5571a0d2",
   "metadata": {},
   "outputs": [],
   "source": [
    "URL = []"
   ]
  },
  {
   "cell_type": "code",
   "execution_count": 53,
   "id": "8682429f",
   "metadata": {},
   "outputs": [],
   "source": [
    "#extracting 5 headphone links\n",
    "for i in driver.find_elements_by_xpath(\"//h2[@class='a-size-mini a-spacing-none a-color-base s-line-clamp-2']/a\")[5:10]:\n",
    "    URL.append(i.get_attribute('href'))"
   ]
  },
  {
   "cell_type": "code",
   "execution_count": 54,
   "id": "6d528b4f",
   "metadata": {},
   "outputs": [],
   "source": [
    "for i in URL:               #looping over different products\n",
    "    driver.get(i)\n",
    "    time.sleep(2)\n",
    "    \n",
    "    try:                #checking if the product has reviews or not\n",
    "        if driver.find_element_by_xpath(\"//h3[@class='a-spacing-small']/span[1]\").text == 'No customer reviews':\n",
    "            print('No customer reviews')\n",
    "            continue\n",
    "    except NoSuchElementException:\n",
    "        pass\n",
    "\n",
    "#clicking on see all reviews\n",
    "    try:\n",
    "        all_review = driver.find_element_by_xpath(\"//a[@class='a-link-emphasis a-text-bold']\")\n",
    "        all_review.click()\n",
    "        time.sleep(2)\n",
    "    except WebDriverException:\n",
    "        pass\n",
    "    \n",
    "    #scraping review and ratings\n",
    "    for next_ in range(100):\n",
    "    \n",
    "        try:\n",
    "            for i in driver.find_elements_by_xpath(\"//div[@class='a-row a-spacing-small review-data']/span/span\"):\n",
    "                review.append(i.text.replace('\\n',''))\n",
    "        except StaleElementReferenceException:\n",
    "            review.append('No review')\n",
    "    \n",
    "        try:\n",
    "            for i in driver.find_elements_by_xpath(\"//div[@class='a-section celwidget']/div[2]/a[1]\"):\n",
    "                rating.append((i.get_attribute('title')[:3]))\n",
    "        except StaleElementReferenceException:\n",
    "            rating.append('No rating')\n",
    "    \n",
    "       \n",
    "        #for clicking on next page of reviews\n",
    "        delay = 10 \n",
    "        try:\n",
    "            if driver.find_element_by_xpath(\"//li[@class='a-last']\").text == 'Next page→':\n",
    "                WebDriverWait(driver,delay).until(EC.presence_of_element_located((By.CLASS_NAME,'a-last')))\n",
    "                next_page=driver.find_element_by_xpath(\"//div[@id='cm_cr-pagination_bar']/ul/li[2]/a\")\n",
    "                next_page.click()\n",
    "                time.sleep(2)\n",
    "        except:\n",
    "            continue"
   ]
  },
  {
   "cell_type": "code",
   "execution_count": 57,
   "id": "0553b6cc",
   "metadata": {},
   "outputs": [
    {
     "data": {
      "text/plain": [
       "(8461, 7608)"
      ]
     },
     "execution_count": 57,
     "metadata": {},
     "output_type": "execute_result"
    }
   ],
   "source": [
    "len(review) , len(rating)"
   ]
  },
  {
   "cell_type": "code",
   "execution_count": 64,
   "id": "1cea2628",
   "metadata": {},
   "outputs": [
    {
     "data": {
      "text/plain": [
       "(7608, 7770)"
      ]
     },
     "execution_count": 64,
     "metadata": {},
     "output_type": "execute_result"
    }
   ],
   "source": [
    "review = review[:7608]\n",
    "\n",
    "len(review) , len(rating)"
   ]
  },
  {
   "cell_type": "markdown",
   "id": "666e7a4d",
   "metadata": {},
   "source": [
    "SMART WATCHES"
   ]
  },
  {
   "cell_type": "code",
   "execution_count": 59,
   "id": "41e3dc69",
   "metadata": {},
   "outputs": [],
   "source": [
    "#loading the website\n",
    "driver.get(\"https://www.amazon.in/?ie=UTF8&tag=googinprimeexpt5-21&ascsubtag=_k_Cj0KCQjwgO2XBhCaARIsANrW2X0qQKZwafnRiTVbuzA5GAGKH_ieBqxPCDxWqrXZkM17GqSz3p_YXqMaAio6EALw_wcB_k_&gclid=Cj0KCQjwgO2XBhCaARIsANrW2X0qQKZwafnRiTVbuzA5GAGKH_ieBqxPCDxWqrXZkM17GqSz3p_YXqMaAio6EALw_wcB\")"
   ]
  },
  {
   "cell_type": "code",
   "execution_count": 60,
   "id": "8fe226a2",
   "metadata": {},
   "outputs": [
    {
     "name": "stdout",
     "output_type": "stream",
     "text": [
      "Enter the product:smartwatch\n"
     ]
    }
   ],
   "source": [
    "#search box\n",
    "search = driver.find_element_by_xpath(\"//div[@class='nav-search-field ']/input\")\n",
    "\n",
    "#sending the keys to the search box\n",
    "search.send_keys(input(str(\"Enter the product:\")))\n",
    "\n",
    "#clicking on search button\n",
    "driver.find_element_by_id(\"nav-search-submit-button\").click()"
   ]
  },
  {
   "cell_type": "code",
   "execution_count": 61,
   "id": "a12cc202",
   "metadata": {},
   "outputs": [],
   "source": [
    "URL = []"
   ]
  },
  {
   "cell_type": "code",
   "execution_count": 62,
   "id": "a01f168f",
   "metadata": {},
   "outputs": [],
   "source": [
    "#extracting top 5 smart watches links\n",
    "for i in driver.find_elements_by_xpath(\"//h2[@class='a-size-mini a-spacing-none a-color-base s-line-clamp-2']/a\")[:6]:\n",
    "    URL.append(i.get_attribute('href'))"
   ]
  },
  {
   "cell_type": "code",
   "execution_count": 65,
   "id": "ca2b6633",
   "metadata": {},
   "outputs": [
    {
     "name": "stdout",
     "output_type": "stream",
     "text": [
      "No customer reviews\n"
     ]
    }
   ],
   "source": [
    "for i in URL:               #looping over different products\n",
    "    driver.get(i)\n",
    "    time.sleep(2)\n",
    "    \n",
    "    try:                #checking if the product has reviews or not\n",
    "        if driver.find_element_by_xpath(\"//h3[@class='a-spacing-small']/span[1]\").text == 'No customer reviews':\n",
    "            print('No customer reviews')\n",
    "            continue\n",
    "    except NoSuchElementException:\n",
    "        pass\n",
    "\n",
    "#clicking on see all reviews\n",
    "    try:\n",
    "        all_review = driver.find_element_by_xpath(\"//a[@class='a-link-emphasis a-text-bold']\")\n",
    "        all_review.click()\n",
    "        time.sleep(2)\n",
    "    except WebDriverException:\n",
    "        pass\n",
    "    \n",
    "    #scraping review and ratings\n",
    "    for next_ in range(100):\n",
    "    \n",
    "        try:\n",
    "            for i in driver.find_elements_by_xpath(\"//div[@class='a-row a-spacing-small review-data']/span/span\"):\n",
    "                review.append(i.text.replace('\\n',''))\n",
    "        except StaleElementReferenceException:\n",
    "            review.append('No review')\n",
    "    \n",
    "        try:\n",
    "            for i in driver.find_elements_by_xpath(\"//div[@class='a-section celwidget']/div[2]/a[1]\"):\n",
    "                rating.append((i.get_attribute('title')[:3]))\n",
    "        except StaleElementReferenceException:\n",
    "            rating.append('No rating')\n",
    "    \n",
    "       \n",
    "        #for clicking on next page of reviews\n",
    "        delay = 10 \n",
    "        try:\n",
    "            if driver.find_element_by_xpath(\"//li[@class='a-last']\").text == 'Next page→':\n",
    "                WebDriverWait(driver,delay).until(EC.presence_of_element_located((By.CLASS_NAME,'a-last')))\n",
    "                next_page=driver.find_element_by_xpath(\"//div[@id='cm_cr-pagination_bar']/ul/li[2]/a\")\n",
    "                next_page.click()\n",
    "                time.sleep(2)\n",
    "        except:\n",
    "            continue"
   ]
  },
  {
   "cell_type": "code",
   "execution_count": 66,
   "id": "2d4dd767",
   "metadata": {},
   "outputs": [
    {
     "data": {
      "text/plain": [
       "(11533, 11315)"
      ]
     },
     "execution_count": 66,
     "metadata": {},
     "output_type": "execute_result"
    }
   ],
   "source": [
    "len(review) , len(rating)"
   ]
  },
  {
   "cell_type": "code",
   "execution_count": 70,
   "id": "78f31aa9",
   "metadata": {},
   "outputs": [
    {
     "data": {
      "text/plain": [
       "(11315, 11315)"
      ]
     },
     "execution_count": 70,
     "metadata": {},
     "output_type": "execute_result"
    }
   ],
   "source": [
    "review = review[:11315]\n",
    "\n",
    "len(review) , len(rating)"
   ]
  },
  {
   "cell_type": "code",
   "execution_count": null,
   "id": "e73514fc",
   "metadata": {},
   "outputs": [],
   "source": []
  },
  {
   "cell_type": "markdown",
   "id": "c24a16de",
   "metadata": {},
   "source": [
    "**FLIPKART**"
   ]
  },
  {
   "cell_type": "markdown",
   "id": "b2354c4d",
   "metadata": {},
   "source": [
    "PRINTER"
   ]
  },
  {
   "cell_type": "code",
   "execution_count": 69,
   "id": "d114940e",
   "metadata": {},
   "outputs": [],
   "source": [
    "#loading the website\n",
    "driver.get(\"https://www.flipkart.com/canon-pixma-mg2470-all-in-one-inkjet-printer/product-reviews/itmdqatqsyzyzffn?pid=PRNDQAR9KZEKSKRF&lid=LSTPRNDQAR9KZEKSKRFYDQIJE&marketplace=FLIPKART\")"
   ]
  },
  {
   "cell_type": "code",
   "execution_count": 71,
   "id": "584f72e6",
   "metadata": {},
   "outputs": [],
   "source": [
    "for i in range(350):   #scraping details\n",
    "    try:\n",
    "        for i in driver.find_elements_by_xpath(\"//div[@class='t-ZTKy']\"):\n",
    "            review.append(i.text.replace('\\n',''))\n",
    "    except NoSuchElementException:\n",
    "        review.append('No review')\n",
    "    \n",
    "    try:\n",
    "        for i in driver.find_elements_by_xpath(\"//div[@class='_3LWZlK _1BLPMq']\"):\n",
    "            rating.append(i.text)\n",
    "    except NoSuchElementException:       \n",
    "        rating.append('No rating')\n",
    "    \n",
    "    nxt_button=driver.find_elements_by_xpath(\"//a[@class='_1LKTO3']\")#scraping the list of buttons from the page\n",
    "    try:\n",
    "        driver.get(nxt_button[1].get_attribute('href'))#getting the link from the list for next page\n",
    "    except:\n",
    "        driver.get(nxt_button[0].get_attribute('href'))\n"
   ]
  },
  {
   "cell_type": "code",
   "execution_count": 72,
   "id": "710fff1a",
   "metadata": {},
   "outputs": [
    {
     "data": {
      "text/plain": [
       "(14815, 13636)"
      ]
     },
     "execution_count": 72,
     "metadata": {},
     "output_type": "execute_result"
    }
   ],
   "source": [
    "len(review) , len(rating)"
   ]
  },
  {
   "cell_type": "code",
   "execution_count": 76,
   "id": "c28a1004",
   "metadata": {},
   "outputs": [
    {
     "data": {
      "text/plain": [
       "(13636, 13636)"
      ]
     },
     "execution_count": 76,
     "metadata": {},
     "output_type": "execute_result"
    }
   ],
   "source": [
    "rating = rating[:13636]\n",
    "review = review[:13636]\n",
    "\n",
    "len(review) , len(rating)"
   ]
  },
  {
   "cell_type": "code",
   "execution_count": null,
   "id": "0e20ce6f",
   "metadata": {},
   "outputs": [],
   "source": []
  },
  {
   "cell_type": "code",
   "execution_count": 77,
   "id": "604fab45",
   "metadata": {},
   "outputs": [],
   "source": [
    "#loading the website\n",
    "driver.get(\"https://www.flipkart.com/canon-g3012-multi-function-wifi-color-printer-color-page-cost-0-21-rs-black-0-09-borderless-printing/product-reviews/itmf2qc6hhx4pkua?pid=PRNF2QC6BX5M9NAJ&lid=LSTPRNF2QC6BX5M9NAJGZLEW6&marketplace=FLIPKART\")"
   ]
  },
  {
   "cell_type": "code",
   "execution_count": 78,
   "id": "5ad26b62",
   "metadata": {},
   "outputs": [],
   "source": [
    "for i in range(100):       #scraping details\n",
    "    try:\n",
    "        for i in driver.find_elements_by_xpath(\"//div[@class='t-ZTKy']\"):\n",
    "            review.append(i.text.replace('\\n',''))\n",
    "    except NoSuchElementException:\n",
    "        review.append('No review')\n",
    "    \n",
    "    try:\n",
    "        for i in driver.find_elements_by_xpath(\"//div[@class='_3LWZlK _1BLPMq']\"):\n",
    "            rating.append(i.text)\n",
    "    except NoSuchElementException:       \n",
    "        rating.append('No rating')\n",
    "    \n",
    "    nxt_button=driver.find_elements_by_xpath(\"//a[@class='_1LKTO3']\")#scraping the list of buttons from the page\n",
    "    try:\n",
    "        driver.get(nxt_button[1].get_attribute('href'))#getting the link from the list for next page\n",
    "    except:\n",
    "        driver.get(nxt_button[0].get_attribute('href'))\n",
    "        \n",
    "    time.sleep(1)"
   ]
  },
  {
   "cell_type": "code",
   "execution_count": 89,
   "id": "14769798",
   "metadata": {},
   "outputs": [
    {
     "data": {
      "text/plain": [
       "(16273, 16158)"
      ]
     },
     "execution_count": 89,
     "metadata": {},
     "output_type": "execute_result"
    }
   ],
   "source": [
    "len(review) , len(rating)"
   ]
  },
  {
   "cell_type": "code",
   "execution_count": 90,
   "id": "a4fdbd13",
   "metadata": {},
   "outputs": [
    {
     "data": {
      "text/plain": [
       "(14563, 14563)"
      ]
     },
     "execution_count": 90,
     "metadata": {},
     "output_type": "execute_result"
    }
   ],
   "source": [
    "rating = rating[:14563]\n",
    "review = review[:14563]\n",
    "\n",
    "len(review) , len(rating)"
   ]
  },
  {
   "cell_type": "markdown",
   "id": "fc556f15",
   "metadata": {},
   "source": [
    "CAMERA"
   ]
  },
  {
   "cell_type": "code",
   "execution_count": 91,
   "id": "be0787d8",
   "metadata": {},
   "outputs": [],
   "source": [
    "#loading the webpage\n",
    "driver.get(\"https://www.flipkart.com/canon-eos-3000d-dslr-camera-1-body-18-55-mm-lens/product-reviews/itm6f665fea97bc2?pid=CAMF3DHJURPEMNRN&lid=LSTCAMF3DHJURPEMNRNEB3BV2&marketplace=FLIPKART\")"
   ]
  },
  {
   "cell_type": "code",
   "execution_count": null,
   "id": "e5791617",
   "metadata": {},
   "outputs": [],
   "source": [
    "for i in range(160): #scraping the details\n",
    "    try:\n",
    "        for i in driver.find_elements_by_xpath(\"//div[@class='t-ZTKy']\"):\n",
    "            review.append(i.text.replace('\\n',''))\n",
    "    except NoSuchElementException:\n",
    "        review.append('No review')\n",
    "    \n",
    "    try:\n",
    "        for i in driver.find_elements_by_xpath(\"//div[@class='_3LWZlK _1BLPMq']\"):\n",
    "            rating.append(i.text)\n",
    "    except NoSuchElementException:       \n",
    "        rating.append('No rating')\n",
    "        \n",
    "    time.sleep(.5)\n",
    "    \n",
    "    nxt_button=driver.find_elements_by_xpath(\"//a[@class='_1LKTO3']\")#scraping the list of buttons from the page\n",
    "    try:\n",
    "        driver.get(nxt_button[1].get_attribute('href'))#getting the link from the list for next page\n",
    "    except:\n",
    "        driver.get(nxt_button[0].get_attribute('href'))\n"
   ]
  },
  {
   "cell_type": "code",
   "execution_count": 93,
   "id": "e3a1df06",
   "metadata": {},
   "outputs": [
    {
     "data": {
      "text/plain": [
       "(16169, 16059)"
      ]
     },
     "execution_count": 93,
     "metadata": {},
     "output_type": "execute_result"
    }
   ],
   "source": [
    "len(review) , len(rating)"
   ]
  },
  {
   "cell_type": "code",
   "execution_count": 97,
   "id": "be70f6f4",
   "metadata": {},
   "outputs": [
    {
     "data": {
      "text/plain": [
       "(16059, 16059)"
      ]
     },
     "execution_count": 97,
     "metadata": {},
     "output_type": "execute_result"
    }
   ],
   "source": [
    "rating = rating[:16059]\n",
    "review = review[:16059]\n",
    "\n",
    "len(review) , len(rating)"
   ]
  },
  {
   "cell_type": "code",
   "execution_count": null,
   "id": "490997b3",
   "metadata": {},
   "outputs": [],
   "source": []
  },
  {
   "cell_type": "code",
   "execution_count": 99,
   "id": "f415e26a",
   "metadata": {},
   "outputs": [],
   "source": [
    "#loading the web page\n",
    "driver.get(\"https://www.flipkart.com/canon-eos-200d-ii-dslr-camera-ef-s18-55mm-stm/product-reviews/itm5d6e44f7fd976?pid=DLLFFNVDYGQN9XCS&lid=LSTDLLFFNVDYGQN9XCSJZYMFE&marketplace=FLIPKART\")"
   ]
  },
  {
   "cell_type": "code",
   "execution_count": 100,
   "id": "c0ecfe13",
   "metadata": {},
   "outputs": [],
   "source": [
    "for i in range(50): #scraping the details\n",
    "    try:\n",
    "        for i in driver.find_elements_by_xpath(\"//div[@class='t-ZTKy']\"):\n",
    "            review.append(i.text.replace('\\n',''))\n",
    "    except NoSuchElementException:\n",
    "        review.append('No review')\n",
    "    \n",
    "    try:\n",
    "        for i in driver.find_elements_by_xpath(\"//div[@class='_3LWZlK _1BLPMq']\"):\n",
    "            rating.append(i.text)\n",
    "    except NoSuchElementException:       \n",
    "        rating.append('No rating')\n",
    "    \n",
    "    time.sleep(.5)\n",
    "    \n",
    "    nxt_button=driver.find_elements_by_xpath(\"//a[@class='_1LKTO3']\")#scraping the list of buttons from the page\n",
    "    try:\n",
    "        driver.get(nxt_button[1].get_attribute('href'))#getting the link from the list for next page\n",
    "    except:\n",
    "        driver.get(nxt_button[0].get_attribute('href'))\n"
   ]
  },
  {
   "cell_type": "code",
   "execution_count": 101,
   "id": "1b3b1d01",
   "metadata": {},
   "outputs": [
    {
     "data": {
      "text/plain": [
       "(16559, 16532)"
      ]
     },
     "execution_count": 101,
     "metadata": {},
     "output_type": "execute_result"
    }
   ],
   "source": [
    "len(review) , len(rating)"
   ]
  },
  {
   "cell_type": "code",
   "execution_count": 102,
   "id": "0bb62378",
   "metadata": {},
   "outputs": [
    {
     "data": {
      "text/plain": [
       "(16532, 16532)"
      ]
     },
     "execution_count": 102,
     "metadata": {},
     "output_type": "execute_result"
    }
   ],
   "source": [
    "rating = rating[:16532]\n",
    "review = review[:16532]\n",
    "\n",
    "len(review) , len(rating)"
   ]
  },
  {
   "cell_type": "markdown",
   "id": "b3d208a6",
   "metadata": {},
   "source": [
    "ROUTER"
   ]
  },
  {
   "cell_type": "code",
   "execution_count": 103,
   "id": "a8526de9",
   "metadata": {},
   "outputs": [],
   "source": [
    "#loading the web page\n",
    "driver.get(\"https://www.flipkart.com/tp-link-tl-wr841n-300mbps-wireless-n-router/product-reviews/itmf48vgyfyx8m4f?pid=RTRD7HN3JJYF6WN2&lid=LSTRTRD7HN3JJYF6WN2K7AOMM&marketplace=FLIPKART\")"
   ]
  },
  {
   "cell_type": "code",
   "execution_count": null,
   "id": "2ae7e46b",
   "metadata": {},
   "outputs": [],
   "source": [
    "for i in range(115):     #scraping the details\n",
    "    try:\n",
    "        for i in driver.find_elements_by_xpath(\"//div[@class='t-ZTKy']\"):\n",
    "            review.append(i.text.replace('\\n',''))\n",
    "    except NoSuchElementException:\n",
    "        review.append('No review')\n",
    "    \n",
    "    try:\n",
    "        for i in driver.find_elements_by_xpath(\"//div[@class='_3LWZlK _1BLPMq']\"):\n",
    "            rating.append(i.text)\n",
    "    except NoSuchElementException:       \n",
    "        rating.append('No rating')\n",
    "    \n",
    "    \n",
    "    nxt_button=driver.find_elements_by_xpath(\"//a[@class='_1LKTO3']\")#scraping the list of buttons from the page\n",
    "    try:\n",
    "        driver.get(nxt_button[1].get_attribute('href'))#getting the link from the list for next page\n",
    "    except:\n",
    "        driver.get(nxt_button[0].get_attribute('href'))\n"
   ]
  },
  {
   "cell_type": "code",
   "execution_count": 105,
   "id": "22c6bca8",
   "metadata": {},
   "outputs": [
    {
     "data": {
      "text/plain": [
       "(17481, 17385)"
      ]
     },
     "execution_count": 105,
     "metadata": {},
     "output_type": "execute_result"
    }
   ],
   "source": [
    "len(review) , len(rating)"
   ]
  },
  {
   "cell_type": "code",
   "execution_count": 112,
   "id": "6221ca8f",
   "metadata": {},
   "outputs": [
    {
     "data": {
      "text/plain": [
       "(17385, 17385)"
      ]
     },
     "execution_count": 112,
     "metadata": {},
     "output_type": "execute_result"
    }
   ],
   "source": [
    "rating = rating[:17385]\n",
    "review = review[:17385]\n",
    "\n",
    "len(review) , len(rating)"
   ]
  },
  {
   "cell_type": "code",
   "execution_count": null,
   "id": "c4078cdd",
   "metadata": {},
   "outputs": [],
   "source": []
  },
  {
   "cell_type": "code",
   "execution_count": 113,
   "id": "19aac25c",
   "metadata": {},
   "outputs": [],
   "source": [
    "#loading the web page\n",
    "driver.get(\"https://www.flipkart.com/tp-link-tl-wr845n-wireless-n-300-mbps-router/product-reviews/itmek2vgemkzrre3?pid=RTREK2VG4GBDUKFN&lid=LSTRTREK2VG4GBDUKFNWTGK6J&marketplace=FLIPKART\")"
   ]
  },
  {
   "cell_type": "code",
   "execution_count": null,
   "id": "fbbde686",
   "metadata": {},
   "outputs": [],
   "source": [
    "for i in range(60):     #scraping the details\n",
    "    try:\n",
    "        for i in driver.find_elements_by_xpath(\"//div[@class='t-ZTKy']\"):\n",
    "            review.append(i.text.replace('\\n',''))\n",
    "    except NoSuchElementException:\n",
    "        review.append('No review')\n",
    "    \n",
    "    try:\n",
    "        for i in driver.find_elements_by_xpath(\"//div[@class='_3LWZlK _1BLPMq']\"):\n",
    "            rating.append(i.text)\n",
    "    except NoSuchElementException:       \n",
    "        rating.append('No rating')\n",
    "        \n",
    "    time.sleep(0.3)\n",
    "    \n",
    "    \n",
    "    nxt_button=driver.find_elements_by_xpath(\"//a[@class='_1LKTO3']\")#scraping the list of buttons from the page\n",
    "    try:\n",
    "        driver.get(nxt_button[1].get_attribute('href'))#getting the link from the list for next page\n",
    "    except:\n",
    "        driver.get(nxt_button[0].get_attribute('href'))\n"
   ]
  },
  {
   "cell_type": "code",
   "execution_count": 115,
   "id": "677eadbe",
   "metadata": {},
   "outputs": [
    {
     "data": {
      "text/plain": [
       "(17985, 17858)"
      ]
     },
     "execution_count": 115,
     "metadata": {},
     "output_type": "execute_result"
    }
   ],
   "source": [
    "len(review) , len(rating)"
   ]
  },
  {
   "cell_type": "code",
   "execution_count": 119,
   "id": "d542ccbb",
   "metadata": {},
   "outputs": [
    {
     "data": {
      "text/plain": [
       "(17858, 17858)"
      ]
     },
     "execution_count": 119,
     "metadata": {},
     "output_type": "execute_result"
    }
   ],
   "source": [
    "rating = rating[:17858]\n",
    "review = review[:17858]\n",
    "\n",
    "len(review) , len(rating)"
   ]
  },
  {
   "cell_type": "markdown",
   "id": "6923a5f0",
   "metadata": {},
   "source": [
    "TELEVISION"
   ]
  },
  {
   "cell_type": "code",
   "execution_count": 120,
   "id": "cd66f01c",
   "metadata": {},
   "outputs": [],
   "source": [
    "#loading the web page\n",
    "driver.get(\"https://www.flipkart.com/mi-5x-108-cm-43-inch-ultra-hd-4k-led-smart-android-tv-dolby-atmos-vision/product-reviews/itm2608f13684202?pid=TVSG5ZGZGZGDJBC3&lid=LSTTVSG5ZGZGZGDJBC3XCNNJG&marketplace=FLIPKART\")"
   ]
  },
  {
   "cell_type": "code",
   "execution_count": null,
   "id": "ced7245d",
   "metadata": {},
   "outputs": [],
   "source": [
    "for i in range(144):    #scraping the details\n",
    "    try:\n",
    "        for i in driver.find_elements_by_xpath(\"//div[@class='t-ZTKy']\"):\n",
    "            review.append(i.text.replace('\\n',''))\n",
    "    except NoSuchElementException:\n",
    "        review.append('No review')\n",
    "    \n",
    "    try:\n",
    "        for i in driver.find_elements_by_xpath(\"//div[@class='_3LWZlK _1BLPMq']\"):\n",
    "            rating.append(i.text)\n",
    "    except NoSuchElementException:       \n",
    "        rating.append('No rating')\n",
    "    \n",
    "    nxt_button=driver.find_elements_by_xpath(\"//a[@class='_1LKTO3']\")#scraping the list of buttons from the page\n",
    "    try:\n",
    "        driver.get(nxt_button[1].get_attribute('href'))#getting the link from the list for next page\n",
    "        time.sleep(0.2)\n",
    "    except:\n",
    "        driver.get(nxt_button[0].get_attribute('href'))\n"
   ]
  },
  {
   "cell_type": "code",
   "execution_count": 122,
   "id": "384851c6",
   "metadata": {},
   "outputs": [
    {
     "data": {
      "text/plain": [
       "(18828, 18732)"
      ]
     },
     "execution_count": 122,
     "metadata": {},
     "output_type": "execute_result"
    }
   ],
   "source": [
    "len(review) , len(rating)"
   ]
  },
  {
   "cell_type": "code",
   "execution_count": 123,
   "id": "771db9eb",
   "metadata": {},
   "outputs": [
    {
     "data": {
      "text/plain": [
       "(18732, 18732)"
      ]
     },
     "execution_count": 123,
     "metadata": {},
     "output_type": "execute_result"
    }
   ],
   "source": [
    "rating = rating[:18732]\n",
    "review = review[:18732]\n",
    "\n",
    "len(review) , len(rating)"
   ]
  },
  {
   "cell_type": "code",
   "execution_count": null,
   "id": "1ada6f93",
   "metadata": {},
   "outputs": [],
   "source": []
  },
  {
   "cell_type": "code",
   "execution_count": 124,
   "id": "ffdf8922",
   "metadata": {},
   "outputs": [],
   "source": [
    "#loading the website\n",
    "driver.get(\"https://www.flipkart.com/mi-5a-100-cm-40-inch-full-hd-led-smart-android-tv-dolby-audio-2022-model/product-reviews/itm6be60be56f52d?pid=TVSGD5CS4N7NWFZD&lid=LSTTVSGD5CS4N7NWFZDDJBZRI&marketplace=FLIPKART\")"
   ]
  },
  {
   "cell_type": "code",
   "execution_count": null,
   "id": "b98f7618",
   "metadata": {},
   "outputs": [],
   "source": [
    "for i in range(101):     #scraping the details\n",
    "    try:\n",
    "        for i in driver.find_elements_by_xpath(\"//div[@class='t-ZTKy']\"):\n",
    "            review.append(i.text.replace('\\n',''))\n",
    "    except NoSuchElementException:\n",
    "        review.append('No review')\n",
    "    \n",
    "    try:\n",
    "        for i in driver.find_elements_by_xpath(\"//div[@class='_3LWZlK _1BLPMq']\"):\n",
    "            rating.append(i.text)\n",
    "    except NoSuchElementException:       \n",
    "        rating.append('No rating')\n",
    "    \n",
    "    nxt_button=driver.find_elements_by_xpath(\"//a[@class='_1LKTO3']\")#scraping the list of buttons from the page\n",
    "    time.sleep(0.3)\n",
    "    try:\n",
    "        driver.get(nxt_button[1].get_attribute('href'))#getting the link from the list for next page\n",
    "    except:\n",
    "        driver.get(nxt_button[0].get_attribute('href'))\n"
   ]
  },
  {
   "cell_type": "code",
   "execution_count": 126,
   "id": "503adc45",
   "metadata": {},
   "outputs": [
    {
     "data": {
      "text/plain": [
       "(19553, 19506)"
      ]
     },
     "execution_count": 126,
     "metadata": {},
     "output_type": "execute_result"
    }
   ],
   "source": [
    "len(review) , len(rating)"
   ]
  },
  {
   "cell_type": "code",
   "execution_count": 127,
   "id": "ca2cd935",
   "metadata": {},
   "outputs": [
    {
     "data": {
      "text/plain": [
       "(19506, 19506)"
      ]
     },
     "execution_count": 127,
     "metadata": {},
     "output_type": "execute_result"
    }
   ],
   "source": [
    "rating = rating[:19506]\n",
    "review = review[:19506]\n",
    "\n",
    "len(review) , len(rating)"
   ]
  },
  {
   "cell_type": "markdown",
   "id": "5cf3ced3",
   "metadata": {},
   "source": [
    "MONITOR"
   ]
  },
  {
   "cell_type": "code",
   "execution_count": 128,
   "id": "0c94547a",
   "metadata": {},
   "outputs": [],
   "source": [
    "#loading the web page\n",
    "driver.get(\"https://www.flipkart.com/acer-v196hql-18-5-inch-led-backlit-lcd-monitor/product-reviews/itm75a2889dc89bd?pid=MONDV8H3WCPDXZYR&lid=LSTMONDV8H3WCPDXZYRJ8BXHW&marketplace=FLIPKART\")"
   ]
  },
  {
   "cell_type": "code",
   "execution_count": 129,
   "id": "4c18cf5b",
   "metadata": {},
   "outputs": [],
   "source": [
    "for i in range(26):    #scraping the details\n",
    "    try:\n",
    "        for i in driver.find_elements_by_xpath(\"//div[@class='t-ZTKy']\"):\n",
    "            review.append(i.text.replace('\\n',''))\n",
    "    except NoSuchElementException:\n",
    "        review.append('No review')\n",
    "    \n",
    "    try:\n",
    "        for i in driver.find_elements_by_xpath(\"//div[@class='_3LWZlK _1BLPMq']\"):\n",
    "            rating.append(i.text)\n",
    "    except NoSuchElementException:       \n",
    "        rating.append('No rating')\n",
    "    \n",
    "    nxt_button=driver.find_elements_by_xpath(\"//a[@class='_1LKTO3']\")#scraping the list of buttons from the page\n",
    "    time.sleep(0.3)\n",
    "    try:\n",
    "        driver.get(nxt_button[1].get_attribute('href'))#getting the link from the list for next page\n",
    "    except:\n",
    "        driver.get(nxt_button[0].get_attribute('href'))\n"
   ]
  },
  {
   "cell_type": "code",
   "execution_count": 130,
   "id": "a02017d0",
   "metadata": {},
   "outputs": [
    {
     "data": {
      "text/plain": [
       "(19646, 19643)"
      ]
     },
     "execution_count": 130,
     "metadata": {},
     "output_type": "execute_result"
    }
   ],
   "source": [
    "len(review) , len(rating)"
   ]
  },
  {
   "cell_type": "code",
   "execution_count": 131,
   "id": "5287565b",
   "metadata": {},
   "outputs": [
    {
     "data": {
      "text/plain": [
       "(19643, 19643)"
      ]
     },
     "execution_count": 131,
     "metadata": {},
     "output_type": "execute_result"
    }
   ],
   "source": [
    "rating = rating[:19643]\n",
    "review = review[:19643]\n",
    "\n",
    "len(review) , len(rating)"
   ]
  },
  {
   "cell_type": "code",
   "execution_count": 132,
   "id": "5461b595",
   "metadata": {},
   "outputs": [],
   "source": [
    "#loading the web page\n",
    "driver.get(\"https://www.flipkart.com/lg-22-inch-full-hd-led-backlit-ips-panel-monitor-22mp68vq/product-reviews/itmety6nszghmbp4?pid=MONETY6MQUBYPSZC&lid=LSTMONETY6MQUBYPSZCAEGIZZ&marketplace=FLIPKART\")"
   ]
  },
  {
   "cell_type": "code",
   "execution_count": null,
   "id": "633ee95a",
   "metadata": {},
   "outputs": [],
   "source": [
    "for i in range(50):   #scraping the details\n",
    "    try:\n",
    "        for i in driver.find_elements_by_xpath(\"//div[@class='t-ZTKy']\"):\n",
    "            review.append(i.text.replace('\\n',''))\n",
    "    except NoSuchElementException:\n",
    "        review.append('No review')\n",
    "    \n",
    "    try:\n",
    "        for i in driver.find_elements_by_xpath(\"//div[@class='_3LWZlK _1BLPMq']\"):\n",
    "            rating.append(i.text)\n",
    "    except NoSuchElementException:       \n",
    "        rating.append('No rating')\n",
    "    \n",
    "    nxt_button=driver.find_elements_by_xpath(\"//a[@class='_1LKTO3']\")#scraping the list of buttons from the page\n",
    "    time.sleep(0.3)\n",
    "    try:\n",
    "        driver.get(nxt_button[1].get_attribute('href'))#getting the link from the list for next page\n",
    "    except:\n",
    "        driver.get(nxt_button[0].get_attribute('href'))\n"
   ]
  },
  {
   "cell_type": "code",
   "execution_count": 134,
   "id": "e7960523",
   "metadata": {},
   "outputs": [
    {
     "data": {
      "text/plain": [
       "(20092, 20064)"
      ]
     },
     "execution_count": 134,
     "metadata": {},
     "output_type": "execute_result"
    }
   ],
   "source": [
    "len(review) , len(rating)"
   ]
  },
  {
   "cell_type": "code",
   "execution_count": 140,
   "id": "f25f71ce",
   "metadata": {},
   "outputs": [
    {
     "data": {
      "text/plain": [
       "(20064, 20064)"
      ]
     },
     "execution_count": 140,
     "metadata": {},
     "output_type": "execute_result"
    }
   ],
   "source": [
    "rating = rating[:20064]\n",
    "review = review[:20064]\n",
    "\n",
    "len(review) , len(rating)"
   ]
  },
  {
   "cell_type": "markdown",
   "id": "260f191f",
   "metadata": {},
   "source": [
    "SPEAKERS"
   ]
  },
  {
   "cell_type": "code",
   "execution_count": 141,
   "id": "dcf37e25",
   "metadata": {},
   "outputs": [],
   "source": [
    "#loading the web page\n",
    "driver.get(\"https://www.flipkart.com/boat-stone-1000-14-w-portable-bluetooth-speaker/product-reviews/itmew78nszwgtnzm?pid=ACCEW6XDPQD2S9PH&lid=LSTACCEW6XDPQD2S9PHERWMSE&marketplace=FLIPKART\")"
   ]
  },
  {
   "cell_type": "code",
   "execution_count": 142,
   "id": "c9bf7128",
   "metadata": {},
   "outputs": [],
   "source": [
    "for i in range(20):   #scraping the details\n",
    "    try:\n",
    "        for i in driver.find_elements_by_xpath(\"//div[@class='t-ZTKy']\"):\n",
    "            review.append(i.text.replace('\\n',''))\n",
    "    except NoSuchElementException:\n",
    "        review.append('No review')\n",
    "    \n",
    "    try:\n",
    "        for i in driver.find_elements_by_xpath(\"//div[@class='_3LWZlK _1BLPMq']\"):\n",
    "            rating.append(i.text)\n",
    "    except NoSuchElementException:       \n",
    "        rating.append('No rating')\n",
    "    \n",
    "    nxt_button=driver.find_elements_by_xpath(\"//a[@class='_1LKTO3']\")#scraping the list of buttons from the page\n",
    "    time.sleep(0.3)\n",
    "    try:\n",
    "        driver.get(nxt_button[1].get_attribute('href'))#getting the link from the list for next page\n",
    "    except:\n",
    "        driver.get(nxt_button[0].get_attribute('href'))\n"
   ]
  },
  {
   "cell_type": "code",
   "execution_count": 143,
   "id": "a795783b",
   "metadata": {},
   "outputs": [
    {
     "data": {
      "text/plain": [
       "(20187, 20184)"
      ]
     },
     "execution_count": 143,
     "metadata": {},
     "output_type": "execute_result"
    }
   ],
   "source": [
    "len(review) , len(rating)"
   ]
  },
  {
   "cell_type": "code",
   "execution_count": 145,
   "id": "d2acdfe5",
   "metadata": {},
   "outputs": [
    {
     "data": {
      "text/plain": [
       "(20184, 20184)"
      ]
     },
     "execution_count": 145,
     "metadata": {},
     "output_type": "execute_result"
    }
   ],
   "source": [
    "rating = rating[:20184]\n",
    "review = review[:20184]\n",
    "\n",
    "len(review) , len(rating)"
   ]
  },
  {
   "cell_type": "code",
   "execution_count": 144,
   "id": "901e8788",
   "metadata": {},
   "outputs": [],
   "source": [
    "#loading the web page\n",
    "driver.get(\"https://www.flipkart.com/f-ferons-wireless-rechargeable-portable-premium-dj-bass-multimedia-ffr-artg-113-9-w-bluetooth-speaker/product-reviews/itmd7578d0475ba1?pid=ACCFW659GH5DZBHT&lid=LSTACCFW659GH5DZBHT6WOPKU&marketplace=FLIPKART\")"
   ]
  },
  {
   "cell_type": "code",
   "execution_count": 146,
   "id": "ed67c4e4",
   "metadata": {},
   "outputs": [],
   "source": [
    "for i in range(20):  #scraping the details\n",
    "    try:\n",
    "        for i in driver.find_elements_by_xpath(\"//div[@class='t-ZTKy']\"):\n",
    "            review.append(i.text.replace('\\n',''))\n",
    "    except NoSuchElementException:\n",
    "        review.append('No review')\n",
    "    \n",
    "    try:\n",
    "        for i in driver.find_elements_by_xpath(\"//div[@class='_3LWZlK _1BLPMq']\"):\n",
    "            rating.append(i.text)\n",
    "    except NoSuchElementException:       \n",
    "        rating.append('No rating')\n",
    "    \n",
    "    nxt_button=driver.find_elements_by_xpath(\"//a[@class='_1LKTO3']\")#scraping the list of buttons from the page\n",
    "    time.sleep(0.3)\n",
    "    try:\n",
    "        driver.get(nxt_button[1].get_attribute('href'))#getting the link from the list for next page\n",
    "    except:\n",
    "        driver.get(nxt_button[0].get_attribute('href'))\n"
   ]
  },
  {
   "cell_type": "code",
   "execution_count": 147,
   "id": "fa844a29",
   "metadata": {},
   "outputs": [
    {
     "data": {
      "text/plain": [
       "(20384, 20336)"
      ]
     },
     "execution_count": 147,
     "metadata": {},
     "output_type": "execute_result"
    }
   ],
   "source": [
    "len(review) , len(rating)"
   ]
  },
  {
   "cell_type": "code",
   "execution_count": 148,
   "id": "711912f2",
   "metadata": {
    "scrolled": true
   },
   "outputs": [
    {
     "data": {
      "text/plain": [
       "(20336, 20336)"
      ]
     },
     "execution_count": 148,
     "metadata": {},
     "output_type": "execute_result"
    }
   ],
   "source": [
    "rating = rating[:20336]\n",
    "review = review[:20336]\n",
    "\n",
    "len(review) , len(rating)"
   ]
  },
  {
   "cell_type": "code",
   "execution_count": 151,
   "id": "5a0c0854",
   "metadata": {},
   "outputs": [],
   "source": [
    "#closing the driver\n",
    "driver.close()"
   ]
  },
  {
   "cell_type": "markdown",
   "id": "9e5d324f",
   "metadata": {},
   "source": [
    "**20336 rows of data has been scraped, now forming a dataframe for the scraped data and converting into excel form**"
   ]
  },
  {
   "cell_type": "code",
   "execution_count": 149,
   "id": "9c569ae3",
   "metadata": {},
   "outputs": [
    {
     "data": {
      "text/html": [
       "<div>\n",
       "<style scoped>\n",
       "    .dataframe tbody tr th:only-of-type {\n",
       "        vertical-align: middle;\n",
       "    }\n",
       "\n",
       "    .dataframe tbody tr th {\n",
       "        vertical-align: top;\n",
       "    }\n",
       "\n",
       "    .dataframe thead th {\n",
       "        text-align: right;\n",
       "    }\n",
       "</style>\n",
       "<table border=\"1\" class=\"dataframe\">\n",
       "  <thead>\n",
       "    <tr style=\"text-align: right;\">\n",
       "      <th></th>\n",
       "      <th>Review</th>\n",
       "      <th>Rating</th>\n",
       "    </tr>\n",
       "  </thead>\n",
       "  <tbody>\n",
       "    <tr>\n",
       "      <th>0</th>\n",
       "      <td>Only mobile phone and both side x tupe cable r...</td>\n",
       "      <td>1.0</td>\n",
       "    </tr>\n",
       "    <tr>\n",
       "      <th>1</th>\n",
       "      <td>Better to provide all basic accessories with ...</td>\n",
       "      <td>2.0</td>\n",
       "    </tr>\n",
       "    <tr>\n",
       "      <th>2</th>\n",
       "      <td>Don't buy this product not worthy for 16k.</td>\n",
       "      <td>3.0</td>\n",
       "    </tr>\n",
       "    <tr>\n",
       "      <th>3</th>\n",
       "      <td>back cover is brittle. got a crack</td>\n",
       "      <td>1.0</td>\n",
       "    </tr>\n",
       "    <tr>\n",
       "      <th>4</th>\n",
       "      <td>With 5G connectivity, a 120Hz display and soli...</td>\n",
       "      <td>5.0</td>\n",
       "    </tr>\n",
       "  </tbody>\n",
       "</table>\n",
       "</div>"
      ],
      "text/plain": [
       "                                              Review Rating\n",
       "0  Only mobile phone and both side x tupe cable r...    1.0\n",
       "1   Better to provide all basic accessories with ...    2.0\n",
       "2         Don't buy this product not worthy for 16k.    3.0\n",
       "3                 back cover is brittle. got a crack    1.0\n",
       "4  With 5G connectivity, a 120Hz display and soli...    5.0"
      ]
     },
     "execution_count": 149,
     "metadata": {},
     "output_type": "execute_result"
    }
   ],
   "source": [
    "data_df = pd.DataFrame({\"Review\":review,\"Rating\":rating}) #forming dataframe\n",
    "data_df.head()"
   ]
  },
  {
   "cell_type": "code",
   "execution_count": 150,
   "id": "7db3e58c",
   "metadata": {},
   "outputs": [],
   "source": [
    "#saving in .xlsx format\n",
    "data_df.to_excel(\"ratingdata.xlsx\")"
   ]
  }
 ],
 "metadata": {
  "kernelspec": {
   "display_name": "Python 3 (ipykernel)",
   "language": "python",
   "name": "python3"
  },
  "language_info": {
   "codemirror_mode": {
    "name": "ipython",
    "version": 3
   },
   "file_extension": ".py",
   "mimetype": "text/x-python",
   "name": "python",
   "nbconvert_exporter": "python",
   "pygments_lexer": "ipython3",
   "version": "3.9.7"
  }
 },
 "nbformat": 4,
 "nbformat_minor": 5
}
