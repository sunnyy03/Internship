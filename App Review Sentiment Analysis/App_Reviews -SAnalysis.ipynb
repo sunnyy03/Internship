{
 "cells": [
  {
   "cell_type": "markdown",
   "id": "075dd694",
   "metadata": {},
   "source": [
    "Problem Statement:\n",
    "\n",
    "-Make a python script which fetches the App reviews(500 latest ones) for any app that you like and do a basic sentiment analysis on those reviews"
   ]
  },
  {
   "cell_type": "markdown",
   "id": "0116dc81",
   "metadata": {},
   "source": [
    "**Remark:**\n",
    "- for fetching the reviews I am going to use google play scraper\n",
    "- for sentiment analysis I will use nltk's SentimentIntensityAnalyzer"
   ]
  },
  {
   "cell_type": "code",
   "execution_count": 74,
   "id": "ab5b525a",
   "metadata": {},
   "outputs": [],
   "source": [
    "#importing libraries\n",
    "\n",
    "#for data wrangling\n",
    "import pandas as pd \n",
    "import numpy as np\n",
    "\n",
    "#for data preprocessing and sentiment analysis\n",
    "import nltk\n",
    "from nltk.sentiment import SentimentIntensityAnalyzer\n",
    "\n",
    "#for scraping the reviews\n",
    "from google_play_scraper import app, Sort , reviews\n",
    "\n",
    "#for visualization\n",
    "import matplotlib.pyplot as plt\n",
    "import seaborn as sns"
   ]
  },
  {
   "cell_type": "code",
   "execution_count": 49,
   "id": "615ffb31",
   "metadata": {},
   "outputs": [],
   "source": [
    "#scraping the reviews\n",
    "spotify,_ = reviews('com.spotify.music' , sort = Sort.NEWEST, count =500)"
   ]
  },
  {
   "cell_type": "code",
   "execution_count": 60,
   "id": "0b641acd",
   "metadata": {},
   "outputs": [
    {
     "name": "stdout",
     "output_type": "stream",
     "text": [
      "Number of Reviews: 500\n"
     ]
    }
   ],
   "source": [
    "#creating a dataframe\n",
    "\n",
    "df = pd.json_normalize(spotify)\n",
    "print(\"Number of Reviews:\",df.shape[0])"
   ]
  },
  {
   "cell_type": "markdown",
   "id": "f4f4c46e",
   "metadata": {},
   "source": [
    "**Quick EDA**"
   ]
  },
  {
   "cell_type": "code",
   "execution_count": 65,
   "id": "aa61bb06",
   "metadata": {},
   "outputs": [
    {
     "data": {
      "image/png": "[encoded data removed]",
      "text/plain": [
       "<Figure size 720x360 with 1 Axes>"
      ]
     },
     "metadata": {
      "needs_background": "light"
     },
     "output_type": "display_data"
    }
   ],
   "source": [
    "df['score'].value_counts().sort_index().plot(kind='bar' , title='Count of Reviews by Rating stars' , figsize=(10,5))\n",
    "plt.show()"
   ]
  },
  {
   "cell_type": "markdown",
   "id": "039651f2",
   "metadata": {},
   "source": [
    "Remark:\n",
    "- Most of the reviews has an score of 5 stars , so we can assume that higher stars relate to positive reviews"
   ]
  },
  {
   "cell_type": "code",
   "execution_count": 94,
   "id": "7cafa09b",
   "metadata": {},
   "outputs": [
    {
     "data": {
      "text/plain": [
       "4.02"
      ]
     },
     "execution_count": 94,
     "metadata": {},
     "output_type": "execute_result"
    }
   ],
   "source": [
    "#average score\n",
    "\n",
    "df['score'].mean()"
   ]
  },
  {
   "cell_type": "markdown",
   "id": "fe002f24",
   "metadata": {},
   "source": [
    "**Basic NLTK**"
   ]
  },
  {
   "cell_type": "code",
   "execution_count": 95,
   "id": "4ec7d2db",
   "metadata": {},
   "outputs": [
    {
     "name": "stdout",
     "output_type": "stream",
     "text": [
      "Ive had spotify for years... I absolutely love it except for when it decides to take music down for no reason\n"
     ]
    }
   ],
   "source": [
    "example = df['content'][50]              #taking an example\n",
    "print(example)"
   ]
  },
  {
   "cell_type": "code",
   "execution_count": 98,
   "id": "72191f49",
   "metadata": {},
   "outputs": [
    {
     "data": {
      "text/plain": [
       "['Ive', 'had', 'spotify', 'for', 'years']"
      ]
     },
     "execution_count": 98,
     "metadata": {},
     "output_type": "execute_result"
    }
   ],
   "source": [
    "token = nltk.word_tokenize(example)          #tokenizing the example\n",
    "token[:5]"
   ]
  },
  {
   "cell_type": "code",
   "execution_count": 102,
   "id": "04373acb",
   "metadata": {},
   "outputs": [
    {
     "data": {
      "text/plain": [
       "[('Ive', 'NNP'),\n",
       " ('had', 'VBD'),\n",
       " ('spotify', 'VBN'),\n",
       " ('for', 'IN'),\n",
       " ('years', 'NNS')]"
      ]
     },
     "execution_count": 102,
     "metadata": {},
     "output_type": "execute_result"
    }
   ],
   "source": [
    "tagged = nltk.pos_tag(token)         #checking the part of speech\n",
    "tagged[:5]"
   ]
  },
  {
   "cell_type": "code",
   "execution_count": null,
   "id": "e3126123",
   "metadata": {},
   "outputs": [],
   "source": []
  },
  {
   "cell_type": "markdown",
   "id": "12902495",
   "metadata": {},
   "source": [
    "**VADER Sentiment Scoring**"
   ]
  },
  {
   "cell_type": "markdown",
   "id": "e4dec6ed",
   "metadata": {},
   "source": [
    "This uses a \"bag of words\" approach:\n",
    "   1. stop words are removed\n",
    "   2. each word is scored and combined to a total score"
   ]
  },
  {
   "cell_type": "code",
   "execution_count": 77,
   "id": "0c8168b6",
   "metadata": {},
   "outputs": [],
   "source": [
    "sia = SentimentIntensityAnalyzer()"
   ]
  },
  {
   "cell_type": "code",
   "execution_count": 79,
   "id": "62181d90",
   "metadata": {},
   "outputs": [
    {
     "name": "stderr",
     "output_type": "stream",
     "text": [
      "100%|██████████████████████████████████████████████████████████████████████████████| 500/500 [00:00<00:00, 1835.02it/s]\n"
     ]
    }
   ],
   "source": [
    "result = []\n",
    "for row in tqdm(df['content']):\n",
    "    result.append(sia.polarity_scores(row))"
   ]
  },
  {
   "cell_type": "code",
   "execution_count": 82,
   "id": "aa898381",
   "metadata": {},
   "outputs": [
    {
     "name": "stdout",
     "output_type": "stream",
     "text": [
      "Review: Great company for entertainment.\n",
      "Score: {'neg': 0.0, 'neu': 0.225, 'pos': 0.775, 'compound': 0.7845}\n"
     ]
    }
   ],
   "source": [
    "#lets check out the result\n",
    "print(\"Review:\",df['content'][0])\n",
    "print(\"Score:\",result[0])"
   ]
  },
  {
   "cell_type": "code",
   "execution_count": 84,
   "id": "c4cffc32",
   "metadata": {},
   "outputs": [
    {
     "data": {
      "text/html": [
       "<div>\n",
       "<style scoped>\n",
       "    .dataframe tbody tr th:only-of-type {\n",
       "        vertical-align: middle;\n",
       "    }\n",
       "\n",
       "    .dataframe tbody tr th {\n",
       "        vertical-align: top;\n",
       "    }\n",
       "\n",
       "    .dataframe thead th {\n",
       "        text-align: right;\n",
       "    }\n",
       "</style>\n",
       "<table border=\"1\" class=\"dataframe\">\n",
       "  <thead>\n",
       "    <tr style=\"text-align: right;\">\n",
       "      <th></th>\n",
       "      <th>neg</th>\n",
       "      <th>neu</th>\n",
       "      <th>pos</th>\n",
       "      <th>compound</th>\n",
       "    </tr>\n",
       "  </thead>\n",
       "  <tbody>\n",
       "    <tr>\n",
       "      <th>0</th>\n",
       "      <td>0.000</td>\n",
       "      <td>0.225</td>\n",
       "      <td>0.775</td>\n",
       "      <td>0.7845</td>\n",
       "    </tr>\n",
       "    <tr>\n",
       "      <th>1</th>\n",
       "      <td>0.000</td>\n",
       "      <td>0.667</td>\n",
       "      <td>0.333</td>\n",
       "      <td>0.6114</td>\n",
       "    </tr>\n",
       "    <tr>\n",
       "      <th>2</th>\n",
       "      <td>0.000</td>\n",
       "      <td>0.862</td>\n",
       "      <td>0.138</td>\n",
       "      <td>0.3400</td>\n",
       "    </tr>\n",
       "    <tr>\n",
       "      <th>3</th>\n",
       "      <td>0.021</td>\n",
       "      <td>0.846</td>\n",
       "      <td>0.133</td>\n",
       "      <td>0.7622</td>\n",
       "    </tr>\n",
       "    <tr>\n",
       "      <th>4</th>\n",
       "      <td>0.000</td>\n",
       "      <td>1.000</td>\n",
       "      <td>0.000</td>\n",
       "      <td>0.0000</td>\n",
       "    </tr>\n",
       "    <tr>\n",
       "      <th>...</th>\n",
       "      <td>...</td>\n",
       "      <td>...</td>\n",
       "      <td>...</td>\n",
       "      <td>...</td>\n",
       "    </tr>\n",
       "    <tr>\n",
       "      <th>495</th>\n",
       "      <td>0.000</td>\n",
       "      <td>1.000</td>\n",
       "      <td>0.000</td>\n",
       "      <td>0.0000</td>\n",
       "    </tr>\n",
       "    <tr>\n",
       "      <th>496</th>\n",
       "      <td>0.000</td>\n",
       "      <td>0.208</td>\n",
       "      <td>0.792</td>\n",
       "      <td>0.5859</td>\n",
       "    </tr>\n",
       "    <tr>\n",
       "      <th>497</th>\n",
       "      <td>0.000</td>\n",
       "      <td>0.256</td>\n",
       "      <td>0.744</td>\n",
       "      <td>0.4404</td>\n",
       "    </tr>\n",
       "    <tr>\n",
       "      <th>498</th>\n",
       "      <td>0.000</td>\n",
       "      <td>1.000</td>\n",
       "      <td>0.000</td>\n",
       "      <td>0.0000</td>\n",
       "    </tr>\n",
       "    <tr>\n",
       "      <th>499</th>\n",
       "      <td>0.108</td>\n",
       "      <td>0.810</td>\n",
       "      <td>0.081</td>\n",
       "      <td>-0.1129</td>\n",
       "    </tr>\n",
       "  </tbody>\n",
       "</table>\n",
       "<p>500 rows × 4 columns</p>\n",
       "</div>"
      ],
      "text/plain": [
       "       neg    neu    pos  compound\n",
       "0    0.000  0.225  0.775    0.7845\n",
       "1    0.000  0.667  0.333    0.6114\n",
       "2    0.000  0.862  0.138    0.3400\n",
       "3    0.021  0.846  0.133    0.7622\n",
       "4    0.000  1.000  0.000    0.0000\n",
       "..     ...    ...    ...       ...\n",
       "495  0.000  1.000  0.000    0.0000\n",
       "496  0.000  0.208  0.792    0.5859\n",
       "497  0.000  0.256  0.744    0.4404\n",
       "498  0.000  1.000  0.000    0.0000\n",
       "499  0.108  0.810  0.081   -0.1129\n",
       "\n",
       "[500 rows x 4 columns]"
      ]
     },
     "execution_count": 84,
     "metadata": {},
     "output_type": "execute_result"
    }
   ],
   "source": [
    "pd.DataFrame(result)"
   ]
  },
  {
   "cell_type": "code",
   "execution_count": 89,
   "id": "d31b64f1",
   "metadata": {},
   "outputs": [],
   "source": [
    "vaders = pd.DataFrame(result)\n",
    "df = df.join(vaders)"
   ]
  },
  {
   "cell_type": "code",
   "execution_count": 90,
   "id": "c9aab12e",
   "metadata": {},
   "outputs": [
    {
     "data": {
      "text/html": [
       "<div>\n",
       "<style scoped>\n",
       "    .dataframe tbody tr th:only-of-type {\n",
       "        vertical-align: middle;\n",
       "    }\n",
       "\n",
       "    .dataframe tbody tr th {\n",
       "        vertical-align: top;\n",
       "    }\n",
       "\n",
       "    .dataframe thead th {\n",
       "        text-align: right;\n",
       "    }\n",
       "</style>\n",
       "<table border=\"1\" class=\"dataframe\">\n",
       "  <thead>\n",
       "    <tr style=\"text-align: right;\">\n",
       "      <th></th>\n",
       "      <th>reviewId</th>\n",
       "      <th>userName</th>\n",
       "      <th>userImage</th>\n",
       "      <th>content</th>\n",
       "      <th>score</th>\n",
       "      <th>thumbsUpCount</th>\n",
       "      <th>reviewCreatedVersion</th>\n",
       "      <th>at</th>\n",
       "      <th>replyContent</th>\n",
       "      <th>repliedAt</th>\n",
       "      <th>neg</th>\n",
       "      <th>neu</th>\n",
       "      <th>pos</th>\n",
       "      <th>compound</th>\n",
       "    </tr>\n",
       "  </thead>\n",
       "  <tbody>\n",
       "    <tr>\n",
       "      <th>0</th>\n",
       "      <td>b3d9bc3b-070f-4b13-ac70-47a37ca1828c</td>\n",
       "      <td>ju juju</td>\n",
       "      <td>https://play-lh.googleusercontent.com/a/AItbvm...</td>\n",
       "      <td>Great company for entertainment.</td>\n",
       "      <td>5</td>\n",
       "      <td>0</td>\n",
       "      <td>8.7.62.398</td>\n",
       "      <td>2022-09-05 22:08:48</td>\n",
       "      <td>None</td>\n",
       "      <td>NaT</td>\n",
       "      <td>0.000</td>\n",
       "      <td>0.225</td>\n",
       "      <td>0.775</td>\n",
       "      <td>0.7845</td>\n",
       "    </tr>\n",
       "    <tr>\n",
       "      <th>1</th>\n",
       "      <td>60a2de87-d4ec-4286-96ab-49ffe3f077b0</td>\n",
       "      <td>Michael Peet</td>\n",
       "      <td>https://play-lh.googleusercontent.com/a/AItbvm...</td>\n",
       "      <td>Excellent and has any music you can think of! ...</td>\n",
       "      <td>5</td>\n",
       "      <td>0</td>\n",
       "      <td>8.7.62.398</td>\n",
       "      <td>2022-09-05 22:07:13</td>\n",
       "      <td>None</td>\n",
       "      <td>NaT</td>\n",
       "      <td>0.000</td>\n",
       "      <td>0.667</td>\n",
       "      <td>0.333</td>\n",
       "      <td>0.6114</td>\n",
       "    </tr>\n",
       "    <tr>\n",
       "      <th>2</th>\n",
       "      <td>4230fce3-57e8-41bd-9f63-b4f1201d125a</td>\n",
       "      <td>Yessir_Anthony</td>\n",
       "      <td>https://play-lh.googleusercontent.com/a-/AFdZu...</td>\n",
       "      <td>It has so many choices for songs to play you c...</td>\n",
       "      <td>5</td>\n",
       "      <td>0</td>\n",
       "      <td>8.7.62.398</td>\n",
       "      <td>2022-09-05 22:06:54</td>\n",
       "      <td>None</td>\n",
       "      <td>NaT</td>\n",
       "      <td>0.000</td>\n",
       "      <td>0.862</td>\n",
       "      <td>0.138</td>\n",
       "      <td>0.3400</td>\n",
       "    </tr>\n",
       "    <tr>\n",
       "      <th>3</th>\n",
       "      <td>a368f938-6cef-42a8-ac66-31800e3b2f14</td>\n",
       "      <td>Neha Rajoria</td>\n",
       "      <td>https://play-lh.googleusercontent.com/a-/AFdZu...</td>\n",
       "      <td>Well even after you pay for premium it takes s...</td>\n",
       "      <td>1</td>\n",
       "      <td>0</td>\n",
       "      <td>8.7.62.398</td>\n",
       "      <td>2022-09-05 22:06:51</td>\n",
       "      <td>None</td>\n",
       "      <td>NaT</td>\n",
       "      <td>0.021</td>\n",
       "      <td>0.846</td>\n",
       "      <td>0.133</td>\n",
       "      <td>0.7622</td>\n",
       "    </tr>\n",
       "    <tr>\n",
       "      <th>4</th>\n",
       "      <td>3c98b777-e2c0-4259-813d-16024cad663f</td>\n",
       "      <td>Piyush Singh</td>\n",
       "      <td>https://play-lh.googleusercontent.com/a-/AFdZu...</td>\n",
       "      <td>Hearty 5 star rating.</td>\n",
       "      <td>5</td>\n",
       "      <td>0</td>\n",
       "      <td>8.7.62.398</td>\n",
       "      <td>2022-09-05 22:06:23</td>\n",
       "      <td>None</td>\n",
       "      <td>NaT</td>\n",
       "      <td>0.000</td>\n",
       "      <td>1.000</td>\n",
       "      <td>0.000</td>\n",
       "      <td>0.0000</td>\n",
       "    </tr>\n",
       "  </tbody>\n",
       "</table>\n",
       "</div>"
      ],
      "text/plain": [
       "                               reviewId        userName  \\\n",
       "0  b3d9bc3b-070f-4b13-ac70-47a37ca1828c         ju juju   \n",
       "1  60a2de87-d4ec-4286-96ab-49ffe3f077b0    Michael Peet   \n",
       "2  4230fce3-57e8-41bd-9f63-b4f1201d125a  Yessir_Anthony   \n",
       "3  a368f938-6cef-42a8-ac66-31800e3b2f14    Neha Rajoria   \n",
       "4  3c98b777-e2c0-4259-813d-16024cad663f    Piyush Singh   \n",
       "\n",
       "                                           userImage  \\\n",
       "0  https://play-lh.googleusercontent.com/a/AItbvm...   \n",
       "1  https://play-lh.googleusercontent.com/a/AItbvm...   \n",
       "2  https://play-lh.googleusercontent.com/a-/AFdZu...   \n",
       "3  https://play-lh.googleusercontent.com/a-/AFdZu...   \n",
       "4  https://play-lh.googleusercontent.com/a-/AFdZu...   \n",
       "\n",
       "                                             content  score  thumbsUpCount  \\\n",
       "0                   Great company for entertainment.      5              0   \n",
       "1  Excellent and has any music you can think of! ...      5              0   \n",
       "2  It has so many choices for songs to play you c...      5              0   \n",
       "3  Well even after you pay for premium it takes s...      1              0   \n",
       "4                              Hearty 5 star rating.      5              0   \n",
       "\n",
       "  reviewCreatedVersion                  at replyContent repliedAt    neg  \\\n",
       "0           8.7.62.398 2022-09-05 22:08:48         None       NaT  0.000   \n",
       "1           8.7.62.398 2022-09-05 22:07:13         None       NaT  0.000   \n",
       "2           8.7.62.398 2022-09-05 22:06:54         None       NaT  0.000   \n",
       "3           8.7.62.398 2022-09-05 22:06:51         None       NaT  0.021   \n",
       "4           8.7.62.398 2022-09-05 22:06:23         None       NaT  0.000   \n",
       "\n",
       "     neu    pos  compound  \n",
       "0  0.225  0.775    0.7845  \n",
       "1  0.667  0.333    0.6114  \n",
       "2  0.862  0.138    0.3400  \n",
       "3  0.846  0.133    0.7622  \n",
       "4  1.000  0.000    0.0000  "
      ]
     },
     "execution_count": 90,
     "metadata": {},
     "output_type": "execute_result"
    }
   ],
   "source": [
    "df.head(5)"
   ]
  },
  {
   "cell_type": "code",
   "execution_count": 91,
   "id": "209c25e2",
   "metadata": {},
   "outputs": [
    {
     "data": {
      "image/png": "[encoded data removed]",
      "text/plain": [
       "<Figure size 432x288 with 1 Axes>"
      ]
     },
     "metadata": {
      "needs_background": "light"
     },
     "output_type": "display_data"
    }
   ],
   "source": [
    "#plotting vaders results\n",
    "\n",
    "ax = sns.barplot(data=df , x='score' , y = 'compound')\n",
    "ax.set_title('Compound score by Stars Review')\n",
    "plt.show()"
   ]
  },
  {
   "cell_type": "code",
   "execution_count": 92,
   "id": "77e752bd",
   "metadata": {},
   "outputs": [
    {
     "data": {
      "image/png": "[encoded data removed]",
      "text/plain": [
       "<Figure size 864x360 with 3 Axes>"
      ]
     },
     "metadata": {
      "needs_background": "light"
     },
     "output_type": "display_data"
    }
   ],
   "source": [
    "fig, axs = plt.subplots(1, 3, figsize=(12,5))\n",
    "sns.barplot(data=df , x='score' , y = 'pos' , ax = axs[0])\n",
    "sns.barplot(data=df , x='score' , y = 'neu' , ax = axs[1])\n",
    "sns.barplot(data=df , x='score' , y = 'neg' , ax = axs[2])\n",
    "axs[0].set_title(\"Positive\")\n",
    "axs[1].set_title(\"Neutral\")\n",
    "axs[2].set_title(\"Negative\")\n",
    "plt.show()"
   ]
  },
  {
   "cell_type": "markdown",
   "id": "a5a2cad2",
   "metadata": {},
   "source": [
    "**Review Examples**"
   ]
  },
  {
   "cell_type": "markdown",
   "id": "50d97a81",
   "metadata": {},
   "source": [
    "- Positive 1-star and negative 5-star reviews"
   ]
  },
  {
   "cell_type": "code",
   "execution_count": 104,
   "id": "788eeed3",
   "metadata": {},
   "outputs": [
    {
     "data": {
      "text/plain": [
       "'The Best music app'"
      ]
     },
     "execution_count": 104,
     "metadata": {},
     "output_type": "execute_result"
    }
   ],
   "source": [
    "df.query('score==1').sort_values('pos' , ascending = False)['content'].values[0]"
   ]
  },
  {
   "cell_type": "code",
   "execution_count": 105,
   "id": "7d79f426",
   "metadata": {},
   "outputs": [
    {
     "data": {
      "text/plain": [
       "'Very bad'"
      ]
     },
     "execution_count": 105,
     "metadata": {},
     "output_type": "execute_result"
    }
   ],
   "source": [
    "df.query('score==5').sort_values('neg' , ascending = False)['content'].values[0]"
   ]
  },
  {
   "cell_type": "code",
   "execution_count": null,
   "id": "34b286e3",
   "metadata": {},
   "outputs": [],
   "source": []
  }
 ],
 "metadata": {
  "kernelspec": {
   "display_name": "Python 3 (ipykernel)",
   "language": "python",
   "name": "python3"
  },
  "language_info": {
   "codemirror_mode": {
    "name": "ipython",
    "version": 3
   },
   "file_extension": ".py",
   "mimetype": "text/x-python",
   "name": "python",
   "nbconvert_exporter": "python",
   "pygments_lexer": "ipython3",
   "version": "3.9.7"
  }
 },
 "nbformat": 4,
 "nbformat_minor": 5
}
