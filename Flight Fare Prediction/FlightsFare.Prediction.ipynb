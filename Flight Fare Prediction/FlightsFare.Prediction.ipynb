{
 "cells": [
  {
   "cell_type": "code",
   "execution_count": 1,
   "id": "09d71a1d",
   "metadata": {},
   "outputs": [],
   "source": [
    "#linear algebra\n",
    "\n",
    "import numpy as np\n",
    "\n",
    "#data processing\n",
    "\n",
    "import pandas as pd\n",
    "\n",
    "#data visualization\n",
    "\n",
    "import seaborn as sns\n",
    "import matplotlib.pyplot as plt\n",
    "import warnings\n",
    "warnings.filterwarnings('ignore')\n",
    "\n",
    "#algorithms\n",
    "\n",
    "from sklearn.linear_model import LinearRegression,Lasso,Ridge\n",
    "from sklearn.tree import DecisionTreeRegressor\n",
    "from sklearn.neighbors import KNeighborsRegressor\n",
    "from sklearn.svm import SVC\n",
    "from sklearn.ensemble import RandomForestRegressor , AdaBoostRegressor , GradientBoostingRegressor\n",
    "from xgboost import XGBRegressor\n",
    "\n",
    "#importing metrics\n",
    "\n",
    "from sklearn.model_selection import train_test_split,cross_val_score\n",
    "from sklearn.metrics import r2_score,mean_squared_error,mean_absolute_error,mean_squared_log_error"
   ]
  },
  {
   "cell_type": "code",
   "execution_count": 40,
   "id": "2e91b549",
   "metadata": {},
   "outputs": [
    {
     "name": "stdout",
     "output_type": "stream",
     "text": [
      "(3509, 10)\n"
     ]
    }
   ],
   "source": [
    "#loading the data\n",
    "\n",
    "df = pd.read_excel(\"flightsfaredata.xlsx\")\n",
    "                       \n",
    "print(df.shape)"
   ]
  },
  {
   "cell_type": "code",
   "execution_count": 41,
   "id": "bb48c0bd",
   "metadata": {},
   "outputs": [
    {
     "data": {
      "text/html": [
       "<div>\n",
       "<style scoped>\n",
       "    .dataframe tbody tr th:only-of-type {\n",
       "        vertical-align: middle;\n",
       "    }\n",
       "\n",
       "    .dataframe tbody tr th {\n",
       "        vertical-align: top;\n",
       "    }\n",
       "\n",
       "    .dataframe thead th {\n",
       "        text-align: right;\n",
       "    }\n",
       "</style>\n",
       "<table border=\"1\" class=\"dataframe\">\n",
       "  <thead>\n",
       "    <tr style=\"text-align: right;\">\n",
       "      <th></th>\n",
       "      <th>Unnamed: 0</th>\n",
       "      <th>Airline</th>\n",
       "      <th>Source</th>\n",
       "      <th>Departure</th>\n",
       "      <th>Destination</th>\n",
       "      <th>Arrival</th>\n",
       "      <th>Duration</th>\n",
       "      <th>Stop(s)</th>\n",
       "      <th>Date</th>\n",
       "      <th>Fare</th>\n",
       "    </tr>\n",
       "  </thead>\n",
       "  <tbody>\n",
       "    <tr>\n",
       "      <th>2648</th>\n",
       "      <td>2648</td>\n",
       "      <td>IndiGo</td>\n",
       "      <td>Bangalore</td>\n",
       "      <td>11:10</td>\n",
       "      <td>Chennai</td>\n",
       "      <td>12:10</td>\n",
       "      <td>1h 00m</td>\n",
       "      <td>Non Stop</td>\n",
       "      <td>Fri, 5 Aug</td>\n",
       "      <td>6,004</td>\n",
       "    </tr>\n",
       "    <tr>\n",
       "      <th>3355</th>\n",
       "      <td>3355</td>\n",
       "      <td>IndiGo</td>\n",
       "      <td>Ahmedabad</td>\n",
       "      <td>04:30</td>\n",
       "      <td>Hyderabad</td>\n",
       "      <td>11:25</td>\n",
       "      <td>6h 55m</td>\n",
       "      <td>1 Stop</td>\n",
       "      <td>Sat, 3 Sep</td>\n",
       "      <td>5,975</td>\n",
       "    </tr>\n",
       "    <tr>\n",
       "      <th>811</th>\n",
       "      <td>811</td>\n",
       "      <td>IndiGo</td>\n",
       "      <td>Bangalore</td>\n",
       "      <td>15:25</td>\n",
       "      <td>Kolkata</td>\n",
       "      <td>18:00</td>\n",
       "      <td>2h 35m</td>\n",
       "      <td>Non Stop</td>\n",
       "      <td>Sat, 6 Aug</td>\n",
       "      <td>9,049</td>\n",
       "    </tr>\n",
       "    <tr>\n",
       "      <th>1856</th>\n",
       "      <td>1856</td>\n",
       "      <td>Air India</td>\n",
       "      <td>New Delhi</td>\n",
       "      <td>20:00</td>\n",
       "      <td>Kolkata</td>\n",
       "      <td>08:50\\n+ 1 day</td>\n",
       "      <td>12h 50m</td>\n",
       "      <td>1 Stop</td>\n",
       "      <td>NaN</td>\n",
       "      <td>10,848</td>\n",
       "    </tr>\n",
       "    <tr>\n",
       "      <th>1398</th>\n",
       "      <td>1398</td>\n",
       "      <td>IndiGo</td>\n",
       "      <td>New Delhi</td>\n",
       "      <td>16:20</td>\n",
       "      <td>Kolkata</td>\n",
       "      <td>21:35</td>\n",
       "      <td>5h 15m</td>\n",
       "      <td>1 Stop</td>\n",
       "      <td>Sat, 6 Aug</td>\n",
       "      <td>8,579</td>\n",
       "    </tr>\n",
       "    <tr>\n",
       "      <th>160</th>\n",
       "      <td>160</td>\n",
       "      <td>Go First</td>\n",
       "      <td>New Delhi</td>\n",
       "      <td>09:30</td>\n",
       "      <td>Mumbai</td>\n",
       "      <td>18:35</td>\n",
       "      <td>9h 05m</td>\n",
       "      <td>1 Stop</td>\n",
       "      <td>Sat, 6 Aug</td>\n",
       "      <td>8,579</td>\n",
       "    </tr>\n",
       "    <tr>\n",
       "      <th>1683</th>\n",
       "      <td>1683</td>\n",
       "      <td>SpiceJet</td>\n",
       "      <td>New Delhi</td>\n",
       "      <td>13:05</td>\n",
       "      <td>Kolkata</td>\n",
       "      <td>18:10</td>\n",
       "      <td>5h 05m</td>\n",
       "      <td>1 Stop</td>\n",
       "      <td>Sun, 4 Sep</td>\n",
       "      <td>7,383</td>\n",
       "    </tr>\n",
       "    <tr>\n",
       "      <th>2857</th>\n",
       "      <td>2857</td>\n",
       "      <td>IndiGo</td>\n",
       "      <td>Bangalore</td>\n",
       "      <td>14:50</td>\n",
       "      <td>Chennai</td>\n",
       "      <td>15:55</td>\n",
       "      <td>1h 05m</td>\n",
       "      <td>Non Stop</td>\n",
       "      <td>Sat, 3 Sep</td>\n",
       "      <td>3,694</td>\n",
       "    </tr>\n",
       "    <tr>\n",
       "      <th>1929</th>\n",
       "      <td>1929</td>\n",
       "      <td>IndiGo</td>\n",
       "      <td>Mumbai</td>\n",
       "      <td>18:05</td>\n",
       "      <td>Bangalore</td>\n",
       "      <td>23:40</td>\n",
       "      <td>5h 35m</td>\n",
       "      <td>1 Stop</td>\n",
       "      <td>Thu, 4 Aug</td>\n",
       "      <td>12,033</td>\n",
       "    </tr>\n",
       "    <tr>\n",
       "      <th>2594</th>\n",
       "      <td>2594</td>\n",
       "      <td>Air India</td>\n",
       "      <td>Mumbai</td>\n",
       "      <td>18:35</td>\n",
       "      <td>Bangalore</td>\n",
       "      <td>10:30\\n+ 1 day</td>\n",
       "      <td>15h 55m</td>\n",
       "      <td>2 Stop(s)</td>\n",
       "      <td>NaN</td>\n",
       "      <td>11,819</td>\n",
       "    </tr>\n",
       "  </tbody>\n",
       "</table>\n",
       "</div>"
      ],
      "text/plain": [
       "      Unnamed: 0    Airline     Source Departure Destination         Arrival  \\\n",
       "2648        2648     IndiGo  Bangalore     11:10     Chennai           12:10   \n",
       "3355        3355     IndiGo  Ahmedabad     04:30   Hyderabad           11:25   \n",
       "811          811     IndiGo  Bangalore     15:25     Kolkata           18:00   \n",
       "1856        1856  Air India  New Delhi     20:00     Kolkata  08:50\\n+ 1 day   \n",
       "1398        1398     IndiGo  New Delhi     16:20     Kolkata           21:35   \n",
       "160          160   Go First  New Delhi     09:30      Mumbai           18:35   \n",
       "1683        1683   SpiceJet  New Delhi     13:05     Kolkata           18:10   \n",
       "2857        2857     IndiGo  Bangalore     14:50     Chennai           15:55   \n",
       "1929        1929     IndiGo     Mumbai     18:05   Bangalore           23:40   \n",
       "2594        2594  Air India     Mumbai     18:35   Bangalore  10:30\\n+ 1 day   \n",
       "\n",
       "     Duration    Stop(s)        Date    Fare  \n",
       "2648   1h 00m   Non Stop  Fri, 5 Aug   6,004  \n",
       "3355   6h 55m     1 Stop  Sat, 3 Sep   5,975  \n",
       "811    2h 35m   Non Stop  Sat, 6 Aug   9,049  \n",
       "1856  12h 50m     1 Stop         NaN  10,848  \n",
       "1398   5h 15m     1 Stop  Sat, 6 Aug   8,579  \n",
       "160    9h 05m     1 Stop  Sat, 6 Aug   8,579  \n",
       "1683   5h 05m     1 Stop  Sun, 4 Sep   7,383  \n",
       "2857   1h 05m   Non Stop  Sat, 3 Sep   3,694  \n",
       "1929   5h 35m     1 Stop  Thu, 4 Aug  12,033  \n",
       "2594  15h 55m  2 Stop(s)         NaN  11,819  "
      ]
     },
     "execution_count": 41,
     "metadata": {},
     "output_type": "execute_result"
    }
   ],
   "source": [
    "df.sample(10)"
   ]
  },
  {
   "cell_type": "markdown",
   "id": "5120fbb3",
   "metadata": {},
   "source": [
    "# Data Cleaning & Data Analysis:"
   ]
  },
  {
   "cell_type": "markdown",
   "id": "95c95af5",
   "metadata": {},
   "source": [
    "- So first we are going to remove the unnamed column\n",
    "- Then we are going to look out for missing values and replace them accordingly.\n",
    "- Afterwards we are going to check out for datatypes of the variables and do the necessary modification"
   ]
  },
  {
   "cell_type": "code",
   "execution_count": 42,
   "id": "82ca0b3b",
   "metadata": {},
   "outputs": [
    {
     "data": {
      "text/html": [
       "<div>\n",
       "<style scoped>\n",
       "    .dataframe tbody tr th:only-of-type {\n",
       "        vertical-align: middle;\n",
       "    }\n",
       "\n",
       "    .dataframe tbody tr th {\n",
       "        vertical-align: top;\n",
       "    }\n",
       "\n",
       "    .dataframe thead th {\n",
       "        text-align: right;\n",
       "    }\n",
       "</style>\n",
       "<table border=\"1\" class=\"dataframe\">\n",
       "  <thead>\n",
       "    <tr style=\"text-align: right;\">\n",
       "      <th></th>\n",
       "      <th>Airline</th>\n",
       "      <th>Source</th>\n",
       "      <th>Departure</th>\n",
       "      <th>Destination</th>\n",
       "      <th>Arrival</th>\n",
       "      <th>Duration</th>\n",
       "      <th>Stop(s)</th>\n",
       "      <th>Date</th>\n",
       "      <th>Fare</th>\n",
       "    </tr>\n",
       "  </thead>\n",
       "  <tbody>\n",
       "    <tr>\n",
       "      <th>367</th>\n",
       "      <td>Air India</td>\n",
       "      <td>New Delhi</td>\n",
       "      <td>05:15</td>\n",
       "      <td>Mumbai</td>\n",
       "      <td>22:05</td>\n",
       "      <td>16h 50m</td>\n",
       "      <td>1 Stop</td>\n",
       "      <td>Thu, 1 Sep</td>\n",
       "      <td>7,247</td>\n",
       "    </tr>\n",
       "  </tbody>\n",
       "</table>\n",
       "</div>"
      ],
      "text/plain": [
       "       Airline     Source Departure Destination Arrival Duration Stop(s)  \\\n",
       "367  Air India  New Delhi     05:15      Mumbai   22:05  16h 50m  1 Stop   \n",
       "\n",
       "           Date   Fare  \n",
       "367  Thu, 1 Sep  7,247  "
      ]
     },
     "execution_count": 42,
     "metadata": {},
     "output_type": "execute_result"
    }
   ],
   "source": [
    "df.drop('Unnamed: 0',axis=1,inplace=True)\n",
    "df.sample()"
   ]
  },
  {
   "cell_type": "code",
   "execution_count": 43,
   "id": "3dc0de59",
   "metadata": {},
   "outputs": [
    {
     "data": {
      "text/html": [
       "<div>\n",
       "<style scoped>\n",
       "    .dataframe tbody tr th:only-of-type {\n",
       "        vertical-align: middle;\n",
       "    }\n",
       "\n",
       "    .dataframe tbody tr th {\n",
       "        vertical-align: top;\n",
       "    }\n",
       "\n",
       "    .dataframe thead th {\n",
       "        text-align: right;\n",
       "    }\n",
       "</style>\n",
       "<table border=\"1\" class=\"dataframe\">\n",
       "  <thead>\n",
       "    <tr style=\"text-align: right;\">\n",
       "      <th></th>\n",
       "      <th>Airline</th>\n",
       "      <th>Source</th>\n",
       "      <th>Departure</th>\n",
       "      <th>Destination</th>\n",
       "      <th>Arrival</th>\n",
       "      <th>Duration</th>\n",
       "      <th>Stop(s)</th>\n",
       "      <th>Date</th>\n",
       "      <th>Fare</th>\n",
       "    </tr>\n",
       "  </thead>\n",
       "  <tbody>\n",
       "    <tr>\n",
       "      <th>630</th>\n",
       "      <td>Vistara</td>\n",
       "      <td>Bangalore</td>\n",
       "      <td>16:45</td>\n",
       "      <td>Kolkata</td>\n",
       "      <td>18:05\\n+ 1 day</td>\n",
       "      <td>25h 20m</td>\n",
       "      <td>2 Stop(s)</td>\n",
       "      <td>Thu, 4 Aug</td>\n",
       "      <td>18,912</td>\n",
       "    </tr>\n",
       "    <tr>\n",
       "      <th>633</th>\n",
       "      <td>Vistara</td>\n",
       "      <td>Bangalore</td>\n",
       "      <td>16:45</td>\n",
       "      <td>Kolkata</td>\n",
       "      <td>19:35\\n+ 1 day</td>\n",
       "      <td>26h 50m</td>\n",
       "      <td>2 Stop(s)</td>\n",
       "      <td>Thu, 4 Aug</td>\n",
       "      <td>19,650</td>\n",
       "    </tr>\n",
       "    <tr>\n",
       "      <th>656</th>\n",
       "      <td>Vistara</td>\n",
       "      <td>Bangalore</td>\n",
       "      <td>18:55</td>\n",
       "      <td>Kolkata</td>\n",
       "      <td>18:05\\n+ 1 day</td>\n",
       "      <td>23h 10m</td>\n",
       "      <td>2 Stop(s)</td>\n",
       "      <td>Thu, 4 Aug</td>\n",
       "      <td>23,744</td>\n",
       "    </tr>\n",
       "    <tr>\n",
       "      <th>657</th>\n",
       "      <td>Vistara</td>\n",
       "      <td>Bangalore</td>\n",
       "      <td>18:55</td>\n",
       "      <td>Kolkata</td>\n",
       "      <td>18:05\\n+ 1 day</td>\n",
       "      <td>23h 10m</td>\n",
       "      <td>2 Stop(s)</td>\n",
       "      <td>Thu, 4 Aug</td>\n",
       "      <td>23,744</td>\n",
       "    </tr>\n",
       "    <tr>\n",
       "      <th>658</th>\n",
       "      <td>Vistara</td>\n",
       "      <td>Bangalore</td>\n",
       "      <td>18:55</td>\n",
       "      <td>Kolkata</td>\n",
       "      <td>18:05\\n+ 1 day</td>\n",
       "      <td>23h 10m</td>\n",
       "      <td>2 Stop(s)</td>\n",
       "      <td>Thu, 4 Aug</td>\n",
       "      <td>23,744</td>\n",
       "    </tr>\n",
       "    <tr>\n",
       "      <th>...</th>\n",
       "      <td>...</td>\n",
       "      <td>...</td>\n",
       "      <td>...</td>\n",
       "      <td>...</td>\n",
       "      <td>...</td>\n",
       "      <td>...</td>\n",
       "      <td>...</td>\n",
       "      <td>...</td>\n",
       "      <td>...</td>\n",
       "    </tr>\n",
       "    <tr>\n",
       "      <th>3497</th>\n",
       "      <td>Vistara</td>\n",
       "      <td>Ahmedabad</td>\n",
       "      <td>08:25</td>\n",
       "      <td>Hyderabad</td>\n",
       "      <td>19:50</td>\n",
       "      <td>11h 25m</td>\n",
       "      <td>2 Stop(s)</td>\n",
       "      <td>NaN</td>\n",
       "      <td>10,688</td>\n",
       "    </tr>\n",
       "    <tr>\n",
       "      <th>3499</th>\n",
       "      <td>Vistara</td>\n",
       "      <td>Ahmedabad</td>\n",
       "      <td>05:05</td>\n",
       "      <td>Hyderabad</td>\n",
       "      <td>17:00</td>\n",
       "      <td>11h 55m</td>\n",
       "      <td>2 Stop(s)</td>\n",
       "      <td>NaN</td>\n",
       "      <td>10,688</td>\n",
       "    </tr>\n",
       "    <tr>\n",
       "      <th>3503</th>\n",
       "      <td>Vistara</td>\n",
       "      <td>Ahmedabad</td>\n",
       "      <td>08:30</td>\n",
       "      <td>Hyderabad</td>\n",
       "      <td>20:55</td>\n",
       "      <td>12h 25m</td>\n",
       "      <td>2 Stop(s)</td>\n",
       "      <td>NaN</td>\n",
       "      <td>12,287</td>\n",
       "    </tr>\n",
       "    <tr>\n",
       "      <th>3504</th>\n",
       "      <td>Vistara</td>\n",
       "      <td>Ahmedabad</td>\n",
       "      <td>08:30</td>\n",
       "      <td>Hyderabad</td>\n",
       "      <td>20:55</td>\n",
       "      <td>12h 25m</td>\n",
       "      <td>2 Stop(s)</td>\n",
       "      <td>NaN</td>\n",
       "      <td>12,287</td>\n",
       "    </tr>\n",
       "    <tr>\n",
       "      <th>3505</th>\n",
       "      <td>Vistara</td>\n",
       "      <td>Ahmedabad</td>\n",
       "      <td>08:30</td>\n",
       "      <td>Hyderabad</td>\n",
       "      <td>20:55</td>\n",
       "      <td>12h 25m</td>\n",
       "      <td>2 Stop(s)</td>\n",
       "      <td>NaN</td>\n",
       "      <td>12,287</td>\n",
       "    </tr>\n",
       "  </tbody>\n",
       "</table>\n",
       "<p>80 rows × 9 columns</p>\n",
       "</div>"
      ],
      "text/plain": [
       "      Airline     Source Departure Destination         Arrival Duration  \\\n",
       "630   Vistara  Bangalore     16:45     Kolkata  18:05\\n+ 1 day  25h 20m   \n",
       "633   Vistara  Bangalore     16:45     Kolkata  19:35\\n+ 1 day  26h 50m   \n",
       "656   Vistara  Bangalore     18:55     Kolkata  18:05\\n+ 1 day  23h 10m   \n",
       "657   Vistara  Bangalore     18:55     Kolkata  18:05\\n+ 1 day  23h 10m   \n",
       "658   Vistara  Bangalore     18:55     Kolkata  18:05\\n+ 1 day  23h 10m   \n",
       "...       ...        ...       ...         ...             ...      ...   \n",
       "3497  Vistara  Ahmedabad     08:25   Hyderabad           19:50  11h 25m   \n",
       "3499  Vistara  Ahmedabad     05:05   Hyderabad           17:00  11h 55m   \n",
       "3503  Vistara  Ahmedabad     08:30   Hyderabad           20:55  12h 25m   \n",
       "3504  Vistara  Ahmedabad     08:30   Hyderabad           20:55  12h 25m   \n",
       "3505  Vistara  Ahmedabad     08:30   Hyderabad           20:55  12h 25m   \n",
       "\n",
       "        Stop(s)        Date    Fare  \n",
       "630   2 Stop(s)  Thu, 4 Aug  18,912  \n",
       "633   2 Stop(s)  Thu, 4 Aug  19,650  \n",
       "656   2 Stop(s)  Thu, 4 Aug  23,744  \n",
       "657   2 Stop(s)  Thu, 4 Aug  23,744  \n",
       "658   2 Stop(s)  Thu, 4 Aug  23,744  \n",
       "...         ...         ...     ...  \n",
       "3497  2 Stop(s)         NaN  10,688  \n",
       "3499  2 Stop(s)         NaN  10,688  \n",
       "3503  2 Stop(s)         NaN  12,287  \n",
       "3504  2 Stop(s)         NaN  12,287  \n",
       "3505  2 Stop(s)         NaN  12,287  \n",
       "\n",
       "[80 rows x 9 columns]"
      ]
     },
     "execution_count": 43,
     "metadata": {},
     "output_type": "execute_result"
    }
   ],
   "source": [
    "#now let's check out for duplicate data that might be present in the dataset\n",
    "\n",
    "dfdup=df[df.duplicated()]\n",
    "dfdup"
   ]
  },
  {
   "cell_type": "markdown",
   "id": "d54e94e8",
   "metadata": {},
   "source": [
    "- So the dataset has 80 duplicated rows present, we are going to drop it as duplicated data isn't very useful"
   ]
  },
  {
   "cell_type": "code",
   "execution_count": 44,
   "id": "aa8e03e4",
   "metadata": {},
   "outputs": [
    {
     "data": {
      "text/plain": [
       "(3509, 9)"
      ]
     },
     "execution_count": 44,
     "metadata": {},
     "output_type": "execute_result"
    }
   ],
   "source": [
    "#checking shape of dataset \n",
    "df.shape"
   ]
  },
  {
   "cell_type": "code",
   "execution_count": 45,
   "id": "3720bf72",
   "metadata": {},
   "outputs": [
    {
     "data": {
      "text/plain": [
       "(3429, 9)"
      ]
     },
     "execution_count": 45,
     "metadata": {},
     "output_type": "execute_result"
    }
   ],
   "source": [
    "#removing duplicated rows from the dataset\n",
    "df.drop_duplicates(inplace=True)\n",
    "\n",
    "#again checking for shape of the now data\n",
    "df.shape"
   ]
  },
  {
   "cell_type": "code",
   "execution_count": 46,
   "id": "1ef278d5",
   "metadata": {},
   "outputs": [
    {
     "data": {
      "text/plain": [
       "Airline          0\n",
       "Source           0\n",
       "Departure        0\n",
       "Destination      0\n",
       "Arrival          0\n",
       "Duration         0\n",
       "Stop(s)          0\n",
       "Date           594\n",
       "Fare             0\n",
       "dtype: int64"
      ]
     },
     "execution_count": 46,
     "metadata": {},
     "output_type": "execute_result"
    }
   ],
   "source": [
    "#Now, lets checking for missing values\n",
    "\n",
    "df.isnull().sum()"
   ]
  },
  {
   "cell_type": "code",
   "execution_count": 47,
   "id": "f6c47ca0",
   "metadata": {},
   "outputs": [
    {
     "data": {
      "image/png": "[encoded data removed]",
      "text/plain": [
       "<Figure size 432x288 with 2 Axes>"
      ]
     },
     "metadata": {
      "needs_background": "light"
     },
     "output_type": "display_data"
    }
   ],
   "source": [
    "#plotting a heatmap for missing values\n",
    "sns.heatmap(df.isnull())\n",
    "plt.show()"
   ]
  },
  {
   "cell_type": "markdown",
   "id": "019f9b08",
   "metadata": {},
   "source": [
    "- It can be seen that only 'Date' variable has gotten missing values. So, we have to replace the missing values as while converting categorical data to numerical data, missing values can't be converted"
   ]
  },
  {
   "cell_type": "code",
   "execution_count": 48,
   "id": "989d7879",
   "metadata": {},
   "outputs": [
    {
     "data": {
      "text/plain": [
       "dtype('O')"
      ]
     },
     "execution_count": 48,
     "metadata": {},
     "output_type": "execute_result"
    }
   ],
   "source": [
    "#checking for datatypes\n",
    "df['Date'].dtypes"
   ]
  },
  {
   "cell_type": "markdown",
   "id": "b73cacc5",
   "metadata": {},
   "source": [
    "- As, the variable has dataype of object type, I am going to use SimpleImputer to replace the missing values by using the strategy as most frequent or mode of the data."
   ]
  },
  {
   "cell_type": "code",
   "execution_count": 49,
   "id": "63678675",
   "metadata": {},
   "outputs": [],
   "source": [
    "from sklearn.impute import SimpleImputer       #importing the imputer\n",
    "\n",
    "imp = SimpleImputer(strategy = 'most_frequent')\n",
    "df['Date'] = imp.fit_transform(df['Date'].values.reshape(-1,1))"
   ]
  },
  {
   "cell_type": "code",
   "execution_count": 12,
   "id": "cd8fb6bc",
   "metadata": {},
   "outputs": [
    {
     "data": {
      "image/png": "[encoded data removed]",
      "text/plain": [
       "<Figure size 432x288 with 2 Axes>"
      ]
     },
     "metadata": {
      "needs_background": "light"
     },
     "output_type": "display_data"
    }
   ],
   "source": [
    "#plotting a heatmap for missing values\n",
    "\n",
    "sns.heatmap(df.isnull())\n",
    "plt.show()"
   ]
  },
  {
   "cell_type": "markdown",
   "id": "77bacc2f",
   "metadata": {},
   "source": [
    "- It can be seen that the missing values have been replaced"
   ]
  },
  {
   "cell_type": "code",
   "execution_count": 13,
   "id": "a8c8bf5f",
   "metadata": {},
   "outputs": [
    {
     "data": {
      "text/html": [
       "<div>\n",
       "<style scoped>\n",
       "    .dataframe tbody tr th:only-of-type {\n",
       "        vertical-align: middle;\n",
       "    }\n",
       "\n",
       "    .dataframe tbody tr th {\n",
       "        vertical-align: top;\n",
       "    }\n",
       "\n",
       "    .dataframe thead th {\n",
       "        text-align: right;\n",
       "    }\n",
       "</style>\n",
       "<table border=\"1\" class=\"dataframe\">\n",
       "  <thead>\n",
       "    <tr style=\"text-align: right;\">\n",
       "      <th></th>\n",
       "      <th>Airline</th>\n",
       "      <th>Source</th>\n",
       "      <th>Departure</th>\n",
       "      <th>Destination</th>\n",
       "      <th>Arrival</th>\n",
       "      <th>Duration</th>\n",
       "      <th>Stop(s)</th>\n",
       "      <th>Date</th>\n",
       "      <th>Fare</th>\n",
       "    </tr>\n",
       "  </thead>\n",
       "  <tbody>\n",
       "    <tr>\n",
       "      <th>455</th>\n",
       "      <td>Go First</td>\n",
       "      <td>New Delhi</td>\n",
       "      <td>20:50</td>\n",
       "      <td>Mumbai</td>\n",
       "      <td>23:20</td>\n",
       "      <td>2h 30m</td>\n",
       "      <td>Non Stop</td>\n",
       "      <td>Sat, 3 Sep</td>\n",
       "      <td>4,878</td>\n",
       "    </tr>\n",
       "  </tbody>\n",
       "</table>\n",
       "</div>"
      ],
      "text/plain": [
       "      Airline     Source Departure Destination Arrival Duration   Stop(s)  \\\n",
       "455  Go First  New Delhi     20:50      Mumbai   23:20   2h 30m  Non Stop   \n",
       "\n",
       "           Date   Fare  \n",
       "455  Sat, 3 Sep  4,878  "
      ]
     },
     "execution_count": 13,
     "metadata": {},
     "output_type": "execute_result"
    }
   ],
   "source": [
    "#now we are going to check the dataset further for data cleaning and data analysing purpose\n",
    "\n",
    "df.sample()"
   ]
  },
  {
   "cell_type": "code",
   "execution_count": 14,
   "id": "6b616c27",
   "metadata": {},
   "outputs": [
    {
     "data": {
      "text/plain": [
       "Airline        object\n",
       "Source         object\n",
       "Departure      object\n",
       "Destination    object\n",
       "Arrival        object\n",
       "Duration       object\n",
       "Stop(s)        object\n",
       "Date           object\n",
       "Fare           object\n",
       "dtype: object"
      ]
     },
     "execution_count": 14,
     "metadata": {},
     "output_type": "execute_result"
    }
   ],
   "source": [
    "#checking for datatypes\n",
    "\n",
    "df.dtypes"
   ]
  },
  {
   "cell_type": "code",
   "execution_count": 15,
   "id": "d816d9d6",
   "metadata": {},
   "outputs": [
    {
     "name": "stdout",
     "output_type": "stream",
     "text": [
      "Vistara      1264\n",
      "IndiGo        954\n",
      "Air India     659\n",
      "SpiceJet      222\n",
      "Go First      184\n",
      "Air Asia      146\n",
      "Name: Airline, dtype: int64 \n",
      "\n",
      "\n",
      "New Delhi    1317\n",
      "Bangalore     958\n",
      "Mumbai        692\n",
      "Ahmedabad     462\n",
      "Name: Source, dtype: int64 \n",
      "\n",
      "\n",
      "07:00    100\n",
      "21:20     77\n",
      "09:30     62\n",
      "21:40     59\n",
      "07:20     58\n",
      "        ... \n",
      "10:10      1\n",
      "07:50      1\n",
      "08:10      1\n",
      "11:20      1\n",
      "07:25      1\n",
      "Name: Departure, Length: 205, dtype: int64 \n",
      "\n",
      "\n",
      "Kolkata      1268\n",
      "Bangalore     692\n",
      "Mumbai        619\n",
      "Hyderabad     462\n",
      "Chennai       388\n",
      "Name: Destination, dtype: int64 \n",
      "\n",
      "\n",
      "08:50\\n+ 1 day    98\n",
      "09:40\\n+ 1 day    87\n",
      "19:55             67\n",
      "08:55\\n+ 1 day    55\n",
      "11:50\\n+ 1 day    52\n",
      "                  ..\n",
      "13:35              1\n",
      "07:35\\n+ 1 day     1\n",
      "05:30              1\n",
      "00:20\\n+ 1 day     1\n",
      "23:00\\n+ 1 day     1\n",
      "Name: Arrival, Length: 289, dtype: int64 \n",
      "\n",
      "\n",
      "2h 10m     103\n",
      "2h 05m     103\n",
      "2h 15m      89\n",
      "1h 40m      52\n",
      "2h 35m      38\n",
      "          ... \n",
      "22h 40m      1\n",
      "27h 20m      1\n",
      "39h 05m      1\n",
      "23h 35m      1\n",
      "42h 15m      1\n",
      "Name: Duration, Length: 328, dtype: int64 \n",
      "\n",
      "\n",
      "1 Stop       2401\n",
      "Non Stop      619\n",
      "2 Stop(s)     399\n",
      "3 Stop(s)      10\n",
      "Name: Stop(s), dtype: int64 \n",
      "\n",
      "\n",
      "Thu, 1 Sep    1344\n",
      "Sat, 6 Aug     672\n",
      "Sat, 3 Sep     493\n",
      "Fri, 5 Aug     484\n",
      "Thu, 4 Aug     302\n",
      "Sun, 4 Sep     134\n",
      "Name: Date, dtype: int64 \n",
      "\n",
      "\n",
      "8,579     186\n",
      "5,954      87\n",
      "7,789      78\n",
      "10,893     62\n",
      "5,103      59\n",
      "         ... \n",
      "23,937      1\n",
      "28,392      1\n",
      "23,050      1\n",
      "34,875      1\n",
      "14,317      1\n",
      "Name: Fare, Length: 807, dtype: int64 \n",
      "\n",
      "\n"
     ]
    }
   ],
   "source": [
    "#checking for different values the variables have\n",
    "\n",
    "for i in df.columns:\n",
    "    print(df[i].value_counts(),'\\n\\n')"
   ]
  },
  {
   "cell_type": "markdown",
   "id": "5b778e75",
   "metadata": {},
   "source": [
    "- Firstly all the variables are of object datatype, which doesn't make sense for 'Departure' , 'Arrival' , 'Duration' and 'Fare' should be of numerical datatype\n",
    "- 'Date' variable too should be of datetime datatype but as there are only a few different dates are present I am not going to change it\n",
    "- 'Departure' , 'Arrival' show the time of the flight but in 24 hours day, So, I am going to transform two new variables from each of tese variable which would show the hour and minute separately \n",
    "- 'Duration' shows the total duration of a flight which is in hour and minute form, So I am going to convert it into minutes only for a better understanding\n",
    "- The target variable 'Fare' shows the flight fare is of object datatype, it has ',' present separating the thousands, so I am going to replace it with a decimal values and then convert it into numerical variable"
   ]
  },
  {
   "cell_type": "code",
   "execution_count": 50,
   "id": "e320cfa9",
   "metadata": {},
   "outputs": [
    {
     "data": {
      "text/plain": [
       "'17:00'"
      ]
     },
     "execution_count": 50,
     "metadata": {},
     "output_type": "execute_result"
    }
   ],
   "source": [
    "#firstly dealing with Departure and arrival\n",
    "\n",
    "df['Departure'][5]    #checking a random value"
   ]
  },
  {
   "cell_type": "code",
   "execution_count": 51,
   "id": "7f4c2cba",
   "metadata": {},
   "outputs": [
    {
     "data": {
      "text/plain": [
       "0       20\n",
       "1       19\n",
       "2       21\n",
       "3       17\n",
       "4       15\n",
       "        ..\n",
       "3501    21\n",
       "3502     8\n",
       "3506     7\n",
       "3507     7\n",
       "3508     7\n",
       "Name: Dep_hour, Length: 3429, dtype: int64"
      ]
     },
     "execution_count": 51,
     "metadata": {},
     "output_type": "execute_result"
    }
   ],
   "source": [
    "df['Dep_hour'] = pd.to_datetime(df['Departure']).dt.hour     #using pandas to_datetime function and then extracting hour only\n",
    "df['Dep_min'] = pd.to_datetime(df['Departure']).dt.minute    #applying same to extract minutes\n",
    "\n",
    "#checking the newly created variable\n",
    "\n",
    "df['Dep_hour']"
   ]
  },
  {
   "cell_type": "code",
   "execution_count": 52,
   "id": "0d0c8e2f",
   "metadata": {},
   "outputs": [
    {
     "data": {
      "text/plain": [
       "0                22:10\n",
       "1                21:15\n",
       "2                23:35\n",
       "3                22:10\n",
       "4                17:40\n",
       "             ...      \n",
       "3501    12:30\\n+ 1 day\n",
       "3502             20:55\n",
       "3506             21:40\n",
       "3507             21:15\n",
       "3508             21:40\n",
       "Name: Arrival, Length: 3429, dtype: object"
      ]
     },
     "execution_count": 52,
     "metadata": {},
     "output_type": "execute_result"
    }
   ],
   "source": [
    "#now checking the arrival variable\n",
    "df['Arrival']"
   ]
  },
  {
   "cell_type": "markdown",
   "id": "8bd0839b",
   "metadata": {},
   "source": [
    "- The above variable has got some useless information, so I am going to remove the useless string"
   ]
  },
  {
   "cell_type": "code",
   "execution_count": 53,
   "id": "62a346ff",
   "metadata": {},
   "outputs": [
    {
     "data": {
      "text/plain": [
       "0       22\n",
       "1       21\n",
       "2       23\n",
       "3       22\n",
       "4       17\n",
       "        ..\n",
       "3501    12\n",
       "3502    20\n",
       "3506    21\n",
       "3507    21\n",
       "3508    21\n",
       "Name: Arrival_hour, Length: 3429, dtype: int64"
      ]
     },
     "execution_count": 53,
     "metadata": {},
     "output_type": "execute_result"
    }
   ],
   "source": [
    "df['Arrival'] = df['Arrival'].apply(lambda x:x[:5])      #applying lambda function to remove the useless strings\n",
    "\n",
    "df['Arrival_hour'] = pd.to_datetime(df['Arrival']).dt.hour  #using to_datetime and extracting hours only\n",
    "df['Arrival_min'] = pd.to_datetime(df['Arrival']).dt.minute #same to extract minutes only\n",
    "\n",
    "#checking the new variable\n",
    "\n",
    "df['Arrival_hour']"
   ]
  },
  {
   "cell_type": "code",
   "execution_count": 54,
   "id": "732d02ef",
   "metadata": {},
   "outputs": [
    {
     "data": {
      "text/plain": [
       "'10h 05m'"
      ]
     },
     "execution_count": 54,
     "metadata": {},
     "output_type": "execute_result"
    }
   ],
   "source": [
    "#let's check out 'Duration'\n",
    "df['Duration'][167]"
   ]
  },
  {
   "cell_type": "code",
   "execution_count": 55,
   "id": "681d64f7",
   "metadata": {},
   "outputs": [
    {
     "data": {
      "text/plain": [
       "0       130\n",
       "1       135\n",
       "2       140\n",
       "3       255\n",
       "4       130\n",
       "       ... \n",
       "3501    900\n",
       "3502    745\n",
       "3506    850\n",
       "3507    825\n",
       "3508    850\n",
       "Name: Duration_New, Length: 3429, dtype: int64"
      ]
     },
     "execution_count": 55,
     "metadata": {},
     "output_type": "execute_result"
    }
   ],
   "source": [
    "#firstly removing the leading zero with empty string as it would give us error while converting\n",
    "df['Duration'] = df['Duration'].str.replace(' 0',' ')\n",
    "\n",
    "# and now converting the duration into minutes only\n",
    "\n",
    "df['Duration_New']=df['Duration'].str.replace(\"h\", '*60').str.replace(' ','+').str.replace('m','*1').apply(eval) \n",
    "\n",
    "#now let's checkout the new variable formed\n",
    "\n",
    "df['Duration_New']"
   ]
  },
  {
   "cell_type": "code",
   "execution_count": 56,
   "id": "57163816",
   "metadata": {},
   "outputs": [
    {
     "data": {
      "text/plain": [
       "'8,579'"
      ]
     },
     "execution_count": 56,
     "metadata": {},
     "output_type": "execute_result"
    }
   ],
   "source": [
    "#now lets deal with the target variable\n",
    "df['Fare'][155]"
   ]
  },
  {
   "cell_type": "code",
   "execution_count": 57,
   "id": "e4cbf82c",
   "metadata": {},
   "outputs": [
    {
     "data": {
      "text/plain": [
       "0        7.78\n",
       "1        7.78\n",
       "2        7.78\n",
       "3        7.78\n",
       "4        8.58\n",
       "        ...  \n",
       "3501    11.94\n",
       "3502    12.29\n",
       "3506    12.45\n",
       "3507    13.71\n",
       "3508    14.32\n",
       "Name: Fare, Length: 3429, dtype: float64"
      ]
     },
     "execution_count": 57,
     "metadata": {},
     "output_type": "execute_result"
    }
   ],
   "source": [
    "#replacing the period with a decimal and rounding of the number\n",
    "df['Fare'] = (pd.to_numeric(df['Fare'].apply(lambda x : x.replace(',','.')))).apply(lambda x : round(x,2))\n",
    "\n",
    "#now checking the variable\n",
    "df['Fare']"
   ]
  },
  {
   "cell_type": "code",
   "execution_count": 58,
   "id": "73584d08",
   "metadata": {},
   "outputs": [
    {
     "data": {
      "text/plain": [
       "Airline          object\n",
       "Source           object\n",
       "Departure        object\n",
       "Destination      object\n",
       "Arrival          object\n",
       "Duration         object\n",
       "Stop(s)          object\n",
       "Date             object\n",
       "Fare            float64\n",
       "Dep_hour          int64\n",
       "Dep_min           int64\n",
       "Arrival_hour      int64\n",
       "Arrival_min       int64\n",
       "Duration_New      int64\n",
       "dtype: object"
      ]
     },
     "execution_count": 58,
     "metadata": {},
     "output_type": "execute_result"
    }
   ],
   "source": [
    "#now again checking for datatype\n",
    "\n",
    "df.dtypes"
   ]
  },
  {
   "cell_type": "markdown",
   "id": "6ce552ad",
   "metadata": {},
   "source": [
    "- So all the data transformation and data cleaning has been done"
   ]
  },
  {
   "cell_type": "code",
   "execution_count": 59,
   "id": "2efd4944",
   "metadata": {},
   "outputs": [
    {
     "data": {
      "text/html": [
       "<div>\n",
       "<style scoped>\n",
       "    .dataframe tbody tr th:only-of-type {\n",
       "        vertical-align: middle;\n",
       "    }\n",
       "\n",
       "    .dataframe tbody tr th {\n",
       "        vertical-align: top;\n",
       "    }\n",
       "\n",
       "    .dataframe thead th {\n",
       "        text-align: right;\n",
       "    }\n",
       "</style>\n",
       "<table border=\"1\" class=\"dataframe\">\n",
       "  <thead>\n",
       "    <tr style=\"text-align: right;\">\n",
       "      <th></th>\n",
       "      <th>Fare</th>\n",
       "      <th>Dep_hour</th>\n",
       "      <th>Dep_min</th>\n",
       "      <th>Arrival_hour</th>\n",
       "      <th>Arrival_min</th>\n",
       "      <th>Duration_New</th>\n",
       "    </tr>\n",
       "  </thead>\n",
       "  <tbody>\n",
       "    <tr>\n",
       "      <th>count</th>\n",
       "      <td>3429.000000</td>\n",
       "      <td>3429.000000</td>\n",
       "      <td>3429.000000</td>\n",
       "      <td>3429.000000</td>\n",
       "      <td>3429.000000</td>\n",
       "      <td>3429.000000</td>\n",
       "    </tr>\n",
       "    <tr>\n",
       "      <th>mean</th>\n",
       "      <td>10.599942</td>\n",
       "      <td>13.101779</td>\n",
       "      <td>27.007874</td>\n",
       "      <td>14.861476</td>\n",
       "      <td>30.752406</td>\n",
       "      <td>663.463109</td>\n",
       "    </tr>\n",
       "    <tr>\n",
       "      <th>std</th>\n",
       "      <td>5.580293</td>\n",
       "      <td>5.660243</td>\n",
       "      <td>17.681801</td>\n",
       "      <td>6.016682</td>\n",
       "      <td>17.713597</td>\n",
       "      <td>463.875034</td>\n",
       "    </tr>\n",
       "    <tr>\n",
       "      <th>min</th>\n",
       "      <td>3.090000</td>\n",
       "      <td>0.000000</td>\n",
       "      <td>0.000000</td>\n",
       "      <td>0.000000</td>\n",
       "      <td>0.000000</td>\n",
       "      <td>60.000000</td>\n",
       "    </tr>\n",
       "    <tr>\n",
       "      <th>25%</th>\n",
       "      <td>6.400000</td>\n",
       "      <td>8.000000</td>\n",
       "      <td>10.000000</td>\n",
       "      <td>9.000000</td>\n",
       "      <td>15.000000</td>\n",
       "      <td>305.000000</td>\n",
       "    </tr>\n",
       "    <tr>\n",
       "      <th>50%</th>\n",
       "      <td>8.960000</td>\n",
       "      <td>13.000000</td>\n",
       "      <td>30.000000</td>\n",
       "      <td>16.000000</td>\n",
       "      <td>30.000000</td>\n",
       "      <td>565.000000</td>\n",
       "    </tr>\n",
       "    <tr>\n",
       "      <th>75%</th>\n",
       "      <td>12.450000</td>\n",
       "      <td>18.000000</td>\n",
       "      <td>45.000000</td>\n",
       "      <td>20.000000</td>\n",
       "      <td>50.000000</td>\n",
       "      <td>910.000000</td>\n",
       "    </tr>\n",
       "    <tr>\n",
       "      <th>max</th>\n",
       "      <td>34.880000</td>\n",
       "      <td>23.000000</td>\n",
       "      <td>55.000000</td>\n",
       "      <td>23.000000</td>\n",
       "      <td>55.000000</td>\n",
       "      <td>2535.000000</td>\n",
       "    </tr>\n",
       "  </tbody>\n",
       "</table>\n",
       "</div>"
      ],
      "text/plain": [
       "              Fare     Dep_hour      Dep_min  Arrival_hour  Arrival_min  \\\n",
       "count  3429.000000  3429.000000  3429.000000   3429.000000  3429.000000   \n",
       "mean     10.599942    13.101779    27.007874     14.861476    30.752406   \n",
       "std       5.580293     5.660243    17.681801      6.016682    17.713597   \n",
       "min       3.090000     0.000000     0.000000      0.000000     0.000000   \n",
       "25%       6.400000     8.000000    10.000000      9.000000    15.000000   \n",
       "50%       8.960000    13.000000    30.000000     16.000000    30.000000   \n",
       "75%      12.450000    18.000000    45.000000     20.000000    50.000000   \n",
       "max      34.880000    23.000000    55.000000     23.000000    55.000000   \n",
       "\n",
       "       Duration_New  \n",
       "count   3429.000000  \n",
       "mean     663.463109  \n",
       "std      463.875034  \n",
       "min       60.000000  \n",
       "25%      305.000000  \n",
       "50%      565.000000  \n",
       "75%      910.000000  \n",
       "max     2535.000000  "
      ]
     },
     "execution_count": 59,
     "metadata": {},
     "output_type": "execute_result"
    }
   ],
   "source": [
    "#let's further look into the data\n",
    "\n",
    "df.describe()"
   ]
  },
  {
   "cell_type": "markdown",
   "id": "08292702",
   "metadata": {},
   "source": [
    "Observations:\n",
    "- The maximum ticket price is around 34 thousand while the minimum is around 3 thousand only\n",
    "- The flights run throughout the day\n",
    "- The minimum duration of the flight is 60 minutes i.e. 1 hour while the maximum duration taken by a flight is around 42 hours\n",
    "- Skewness as well as outliers might be present in the dataset"
   ]
  },
  {
   "cell_type": "markdown",
   "id": "a2040d6e",
   "metadata": {},
   "source": [
    "# Exploratory Data Analysis:"
   ]
  },
  {
   "cell_type": "code",
   "execution_count": 26,
   "id": "bca19610",
   "metadata": {},
   "outputs": [
    {
     "data": {
      "text/plain": [
       "Index(['Airline', 'Source', 'Departure', 'Destination', 'Arrival', 'Duration',\n",
       "       'Stop(s)', 'Date', 'Fare', 'Dep_hour', 'Dep_min', 'Arrival_hour',\n",
       "       'Arrival_min', 'Duration_New'],\n",
       "      dtype='object')"
      ]
     },
     "execution_count": 26,
     "metadata": {},
     "output_type": "execute_result"
    }
   ],
   "source": [
    "#checking the variables\n",
    "\n",
    "df.columns"
   ]
  },
  {
   "cell_type": "code",
   "execution_count": 27,
   "id": "dee076b0",
   "metadata": {},
   "outputs": [
    {
     "name": "stdout",
     "output_type": "stream",
     "text": [
      "<class 'pandas.core.frame.DataFrame'>\n",
      "Int64Index: 3429 entries, 0 to 3508\n",
      "Data columns (total 14 columns):\n",
      " #   Column        Non-Null Count  Dtype  \n",
      "---  ------        --------------  -----  \n",
      " 0   Airline       3429 non-null   object \n",
      " 1   Source        3429 non-null   object \n",
      " 2   Departure     3429 non-null   object \n",
      " 3   Destination   3429 non-null   object \n",
      " 4   Arrival       3429 non-null   object \n",
      " 5   Duration      3429 non-null   object \n",
      " 6   Stop(s)       3429 non-null   object \n",
      " 7   Date          3429 non-null   object \n",
      " 8   Fare          3429 non-null   float64\n",
      " 9   Dep_hour      3429 non-null   int64  \n",
      " 10  Dep_min       3429 non-null   int64  \n",
      " 11  Arrival_hour  3429 non-null   int64  \n",
      " 12  Arrival_min   3429 non-null   int64  \n",
      " 13  Duration_New  3429 non-null   int64  \n",
      "dtypes: float64(1), int64(5), object(8)\n",
      "memory usage: 530.9+ KB\n"
     ]
    }
   ],
   "source": [
    "#getting additional info about the dataset\n",
    "\n",
    "df.info()"
   ]
  },
  {
   "cell_type": "code",
   "execution_count": 28,
   "id": "67163b9d",
   "metadata": {},
   "outputs": [
    {
     "data": {
      "image/png": "[encoded data removed]",
      "text/plain": [
       "<Figure size 432x288 with 1 Axes>"
      ]
     },
     "metadata": {
      "needs_background": "light"
     },
     "output_type": "display_data"
    }
   ],
   "source": [
    "#plotting the distribution of the target variable\n",
    "sns.distplot(df['Fare'])\n",
    "plt.show()"
   ]
  },
  {
   "cell_type": "markdown",
   "id": "49abf7b2",
   "metadata": {},
   "source": [
    "- skewness is present in the data\n",
    "- outliers are also there\n",
    "- most flight fare is in range 5-15 thousand"
   ]
  },
  {
   "cell_type": "code",
   "execution_count": 29,
   "id": "0c1709cb",
   "metadata": {},
   "outputs": [
    {
     "data": {
      "text/plain": [
       "<Figure size 1080x504 with 0 Axes>"
      ]
     },
     "metadata": {},
     "output_type": "display_data"
    },
    {
     "data": {
      "image/png": "[encoded data removed]",
      "text/plain": [
       "<Figure size 360x360 with 1 Axes>"
      ]
     },
     "metadata": {
      "needs_background": "light"
     },
     "output_type": "display_data"
    }
   ],
   "source": [
    "#plotting Airline and Fare\n",
    "\n",
    "plt.figure(figsize=(15,7))\n",
    "sns.catplot('Airline' , 'Fare' , data=df , kind='violin')\n",
    "plt.show()"
   ]
  },
  {
   "cell_type": "markdown",
   "id": "39af17a8",
   "metadata": {},
   "source": [
    "- Vistara Airline has the highest fares following by Air India\n",
    "- Air Asia has the cheapest fares"
   ]
  },
  {
   "cell_type": "code",
   "execution_count": 30,
   "id": "db971de5",
   "metadata": {},
   "outputs": [
    {
     "data": {
      "image/png": "[encoded data removed]",
      "text/plain": [
       "<Figure size 360x360 with 1 Axes>"
      ]
     },
     "metadata": {
      "needs_background": "light"
     },
     "output_type": "display_data"
    }
   ],
   "source": [
    "#plotting Source and Fare\n",
    "sns.catplot('Source' , 'Fare' , data=df , kind='box')\n",
    "plt.show()"
   ]
  },
  {
   "cell_type": "markdown",
   "id": "c4496b0c",
   "metadata": {},
   "source": [
    "- Source city Banglore has the highest fares following by Mumbai\n",
    "- Delhi , Ahemdabad have comparatively low fares"
   ]
  },
  {
   "cell_type": "code",
   "execution_count": 31,
   "id": "c432de6c",
   "metadata": {},
   "outputs": [
    {
     "data": {
      "image/png": "[encoded data removed]",
      "text/plain": [
       "<Figure size 360x360 with 1 Axes>"
      ]
     },
     "metadata": {
      "needs_background": "light"
     },
     "output_type": "display_data"
    }
   ],
   "source": [
    "#plotting Destination and fare\n",
    "sns.catplot('Destination' , 'Fare' , data=df)\n",
    "plt.show()"
   ]
  },
  {
   "cell_type": "markdown",
   "id": "e5cb1711",
   "metadata": {},
   "source": [
    "- Banglore to Kolkata flight has the highest fare\n",
    "- destination city Banglore , Chennai , Hyderbad have higher flight fares compared to Mumbai"
   ]
  },
  {
   "cell_type": "code",
   "execution_count": 32,
   "id": "d853616a",
   "metadata": {},
   "outputs": [
    {
     "data": {
      "image/png": "[encoded data removed]",
      "text/plain": [
       "<Figure size 432x288 with 1 Axes>"
      ]
     },
     "metadata": {
      "needs_background": "light"
     },
     "output_type": "display_data"
    }
   ],
   "source": [
    "#plotting Stop(s) and Fare\n",
    "sns.barplot('Stop(s)' , 'Fare', data=df)\n",
    "plt.show()"
   ]
  },
  {
   "cell_type": "markdown",
   "id": "f43bcb02",
   "metadata": {},
   "source": [
    "- Stop(s) is highly correlated with the target variable\n",
    "- Flight fares increase with increase in number of stops which means Non stop flights are cheapest, 3 Stop(s) flights are costliest"
   ]
  },
  {
   "cell_type": "code",
   "execution_count": 90,
   "id": "2f2566f1",
   "metadata": {},
   "outputs": [
    {
     "data": {
      "text/plain": [
       "<Figure size 720x360 with 0 Axes>"
      ]
     },
     "metadata": {},
     "output_type": "display_data"
    },
    {
     "data": {
      "image/png": "[encoded data removed]",
      "text/plain": [
       "<Figure size 360x360 with 1 Axes>"
      ]
     },
     "metadata": {
      "needs_background": "light"
     },
     "output_type": "display_data"
    }
   ],
   "source": [
    "#plotting date and Fare\n",
    "plt.figure(figsize=(10,5))\n",
    "sns.catplot('Date' , 'Fare', data=df,kind='violin')\n",
    "plt.show()"
   ]
  },
  {
   "cell_type": "markdown",
   "id": "d5ebc395",
   "metadata": {},
   "source": [
    "- Flighs fare vary with date as well\n",
    "- As I have scraped data for upto 3 days of booking date and a month after booking data\n",
    "- Current flight fares are reasonably higher than flights after a month"
   ]
  },
  {
   "cell_type": "code",
   "execution_count": 93,
   "id": "762add2f",
   "metadata": {},
   "outputs": [
    {
     "data": {
      "image/png": "[encoded data removed]",
      "text/plain": [
       "<Figure size 1080x504 with 1 Axes>"
      ]
     },
     "metadata": {
      "needs_background": "light"
     },
     "output_type": "display_data"
    }
   ],
   "source": [
    "#plotting Dep_hour and Fare\n",
    "plt.figure(figsize=(15,7))\n",
    "sns.barplot('Dep_hour' , 'Fare', data=df)\n",
    "plt.show()"
   ]
  },
  {
   "cell_type": "markdown",
   "id": "3adc5340",
   "metadata": {},
   "source": [
    "- 11 PM to 3 AM flights are cheapest when compared to the flights departing all throughout the day\n",
    "- 11 AM , 6 PM , 9 PM departing flights have the highest fares"
   ]
  },
  {
   "cell_type": "code",
   "execution_count": 94,
   "id": "4418ef36",
   "metadata": {},
   "outputs": [
    {
     "data": {
      "image/png": "[encoded data removed]",
      "text/plain": [
       "<Figure size 1080x504 with 1 Axes>"
      ]
     },
     "metadata": {
      "needs_background": "light"
     },
     "output_type": "display_data"
    }
   ],
   "source": [
    "#plotting Arrival_hour and Fare\n",
    "plt.figure(figsize=(15,7))\n",
    "sns.barplot('Arrival_hour' , 'Fare', data=df)\n",
    "plt.show()"
   ]
  },
  {
   "cell_type": "markdown",
   "id": "a95137d0",
   "metadata": {},
   "source": [
    "- Flights arriving at 9 PM , 4 PM and 7 PM have the highest fares\n",
    "- Flights arriving at 2 AM have the lowest fare"
   ]
  },
  {
   "cell_type": "code",
   "execution_count": 95,
   "id": "ce1f2a80",
   "metadata": {},
   "outputs": [
    {
     "data": {
      "image/png": "[encoded data removed]",
      "text/plain": [
       "<Figure size 432x288 with 1 Axes>"
      ]
     },
     "metadata": {
      "needs_background": "light"
     },
     "output_type": "display_data"
    }
   ],
   "source": [
    "#plotting Duration_new and Fare\n",
    "sns.scatterplot('Duration_New' , 'Fare' , data=df)\n",
    "plt.show()"
   ]
  },
  {
   "cell_type": "markdown",
   "id": "35abdd50",
   "metadata": {},
   "source": [
    "- the data is randomly distributed\n",
    "- though lesser the duration lesser the fare but at very long duration as well fares are low"
   ]
  },
  {
   "cell_type": "markdown",
   "id": "bc41739c",
   "metadata": {},
   "source": [
    "# Data Preprocessing:"
   ]
  },
  {
   "cell_type": "code",
   "execution_count": 33,
   "id": "f72fb45f",
   "metadata": {},
   "outputs": [
    {
     "data": {
      "text/plain": [
       "Index(['Airline', 'Source', 'Departure', 'Destination', 'Arrival', 'Duration',\n",
       "       'Stop(s)', 'Date', 'Fare', 'Dep_hour', 'Dep_min', 'Arrival_hour',\n",
       "       'Arrival_min', 'Duration_New'],\n",
       "      dtype='object')"
      ]
     },
     "execution_count": 33,
     "metadata": {},
     "output_type": "execute_result"
    }
   ],
   "source": [
    "df.columns"
   ]
  },
  {
   "cell_type": "code",
   "execution_count": 60,
   "id": "a4148e56",
   "metadata": {},
   "outputs": [
    {
     "data": {
      "text/plain": [
       "Index(['Airline', 'Source', 'Destination', 'Stop(s)', 'Date', 'Fare',\n",
       "       'Dep_hour', 'Dep_min', 'Arrival_hour', 'Arrival_min', 'Duration_New'],\n",
       "      dtype='object')"
      ]
     },
     "execution_count": 60,
     "metadata": {},
     "output_type": "execute_result"
    }
   ],
   "source": [
    "#dropping Departure , Arrival and Duration from the dataset as they we have already created new variables from them\n",
    "df.drop(['Departure' , 'Arrival' , 'Duration'] , axis=1 , inplace=True)\n",
    "\n",
    "#again checking for columns\n",
    "df.columns"
   ]
  },
  {
   "cell_type": "code",
   "execution_count": 61,
   "id": "aafe2da5",
   "metadata": {},
   "outputs": [
    {
     "data": {
      "text/plain": [
       "Fare            1.233312\n",
       "Dep_hour        0.030561\n",
       "Dep_min        -0.074894\n",
       "Arrival_hour   -0.502056\n",
       "Arrival_min    -0.189063\n",
       "Duration_New    0.819794\n",
       "dtype: float64"
      ]
     },
     "execution_count": 61,
     "metadata": {},
     "output_type": "execute_result"
    }
   ],
   "source": [
    "#checking for skewness\n",
    "\n",
    "df.skew()"
   ]
  },
  {
   "cell_type": "markdown",
   "id": "7ac89779",
   "metadata": {},
   "source": [
    "- I am going to assume the threshold for skewness as +/- 0.50,  only 'Fare' and 'Duration_New' are exceedingthe threshold, so let's transform them and reduce the skewness we are going to use log transformation on Fare which is apparently the target variable."
   ]
  },
  {
   "cell_type": "code",
   "execution_count": 62,
   "id": "233f4bd1",
   "metadata": {
    "scrolled": true
   },
   "outputs": [
    {
     "data": {
      "image/png": "[encoded data removed]",
      "text/plain": [
       "<Figure size 432x288 with 1 Axes>"
      ]
     },
     "metadata": {
      "needs_background": "light"
     },
     "output_type": "display_data"
    }
   ],
   "source": [
    "#we have already plotted distribution plot for Fare, So:\n",
    "sns.distplot(df['Duration_New'])\n",
    "plt.show()"
   ]
  },
  {
   "cell_type": "code",
   "execution_count": 63,
   "id": "31c6a1ab",
   "metadata": {},
   "outputs": [
    {
     "data": {
      "text/plain": [
       "Fare            0.265808\n",
       "Dep_hour        0.030561\n",
       "Dep_min        -0.074894\n",
       "Arrival_hour   -0.502056\n",
       "Arrival_min    -0.189063\n",
       "Duration_New   -0.041226\n",
       "dtype: float64"
      ]
     },
     "execution_count": 63,
     "metadata": {},
     "output_type": "execute_result"
    }
   ],
   "source": [
    "#going to use Cube root transformation on Duration_New\n",
    "\n",
    "df['Fare'] = np.log(df['Fare'])\n",
    "df['Duration_New'] = np.cbrt(df['Duration_New'])\n",
    "\n",
    "#checking for skewness\n",
    "df.skew()"
   ]
  },
  {
   "cell_type": "code",
   "execution_count": 64,
   "id": "f782882d",
   "metadata": {},
   "outputs": [
    {
     "data": {
      "image/png": "[encoded data removed]",
      "text/plain": [
       "<Figure size 432x288 with 1 Axes>"
      ]
     },
     "metadata": {
      "needs_background": "light"
     },
     "output_type": "display_data"
    }
   ],
   "source": [
    "#checking distribution plot\n",
    "sns.distplot(df['Duration_New'])\n",
    "plt.show()"
   ]
  },
  {
   "cell_type": "code",
   "execution_count": 65,
   "id": "4a9eeb9f",
   "metadata": {},
   "outputs": [
    {
     "data": {
      "text/plain": [
       "Airline          object\n",
       "Source           object\n",
       "Destination      object\n",
       "Stop(s)          object\n",
       "Date             object\n",
       "Fare            float64\n",
       "Dep_hour          int64\n",
       "Dep_min           int64\n",
       "Arrival_hour      int64\n",
       "Arrival_min       int64\n",
       "Duration_New    float64\n",
       "dtype: object"
      ]
     },
     "execution_count": 65,
     "metadata": {},
     "output_type": "execute_result"
    }
   ],
   "source": [
    "#checking for datatypes\n",
    "\n",
    "df.dtypes"
   ]
  },
  {
   "cell_type": "code",
   "execution_count": 66,
   "id": "3f34e885",
   "metadata": {},
   "outputs": [],
   "source": [
    "#converting categorical variables into numerical ones using LabelEncoder\n",
    "\n",
    "from sklearn.preprocessing import LabelEncoder\n",
    "\n",
    "cat=[]          #creating a list of categorical variables\n",
    "for i in df.columns:\n",
    "    if df[i].dtypes == 'object':\n",
    "        cat.append(i)\n",
    "\n",
    "for i in cat:\n",
    "    df[i] = LabelEncoder().fit_transform(df[i])"
   ]
  },
  {
   "cell_type": "code",
   "execution_count": 67,
   "id": "ffdf7ef4",
   "metadata": {},
   "outputs": [
    {
     "data": {
      "text/html": [
       "<div>\n",
       "<style scoped>\n",
       "    .dataframe tbody tr th:only-of-type {\n",
       "        vertical-align: middle;\n",
       "    }\n",
       "\n",
       "    .dataframe tbody tr th {\n",
       "        vertical-align: top;\n",
       "    }\n",
       "\n",
       "    .dataframe thead th {\n",
       "        text-align: right;\n",
       "    }\n",
       "</style>\n",
       "<table border=\"1\" class=\"dataframe\">\n",
       "  <thead>\n",
       "    <tr style=\"text-align: right;\">\n",
       "      <th></th>\n",
       "      <th>Airline</th>\n",
       "      <th>Source</th>\n",
       "      <th>Destination</th>\n",
       "      <th>Stop(s)</th>\n",
       "      <th>Date</th>\n",
       "      <th>Fare</th>\n",
       "      <th>Dep_hour</th>\n",
       "      <th>Dep_min</th>\n",
       "      <th>Arrival_hour</th>\n",
       "      <th>Arrival_min</th>\n",
       "      <th>Duration_New</th>\n",
       "    </tr>\n",
       "  </thead>\n",
       "  <tbody>\n",
       "    <tr>\n",
       "      <th>Airline</th>\n",
       "      <td>1.000000</td>\n",
       "      <td>-0.093103</td>\n",
       "      <td>-0.068914</td>\n",
       "      <td>-0.087973</td>\n",
       "      <td>-0.003320</td>\n",
       "      <td>0.276553</td>\n",
       "      <td>0.008125</td>\n",
       "      <td>0.192171</td>\n",
       "      <td>0.127746</td>\n",
       "      <td>0.165989</td>\n",
       "      <td>0.172994</td>\n",
       "    </tr>\n",
       "    <tr>\n",
       "      <th>Source</th>\n",
       "      <td>-0.093103</td>\n",
       "      <td>1.000000</td>\n",
       "      <td>0.359681</td>\n",
       "      <td>0.203145</td>\n",
       "      <td>0.036960</td>\n",
       "      <td>-0.060936</td>\n",
       "      <td>0.036910</td>\n",
       "      <td>-0.063992</td>\n",
       "      <td>-0.076702</td>\n",
       "      <td>-0.026427</td>\n",
       "      <td>-0.169682</td>\n",
       "    </tr>\n",
       "    <tr>\n",
       "      <th>Destination</th>\n",
       "      <td>-0.068914</td>\n",
       "      <td>0.359681</td>\n",
       "      <td>1.000000</td>\n",
       "      <td>0.066777</td>\n",
       "      <td>0.062321</td>\n",
       "      <td>-0.047561</td>\n",
       "      <td>0.026799</td>\n",
       "      <td>0.031305</td>\n",
       "      <td>-0.021375</td>\n",
       "      <td>-0.046526</td>\n",
       "      <td>-0.038522</td>\n",
       "    </tr>\n",
       "    <tr>\n",
       "      <th>Stop(s)</th>\n",
       "      <td>-0.087973</td>\n",
       "      <td>0.203145</td>\n",
       "      <td>0.066777</td>\n",
       "      <td>1.000000</td>\n",
       "      <td>-0.029088</td>\n",
       "      <td>-0.345236</td>\n",
       "      <td>0.055978</td>\n",
       "      <td>-0.010583</td>\n",
       "      <td>-0.036595</td>\n",
       "      <td>-0.107702</td>\n",
       "      <td>-0.617759</td>\n",
       "    </tr>\n",
       "    <tr>\n",
       "      <th>Date</th>\n",
       "      <td>-0.003320</td>\n",
       "      <td>0.036960</td>\n",
       "      <td>0.062321</td>\n",
       "      <td>-0.029088</td>\n",
       "      <td>1.000000</td>\n",
       "      <td>-0.118654</td>\n",
       "      <td>0.180366</td>\n",
       "      <td>0.024963</td>\n",
       "      <td>-0.013199</td>\n",
       "      <td>0.011529</td>\n",
       "      <td>0.056198</td>\n",
       "    </tr>\n",
       "    <tr>\n",
       "      <th>Fare</th>\n",
       "      <td>0.276553</td>\n",
       "      <td>-0.060936</td>\n",
       "      <td>-0.047561</td>\n",
       "      <td>-0.345236</td>\n",
       "      <td>-0.118654</td>\n",
       "      <td>1.000000</td>\n",
       "      <td>0.083946</td>\n",
       "      <td>0.112840</td>\n",
       "      <td>0.081373</td>\n",
       "      <td>0.149455</td>\n",
       "      <td>0.583907</td>\n",
       "    </tr>\n",
       "    <tr>\n",
       "      <th>Dep_hour</th>\n",
       "      <td>0.008125</td>\n",
       "      <td>0.036910</td>\n",
       "      <td>0.026799</td>\n",
       "      <td>0.055978</td>\n",
       "      <td>0.180366</td>\n",
       "      <td>0.083946</td>\n",
       "      <td>1.000000</td>\n",
       "      <td>0.077602</td>\n",
       "      <td>-0.044393</td>\n",
       "      <td>0.061266</td>\n",
       "      <td>0.075545</td>\n",
       "    </tr>\n",
       "    <tr>\n",
       "      <th>Dep_min</th>\n",
       "      <td>0.192171</td>\n",
       "      <td>-0.063992</td>\n",
       "      <td>0.031305</td>\n",
       "      <td>-0.010583</td>\n",
       "      <td>0.024963</td>\n",
       "      <td>0.112840</td>\n",
       "      <td>0.077602</td>\n",
       "      <td>1.000000</td>\n",
       "      <td>0.018533</td>\n",
       "      <td>0.081514</td>\n",
       "      <td>0.073778</td>\n",
       "    </tr>\n",
       "    <tr>\n",
       "      <th>Arrival_hour</th>\n",
       "      <td>0.127746</td>\n",
       "      <td>-0.076702</td>\n",
       "      <td>-0.021375</td>\n",
       "      <td>-0.036595</td>\n",
       "      <td>-0.013199</td>\n",
       "      <td>0.081373</td>\n",
       "      <td>-0.044393</td>\n",
       "      <td>0.018533</td>\n",
       "      <td>1.000000</td>\n",
       "      <td>0.000882</td>\n",
       "      <td>0.014623</td>\n",
       "    </tr>\n",
       "    <tr>\n",
       "      <th>Arrival_min</th>\n",
       "      <td>0.165989</td>\n",
       "      <td>-0.026427</td>\n",
       "      <td>-0.046526</td>\n",
       "      <td>-0.107702</td>\n",
       "      <td>0.011529</td>\n",
       "      <td>0.149455</td>\n",
       "      <td>0.061266</td>\n",
       "      <td>0.081514</td>\n",
       "      <td>0.000882</td>\n",
       "      <td>1.000000</td>\n",
       "      <td>0.184921</td>\n",
       "    </tr>\n",
       "    <tr>\n",
       "      <th>Duration_New</th>\n",
       "      <td>0.172994</td>\n",
       "      <td>-0.169682</td>\n",
       "      <td>-0.038522</td>\n",
       "      <td>-0.617759</td>\n",
       "      <td>0.056198</td>\n",
       "      <td>0.583907</td>\n",
       "      <td>0.075545</td>\n",
       "      <td>0.073778</td>\n",
       "      <td>0.014623</td>\n",
       "      <td>0.184921</td>\n",
       "      <td>1.000000</td>\n",
       "    </tr>\n",
       "  </tbody>\n",
       "</table>\n",
       "</div>"
      ],
      "text/plain": [
       "               Airline    Source  Destination   Stop(s)      Date      Fare  \\\n",
       "Airline       1.000000 -0.093103    -0.068914 -0.087973 -0.003320  0.276553   \n",
       "Source       -0.093103  1.000000     0.359681  0.203145  0.036960 -0.060936   \n",
       "Destination  -0.068914  0.359681     1.000000  0.066777  0.062321 -0.047561   \n",
       "Stop(s)      -0.087973  0.203145     0.066777  1.000000 -0.029088 -0.345236   \n",
       "Date         -0.003320  0.036960     0.062321 -0.029088  1.000000 -0.118654   \n",
       "Fare          0.276553 -0.060936    -0.047561 -0.345236 -0.118654  1.000000   \n",
       "Dep_hour      0.008125  0.036910     0.026799  0.055978  0.180366  0.083946   \n",
       "Dep_min       0.192171 -0.063992     0.031305 -0.010583  0.024963  0.112840   \n",
       "Arrival_hour  0.127746 -0.076702    -0.021375 -0.036595 -0.013199  0.081373   \n",
       "Arrival_min   0.165989 -0.026427    -0.046526 -0.107702  0.011529  0.149455   \n",
       "Duration_New  0.172994 -0.169682    -0.038522 -0.617759  0.056198  0.583907   \n",
       "\n",
       "              Dep_hour   Dep_min  Arrival_hour  Arrival_min  Duration_New  \n",
       "Airline       0.008125  0.192171      0.127746     0.165989      0.172994  \n",
       "Source        0.036910 -0.063992     -0.076702    -0.026427     -0.169682  \n",
       "Destination   0.026799  0.031305     -0.021375    -0.046526     -0.038522  \n",
       "Stop(s)       0.055978 -0.010583     -0.036595    -0.107702     -0.617759  \n",
       "Date          0.180366  0.024963     -0.013199     0.011529      0.056198  \n",
       "Fare          0.083946  0.112840      0.081373     0.149455      0.583907  \n",
       "Dep_hour      1.000000  0.077602     -0.044393     0.061266      0.075545  \n",
       "Dep_min       0.077602  1.000000      0.018533     0.081514      0.073778  \n",
       "Arrival_hour -0.044393  0.018533      1.000000     0.000882      0.014623  \n",
       "Arrival_min   0.061266  0.081514      0.000882     1.000000      0.184921  \n",
       "Duration_New  0.075545  0.073778      0.014623     0.184921      1.000000  "
      ]
     },
     "execution_count": 67,
     "metadata": {},
     "output_type": "execute_result"
    }
   ],
   "source": [
    "#checking out correlation matrix \n",
    "\n",
    "df.corr()"
   ]
  },
  {
   "cell_type": "code",
   "execution_count": 68,
   "id": "07e8136b",
   "metadata": {},
   "outputs": [
    {
     "data": {
      "text/plain": [
       "Stop(s)        -0.345236\n",
       "Date           -0.118654\n",
       "Source         -0.060936\n",
       "Destination    -0.047561\n",
       "Arrival_hour    0.081373\n",
       "Dep_hour        0.083946\n",
       "Dep_min         0.112840\n",
       "Arrival_min     0.149455\n",
       "Airline         0.276553\n",
       "Duration_New    0.583907\n",
       "Fare            1.000000\n",
       "Name: Fare, dtype: float64"
      ]
     },
     "execution_count": 68,
     "metadata": {},
     "output_type": "execute_result"
    }
   ],
   "source": [
    "#checking correlation with target variable of input variables\n",
    "\n",
    "df.corr()['Fare'].sort_values()"
   ]
  },
  {
   "cell_type": "markdown",
   "id": "2e72895b",
   "metadata": {},
   "source": [
    "- Duration_New , Airline , Stop(s) have a good correlation bond with the target variable\n",
    "- Source , Destination , Arrival_hour , Dep_hour have a weak correlation with the target variable fare"
   ]
  },
  {
   "cell_type": "code",
   "execution_count": 44,
   "id": "842f6d14",
   "metadata": {},
   "outputs": [
    {
     "data": {
      "image/png": "[encoded data removed]",
      "text/plain": [
       "<Figure size 720x360 with 2 Axes>"
      ]
     },
     "metadata": {
      "needs_background": "light"
     },
     "output_type": "display_data"
    }
   ],
   "source": [
    "#plotting a heatmap\n",
    "\n",
    "plt.figure(figsize=(10,5))\n",
    "sns.heatmap(df.corr(),annot=True,fmt='.2%',cmap='PiYG_r')\n",
    "plt.show()"
   ]
  },
  {
   "cell_type": "code",
   "execution_count": 69,
   "id": "d8cdb080",
   "metadata": {},
   "outputs": [
    {
     "data": {
      "image/png": "[encoded data removed]",
      "text/plain": [
       "<Figure size 432x288 with 1 Axes>"
      ]
     },
     "metadata": {
      "needs_background": "light"
     },
     "output_type": "display_data"
    }
   ],
   "source": [
    "#now checking for outliers\n",
    "\n",
    "sns.boxplot(df['Fare'])\n",
    "plt.show()"
   ]
  },
  {
   "cell_type": "code",
   "execution_count": 70,
   "id": "71a10e78",
   "metadata": {},
   "outputs": [
    {
     "data": {
      "image/png": "[encoded data removed]",
      "text/plain": [
       "<Figure size 432x288 with 1 Axes>"
      ]
     },
     "metadata": {
      "needs_background": "light"
     },
     "output_type": "display_data"
    }
   ],
   "source": [
    "sns.boxplot(df['Duration_New'])\n",
    "plt.show()"
   ]
  },
  {
   "cell_type": "code",
   "execution_count": 71,
   "id": "be96c76c",
   "metadata": {},
   "outputs": [
    {
     "data": {
      "text/plain": [
       "(array([], dtype=int64), array([], dtype=int64))"
      ]
     },
     "execution_count": 71,
     "metadata": {},
     "output_type": "execute_result"
    }
   ],
   "source": [
    "#lets check outliers using zscore\n",
    "\n",
    "from scipy.stats import zscore\n",
    "\n",
    "z=np.abs(zscore(df))\n",
    "\n",
    "np.where(z>3)"
   ]
  },
  {
   "cell_type": "markdown",
   "id": "6348f38f",
   "metadata": {},
   "source": [
    "# Feature Selection:"
   ]
  },
  {
   "cell_type": "code",
   "execution_count": 132,
   "id": "f366af1c",
   "metadata": {},
   "outputs": [
    {
     "name": "stdout",
     "output_type": "stream",
     "text": [
      "x: (3429, 10)\n",
      "y: (3429,)\n"
     ]
    }
   ],
   "source": [
    "x = df.drop('Fare',axis=1)\n",
    "y = df['Fare']\n",
    "\n",
    "print('x:',x.shape)\n",
    "print('y:',y.shape)"
   ]
  },
  {
   "cell_type": "code",
   "execution_count": 73,
   "id": "1381d55b",
   "metadata": {},
   "outputs": [
    {
     "data": {
      "text/html": [
       "<div>\n",
       "<style scoped>\n",
       "    .dataframe tbody tr th:only-of-type {\n",
       "        vertical-align: middle;\n",
       "    }\n",
       "\n",
       "    .dataframe tbody tr th {\n",
       "        vertical-align: top;\n",
       "    }\n",
       "\n",
       "    .dataframe thead th {\n",
       "        text-align: right;\n",
       "    }\n",
       "</style>\n",
       "<table border=\"1\" class=\"dataframe\">\n",
       "  <thead>\n",
       "    <tr style=\"text-align: right;\">\n",
       "      <th></th>\n",
       "      <th>Airline</th>\n",
       "      <th>Source</th>\n",
       "      <th>Destination</th>\n",
       "      <th>Stop(s)</th>\n",
       "      <th>Date</th>\n",
       "      <th>Dep_hour</th>\n",
       "      <th>Dep_min</th>\n",
       "      <th>Arrival_hour</th>\n",
       "      <th>Arrival_min</th>\n",
       "      <th>Duration_New</th>\n",
       "    </tr>\n",
       "  </thead>\n",
       "  <tbody>\n",
       "    <tr>\n",
       "      <th>0</th>\n",
       "      <td>1</td>\n",
       "      <td>3</td>\n",
       "      <td>4</td>\n",
       "      <td>3</td>\n",
       "      <td>5</td>\n",
       "      <td>20</td>\n",
       "      <td>0</td>\n",
       "      <td>22</td>\n",
       "      <td>10</td>\n",
       "      <td>5.065797</td>\n",
       "    </tr>\n",
       "    <tr>\n",
       "      <th>1</th>\n",
       "      <td>1</td>\n",
       "      <td>3</td>\n",
       "      <td>4</td>\n",
       "      <td>3</td>\n",
       "      <td>5</td>\n",
       "      <td>19</td>\n",
       "      <td>0</td>\n",
       "      <td>21</td>\n",
       "      <td>15</td>\n",
       "      <td>5.129928</td>\n",
       "    </tr>\n",
       "    <tr>\n",
       "      <th>2</th>\n",
       "      <td>1</td>\n",
       "      <td>3</td>\n",
       "      <td>4</td>\n",
       "      <td>3</td>\n",
       "      <td>5</td>\n",
       "      <td>21</td>\n",
       "      <td>15</td>\n",
       "      <td>23</td>\n",
       "      <td>35</td>\n",
       "      <td>5.192494</td>\n",
       "    </tr>\n",
       "    <tr>\n",
       "      <th>3</th>\n",
       "      <td>1</td>\n",
       "      <td>3</td>\n",
       "      <td>4</td>\n",
       "      <td>0</td>\n",
       "      <td>5</td>\n",
       "      <td>17</td>\n",
       "      <td>55</td>\n",
       "      <td>22</td>\n",
       "      <td>10</td>\n",
       "      <td>6.341326</td>\n",
       "    </tr>\n",
       "    <tr>\n",
       "      <th>4</th>\n",
       "      <td>5</td>\n",
       "      <td>3</td>\n",
       "      <td>4</td>\n",
       "      <td>3</td>\n",
       "      <td>5</td>\n",
       "      <td>15</td>\n",
       "      <td>30</td>\n",
       "      <td>17</td>\n",
       "      <td>40</td>\n",
       "      <td>5.065797</td>\n",
       "    </tr>\n",
       "    <tr>\n",
       "      <th>...</th>\n",
       "      <td>...</td>\n",
       "      <td>...</td>\n",
       "      <td>...</td>\n",
       "      <td>...</td>\n",
       "      <td>...</td>\n",
       "      <td>...</td>\n",
       "      <td>...</td>\n",
       "      <td>...</td>\n",
       "      <td>...</td>\n",
       "      <td>...</td>\n",
       "    </tr>\n",
       "    <tr>\n",
       "      <th>3501</th>\n",
       "      <td>1</td>\n",
       "      <td>0</td>\n",
       "      <td>2</td>\n",
       "      <td>1</td>\n",
       "      <td>4</td>\n",
       "      <td>21</td>\n",
       "      <td>30</td>\n",
       "      <td>12</td>\n",
       "      <td>30</td>\n",
       "      <td>9.654894</td>\n",
       "    </tr>\n",
       "    <tr>\n",
       "      <th>3502</th>\n",
       "      <td>5</td>\n",
       "      <td>0</td>\n",
       "      <td>2</td>\n",
       "      <td>1</td>\n",
       "      <td>4</td>\n",
       "      <td>8</td>\n",
       "      <td>30</td>\n",
       "      <td>20</td>\n",
       "      <td>55</td>\n",
       "      <td>9.065368</td>\n",
       "    </tr>\n",
       "    <tr>\n",
       "      <th>3506</th>\n",
       "      <td>1</td>\n",
       "      <td>0</td>\n",
       "      <td>2</td>\n",
       "      <td>1</td>\n",
       "      <td>4</td>\n",
       "      <td>7</td>\n",
       "      <td>30</td>\n",
       "      <td>21</td>\n",
       "      <td>40</td>\n",
       "      <td>9.472682</td>\n",
       "    </tr>\n",
       "    <tr>\n",
       "      <th>3507</th>\n",
       "      <td>1</td>\n",
       "      <td>0</td>\n",
       "      <td>2</td>\n",
       "      <td>1</td>\n",
       "      <td>4</td>\n",
       "      <td>7</td>\n",
       "      <td>30</td>\n",
       "      <td>21</td>\n",
       "      <td>15</td>\n",
       "      <td>9.378887</td>\n",
       "    </tr>\n",
       "    <tr>\n",
       "      <th>3508</th>\n",
       "      <td>1</td>\n",
       "      <td>0</td>\n",
       "      <td>2</td>\n",
       "      <td>2</td>\n",
       "      <td>4</td>\n",
       "      <td>7</td>\n",
       "      <td>30</td>\n",
       "      <td>21</td>\n",
       "      <td>40</td>\n",
       "      <td>9.472682</td>\n",
       "    </tr>\n",
       "  </tbody>\n",
       "</table>\n",
       "<p>3429 rows × 10 columns</p>\n",
       "</div>"
      ],
      "text/plain": [
       "      Airline  Source  Destination  Stop(s)  Date  Dep_hour  Dep_min  \\\n",
       "0           1       3            4        3     5        20        0   \n",
       "1           1       3            4        3     5        19        0   \n",
       "2           1       3            4        3     5        21       15   \n",
       "3           1       3            4        0     5        17       55   \n",
       "4           5       3            4        3     5        15       30   \n",
       "...       ...     ...          ...      ...   ...       ...      ...   \n",
       "3501        1       0            2        1     4        21       30   \n",
       "3502        5       0            2        1     4         8       30   \n",
       "3506        1       0            2        1     4         7       30   \n",
       "3507        1       0            2        1     4         7       30   \n",
       "3508        1       0            2        2     4         7       30   \n",
       "\n",
       "      Arrival_hour  Arrival_min  Duration_New  \n",
       "0               22           10      5.065797  \n",
       "1               21           15      5.129928  \n",
       "2               23           35      5.192494  \n",
       "3               22           10      6.341326  \n",
       "4               17           40      5.065797  \n",
       "...            ...          ...           ...  \n",
       "3501            12           30      9.654894  \n",
       "3502            20           55      9.065368  \n",
       "3506            21           40      9.472682  \n",
       "3507            21           15      9.378887  \n",
       "3508            21           40      9.472682  \n",
       "\n",
       "[3429 rows x 10 columns]"
      ]
     },
     "execution_count": 73,
     "metadata": {},
     "output_type": "execute_result"
    }
   ],
   "source": [
    "x"
   ]
  },
  {
   "cell_type": "code",
   "execution_count": 133,
   "id": "25e9a04c",
   "metadata": {},
   "outputs": [],
   "source": [
    "from sklearn.preprocessing import StandardScaler        #scaling the data\n",
    "\n",
    "x_sca = StandardScaler().fit_transform(x)"
   ]
  },
  {
   "cell_type": "code",
   "execution_count": null,
   "id": "f3a0e20d",
   "metadata": {},
   "outputs": [],
   "source": []
  },
  {
   "cell_type": "markdown",
   "id": "7973200c",
   "metadata": {},
   "source": [
    "# Building Models:"
   ]
  },
  {
   "cell_type": "markdown",
   "id": "4211c85d",
   "metadata": {},
   "source": [
    "1. Linear Regression"
   ]
  },
  {
   "cell_type": "code",
   "execution_count": 75,
   "id": "fdec9846",
   "metadata": {},
   "outputs": [
    {
     "name": "stdout",
     "output_type": "stream",
     "text": [
      "At random state 7 the model performs very well\n",
      "At random state 7 :\n",
      "Training accuracy score is 40.650034158977974\n",
      "Testing accuracy score is 41.066114897542406 \n",
      "\n",
      "At random state 21 the model performs very well\n",
      "At random state 21 :\n",
      "Training accuracy score is 40.71902398925006\n",
      "Testing accuracy score is 40.81106953335396 \n",
      "\n",
      "At random state 22 the model performs very well\n",
      "At random state 22 :\n",
      "Training accuracy score is 40.75470244131534\n",
      "Testing accuracy score is 40.70957855966325 \n",
      "\n",
      "At random state 24 the model performs very well\n",
      "At random state 24 :\n",
      "Training accuracy score is 40.80172708243126\n",
      "Testing accuracy score is 40.78063218889404 \n",
      "\n",
      "At random state 28 the model performs very well\n",
      "At random state 28 :\n",
      "Training accuracy score is 40.81294418557645\n",
      "Testing accuracy score is 40.55188161089674 \n",
      "\n",
      "At random state 35 the model performs very well\n",
      "At random state 35 :\n",
      "Training accuracy score is 40.51935216073367\n",
      "Testing accuracy score is 41.2058774115069 \n",
      "\n",
      "At random state 61 the model performs very well\n",
      "At random state 61 :\n",
      "Training accuracy score is 40.575567316012915\n",
      "Testing accuracy score is 41.06444847545089 \n",
      "\n",
      "At random state 65 the model performs very well\n",
      "At random state 65 :\n",
      "Training accuracy score is 40.828428848857556\n",
      "Testing accuracy score is 40.592245229822396 \n",
      "\n",
      "At random state 67 the model performs very well\n",
      "At random state 67 :\n",
      "Training accuracy score is 40.68116777152555\n",
      "Testing accuracy score is 40.73511571991274 \n",
      "\n",
      "At random state 76 the model performs very well\n",
      "At random state 76 :\n",
      "Training accuracy score is 40.760081243760105\n",
      "Testing accuracy score is 40.724412499589235 \n",
      "\n",
      "At random state 81 the model performs very well\n",
      "At random state 81 :\n",
      "Training accuracy score is 40.56679979873241\n",
      "Testing accuracy score is 41.017196346292074 \n",
      "\n",
      "At random state 82 the model performs very well\n",
      "At random state 82 :\n",
      "Training accuracy score is 40.55971124822023\n",
      "Testing accuracy score is 41.16871454742014 \n",
      "\n",
      "At random state 98 the model performs very well\n",
      "At random state 98 :\n",
      "Training accuracy score is 40.8446864258019\n",
      "Testing accuracy score is 40.59995823288162 \n",
      "\n"
     ]
    }
   ],
   "source": [
    "lr=LinearRegression()\n",
    "\n",
    "#checking best random state\n",
    "\n",
    "for i in range(0,100):\n",
    "    x_train,x_test,y_train,y_test=train_test_split(x_sca,y,random_state=i,test_size=.33)\n",
    "    lr.fit(x_train,y_train)\n",
    "    predtrain=lr.predict(x_train)\n",
    "    predlr=lr.predict(x_test)\n",
    "    if round(r2_score(y_test,predlr)*100)==round(r2_score(y_train,predtrain)*100):\n",
    "        print('At random state',i,'the model performs very well')\n",
    "        print('At random state',i,':')\n",
    "        print('Training accuracy score is',r2_score(y_train,predtrain)*100)\n",
    "        print('Testing accuracy score is',r2_score(y_test,predlr)*100,'\\n')"
   ]
  },
  {
   "cell_type": "code",
   "execution_count": 76,
   "id": "342bdfa6",
   "metadata": {},
   "outputs": [],
   "source": [
    "x_train,x_test,y_train,y_test=train_test_split(x_sca,y,random_state=76,test_size=.33)\n",
    "lr.fit(x_train,y_train)\n",
    "predtrain=lr.predict(x_train)\n",
    "predlr=lr.predict(x_test)"
   ]
  },
  {
   "cell_type": "code",
   "execution_count": 77,
   "id": "e773b592",
   "metadata": {},
   "outputs": [
    {
     "name": "stdout",
     "output_type": "stream",
     "text": [
      "0.14392757018797595\n",
      "0.30584083904510295\n"
     ]
    }
   ],
   "source": [
    "#checking error for LinearRegression\n",
    "\n",
    "mselr=mean_squared_error(y_test,predlr)\n",
    "maelr=mean_absolute_error(y_test,predlr)\n",
    "print(mselr)\n",
    "print(maelr)"
   ]
  },
  {
   "cell_type": "markdown",
   "id": "2f26ebb9",
   "metadata": {},
   "source": [
    "2. Regularization\n",
    "- Lasso \n",
    "- Ridge"
   ]
  },
  {
   "cell_type": "code",
   "execution_count": 78,
   "id": "d6d4c9da",
   "metadata": {},
   "outputs": [
    {
     "data": {
      "text/plain": [
       "0.4074290536490781"
      ]
     },
     "execution_count": 78,
     "metadata": {},
     "output_type": "execute_result"
    }
   ],
   "source": [
    "#Lasso\n",
    "\n",
    "x_train,x_test,y_train,y_test=train_test_split(x_sca,y,random_state=76,test_size=.33)\n",
    "ls=Lasso(alpha=0.01)\n",
    "ls.fit(x_train,y_train)\n",
    "predtrain=ls.predict(x_train)\n",
    "predls=ls.predict(x_test)\n",
    "r2_score(y_test,predls)"
   ]
  },
  {
   "cell_type": "code",
   "execution_count": 79,
   "id": "0357a054",
   "metadata": {},
   "outputs": [
    {
     "name": "stdout",
     "output_type": "stream",
     "text": [
      "0.14388266750065803\n",
      "0.30670033442935274\n"
     ]
    }
   ],
   "source": [
    "#checking error for Lasso \n",
    "\n",
    "msels=mean_squared_error(y_test,predls)\n",
    "maels=mean_absolute_error(y_test,predls)\n",
    "print(msels)\n",
    "print(maels)"
   ]
  },
  {
   "cell_type": "code",
   "execution_count": 80,
   "id": "cbae4af6",
   "metadata": {},
   "outputs": [
    {
     "name": "stdout",
     "output_type": "stream",
     "text": [
      "40.72440764601952\n"
     ]
    }
   ],
   "source": [
    "#Ridge\n",
    "\n",
    "lrr=Ridge(alpha=0.01)\n",
    "x_train,x_test,y_train,y_test=train_test_split(x_sca,y,random_state=76,test_size=.33)\n",
    "lrr.fit(x_train,y_train)\n",
    "predlrr=lrr.predict(x_test)\n",
    "print(r2_score(y_test,predlrr)*100)"
   ]
  },
  {
   "cell_type": "code",
   "execution_count": 81,
   "id": "a810a953",
   "metadata": {},
   "outputs": [
    {
     "name": "stdout",
     "output_type": "stream",
     "text": [
      "0.14392758197297084\n",
      "0.30584097061634213\n"
     ]
    }
   ],
   "source": [
    "#checking error for Ridge\n",
    "\n",
    "mselrr=mean_squared_error(y_test,predlrr)\n",
    "maelrr=mean_absolute_error(y_test,predlrr)\n",
    "print(mselrr)\n",
    "print(maelrr)"
   ]
  },
  {
   "cell_type": "markdown",
   "id": "f978a91b",
   "metadata": {},
   "source": [
    "3. KNeighbors"
   ]
  },
  {
   "cell_type": "code",
   "execution_count": 82,
   "id": "fea574e9",
   "metadata": {},
   "outputs": [
    {
     "name": "stdout",
     "output_type": "stream",
     "text": [
      "52.323163888409354\n"
     ]
    }
   ],
   "source": [
    "#KNeighbors\n",
    "\n",
    "knn=KNeighborsRegressor(n_neighbors=3)\n",
    "x_train,x_test,y_train,y_test=train_test_split(x_sca,y,random_state=76,test_size=.33)\n",
    "knn.fit(x_train,y_train)\n",
    "predknn=knn.predict(x_test)\n",
    "print(r2_score(y_test,predknn)*100)"
   ]
  },
  {
   "cell_type": "code",
   "execution_count": 83,
   "id": "3b53a91c",
   "metadata": {},
   "outputs": [
    {
     "name": "stdout",
     "output_type": "stream",
     "text": [
      "0.11576454093759994\n",
      "0.24894754791972684\n"
     ]
    }
   ],
   "source": [
    "#checking error for KNeighbors\n",
    "\n",
    "mseknn=mean_squared_error(y_test,predknn)\n",
    "maeknn=mean_absolute_error(y_test,predknn)\n",
    "print(mseknn)\n",
    "print(maeknn)"
   ]
  },
  {
   "cell_type": "markdown",
   "id": "1a16b2b9",
   "metadata": {},
   "source": [
    "4. DecisionTree"
   ]
  },
  {
   "cell_type": "code",
   "execution_count": 84,
   "id": "735688ff",
   "metadata": {},
   "outputs": [
    {
     "name": "stdout",
     "output_type": "stream",
     "text": [
      "78.95021196739968\n"
     ]
    }
   ],
   "source": [
    "#DecisionTree\n",
    "\n",
    "dtc=DecisionTreeRegressor()\n",
    "x_train,x_test,y_train,y_test=train_test_split(x_sca,y,random_state=76,test_size=.33)\n",
    "dtc.fit(x_train,y_train)\n",
    "preddtc=dtc.predict(x_test)\n",
    "print(r2_score(y_test,preddtc)*100)"
   ]
  },
  {
   "cell_type": "code",
   "execution_count": 85,
   "id": "489b89af",
   "metadata": {},
   "outputs": [
    {
     "name": "stdout",
     "output_type": "stream",
     "text": [
      "0.051111173625788237\n",
      "0.12949816560415395\n"
     ]
    }
   ],
   "source": [
    "#checking error for DecisionTree\n",
    "\n",
    "msedtc=mean_squared_error(y_test,preddtc)\n",
    "maedtc=mean_absolute_error(y_test,preddtc)\n",
    "print(msedtc)\n",
    "print(maedtc)"
   ]
  },
  {
   "cell_type": "markdown",
   "id": "9ee4375f",
   "metadata": {},
   "source": [
    "5. Ensemble:\n",
    "- AdaBoost\n",
    "- GradientBoosting\n",
    "- RandomForest"
   ]
  },
  {
   "cell_type": "code",
   "execution_count": 86,
   "id": "b0fcd815",
   "metadata": {},
   "outputs": [
    {
     "name": "stdout",
     "output_type": "stream",
     "text": [
      "68.76404848379421\n"
     ]
    }
   ],
   "source": [
    "#AdaBoost\n",
    "\n",
    "ada=AdaBoostRegressor()\n",
    "x_train,x_test,y_train,y_test=train_test_split(x_sca,y,random_state=76,test_size=.33)\n",
    "ada.fit(x_train,y_train)\n",
    "predada=ada.predict(x_test)\n",
    "print(r2_score(y_test,predada)*100)"
   ]
  },
  {
   "cell_type": "code",
   "execution_count": 87,
   "id": "a0aaf8b5",
   "metadata": {},
   "outputs": [
    {
     "name": "stdout",
     "output_type": "stream",
     "text": [
      "0.07584428588254427\n",
      "0.228748916195758\n"
     ]
    }
   ],
   "source": [
    "#checking error for AdaBoost\n",
    "\n",
    "mseada=mean_squared_error(y_test,predada)\n",
    "maeada=mean_absolute_error(y_test,predada)\n",
    "print(mseada)\n",
    "print(maeada)"
   ]
  },
  {
   "cell_type": "code",
   "execution_count": 88,
   "id": "72356508",
   "metadata": {},
   "outputs": [
    {
     "name": "stdout",
     "output_type": "stream",
     "text": [
      "84.14544411232707\n"
     ]
    }
   ],
   "source": [
    "#Gradient Boosting\n",
    "\n",
    "gb=GradientBoostingRegressor()\n",
    "x_train,x_test,y_train,y_test=train_test_split(x_sca,y,random_state=76,test_size=.33)\n",
    "gb.fit(x_train,y_train)\n",
    "predgb=gb.predict(x_test)\n",
    "print(r2_score(y_test,predgb)*100)"
   ]
  },
  {
   "cell_type": "code",
   "execution_count": 89,
   "id": "6467f980",
   "metadata": {},
   "outputs": [
    {
     "name": "stdout",
     "output_type": "stream",
     "text": [
      "0.0384965852140465\n",
      "0.14713602379185414\n"
     ]
    }
   ],
   "source": [
    "#checking error for GradientBoosting\n",
    "\n",
    "msegb=mean_squared_error(y_test,predgb)\n",
    "maegb=mean_absolute_error(y_test,predgb)\n",
    "print(msegb)\n",
    "print(maegb)"
   ]
  },
  {
   "cell_type": "code",
   "execution_count": 90,
   "id": "2255d2eb",
   "metadata": {},
   "outputs": [
    {
     "name": "stdout",
     "output_type": "stream",
     "text": [
      "87.34400865674255\n"
     ]
    }
   ],
   "source": [
    "#RandomForest\n",
    "\n",
    "rf=RandomForestRegressor()\n",
    "x_train,x_test,y_train,y_test=train_test_split(x_sca,y,random_state=76,test_size=.33)\n",
    "rf.fit(x_train,y_train)\n",
    "predrf=rf.predict(x_test)\n",
    "print(r2_score(y_test,predrf)*100)"
   ]
  },
  {
   "cell_type": "code",
   "execution_count": 91,
   "id": "b4c64542",
   "metadata": {},
   "outputs": [
    {
     "name": "stdout",
     "output_type": "stream",
     "text": [
      "0.030730122790305216\n",
      "0.11362084158955496\n"
     ]
    }
   ],
   "source": [
    "#checking error for RandomForest\n",
    "\n",
    "mserf=mean_squared_error(y_test,predrf)\n",
    "maerf=mean_absolute_error(y_test,predrf)\n",
    "print(mserf)\n",
    "print(maerf)"
   ]
  },
  {
   "cell_type": "markdown",
   "id": "59c969e1",
   "metadata": {},
   "source": [
    "6. XGBoost"
   ]
  },
  {
   "cell_type": "code",
   "execution_count": 92,
   "id": "f4adbf43",
   "metadata": {},
   "outputs": [
    {
     "name": "stdout",
     "output_type": "stream",
     "text": [
      "88.84357686644684\n"
     ]
    }
   ],
   "source": [
    "#XGBoost\n",
    "\n",
    "xgb=XGBRegressor()\n",
    "x_train,x_test,y_train,y_test=train_test_split(x_sca,y,random_state=76,test_size=.33)\n",
    "xgb.fit(x_train,y_train)\n",
    "predxgb=xgb.predict(x_test)\n",
    "print(r2_score(y_test,predxgb)*100)"
   ]
  },
  {
   "cell_type": "code",
   "execution_count": 93,
   "id": "c205e05f",
   "metadata": {},
   "outputs": [
    {
     "name": "stdout",
     "output_type": "stream",
     "text": [
      "0.02708900816192001\n",
      "0.11162526108661801\n"
     ]
    }
   ],
   "source": [
    "#checking error for XGB\n",
    "\n",
    "msexgb=mean_squared_error(y_test,predxgb)\n",
    "maexgb=mean_absolute_error(y_test,predxgb)\n",
    "print(msexgb)\n",
    "print(maexgb)"
   ]
  },
  {
   "cell_type": "code",
   "execution_count": null,
   "id": "992c06f8",
   "metadata": {},
   "outputs": [],
   "source": []
  },
  {
   "cell_type": "markdown",
   "id": "5248b053",
   "metadata": {},
   "source": [
    "# Best Model?"
   ]
  },
  {
   "cell_type": "code",
   "execution_count": 130,
   "id": "4e8d00e9",
   "metadata": {},
   "outputs": [
    {
     "data": {
      "text/html": [
       "<div>\n",
       "<style scoped>\n",
       "    .dataframe tbody tr th:only-of-type {\n",
       "        vertical-align: middle;\n",
       "    }\n",
       "\n",
       "    .dataframe tbody tr th {\n",
       "        vertical-align: top;\n",
       "    }\n",
       "\n",
       "    .dataframe thead th {\n",
       "        text-align: right;\n",
       "    }\n",
       "</style>\n",
       "<table border=\"1\" class=\"dataframe\">\n",
       "  <thead>\n",
       "    <tr style=\"text-align: right;\">\n",
       "      <th></th>\n",
       "      <th>Mean Squared Error</th>\n",
       "      <th>Mean Absolute Error</th>\n",
       "      <th>Accuracy Score</th>\n",
       "    </tr>\n",
       "  </thead>\n",
       "  <tbody>\n",
       "    <tr>\n",
       "      <th>XGBRegressor</th>\n",
       "      <td>0.027089</td>\n",
       "      <td>0.111625</td>\n",
       "      <td>0.888436</td>\n",
       "    </tr>\n",
       "    <tr>\n",
       "      <th>RandomForestRegressor</th>\n",
       "      <td>0.030730</td>\n",
       "      <td>0.113621</td>\n",
       "      <td>0.873440</td>\n",
       "    </tr>\n",
       "    <tr>\n",
       "      <th>GradientBoostingRegressor</th>\n",
       "      <td>0.038497</td>\n",
       "      <td>0.147136</td>\n",
       "      <td>0.841454</td>\n",
       "    </tr>\n",
       "    <tr>\n",
       "      <th>DecisionTreeRegressor</th>\n",
       "      <td>0.051111</td>\n",
       "      <td>0.129498</td>\n",
       "      <td>0.789502</td>\n",
       "    </tr>\n",
       "    <tr>\n",
       "      <th>AdaBoostRegressor</th>\n",
       "      <td>0.075844</td>\n",
       "      <td>0.228749</td>\n",
       "      <td>0.687640</td>\n",
       "    </tr>\n",
       "    <tr>\n",
       "      <th>KNeighborsRegressor</th>\n",
       "      <td>0.115765</td>\n",
       "      <td>0.248948</td>\n",
       "      <td>0.523232</td>\n",
       "    </tr>\n",
       "    <tr>\n",
       "      <th>Lasso</th>\n",
       "      <td>0.143883</td>\n",
       "      <td>0.306700</td>\n",
       "      <td>0.407429</td>\n",
       "    </tr>\n",
       "    <tr>\n",
       "      <th>LinearRegression</th>\n",
       "      <td>0.143928</td>\n",
       "      <td>0.305841</td>\n",
       "      <td>0.407244</td>\n",
       "    </tr>\n",
       "    <tr>\n",
       "      <th>Ridge</th>\n",
       "      <td>0.143928</td>\n",
       "      <td>0.305841</td>\n",
       "      <td>0.407244</td>\n",
       "    </tr>\n",
       "  </tbody>\n",
       "</table>\n",
       "</div>"
      ],
      "text/plain": [
       "                           Mean Squared Error  Mean Absolute Error  \\\n",
       "XGBRegressor                         0.027089             0.111625   \n",
       "RandomForestRegressor                0.030730             0.113621   \n",
       "GradientBoostingRegressor            0.038497             0.147136   \n",
       "DecisionTreeRegressor                0.051111             0.129498   \n",
       "AdaBoostRegressor                    0.075844             0.228749   \n",
       "KNeighborsRegressor                  0.115765             0.248948   \n",
       "Lasso                                0.143883             0.306700   \n",
       "LinearRegression                     0.143928             0.305841   \n",
       "Ridge                                0.143928             0.305841   \n",
       "\n",
       "                           Accuracy Score  \n",
       "XGBRegressor                     0.888436  \n",
       "RandomForestRegressor            0.873440  \n",
       "GradientBoostingRegressor        0.841454  \n",
       "DecisionTreeRegressor            0.789502  \n",
       "AdaBoostRegressor                0.687640  \n",
       "KNeighborsRegressor              0.523232  \n",
       "Lasso                            0.407429  \n",
       "LinearRegression                 0.407244  \n",
       "Ridge                            0.407244  "
      ]
     },
     "execution_count": 130,
     "metadata": {},
     "output_type": "execute_result"
    }
   ],
   "source": [
    "results = pd.DataFrame({'Mean Squared Error':[mselr,msels,mselrr,mseknn,msedtc,mseada,msegb,mserf,msexgb],'Mean Absolute Error':[maelr,maels,maelrr,maeknn,maedtc,maeada,maegb,maerf,maexgb],'Accuracy Score':[r2_score(y_test,predlr),r2_score(y_test,predls),r2_score(y_test,predlrr),r2_score(y_test,predknn),r2_score(y_test,preddtc),r2_score(y_test,predada),r2_score(y_test,predgb),r2_score(y_test,predrf),r2_score(y_test,predxgb)]},index=['LinearRegression','Lasso','Ridge','KNeighborsRegressor','DecisionTreeRegressor','AdaBoostRegressor','GradientBoostingRegressor','RandomForestRegressor','XGBRegressor'])\n",
    "result_df = results.sort_values(by='Accuracy Score', ascending=False)\n",
    "result_df"
   ]
  },
  {
   "cell_type": "markdown",
   "id": "af6b5bca",
   "metadata": {},
   "source": [
    "- The XGBoost model is working so well, with high accuracy score and lowest errors"
   ]
  },
  {
   "cell_type": "markdown",
   "id": "542bf935",
   "metadata": {},
   "source": [
    "But let's checkout for cross validation score before jumping onto conclusions"
   ]
  },
  {
   "cell_type": "code",
   "execution_count": 95,
   "id": "e90dd7a2",
   "metadata": {},
   "outputs": [
    {
     "name": "stdout",
     "output_type": "stream",
     "text": [
      "Scores: [0.72561767 0.72679586 0.78905531 0.79516672 0.77610727 0.6588049\n",
      " 0.87932239 0.8691798  0.64758214 0.48817236] \n",
      "\n",
      "Mean: 0.7355804414860366 \n",
      "\n",
      "Standard Deviation: 0.11026713740320776\n"
     ]
    }
   ],
   "source": [
    "#Cross validation for XGBoost\n",
    "\n",
    "xgb = XGBRegressor()\n",
    "scores = cross_val_score(xgb, x_sca, y, cv=10)\n",
    "print(\"Scores:\", scores,'\\n')\n",
    "print(\"Mean:\", scores.mean(),'\\n')\n",
    "print(\"Standard Deviation:\", scores.std())"
   ]
  },
  {
   "cell_type": "markdown",
   "id": "3d6c1b5e",
   "metadata": {},
   "source": [
    "- So this means that the model is perfoming much realistic with gbr,the mean of the scores is 74% for our model and standard deviation in our case means that the score can differ with +/- 11%"
   ]
  },
  {
   "cell_type": "code",
   "execution_count": 96,
   "id": "c66fd10b",
   "metadata": {},
   "outputs": [
    {
     "data": {
      "text/html": [
       "<div>\n",
       "<style scoped>\n",
       "    .dataframe tbody tr th:only-of-type {\n",
       "        vertical-align: middle;\n",
       "    }\n",
       "\n",
       "    .dataframe tbody tr th {\n",
       "        vertical-align: top;\n",
       "    }\n",
       "\n",
       "    .dataframe thead th {\n",
       "        text-align: right;\n",
       "    }\n",
       "</style>\n",
       "<table border=\"1\" class=\"dataframe\">\n",
       "  <thead>\n",
       "    <tr style=\"text-align: right;\">\n",
       "      <th></th>\n",
       "      <th>importance</th>\n",
       "    </tr>\n",
       "    <tr>\n",
       "      <th>feature</th>\n",
       "      <th></th>\n",
       "    </tr>\n",
       "  </thead>\n",
       "  <tbody>\n",
       "    <tr>\n",
       "      <th>Airline</th>\n",
       "      <td>0.249</td>\n",
       "    </tr>\n",
       "    <tr>\n",
       "      <th>Duration_New</th>\n",
       "      <td>0.229</td>\n",
       "    </tr>\n",
       "    <tr>\n",
       "      <th>Date</th>\n",
       "      <td>0.188</td>\n",
       "    </tr>\n",
       "    <tr>\n",
       "      <th>Stop(s)</th>\n",
       "      <td>0.113</td>\n",
       "    </tr>\n",
       "    <tr>\n",
       "      <th>Destination</th>\n",
       "      <td>0.057</td>\n",
       "    </tr>\n",
       "    <tr>\n",
       "      <th>Source</th>\n",
       "      <td>0.055</td>\n",
       "    </tr>\n",
       "    <tr>\n",
       "      <th>Dep_min</th>\n",
       "      <td>0.034</td>\n",
       "    </tr>\n",
       "    <tr>\n",
       "      <th>Arrival_hour</th>\n",
       "      <td>0.028</td>\n",
       "    </tr>\n",
       "    <tr>\n",
       "      <th>Arrival_min</th>\n",
       "      <td>0.026</td>\n",
       "    </tr>\n",
       "    <tr>\n",
       "      <th>Dep_hour</th>\n",
       "      <td>0.021</td>\n",
       "    </tr>\n",
       "  </tbody>\n",
       "</table>\n",
       "</div>"
      ],
      "text/plain": [
       "              importance\n",
       "feature                 \n",
       "Airline            0.249\n",
       "Duration_New       0.229\n",
       "Date               0.188\n",
       "Stop(s)            0.113\n",
       "Destination        0.057\n",
       "Source             0.055\n",
       "Dep_min            0.034\n",
       "Arrival_hour       0.028\n",
       "Arrival_min        0.026\n",
       "Dep_hour           0.021"
      ]
     },
     "execution_count": 96,
     "metadata": {},
     "output_type": "execute_result"
    }
   ],
   "source": [
    "#lets checkout the feature importance \n",
    "\n",
    "xgb = XGBRegressor()\n",
    "xgb.fit(x_train,y_train)\n",
    "importances = pd.DataFrame({'feature':x.columns,'importance':np.round(xgb.feature_importances_,3)})\n",
    "importances = importances.sort_values('importance',ascending=False).set_index('feature')\n",
    "importances"
   ]
  },
  {
   "cell_type": "code",
   "execution_count": 97,
   "id": "c2015e6f",
   "metadata": {},
   "outputs": [
    {
     "data": {
      "text/plain": [
       "<AxesSubplot:xlabel='feature'>"
      ]
     },
     "execution_count": 97,
     "metadata": {},
     "output_type": "execute_result"
    },
    {
     "data": {
      "image/png": "[encoded data removed]",
      "text/plain": [
       "<Figure size 432x288 with 1 Axes>"
      ]
     },
     "metadata": {
      "needs_background": "light"
     },
     "output_type": "display_data"
    }
   ],
   "source": [
    "importances.plot.bar()"
   ]
  },
  {
   "cell_type": "markdown",
   "id": "5038d644",
   "metadata": {},
   "source": [
    "- So according to the XBGRegressor Airline is the most important feature following by Duration and Date of journey\n",
    "- Source , Destination , Arrival time and departure time doesn't have much importance in predicting the flight fares for XGBoost"
   ]
  },
  {
   "cell_type": "markdown",
   "id": "a3bccde3",
   "metadata": {},
   "source": [
    "So, I am going to drop low feature importance variable and check out the performance of the model"
   ]
  },
  {
   "cell_type": "code",
   "execution_count": 105,
   "id": "da1238cc",
   "metadata": {},
   "outputs": [],
   "source": [
    "x_new = x.drop(['Destination','Source','Dep_hour','Arrival_hour','Dep_min','Arrival_min'],axis=1)\n",
    "\n",
    "x_new = StandardScaler().fit_transform(x_new)"
   ]
  },
  {
   "cell_type": "markdown",
   "id": "5584ae61",
   "metadata": {},
   "source": [
    "- All these variables that I have just dropped from the predictors have low feature importance and weak correlation as well with the target variable"
   ]
  },
  {
   "cell_type": "code",
   "execution_count": 106,
   "id": "688170f1",
   "metadata": {},
   "outputs": [
    {
     "name": "stdout",
     "output_type": "stream",
     "text": [
      "81.83 %\n"
     ]
    }
   ],
   "source": [
    "#now trying out with new features\n",
    "\n",
    "xgb = XGBRegressor()\n",
    "x_train,x_test,y_train,y_test=train_test_split(x_new,y,random_state=76,test_size=.33)\n",
    "\n",
    "xgb.fit(x_train,y_train)\n",
    "y_prediction = xgb.predict(x_test)\n",
    "\n",
    "acc_xgb=round(r2_score(y_test, y_prediction)*100,2)\n",
    "print(acc_xgb,\"%\")"
   ]
  },
  {
   "cell_type": "markdown",
   "id": "a413d344",
   "metadata": {},
   "source": [
    "- The accuracy has dropped down after removal of the less important features , so we won't drop these variables"
   ]
  },
  {
   "cell_type": "markdown",
   "id": "dfb72a5d",
   "metadata": {},
   "source": [
    "# Hyperparameter Tuning:"
   ]
  },
  {
   "cell_type": "code",
   "execution_count": 131,
   "id": "3f9c1733",
   "metadata": {},
   "outputs": [],
   "source": [
    "from sklearn.experimental import enable_halving_search_cv\n",
    "from sklearn.model_selection import HalvingGridSearchCV              #importing HalvingGridSearch"
   ]
  },
  {
   "cell_type": "code",
   "execution_count": 135,
   "id": "9ea8cc03",
   "metadata": {},
   "outputs": [],
   "source": [
    "xgb = XGBRegressor()\n",
    "x_train,x_test,y_train,y_test=train_test_split(x_sca,y,random_state=76,test_size=.33)"
   ]
  },
  {
   "cell_type": "code",
   "execution_count": null,
   "id": "f854295f",
   "metadata": {},
   "outputs": [],
   "source": [
    "parameter = {'n_estimators':[400,500],'gamma':np.arange(0,0.2,0.1),\n",
    "              'booster' : ['gbtree','dart','gblinear'], 'max_depth':[6,8],\n",
    "              'eta' : [0.01, 0.1] }\n",
    "\n",
    "search = HalvingGridSearchCV(xgb, parameter, verbose= 10).fit(x_train, y_train)\n",
    "search.best_params_  "
   ]
  },
  {
   "cell_type": "markdown",
   "id": "46f369f4",
   "metadata": {},
   "source": [
    "- Now that we have optimum values of the hyperparameters we are going to train the model again and check for accuracy"
   ]
  },
  {
   "cell_type": "code",
   "execution_count": 136,
   "id": "54562648",
   "metadata": {},
   "outputs": [
    {
     "name": "stdout",
     "output_type": "stream",
     "text": [
      "R2_Score: 87.93981513662095\n",
      "mean_squared_error: 0.029283439888165185\n",
      "mean_absolute_error: 0.11799616207025317\n",
      "RMSE value: 0.1711240482461924\n"
     ]
    }
   ],
   "source": [
    "Final_mod=XGBRegressor(booster='dart', max_depth=8, eta=0.1,\n",
    "                                gamma=0.1, n_estimators=400)\n",
    "\n",
    "Final_mod.fit(x_train,y_train)\n",
    "pred=Final_mod.predict(x_test)\n",
    "print('R2_Score:',r2_score(y_test,pred)*100)\n",
    "print('mean_squared_error:',mean_squared_error(y_test,pred))\n",
    "print('mean_absolute_error:',mean_absolute_error(y_test,pred))\n",
    "print(\"RMSE value:\",np.sqrt(mean_squared_error(y_test, pred)))"
   ]
  },
  {
   "cell_type": "code",
   "execution_count": 137,
   "id": "d39b9032",
   "metadata": {},
   "outputs": [
    {
     "name": "stdout",
     "output_type": "stream",
     "text": [
      "Scores: [0.68663501 0.76759705 0.75162955 0.82814074 0.71560589 0.68529052\n",
      " 0.83731939 0.85803738 0.57700641 0.4472544 ] \n",
      "\n",
      "Mean: 0.715451634086339 \n",
      "\n",
      "Standard Deviation: 0.12031052182288585\n"
     ]
    }
   ],
   "source": [
    "#Cross validation for XGBoost\n",
    "\n",
    "xgb = XGBRegressor(booster='dart', max_depth=8, eta=0.1,\n",
    "                                gamma=0.1, n_estimators=400)\n",
    "scores = cross_val_score(xgb, x_new, y, cv=10)\n",
    "print(\"Scores:\", scores,'\\n')\n",
    "print(\"Mean:\", scores.mean(),'\\n')\n",
    "print(\"Standard Deviation:\", scores.std())"
   ]
  },
  {
   "cell_type": "markdown",
   "id": "84ed296e",
   "metadata": {},
   "source": [
    "- So, the model is performing well with an realistic accuracy of 80.92%\n",
    "- Moreover, the CV score is coming out to be 72% with an deviation of 12% , which means the score can vary upto +/- 12"
   ]
  },
  {
   "cell_type": "code",
   "execution_count": null,
   "id": "a4490257",
   "metadata": {},
   "outputs": [],
   "source": []
  },
  {
   "cell_type": "code",
   "execution_count": 138,
   "id": "d533be59",
   "metadata": {},
   "outputs": [
    {
     "data": {
      "image/png": "[encoded data removed]",
      "text/plain": [
       "<Figure size 432x288 with 1 Axes>"
      ]
     },
     "metadata": {
      "needs_background": "light"
     },
     "output_type": "display_data"
    }
   ],
   "source": [
    "#now plotting both predicted and actual values\n",
    "\n",
    "sns.scatterplot(y_test , pred)\n",
    "plt.xlabel(\"Flight Fare\")\n",
    "plt.ylabel(\"Predicted Flight Fare\")\n",
    "plt.show()"
   ]
  },
  {
   "cell_type": "markdown",
   "id": "ea473400",
   "metadata": {},
   "source": [
    "# Saving Model"
   ]
  },
  {
   "cell_type": "code",
   "execution_count": 139,
   "id": "6cc2cd2f",
   "metadata": {},
   "outputs": [],
   "source": [
    "#saving the best model\n",
    "\n",
    "xgb = XGBRegressor(booster='dart', max_depth=8, eta=0.1,\n",
    "                                gamma=0.1, n_estimators=400)\n",
    "import pickle\n",
    "pickle.dump( xgb ,open('flightsfareprediction.pkl','wb'))"
   ]
  },
  {
   "cell_type": "code",
   "execution_count": null,
   "id": "7bab33ce",
   "metadata": {},
   "outputs": [],
   "source": []
  },
  {
   "cell_type": "markdown",
   "id": "4f729f8f",
   "metadata": {},
   "source": [
    "# Predictions using Final Model"
   ]
  },
  {
   "cell_type": "code",
   "execution_count": 140,
   "id": "1cdf9d7b",
   "metadata": {},
   "outputs": [
    {
     "data": {
      "text/plain": [
       "array([1.7532468, 2.1578794, 1.9408877, ..., 1.372858 , 1.8299108,\n",
       "       2.309713 ], dtype=float32)"
      ]
     },
     "execution_count": 140,
     "metadata": {},
     "output_type": "execute_result"
    }
   ],
   "source": [
    "\n",
    "loaded_model = pickle.load(open('flightsfareprediction.pkl', 'rb'))\n",
    "\n",
    "model.fit(x_train,y_train)\n",
    "y_prediction = model.predict(x_test)\n",
    "y_prediction"
   ]
  },
  {
   "cell_type": "code",
   "execution_count": 141,
   "id": "b3a3254a",
   "metadata": {},
   "outputs": [
    {
     "data": {
      "text/html": [
       "<div>\n",
       "<style scoped>\n",
       "    .dataframe tbody tr th:only-of-type {\n",
       "        vertical-align: middle;\n",
       "    }\n",
       "\n",
       "    .dataframe tbody tr th {\n",
       "        vertical-align: top;\n",
       "    }\n",
       "\n",
       "    .dataframe thead th {\n",
       "        text-align: right;\n",
       "    }\n",
       "</style>\n",
       "<table border=\"1\" class=\"dataframe\">\n",
       "  <thead>\n",
       "    <tr style=\"text-align: right;\">\n",
       "      <th></th>\n",
       "      <th>Flight Fare</th>\n",
       "      <th>Predicted Flight Fare</th>\n",
       "    </tr>\n",
       "  </thead>\n",
       "  <tbody>\n",
       "    <tr>\n",
       "      <th>1069</th>\n",
       "      <td>1.680828</td>\n",
       "      <td>1.753247</td>\n",
       "    </tr>\n",
       "    <tr>\n",
       "      <th>379</th>\n",
       "      <td>2.102914</td>\n",
       "      <td>2.157879</td>\n",
       "    </tr>\n",
       "    <tr>\n",
       "      <th>2136</th>\n",
       "      <td>2.123458</td>\n",
       "      <td>1.940888</td>\n",
       "    </tr>\n",
       "    <tr>\n",
       "      <th>1135</th>\n",
       "      <td>2.256541</td>\n",
       "      <td>2.269693</td>\n",
       "    </tr>\n",
       "    <tr>\n",
       "      <th>3010</th>\n",
       "      <td>1.954445</td>\n",
       "      <td>2.182814</td>\n",
       "    </tr>\n",
       "    <tr>\n",
       "      <th>...</th>\n",
       "      <td>...</td>\n",
       "      <td>...</td>\n",
       "    </tr>\n",
       "    <tr>\n",
       "      <th>2256</th>\n",
       "      <td>1.629241</td>\n",
       "      <td>1.761836</td>\n",
       "    </tr>\n",
       "    <tr>\n",
       "      <th>1806</th>\n",
       "      <td>1.783391</td>\n",
       "      <td>1.796660</td>\n",
       "    </tr>\n",
       "    <tr>\n",
       "      <th>2242</th>\n",
       "      <td>1.313724</td>\n",
       "      <td>1.372858</td>\n",
       "    </tr>\n",
       "    <tr>\n",
       "      <th>2390</th>\n",
       "      <td>1.629241</td>\n",
       "      <td>1.829911</td>\n",
       "    </tr>\n",
       "    <tr>\n",
       "      <th>2020</th>\n",
       "      <td>2.292535</td>\n",
       "      <td>2.309713</td>\n",
       "    </tr>\n",
       "  </tbody>\n",
       "</table>\n",
       "<p>1132 rows × 2 columns</p>\n",
       "</div>"
      ],
      "text/plain": [
       "      Flight Fare  Predicted Flight Fare\n",
       "1069     1.680828               1.753247\n",
       "379      2.102914               2.157879\n",
       "2136     2.123458               1.940888\n",
       "1135     2.256541               2.269693\n",
       "3010     1.954445               2.182814\n",
       "...           ...                    ...\n",
       "2256     1.629241               1.761836\n",
       "1806     1.783391               1.796660\n",
       "2242     1.313724               1.372858\n",
       "2390     1.629241               1.829911\n",
       "2020     2.292535               2.309713\n",
       "\n",
       "[1132 rows x 2 columns]"
      ]
     },
     "execution_count": 141,
     "metadata": {},
     "output_type": "execute_result"
    }
   ],
   "source": [
    "preddf=pd.DataFrame({\"Flight Fare\" : y_test, \"Predicted Flight Fare\" : y_prediction})\n",
    "preddf"
   ]
  },
  {
   "cell_type": "code",
   "execution_count": null,
   "id": "5c2992ae",
   "metadata": {},
   "outputs": [],
   "source": []
  }
 ],
 "metadata": {
  "kernelspec": {
   "display_name": "Python 3 (ipykernel)",
   "language": "python",
   "name": "python3"
  },
  "language_info": {
   "codemirror_mode": {
    "name": "ipython",
    "version": 3
   },
   "file_extension": ".py",
   "mimetype": "text/x-python",
   "name": "python",
   "nbconvert_exporter": "python",
   "pygments_lexer": "ipython3",
   "version": "3.9.7"
  }
 },
 "nbformat": 4,
 "nbformat_minor": 5
}
