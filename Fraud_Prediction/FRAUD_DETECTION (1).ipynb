{
 "cells": [
  {
   "cell_type": "markdown",
   "id": "38a6b569",
   "metadata": {},
   "source": [
    "Problem Statement:\n",
    "\n",
    "-This case requires trainees to develop a model for predicting fraudulent transactions for a financial company and use insights from the model to develop an actionable plan."
   ]
  },
  {
   "cell_type": "code",
   "execution_count": 1,
   "id": "b1292ce2",
   "metadata": {},
   "outputs": [],
   "source": [
    "import pandas as pd # for data wrangling purpose\n",
    "import numpy as np # Basic computation library\n",
    "import seaborn as sns # For Visualization \n",
    "import matplotlib.pyplot as plt # ploting package\n",
    "%matplotlib inline\n",
    "import warnings # Filtering warnings\n",
    "warnings.filterwarnings('ignore')"
   ]
  },
  {
   "cell_type": "code",
   "execution_count": 2,
   "id": "9788cf60",
   "metadata": {},
   "outputs": [
    {
     "name": "stdout",
     "output_type": "stream",
     "text": [
      "The dataset has : 6362620  number of rows.\n",
      " The dataset has : 11  number of columns.\n"
     ]
    }
   ],
   "source": [
    "#loading the dataset\n",
    "\n",
    "df=pd.read_csv(r\"C:\\Users\\Yash Bhardwaj\\Downloads\\archive\\PS_20174392719_1491204439457_log.csv\")\n",
    "print(\"The dataset has :\",df.shape[0],\" number of rows.\\n\",\"The dataset has :\",df.shape[1],\" number of columns.\")"
   ]
  },
  {
   "cell_type": "markdown",
   "id": "35294eaa",
   "metadata": {},
   "source": [
    "**DATA ANALYSIS**"
   ]
  },
  {
   "cell_type": "code",
   "execution_count": 3,
   "id": "bb6a90c8",
   "metadata": {},
   "outputs": [
    {
     "data": {
      "text/html": [
       "<div>\n",
       "<style scoped>\n",
       "    .dataframe tbody tr th:only-of-type {\n",
       "        vertical-align: middle;\n",
       "    }\n",
       "\n",
       "    .dataframe tbody tr th {\n",
       "        vertical-align: top;\n",
       "    }\n",
       "\n",
       "    .dataframe thead th {\n",
       "        text-align: right;\n",
       "    }\n",
       "</style>\n",
       "<table border=\"1\" class=\"dataframe\">\n",
       "  <thead>\n",
       "    <tr style=\"text-align: right;\">\n",
       "      <th></th>\n",
       "      <th>step</th>\n",
       "      <th>type</th>\n",
       "      <th>amount</th>\n",
       "      <th>nameOrig</th>\n",
       "      <th>oldbalanceOrg</th>\n",
       "      <th>newbalanceOrig</th>\n",
       "      <th>nameDest</th>\n",
       "      <th>oldbalanceDest</th>\n",
       "      <th>newbalanceDest</th>\n",
       "      <th>isFraud</th>\n",
       "      <th>isFlaggedFraud</th>\n",
       "    </tr>\n",
       "  </thead>\n",
       "  <tbody>\n",
       "    <tr>\n",
       "      <th>0</th>\n",
       "      <td>1</td>\n",
       "      <td>PAYMENT</td>\n",
       "      <td>9839.64</td>\n",
       "      <td>C1231006815</td>\n",
       "      <td>170136.00</td>\n",
       "      <td>160296.36</td>\n",
       "      <td>M1979787155</td>\n",
       "      <td>0.0</td>\n",
       "      <td>0.00</td>\n",
       "      <td>0</td>\n",
       "      <td>0</td>\n",
       "    </tr>\n",
       "    <tr>\n",
       "      <th>1</th>\n",
       "      <td>1</td>\n",
       "      <td>PAYMENT</td>\n",
       "      <td>1864.28</td>\n",
       "      <td>C1666544295</td>\n",
       "      <td>21249.00</td>\n",
       "      <td>19384.72</td>\n",
       "      <td>M2044282225</td>\n",
       "      <td>0.0</td>\n",
       "      <td>0.00</td>\n",
       "      <td>0</td>\n",
       "      <td>0</td>\n",
       "    </tr>\n",
       "    <tr>\n",
       "      <th>2</th>\n",
       "      <td>1</td>\n",
       "      <td>TRANSFER</td>\n",
       "      <td>181.00</td>\n",
       "      <td>C1305486145</td>\n",
       "      <td>181.00</td>\n",
       "      <td>0.00</td>\n",
       "      <td>C553264065</td>\n",
       "      <td>0.0</td>\n",
       "      <td>0.00</td>\n",
       "      <td>1</td>\n",
       "      <td>0</td>\n",
       "    </tr>\n",
       "    <tr>\n",
       "      <th>3</th>\n",
       "      <td>1</td>\n",
       "      <td>CASH_OUT</td>\n",
       "      <td>181.00</td>\n",
       "      <td>C840083671</td>\n",
       "      <td>181.00</td>\n",
       "      <td>0.00</td>\n",
       "      <td>C38997010</td>\n",
       "      <td>21182.0</td>\n",
       "      <td>0.00</td>\n",
       "      <td>1</td>\n",
       "      <td>0</td>\n",
       "    </tr>\n",
       "    <tr>\n",
       "      <th>4</th>\n",
       "      <td>1</td>\n",
       "      <td>PAYMENT</td>\n",
       "      <td>11668.14</td>\n",
       "      <td>C2048537720</td>\n",
       "      <td>41554.00</td>\n",
       "      <td>29885.86</td>\n",
       "      <td>M1230701703</td>\n",
       "      <td>0.0</td>\n",
       "      <td>0.00</td>\n",
       "      <td>0</td>\n",
       "      <td>0</td>\n",
       "    </tr>\n",
       "    <tr>\n",
       "      <th>5</th>\n",
       "      <td>1</td>\n",
       "      <td>PAYMENT</td>\n",
       "      <td>7817.71</td>\n",
       "      <td>C90045638</td>\n",
       "      <td>53860.00</td>\n",
       "      <td>46042.29</td>\n",
       "      <td>M573487274</td>\n",
       "      <td>0.0</td>\n",
       "      <td>0.00</td>\n",
       "      <td>0</td>\n",
       "      <td>0</td>\n",
       "    </tr>\n",
       "    <tr>\n",
       "      <th>6</th>\n",
       "      <td>1</td>\n",
       "      <td>PAYMENT</td>\n",
       "      <td>7107.77</td>\n",
       "      <td>C154988899</td>\n",
       "      <td>183195.00</td>\n",
       "      <td>176087.23</td>\n",
       "      <td>M408069119</td>\n",
       "      <td>0.0</td>\n",
       "      <td>0.00</td>\n",
       "      <td>0</td>\n",
       "      <td>0</td>\n",
       "    </tr>\n",
       "    <tr>\n",
       "      <th>7</th>\n",
       "      <td>1</td>\n",
       "      <td>PAYMENT</td>\n",
       "      <td>7861.64</td>\n",
       "      <td>C1912850431</td>\n",
       "      <td>176087.23</td>\n",
       "      <td>168225.59</td>\n",
       "      <td>M633326333</td>\n",
       "      <td>0.0</td>\n",
       "      <td>0.00</td>\n",
       "      <td>0</td>\n",
       "      <td>0</td>\n",
       "    </tr>\n",
       "    <tr>\n",
       "      <th>8</th>\n",
       "      <td>1</td>\n",
       "      <td>PAYMENT</td>\n",
       "      <td>4024.36</td>\n",
       "      <td>C1265012928</td>\n",
       "      <td>2671.00</td>\n",
       "      <td>0.00</td>\n",
       "      <td>M1176932104</td>\n",
       "      <td>0.0</td>\n",
       "      <td>0.00</td>\n",
       "      <td>0</td>\n",
       "      <td>0</td>\n",
       "    </tr>\n",
       "    <tr>\n",
       "      <th>9</th>\n",
       "      <td>1</td>\n",
       "      <td>DEBIT</td>\n",
       "      <td>5337.77</td>\n",
       "      <td>C712410124</td>\n",
       "      <td>41720.00</td>\n",
       "      <td>36382.23</td>\n",
       "      <td>C195600860</td>\n",
       "      <td>41898.0</td>\n",
       "      <td>40348.79</td>\n",
       "      <td>0</td>\n",
       "      <td>0</td>\n",
       "    </tr>\n",
       "  </tbody>\n",
       "</table>\n",
       "</div>"
      ],
      "text/plain": [
       "   step      type    amount     nameOrig  oldbalanceOrg  newbalanceOrig  \\\n",
       "0     1   PAYMENT   9839.64  C1231006815      170136.00       160296.36   \n",
       "1     1   PAYMENT   1864.28  C1666544295       21249.00        19384.72   \n",
       "2     1  TRANSFER    181.00  C1305486145         181.00            0.00   \n",
       "3     1  CASH_OUT    181.00   C840083671         181.00            0.00   \n",
       "4     1   PAYMENT  11668.14  C2048537720       41554.00        29885.86   \n",
       "5     1   PAYMENT   7817.71    C90045638       53860.00        46042.29   \n",
       "6     1   PAYMENT   7107.77   C154988899      183195.00       176087.23   \n",
       "7     1   PAYMENT   7861.64  C1912850431      176087.23       168225.59   \n",
       "8     1   PAYMENT   4024.36  C1265012928        2671.00            0.00   \n",
       "9     1     DEBIT   5337.77   C712410124       41720.00        36382.23   \n",
       "\n",
       "      nameDest  oldbalanceDest  newbalanceDest  isFraud  isFlaggedFraud  \n",
       "0  M1979787155             0.0            0.00        0               0  \n",
       "1  M2044282225             0.0            0.00        0               0  \n",
       "2   C553264065             0.0            0.00        1               0  \n",
       "3    C38997010         21182.0            0.00        1               0  \n",
       "4  M1230701703             0.0            0.00        0               0  \n",
       "5   M573487274             0.0            0.00        0               0  \n",
       "6   M408069119             0.0            0.00        0               0  \n",
       "7   M633326333             0.0            0.00        0               0  \n",
       "8  M1176932104             0.0            0.00        0               0  \n",
       "9   C195600860         41898.0        40348.79        0               0  "
      ]
     },
     "execution_count": 3,
     "metadata": {},
     "output_type": "execute_result"
    }
   ],
   "source": [
    "#checking out a sample from the dataset\n",
    "df.head(10)"
   ]
  },
  {
   "cell_type": "code",
   "execution_count": 4,
   "id": "205f6655",
   "metadata": {},
   "outputs": [
    {
     "data": {
      "text/html": [
       "<div>\n",
       "<style scoped>\n",
       "    .dataframe tbody tr th:only-of-type {\n",
       "        vertical-align: middle;\n",
       "    }\n",
       "\n",
       "    .dataframe tbody tr th {\n",
       "        vertical-align: top;\n",
       "    }\n",
       "\n",
       "    .dataframe thead th {\n",
       "        text-align: right;\n",
       "    }\n",
       "</style>\n",
       "<table border=\"1\" class=\"dataframe\">\n",
       "  <thead>\n",
       "    <tr style=\"text-align: right;\">\n",
       "      <th></th>\n",
       "      <th>step</th>\n",
       "      <th>type</th>\n",
       "      <th>amount</th>\n",
       "      <th>nameOrig</th>\n",
       "      <th>oldbalanceOrg</th>\n",
       "      <th>newbalanceOrig</th>\n",
       "      <th>nameDest</th>\n",
       "      <th>oldbalanceDest</th>\n",
       "      <th>newbalanceDest</th>\n",
       "      <th>isFraud</th>\n",
       "      <th>isFlaggedFraud</th>\n",
       "    </tr>\n",
       "  </thead>\n",
       "  <tbody>\n",
       "  </tbody>\n",
       "</table>\n",
       "</div>"
      ],
      "text/plain": [
       "Empty DataFrame\n",
       "Columns: [step, type, amount, nameOrig, oldbalanceOrg, newbalanceOrig, nameDest, oldbalanceDest, newbalanceDest, isFraud, isFlaggedFraud]\n",
       "Index: []"
      ]
     },
     "execution_count": 4,
     "metadata": {},
     "output_type": "execute_result"
    }
   ],
   "source": [
    "#now let's check out for duplicate data that might be present in the dataset\n",
    "\n",
    "dfdup=df[df.duplicated()]\n",
    "dfdup"
   ]
  },
  {
   "cell_type": "markdown",
   "id": "c60cd507",
   "metadata": {},
   "source": [
    "- The dataset has no duplicated data, which is a good start"
   ]
  },
  {
   "cell_type": "code",
   "execution_count": 5,
   "id": "3462c4e9",
   "metadata": {},
   "outputs": [
    {
     "name": "stdout",
     "output_type": "stream",
     "text": [
      "<class 'pandas.core.frame.DataFrame'>\n",
      "RangeIndex: 6362620 entries, 0 to 6362619\n",
      "Data columns (total 11 columns):\n",
      " #   Column          Dtype  \n",
      "---  ------          -----  \n",
      " 0   step            int64  \n",
      " 1   type            object \n",
      " 2   amount          float64\n",
      " 3   nameOrig        object \n",
      " 4   oldbalanceOrg   float64\n",
      " 5   newbalanceOrig  float64\n",
      " 6   nameDest        object \n",
      " 7   oldbalanceDest  float64\n",
      " 8   newbalanceDest  float64\n",
      " 9   isFraud         int64  \n",
      " 10  isFlaggedFraud  int64  \n",
      "dtypes: float64(5), int64(3), object(3)\n",
      "memory usage: 534.0+ MB\n"
     ]
    }
   ],
   "source": [
    "#getting the information about the dataset\n",
    "df.info()"
   ]
  },
  {
   "cell_type": "markdown",
   "id": "211be1f2",
   "metadata": {},
   "source": [
    "- 'type' , 'nameOrig' , 'nameDest' are categorical variables the rest are integer type"
   ]
  },
  {
   "cell_type": "code",
   "execution_count": 6,
   "id": "8f25c1bd",
   "metadata": {},
   "outputs": [
    {
     "data": {
      "text/html": [
       "<div>\n",
       "<style scoped>\n",
       "    .dataframe tbody tr th:only-of-type {\n",
       "        vertical-align: middle;\n",
       "    }\n",
       "\n",
       "    .dataframe tbody tr th {\n",
       "        vertical-align: top;\n",
       "    }\n",
       "\n",
       "    .dataframe thead th {\n",
       "        text-align: right;\n",
       "    }\n",
       "</style>\n",
       "<table border=\"1\" class=\"dataframe\">\n",
       "  <thead>\n",
       "    <tr style=\"text-align: right;\">\n",
       "      <th></th>\n",
       "      <th>step</th>\n",
       "      <th>amount</th>\n",
       "      <th>oldbalanceOrg</th>\n",
       "      <th>newbalanceOrig</th>\n",
       "      <th>oldbalanceDest</th>\n",
       "      <th>newbalanceDest</th>\n",
       "      <th>isFraud</th>\n",
       "      <th>isFlaggedFraud</th>\n",
       "    </tr>\n",
       "  </thead>\n",
       "  <tbody>\n",
       "    <tr>\n",
       "      <th>count</th>\n",
       "      <td>6.362620e+06</td>\n",
       "      <td>6.362620e+06</td>\n",
       "      <td>6.362620e+06</td>\n",
       "      <td>6.362620e+06</td>\n",
       "      <td>6.362620e+06</td>\n",
       "      <td>6.362620e+06</td>\n",
       "      <td>6.362620e+06</td>\n",
       "      <td>6.362620e+06</td>\n",
       "    </tr>\n",
       "    <tr>\n",
       "      <th>mean</th>\n",
       "      <td>2.433972e+02</td>\n",
       "      <td>1.798619e+05</td>\n",
       "      <td>8.338831e+05</td>\n",
       "      <td>8.551137e+05</td>\n",
       "      <td>1.100702e+06</td>\n",
       "      <td>1.224996e+06</td>\n",
       "      <td>1.290820e-03</td>\n",
       "      <td>2.514687e-06</td>\n",
       "    </tr>\n",
       "    <tr>\n",
       "      <th>std</th>\n",
       "      <td>1.423320e+02</td>\n",
       "      <td>6.038582e+05</td>\n",
       "      <td>2.888243e+06</td>\n",
       "      <td>2.924049e+06</td>\n",
       "      <td>3.399180e+06</td>\n",
       "      <td>3.674129e+06</td>\n",
       "      <td>3.590480e-02</td>\n",
       "      <td>1.585775e-03</td>\n",
       "    </tr>\n",
       "    <tr>\n",
       "      <th>min</th>\n",
       "      <td>1.000000e+00</td>\n",
       "      <td>0.000000e+00</td>\n",
       "      <td>0.000000e+00</td>\n",
       "      <td>0.000000e+00</td>\n",
       "      <td>0.000000e+00</td>\n",
       "      <td>0.000000e+00</td>\n",
       "      <td>0.000000e+00</td>\n",
       "      <td>0.000000e+00</td>\n",
       "    </tr>\n",
       "    <tr>\n",
       "      <th>25%</th>\n",
       "      <td>1.560000e+02</td>\n",
       "      <td>1.338957e+04</td>\n",
       "      <td>0.000000e+00</td>\n",
       "      <td>0.000000e+00</td>\n",
       "      <td>0.000000e+00</td>\n",
       "      <td>0.000000e+00</td>\n",
       "      <td>0.000000e+00</td>\n",
       "      <td>0.000000e+00</td>\n",
       "    </tr>\n",
       "    <tr>\n",
       "      <th>50%</th>\n",
       "      <td>2.390000e+02</td>\n",
       "      <td>7.487194e+04</td>\n",
       "      <td>1.420800e+04</td>\n",
       "      <td>0.000000e+00</td>\n",
       "      <td>1.327057e+05</td>\n",
       "      <td>2.146614e+05</td>\n",
       "      <td>0.000000e+00</td>\n",
       "      <td>0.000000e+00</td>\n",
       "    </tr>\n",
       "    <tr>\n",
       "      <th>75%</th>\n",
       "      <td>3.350000e+02</td>\n",
       "      <td>2.087215e+05</td>\n",
       "      <td>1.073152e+05</td>\n",
       "      <td>1.442584e+05</td>\n",
       "      <td>9.430367e+05</td>\n",
       "      <td>1.111909e+06</td>\n",
       "      <td>0.000000e+00</td>\n",
       "      <td>0.000000e+00</td>\n",
       "    </tr>\n",
       "    <tr>\n",
       "      <th>max</th>\n",
       "      <td>7.430000e+02</td>\n",
       "      <td>9.244552e+07</td>\n",
       "      <td>5.958504e+07</td>\n",
       "      <td>4.958504e+07</td>\n",
       "      <td>3.560159e+08</td>\n",
       "      <td>3.561793e+08</td>\n",
       "      <td>1.000000e+00</td>\n",
       "      <td>1.000000e+00</td>\n",
       "    </tr>\n",
       "  </tbody>\n",
       "</table>\n",
       "</div>"
      ],
      "text/plain": [
       "               step        amount  oldbalanceOrg  newbalanceOrig  \\\n",
       "count  6.362620e+06  6.362620e+06   6.362620e+06    6.362620e+06   \n",
       "mean   2.433972e+02  1.798619e+05   8.338831e+05    8.551137e+05   \n",
       "std    1.423320e+02  6.038582e+05   2.888243e+06    2.924049e+06   \n",
       "min    1.000000e+00  0.000000e+00   0.000000e+00    0.000000e+00   \n",
       "25%    1.560000e+02  1.338957e+04   0.000000e+00    0.000000e+00   \n",
       "50%    2.390000e+02  7.487194e+04   1.420800e+04    0.000000e+00   \n",
       "75%    3.350000e+02  2.087215e+05   1.073152e+05    1.442584e+05   \n",
       "max    7.430000e+02  9.244552e+07   5.958504e+07    4.958504e+07   \n",
       "\n",
       "       oldbalanceDest  newbalanceDest       isFraud  isFlaggedFraud  \n",
       "count    6.362620e+06    6.362620e+06  6.362620e+06    6.362620e+06  \n",
       "mean     1.100702e+06    1.224996e+06  1.290820e-03    2.514687e-06  \n",
       "std      3.399180e+06    3.674129e+06  3.590480e-02    1.585775e-03  \n",
       "min      0.000000e+00    0.000000e+00  0.000000e+00    0.000000e+00  \n",
       "25%      0.000000e+00    0.000000e+00  0.000000e+00    0.000000e+00  \n",
       "50%      1.327057e+05    2.146614e+05  0.000000e+00    0.000000e+00  \n",
       "75%      9.430367e+05    1.111909e+06  0.000000e+00    0.000000e+00  \n",
       "max      3.560159e+08    3.561793e+08  1.000000e+00    1.000000e+00  "
      ]
     },
     "execution_count": 6,
     "metadata": {},
     "output_type": "execute_result"
    }
   ],
   "source": [
    "#further describing the dataset\n",
    "df.describe()"
   ]
  },
  {
   "cell_type": "markdown",
   "id": "99765f23",
   "metadata": {},
   "source": [
    "Observations:\n",
    "\n",
    "- 'amount' , 'oldbalanceOrg' , 'newbalanceOrig' might be highly skewed as there is reasonable difference present between the values of their mean and median\n",
    "- outliers might also be present for some variables as there is reasonable difference present between the third quartile and maximum value for some variables"
   ]
  },
  {
   "cell_type": "code",
   "execution_count": 7,
   "id": "a4255e82",
   "metadata": {},
   "outputs": [
    {
     "data": {
      "text/plain": [
       "step              0\n",
       "type              0\n",
       "amount            0\n",
       "nameOrig          0\n",
       "oldbalanceOrg     0\n",
       "newbalanceOrig    0\n",
       "nameDest          0\n",
       "oldbalanceDest    0\n",
       "newbalanceDest    0\n",
       "isFraud           0\n",
       "isFlaggedFraud    0\n",
       "dtype: int64"
      ]
     },
     "execution_count": 7,
     "metadata": {},
     "output_type": "execute_result"
    }
   ],
   "source": [
    "#checking for null values if present in the dataset\n",
    "df.isnull().sum()"
   ]
  },
  {
   "cell_type": "markdown",
   "id": "c5e5b263",
   "metadata": {},
   "source": [
    "-the dataset has no null values present"
   ]
  },
  {
   "cell_type": "markdown",
   "id": "b2b85e1d",
   "metadata": {},
   "source": [
    "**Exploratory Data Analysis**"
   ]
  },
  {
   "cell_type": "markdown",
   "id": "cccf624d",
   "metadata": {},
   "source": [
    "Assumption:\n",
    "- As far as we are finding the fraud customers I think to predict if a customer is fraud or not variables like step , type , flagged fraud would make sense\n",
    "- I don't think nameOrig and nameDest would make much sense when predicting if a customer is fraud or not"
   ]
  },
  {
   "cell_type": "code",
   "execution_count": 8,
   "id": "dd536a7d",
   "metadata": {},
   "outputs": [
    {
     "data": {
      "image/png": "[encoded data removed]",
      "text/plain": [
       "<Figure size 864x432 with 1 Axes>"
      ]
     },
     "metadata": {},
     "output_type": "display_data"
    },
    {
     "data": {
      "text/plain": [
       "0    6354407\n",
       "1       8213\n",
       "Name: isFraud, dtype: int64"
      ]
     },
     "execution_count": 8,
     "metadata": {},
     "output_type": "execute_result"
    }
   ],
   "source": [
    "#plotting the target variable\n",
    "\n",
    "plt.figure(figsize=(12,6))\n",
    "df['isFraud'].value_counts().plot.pie(autopct='%2.1f%%',\n",
    "                                     textprops ={'fontsize':16 ,'fontweight' :'bold'},\n",
    "                                     shadow=True)\n",
    "plt.title('Fraud customers representation')\n",
    "plt.show()\n",
    "\n",
    "df['isFraud'].value_counts()"
   ]
  },
  {
   "cell_type": "markdown",
   "id": "2867ab7e",
   "metadata": {},
   "source": [
    "Observations:\n",
    "- So only 0.1% of the customers are reported to be frauds\n",
    "- the dataset is highly imabalanced"
   ]
  },
  {
   "cell_type": "code",
   "execution_count": 9,
   "id": "b60bb563",
   "metadata": {},
   "outputs": [
    {
     "data": {
      "image/png": "[encoded data removed]",
      "text/plain": [
       "<Figure size 864x432 with 1 Axes>"
      ]
     },
     "metadata": {},
     "output_type": "display_data"
    },
    {
     "data": {
      "text/plain": [
       "0    6362604\n",
       "1         16\n",
       "Name: isFlaggedFraud, dtype: int64"
      ]
     },
     "execution_count": 9,
     "metadata": {},
     "output_type": "execute_result"
    }
   ],
   "source": [
    "#plotting 'isFlaggedFraud' customers\n",
    " \n",
    "plt.figure(figsize=(12,6))\n",
    "df['isFlaggedFraud'].value_counts().plot.pie(autopct='%2.1f%%',\n",
    "                                     textprops ={'fontsize':16 ,'fontweight' :'bold'},\n",
    "                                     shadow=True)\n",
    "plt.title('Flagged Fraud customers representation')\n",
    "plt.show()\n",
    "\n",
    "df['isFlaggedFraud'].value_counts()"
   ]
  },
  {
   "cell_type": "markdown",
   "id": "ba597984",
   "metadata": {},
   "source": [
    "Comment:\n",
    "- Only 16 customers out of more than 60 lakh customers are reported to be flagged fraud which means that these customers have attempted to transfer more than 200.000 in a single transaction."
   ]
  },
  {
   "cell_type": "code",
   "execution_count": 10,
   "id": "d6dc67c9",
   "metadata": {},
   "outputs": [
    {
     "data": {
      "image/png": "[encoded data removed]",
      "text/plain": [
       "<Figure size 864x432 with 1 Axes>"
      ]
     },
     "metadata": {},
     "output_type": "display_data"
    },
    {
     "data": {
      "text/plain": [
       "CASH_OUT    2237500\n",
       "PAYMENT     2151495\n",
       "CASH_IN     1399284\n",
       "TRANSFER     532909\n",
       "DEBIT         41432\n",
       "Name: type, dtype: int64"
      ]
     },
     "execution_count": 10,
     "metadata": {},
     "output_type": "execute_result"
    }
   ],
   "source": [
    "#checking different types of transactions\n",
    "plt.figure(figsize=(12,6))\n",
    "df['type'].value_counts().plot.pie(autopct='%2.1f%%',\n",
    "                                     textprops ={'fontsize':16 ,'fontweight' :'bold'},\n",
    "                                     shadow=True)\n",
    "plt.title('Type of transactions')\n",
    "plt.show()\n",
    "\n",
    "df['type'].value_counts()"
   ]
  },
  {
   "cell_type": "markdown",
   "id": "4f0963a3",
   "metadata": {},
   "source": [
    "Comment:\n",
    "- 35.2% customer's transaction type is cash_out\n",
    "- only 0.7% customer record is for debit type transaction"
   ]
  },
  {
   "cell_type": "code",
   "execution_count": 11,
   "id": "fa3719bb",
   "metadata": {},
   "outputs": [
    {
     "data": {
      "text/plain": [
       "6353307"
      ]
     },
     "execution_count": 11,
     "metadata": {},
     "output_type": "execute_result"
    }
   ],
   "source": [
    "#checking for unique value present in other categorical datatype variables\n",
    "len(df['nameOrig'].unique())"
   ]
  },
  {
   "cell_type": "code",
   "execution_count": 12,
   "id": "58c55154",
   "metadata": {},
   "outputs": [
    {
     "data": {
      "text/plain": [
       "2722362"
      ]
     },
     "execution_count": 12,
     "metadata": {},
     "output_type": "execute_result"
    }
   ],
   "source": [
    "len(df['nameDest'].unique())   #same for the name of destination customer"
   ]
  },
  {
   "cell_type": "markdown",
   "id": "bd8b2ec1",
   "metadata": {},
   "source": [
    "- Above variables have many unique values present which makes sense"
   ]
  },
  {
   "cell_type": "code",
   "execution_count": 13,
   "id": "96a3b412",
   "metadata": {},
   "outputs": [
    {
     "data": {
      "image/png": "[encoded data removed]",
      "text/plain": [
       "<Figure size 1080x504 with 1 Axes>"
      ]
     },
     "metadata": {
      "needs_background": "light"
     },
     "output_type": "display_data"
    }
   ],
   "source": [
    "#plotting the distribution of 'step' variable\n",
    "\n",
    "plt.figure(figsize=(15,7))\n",
    "sns.distplot(df['step'])\n",
    "plt.title(\"Distribution plot for step\")\n",
    "plt.show()"
   ]
  },
  {
   "cell_type": "markdown",
   "id": "f5a86b61",
   "metadata": {},
   "source": [
    "Comment:\n",
    "- as it can be seen that the range of step is high\n",
    "- there isn't skewness present as the blocks are close only to normal distribution curve"
   ]
  },
  {
   "cell_type": "code",
   "execution_count": 14,
   "id": "2b358bac",
   "metadata": {},
   "outputs": [
    {
     "data": {
      "image/png": "[encoded data removed]",
      "text/plain": [
       "<Figure size 1080x504 with 1 Axes>"
      ]
     },
     "metadata": {
      "needs_background": "light"
     },
     "output_type": "display_data"
    }
   ],
   "source": [
    "# visualizing the distribution of old balance for origin customer\n",
    "\n",
    "# setting the size of the plot\n",
    "plt.figure(figsize=(15,7))\n",
    "sns.distplot(df['oldbalanceOrg'])\n",
    "plt.title('Distribution of old balance for origin customer', fontsize = 20)\n",
    "plt.show()"
   ]
  },
  {
   "cell_type": "code",
   "execution_count": 15,
   "id": "0566d7be",
   "metadata": {},
   "outputs": [
    {
     "data": {
      "image/png": "[encoded data removed]",
      "text/plain": [
       "<Figure size 1080x504 with 1 Axes>"
      ]
     },
     "metadata": {
      "needs_background": "light"
     },
     "output_type": "display_data"
    }
   ],
   "source": [
    "# visualizing the distribution of new balance for origin customer\n",
    "\n",
    "# setting the size of the plot\n",
    "plt.figure(figsize=(15,7))\n",
    "sns.distplot(df['newbalanceOrig'])\n",
    "plt.title('Distribution of new balance for origin customer', fontsize = 20)\n",
    "\n",
    "plt.show()"
   ]
  },
  {
   "cell_type": "markdown",
   "id": "ec24e540",
   "metadata": {},
   "source": [
    "- we can see that the data is highly skewed for these variables"
   ]
  },
  {
   "cell_type": "code",
   "execution_count": 18,
   "id": "b6cf7173",
   "metadata": {},
   "outputs": [
    {
     "data": {
      "text/plain": [
       "10000000.00    3207\n",
       "10000.00         88\n",
       "5000.00          79\n",
       "15000.00         68\n",
       "500.00           65\n",
       "               ... \n",
       "8513.48           1\n",
       "189137.90         1\n",
       "1615.78           1\n",
       "128891.19         1\n",
       "12257.89          1\n",
       "Name: amount, Length: 5316900, dtype: int64"
      ]
     },
     "execution_count": 18,
     "metadata": {},
     "output_type": "execute_result"
    }
   ],
   "source": [
    "#checking the value counts for amount\n",
    "df['amount'].value_counts()"
   ]
  },
  {
   "cell_type": "code",
   "execution_count": 19,
   "id": "b94fcb49",
   "metadata": {},
   "outputs": [
    {
     "data": {
      "image/png": "[encoded data removed]",
      "text/plain": [
       "<Figure size 1080x504 with 1 Axes>"
      ]
     },
     "metadata": {
      "needs_background": "light"
     },
     "output_type": "display_data"
    }
   ],
   "source": [
    "#plotting amount distribution\n",
    "plt.figure(figsize=(15,7))\n",
    "df['amount'].value_counts().head(10).plot.bar()\n",
    "plt.title('top 10 Common Transaction amounts', fontsize = 20)\n",
    "plt.show()"
   ]
  },
  {
   "cell_type": "markdown",
   "id": "19b6cbdd",
   "metadata": {},
   "source": [
    "- 0 amount is also among the top 10 common transaction of amount"
   ]
  },
  {
   "cell_type": "code",
   "execution_count": 20,
   "id": "d360cccb",
   "metadata": {},
   "outputs": [
    {
     "data": {
      "image/png": "[encoded data removed]",
      "text/plain": [
       "<Figure size 1080x504 with 1 Axes>"
      ]
     },
     "metadata": {
      "needs_background": "light"
     },
     "output_type": "display_data"
    }
   ],
   "source": [
    "#plotting the le\n",
    "plt.figure(figsize=(15,7))\n",
    "df['amount'].value_counts().tail(20).plot.bar()\n",
    "plt.title('top 20 least common transaction amount', fontsize = 20)\n",
    "plt.show()"
   ]
  },
  {
   "cell_type": "code",
   "execution_count": 21,
   "id": "efd2261d",
   "metadata": {
    "scrolled": true
   },
   "outputs": [
    {
     "data": {
      "text/plain": [
       "212    40\n",
       "523    30\n",
       "387    28\n",
       "425    28\n",
       "249    28\n",
       "       ..\n",
       "202     2\n",
       "589     2\n",
       "112     2\n",
       "548     2\n",
       "662     2\n",
       "Name: step, Length: 741, dtype: int64"
      ]
     },
     "execution_count": 21,
     "metadata": {},
     "output_type": "execute_result"
    }
   ],
   "source": [
    "#checking for steps where with respect to the fraud customers\n",
    "\n",
    "df_step_fraud = df['step'].loc[df.isFraud==1]\n",
    "df_step_fraud.value_counts()"
   ]
  },
  {
   "cell_type": "code",
   "execution_count": 22,
   "id": "cfb4416c",
   "metadata": {},
   "outputs": [
    {
     "name": "stdout",
     "output_type": "stream",
     "text": [
      "Maximum step: 743\n",
      "Minimum step: 1\n",
      "Average step: 0    212\n",
      "dtype: int64\n"
     ]
    }
   ],
   "source": [
    "#finding the maximum, minimum and mode step with fraud label customer\n",
    "\n",
    "print(\"Maximum step:\",df.loc[df.isFraud == 1].step.max())\n",
    "print(\"Minimum step:\",df.loc[df.isFraud == 1].step.min())\n",
    "print(\"Average step:\",df.loc[df.isFraud ==1].step.mode())"
   ]
  },
  {
   "cell_type": "markdown",
   "id": "f715b806",
   "metadata": {},
   "source": [
    "- both 0 and 212 steps are the most common ones"
   ]
  },
  {
   "cell_type": "code",
   "execution_count": 23,
   "id": "0648bd32",
   "metadata": {},
   "outputs": [
    {
     "data": {
      "text/plain": [
       "array(['TRANSFER', 'CASH_OUT'], dtype=object)"
      ]
     },
     "execution_count": 23,
     "metadata": {},
     "output_type": "execute_result"
    }
   ],
   "source": [
    "# finding  out the types of fraudulent transaction types out of all the transaction modes.\n",
    "df.loc[df.isFraud == 1].type.unique()"
   ]
  },
  {
   "cell_type": "code",
   "execution_count": 24,
   "id": "00c154b6",
   "metadata": {},
   "outputs": [
    {
     "name": "stdout",
     "output_type": "stream",
     "text": [
      "The number of fraudulent TRANSFERs =  4097\n",
      "The number of fraudulent CASH_OUTs =  4116\n"
     ]
    }
   ],
   "source": [
    "# figuring out the fraud transfer and fraud cash outs\n",
    "dfFraudTransfer = df.loc[(df.isFraud == 1) & (df.type == 'TRANSFER')]\n",
    "dfFraudCashout = df.loc[(df.isFraud == 1) & (df.type == 'CASH_OUT')]\n",
    "\n",
    "\n",
    "#printing the number of fraudulent transfers ans cash outs\n",
    "print ('The number of fraudulent TRANSFERs = ',(len(dfFraudTransfer)))\n",
    "print ('The number of fraudulent CASH_OUTs = ',(len(dfFraudCashout)))"
   ]
  },
  {
   "cell_type": "markdown",
   "id": "ea52aee4",
   "metadata": {},
   "source": [
    "Comment:\n",
    "- from above we could see that only Transfer and cash_out type transaction are included with fraud customers"
   ]
  },
  {
   "cell_type": "code",
   "execution_count": 34,
   "id": "81bf1751",
   "metadata": {},
   "outputs": [
    {
     "name": "stdout",
     "output_type": "stream",
     "text": [
      "Transfer Transaction\n",
      "Minimum Transaction : 63.8\n",
      "Maximum Transaction : 10000000.0\n",
      "\n",
      "CASH_OUT Transaction\n",
      "Minimum Transaction : 0.0\n",
      "Maximum Transaction : 10000000.0\n"
     ]
    }
   ],
   "source": [
    "# finding out the minimum and maximum transaction from Transfer and cash out transaction mode when it is set to be Fraud\n",
    "\n",
    "print(\"Transfer Transaction\")\n",
    "print(\"Minimum Transaction :\", df.loc[(df.isFraud == 1) & (df.type == 'TRANSFER')].amount.min())\n",
    "print(\"Maximum Transaction :\", df.loc[(df.isFraud == 1) & (df.type == 'TRANSFER')].amount.max())\n",
    "\n",
    "print(\"\\nCASH_OUT Transaction\")\n",
    "print(\"Minimum Transaction :\", df.loc[(df.isFraud == 1) & (df.type == 'CASH_OUT')].amount.min())\n",
    "print(\"Maximum Transaction :\", df.loc[(df.isFraud == 1) & (df.type == 'CASH_OUT')].amount.max())"
   ]
  },
  {
   "cell_type": "code",
   "execution_count": 35,
   "id": "d41405bf",
   "metadata": {},
   "outputs": [
    {
     "data": {
      "text/plain": [
       "2              181.00\n",
       "251           2806.00\n",
       "680          20128.00\n",
       "724         416001.33\n",
       "969        1277212.77\n",
       "              ...    \n",
       "6362610      63416.99\n",
       "6362612    1258818.82\n",
       "6362614     339682.13\n",
       "6362616    6311409.28\n",
       "6362618     850002.52\n",
       "Name: amount, Length: 3977, dtype: float64"
      ]
     },
     "execution_count": 35,
     "metadata": {},
     "output_type": "execute_result"
    }
   ],
   "source": [
    "#finding amount of fradulent transactions\n",
    "df.loc[df.isFraud == 1].amount.drop_duplicates()"
   ]
  },
  {
   "cell_type": "code",
   "execution_count": 36,
   "id": "838b90cb",
   "metadata": {},
   "outputs": [
    {
     "name": "stdout",
     "output_type": "stream",
     "text": [
      "Amount Transaction\n",
      "Minimum Transaction : 0.0\n",
      "Maximum Transaction : 10000000.0\n"
     ]
    }
   ],
   "source": [
    "# finding out the minimum and maximum transaction of amount when it is set to be Fraud\n",
    "\n",
    "print(\"Amount Transaction\")\n",
    "print(\"Minimum Transaction :\", df.loc[(df.isFraud == 1)].amount.min())\n",
    "print(\"Maximum Transaction :\", df.loc[(df.isFraud == 1)].amount.max())"
   ]
  },
  {
   "cell_type": "markdown",
   "id": "7ec7f4fc",
   "metadata": {},
   "source": [
    "- 1 million is the highest amount with fraud labelled customer"
   ]
  },
  {
   "cell_type": "code",
   "execution_count": 38,
   "id": "c829bb61",
   "metadata": {},
   "outputs": [
    {
     "data": {
      "text/html": [
       "<div>\n",
       "<style scoped>\n",
       "    .dataframe tbody tr th:only-of-type {\n",
       "        vertical-align: middle;\n",
       "    }\n",
       "\n",
       "    .dataframe tbody tr th {\n",
       "        vertical-align: top;\n",
       "    }\n",
       "\n",
       "    .dataframe thead th {\n",
       "        text-align: right;\n",
       "    }\n",
       "</style>\n",
       "<table border=\"1\" class=\"dataframe\">\n",
       "  <thead>\n",
       "    <tr style=\"text-align: right;\">\n",
       "      <th></th>\n",
       "      <th>step</th>\n",
       "      <th>type</th>\n",
       "      <th>amount</th>\n",
       "      <th>nameOrig</th>\n",
       "      <th>oldbalanceOrg</th>\n",
       "      <th>newbalanceOrig</th>\n",
       "      <th>nameDest</th>\n",
       "      <th>oldbalanceDest</th>\n",
       "      <th>newbalanceDest</th>\n",
       "      <th>isFraud</th>\n",
       "      <th>isFlaggedFraud</th>\n",
       "    </tr>\n",
       "  </thead>\n",
       "  <tbody>\n",
       "    <tr>\n",
       "      <th>724</th>\n",
       "      <td>1</td>\n",
       "      <td>CASH_OUT</td>\n",
       "      <td>416001.33</td>\n",
       "      <td>C749981943</td>\n",
       "      <td>0.0</td>\n",
       "      <td>0.0</td>\n",
       "      <td>C667346055</td>\n",
       "      <td>102.00</td>\n",
       "      <td>9291619.62</td>\n",
       "      <td>1</td>\n",
       "      <td>0</td>\n",
       "    </tr>\n",
       "    <tr>\n",
       "      <th>14861</th>\n",
       "      <td>8</td>\n",
       "      <td>CASH_OUT</td>\n",
       "      <td>181728.11</td>\n",
       "      <td>C2102265902</td>\n",
       "      <td>0.0</td>\n",
       "      <td>0.0</td>\n",
       "      <td>C789014007</td>\n",
       "      <td>11397.00</td>\n",
       "      <td>184477.77</td>\n",
       "      <td>1</td>\n",
       "      <td>0</td>\n",
       "    </tr>\n",
       "    <tr>\n",
       "      <th>25875</th>\n",
       "      <td>8</td>\n",
       "      <td>TRANSFER</td>\n",
       "      <td>1078013.76</td>\n",
       "      <td>C1026280121</td>\n",
       "      <td>0.0</td>\n",
       "      <td>0.0</td>\n",
       "      <td>C277510102</td>\n",
       "      <td>0.00</td>\n",
       "      <td>970749.68</td>\n",
       "      <td>1</td>\n",
       "      <td>0</td>\n",
       "    </tr>\n",
       "    <tr>\n",
       "      <th>77745</th>\n",
       "      <td>10</td>\n",
       "      <td>CASH_OUT</td>\n",
       "      <td>277970.88</td>\n",
       "      <td>C489647033</td>\n",
       "      <td>0.0</td>\n",
       "      <td>0.0</td>\n",
       "      <td>C571514738</td>\n",
       "      <td>0.00</td>\n",
       "      <td>277970.88</td>\n",
       "      <td>1</td>\n",
       "      <td>0</td>\n",
       "    </tr>\n",
       "    <tr>\n",
       "      <th>138559</th>\n",
       "      <td>11</td>\n",
       "      <td>TRANSFER</td>\n",
       "      <td>1933920.80</td>\n",
       "      <td>C1706582969</td>\n",
       "      <td>0.0</td>\n",
       "      <td>0.0</td>\n",
       "      <td>C461905695</td>\n",
       "      <td>1283762.85</td>\n",
       "      <td>3217683.65</td>\n",
       "      <td>1</td>\n",
       "      <td>0</td>\n",
       "    </tr>\n",
       "    <tr>\n",
       "      <th>169998</th>\n",
       "      <td>12</td>\n",
       "      <td>CASH_OUT</td>\n",
       "      <td>149668.66</td>\n",
       "      <td>C227115333</td>\n",
       "      <td>0.0</td>\n",
       "      <td>0.0</td>\n",
       "      <td>C460735540</td>\n",
       "      <td>44170.11</td>\n",
       "      <td>193838.76</td>\n",
       "      <td>1</td>\n",
       "      <td>0</td>\n",
       "    </tr>\n",
       "    <tr>\n",
       "      <th>178668</th>\n",
       "      <td>12</td>\n",
       "      <td>CASH_OUT</td>\n",
       "      <td>222048.71</td>\n",
       "      <td>C265790428</td>\n",
       "      <td>0.0</td>\n",
       "      <td>0.0</td>\n",
       "      <td>C1700442291</td>\n",
       "      <td>2979.00</td>\n",
       "      <td>225027.71</td>\n",
       "      <td>1</td>\n",
       "      <td>0</td>\n",
       "    </tr>\n",
       "    <tr>\n",
       "      <th>200845</th>\n",
       "      <td>13</td>\n",
       "      <td>CASH_OUT</td>\n",
       "      <td>454859.39</td>\n",
       "      <td>C1274887619</td>\n",
       "      <td>0.0</td>\n",
       "      <td>0.0</td>\n",
       "      <td>C2146670328</td>\n",
       "      <td>0.00</td>\n",
       "      <td>454859.39</td>\n",
       "      <td>1</td>\n",
       "      <td>0</td>\n",
       "    </tr>\n",
       "    <tr>\n",
       "      <th>291459</th>\n",
       "      <td>15</td>\n",
       "      <td>CASH_OUT</td>\n",
       "      <td>95428.32</td>\n",
       "      <td>C947728507</td>\n",
       "      <td>0.0</td>\n",
       "      <td>0.0</td>\n",
       "      <td>C1720721903</td>\n",
       "      <td>0.00</td>\n",
       "      <td>95428.32</td>\n",
       "      <td>1</td>\n",
       "      <td>0</td>\n",
       "    </tr>\n",
       "    <tr>\n",
       "      <th>296686</th>\n",
       "      <td>15</td>\n",
       "      <td>CASH_OUT</td>\n",
       "      <td>39713.28</td>\n",
       "      <td>C1404885898</td>\n",
       "      <td>0.0</td>\n",
       "      <td>0.0</td>\n",
       "      <td>C1795377601</td>\n",
       "      <td>1274866.51</td>\n",
       "      <td>1314579.79</td>\n",
       "      <td>1</td>\n",
       "      <td>0</td>\n",
       "    </tr>\n",
       "    <tr>\n",
       "      <th>424928</th>\n",
       "      <td>18</td>\n",
       "      <td>CASH_OUT</td>\n",
       "      <td>508782.20</td>\n",
       "      <td>C576782065</td>\n",
       "      <td>0.0</td>\n",
       "      <td>0.0</td>\n",
       "      <td>C2090737806</td>\n",
       "      <td>1082007.65</td>\n",
       "      <td>1590789.85</td>\n",
       "      <td>1</td>\n",
       "      <td>0</td>\n",
       "    </tr>\n",
       "    <tr>\n",
       "      <th>479636</th>\n",
       "      <td>19</td>\n",
       "      <td>CASH_OUT</td>\n",
       "      <td>122101.57</td>\n",
       "      <td>C149845822</td>\n",
       "      <td>0.0</td>\n",
       "      <td>0.0</td>\n",
       "      <td>C1200316948</td>\n",
       "      <td>0.00</td>\n",
       "      <td>639940.20</td>\n",
       "      <td>1</td>\n",
       "      <td>0</td>\n",
       "    </tr>\n",
       "    <tr>\n",
       "      <th>543928</th>\n",
       "      <td>21</td>\n",
       "      <td>CASH_OUT</td>\n",
       "      <td>23292.30</td>\n",
       "      <td>C1861214292</td>\n",
       "      <td>0.0</td>\n",
       "      <td>0.0</td>\n",
       "      <td>C1834461593</td>\n",
       "      <td>392364.62</td>\n",
       "      <td>415656.92</td>\n",
       "      <td>1</td>\n",
       "      <td>0</td>\n",
       "    </tr>\n",
       "    <tr>\n",
       "      <th>643671</th>\n",
       "      <td>35</td>\n",
       "      <td>CASH_OUT</td>\n",
       "      <td>112280.88</td>\n",
       "      <td>C609821524</td>\n",
       "      <td>0.0</td>\n",
       "      <td>0.0</td>\n",
       "      <td>C708118422</td>\n",
       "      <td>40512.49</td>\n",
       "      <td>152793.36</td>\n",
       "      <td>1</td>\n",
       "      <td>0</td>\n",
       "    </tr>\n",
       "    <tr>\n",
       "      <th>694551</th>\n",
       "      <td>36</td>\n",
       "      <td>CASH_OUT</td>\n",
       "      <td>234377.29</td>\n",
       "      <td>C1737133410</td>\n",
       "      <td>0.0</td>\n",
       "      <td>0.0</td>\n",
       "      <td>C877378703</td>\n",
       "      <td>34937.86</td>\n",
       "      <td>269315.15</td>\n",
       "      <td>1</td>\n",
       "      <td>0</td>\n",
       "    </tr>\n",
       "    <tr>\n",
       "      <th>732891</th>\n",
       "      <td>37</td>\n",
       "      <td>CASH_OUT</td>\n",
       "      <td>112486.46</td>\n",
       "      <td>C124687089</td>\n",
       "      <td>0.0</td>\n",
       "      <td>0.0</td>\n",
       "      <td>C179706450</td>\n",
       "      <td>257274.47</td>\n",
       "      <td>369760.93</td>\n",
       "      <td>1</td>\n",
       "      <td>0</td>\n",
       "    </tr>\n",
       "    <tr>\n",
       "      <th>750755</th>\n",
       "      <td>38</td>\n",
       "      <td>CASH_OUT</td>\n",
       "      <td>577418.98</td>\n",
       "      <td>C1907944035</td>\n",
       "      <td>0.0</td>\n",
       "      <td>0.0</td>\n",
       "      <td>C541373010</td>\n",
       "      <td>0.00</td>\n",
       "      <td>577418.98</td>\n",
       "      <td>1</td>\n",
       "      <td>0</td>\n",
       "    </tr>\n",
       "    <tr>\n",
       "      <th>764187</th>\n",
       "      <td>38</td>\n",
       "      <td>CASH_OUT</td>\n",
       "      <td>407005.78</td>\n",
       "      <td>C1948189565</td>\n",
       "      <td>0.0</td>\n",
       "      <td>0.0</td>\n",
       "      <td>C1059308371</td>\n",
       "      <td>0.00</td>\n",
       "      <td>407005.78</td>\n",
       "      <td>1</td>\n",
       "      <td>0</td>\n",
       "    </tr>\n",
       "    <tr>\n",
       "      <th>920521</th>\n",
       "      <td>43</td>\n",
       "      <td>TRANSFER</td>\n",
       "      <td>1395850.55</td>\n",
       "      <td>C1296215617</td>\n",
       "      <td>0.0</td>\n",
       "      <td>0.0</td>\n",
       "      <td>C1429415136</td>\n",
       "      <td>260806.21</td>\n",
       "      <td>1656656.77</td>\n",
       "      <td>1</td>\n",
       "      <td>0</td>\n",
       "    </tr>\n",
       "    <tr>\n",
       "      <th>1021951</th>\n",
       "      <td>47</td>\n",
       "      <td>TRANSFER</td>\n",
       "      <td>202978.65</td>\n",
       "      <td>C1932446672</td>\n",
       "      <td>0.0</td>\n",
       "      <td>0.0</td>\n",
       "      <td>C966173999</td>\n",
       "      <td>2122336.55</td>\n",
       "      <td>2325315.19</td>\n",
       "      <td>1</td>\n",
       "      <td>0</td>\n",
       "    </tr>\n",
       "  </tbody>\n",
       "</table>\n",
       "</div>"
      ],
      "text/plain": [
       "         step      type      amount     nameOrig  oldbalanceOrg  \\\n",
       "724         1  CASH_OUT   416001.33   C749981943            0.0   \n",
       "14861       8  CASH_OUT   181728.11  C2102265902            0.0   \n",
       "25875       8  TRANSFER  1078013.76  C1026280121            0.0   \n",
       "77745      10  CASH_OUT   277970.88   C489647033            0.0   \n",
       "138559     11  TRANSFER  1933920.80  C1706582969            0.0   \n",
       "169998     12  CASH_OUT   149668.66   C227115333            0.0   \n",
       "178668     12  CASH_OUT   222048.71   C265790428            0.0   \n",
       "200845     13  CASH_OUT   454859.39  C1274887619            0.0   \n",
       "291459     15  CASH_OUT    95428.32   C947728507            0.0   \n",
       "296686     15  CASH_OUT    39713.28  C1404885898            0.0   \n",
       "424928     18  CASH_OUT   508782.20   C576782065            0.0   \n",
       "479636     19  CASH_OUT   122101.57   C149845822            0.0   \n",
       "543928     21  CASH_OUT    23292.30  C1861214292            0.0   \n",
       "643671     35  CASH_OUT   112280.88   C609821524            0.0   \n",
       "694551     36  CASH_OUT   234377.29  C1737133410            0.0   \n",
       "732891     37  CASH_OUT   112486.46   C124687089            0.0   \n",
       "750755     38  CASH_OUT   577418.98  C1907944035            0.0   \n",
       "764187     38  CASH_OUT   407005.78  C1948189565            0.0   \n",
       "920521     43  TRANSFER  1395850.55  C1296215617            0.0   \n",
       "1021951    47  TRANSFER   202978.65  C1932446672            0.0   \n",
       "\n",
       "         newbalanceOrig     nameDest  oldbalanceDest  newbalanceDest  isFraud  \\\n",
       "724                 0.0   C667346055          102.00      9291619.62        1   \n",
       "14861               0.0   C789014007        11397.00       184477.77        1   \n",
       "25875               0.0   C277510102            0.00       970749.68        1   \n",
       "77745               0.0   C571514738            0.00       277970.88        1   \n",
       "138559              0.0   C461905695      1283762.85      3217683.65        1   \n",
       "169998              0.0   C460735540        44170.11       193838.76        1   \n",
       "178668              0.0  C1700442291         2979.00       225027.71        1   \n",
       "200845              0.0  C2146670328            0.00       454859.39        1   \n",
       "291459              0.0  C1720721903            0.00        95428.32        1   \n",
       "296686              0.0  C1795377601      1274866.51      1314579.79        1   \n",
       "424928              0.0  C2090737806      1082007.65      1590789.85        1   \n",
       "479636              0.0  C1200316948            0.00       639940.20        1   \n",
       "543928              0.0  C1834461593       392364.62       415656.92        1   \n",
       "643671              0.0   C708118422        40512.49       152793.36        1   \n",
       "694551              0.0   C877378703        34937.86       269315.15        1   \n",
       "732891              0.0   C179706450       257274.47       369760.93        1   \n",
       "750755              0.0   C541373010            0.00       577418.98        1   \n",
       "764187              0.0  C1059308371            0.00       407005.78        1   \n",
       "920521              0.0  C1429415136       260806.21      1656656.77        1   \n",
       "1021951             0.0   C966173999      2122336.55      2325315.19        1   \n",
       "\n",
       "         isFlaggedFraud  \n",
       "724                   0  \n",
       "14861                 0  \n",
       "25875                 0  \n",
       "77745                 0  \n",
       "138559                0  \n",
       "169998                0  \n",
       "178668                0  \n",
       "200845                0  \n",
       "291459                0  \n",
       "296686                0  \n",
       "424928                0  \n",
       "479636                0  \n",
       "543928                0  \n",
       "643671                0  \n",
       "694551                0  \n",
       "732891                0  \n",
       "750755                0  \n",
       "764187                0  \n",
       "920521                0  \n",
       "1021951               0  "
      ]
     },
     "execution_count": 38,
     "metadata": {},
     "output_type": "execute_result"
    }
   ],
   "source": [
    "#finding out where oldbalance and new balance origin are zero with fraud customers\n",
    "\n",
    "zerobalance_df = df.loc[(df.isFraud == 1) & (df.oldbalanceOrg == 0) & (df.newbalanceOrig == 0)]\n",
    "zerobalance_df.head(20)"
   ]
  },
  {
   "cell_type": "code",
   "execution_count": 53,
   "id": "3192305e",
   "metadata": {},
   "outputs": [
    {
     "name": "stdout",
     "output_type": "stream",
     "text": [
      "Old balance at Origin\n",
      "Maximum Old Balance: 59585040.37\n",
      "Minimum Old Balance: 0.0\n",
      "\n",
      "\n",
      "New balance at Origin\n",
      "Maximum New Balance: 49585040.37\n",
      "Minimum New Balance: 0.0\n"
     ]
    }
   ],
   "source": [
    "#finding out the maximum and minimum old/new balance for origin with fraud label customers\n",
    "print(\"Old balance at Origin\")\n",
    "print(\"Maximum Old Balance:\",df.loc[df.isFraud == 1].oldbalanceOrg.max())\n",
    "print(\"Minimum Old Balance:\",df.loc[df.isFraud == 1].oldbalanceOrg.min())\n",
    "\n",
    "print(\"\\n\\nNew balance at Origin\")\n",
    "print(\"Maximum New Balance:\",df.loc[df.isFraud == 1].newbalanceOrig.max())\n",
    "print(\"Minimum New Balance:\",df.loc[df.isFraud == 1].newbalanceOrig.min())"
   ]
  },
  {
   "cell_type": "code",
   "execution_count": 40,
   "id": "9c5a2115",
   "metadata": {
    "scrolled": true
   },
   "outputs": [
    {
     "data": {
      "text/html": [
       "<div>\n",
       "<style scoped>\n",
       "    .dataframe tbody tr th:only-of-type {\n",
       "        vertical-align: middle;\n",
       "    }\n",
       "\n",
       "    .dataframe tbody tr th {\n",
       "        vertical-align: top;\n",
       "    }\n",
       "\n",
       "    .dataframe thead th {\n",
       "        text-align: right;\n",
       "    }\n",
       "</style>\n",
       "<table border=\"1\" class=\"dataframe\">\n",
       "  <thead>\n",
       "    <tr style=\"text-align: right;\">\n",
       "      <th></th>\n",
       "      <th>step</th>\n",
       "      <th>type</th>\n",
       "      <th>amount</th>\n",
       "      <th>nameOrig</th>\n",
       "      <th>oldbalanceOrg</th>\n",
       "      <th>newbalanceOrig</th>\n",
       "      <th>nameDest</th>\n",
       "      <th>oldbalanceDest</th>\n",
       "      <th>newbalanceDest</th>\n",
       "      <th>isFraud</th>\n",
       "      <th>isFlaggedFraud</th>\n",
       "    </tr>\n",
       "  </thead>\n",
       "  <tbody>\n",
       "    <tr>\n",
       "      <th>2</th>\n",
       "      <td>1</td>\n",
       "      <td>TRANSFER</td>\n",
       "      <td>181.00</td>\n",
       "      <td>C1305486145</td>\n",
       "      <td>181.00</td>\n",
       "      <td>0.00</td>\n",
       "      <td>C553264065</td>\n",
       "      <td>0.0</td>\n",
       "      <td>0.0</td>\n",
       "      <td>1</td>\n",
       "      <td>0</td>\n",
       "    </tr>\n",
       "    <tr>\n",
       "      <th>251</th>\n",
       "      <td>1</td>\n",
       "      <td>TRANSFER</td>\n",
       "      <td>2806.00</td>\n",
       "      <td>C1420196421</td>\n",
       "      <td>2806.00</td>\n",
       "      <td>0.00</td>\n",
       "      <td>C972765878</td>\n",
       "      <td>0.0</td>\n",
       "      <td>0.0</td>\n",
       "      <td>1</td>\n",
       "      <td>0</td>\n",
       "    </tr>\n",
       "    <tr>\n",
       "      <th>680</th>\n",
       "      <td>1</td>\n",
       "      <td>TRANSFER</td>\n",
       "      <td>20128.00</td>\n",
       "      <td>C137533655</td>\n",
       "      <td>20128.00</td>\n",
       "      <td>0.00</td>\n",
       "      <td>C1848415041</td>\n",
       "      <td>0.0</td>\n",
       "      <td>0.0</td>\n",
       "      <td>1</td>\n",
       "      <td>0</td>\n",
       "    </tr>\n",
       "    <tr>\n",
       "      <th>969</th>\n",
       "      <td>1</td>\n",
       "      <td>TRANSFER</td>\n",
       "      <td>1277212.77</td>\n",
       "      <td>C1334405552</td>\n",
       "      <td>1277212.77</td>\n",
       "      <td>0.00</td>\n",
       "      <td>C431687661</td>\n",
       "      <td>0.0</td>\n",
       "      <td>0.0</td>\n",
       "      <td>1</td>\n",
       "      <td>0</td>\n",
       "    </tr>\n",
       "    <tr>\n",
       "      <th>1115</th>\n",
       "      <td>1</td>\n",
       "      <td>TRANSFER</td>\n",
       "      <td>35063.63</td>\n",
       "      <td>C1364127192</td>\n",
       "      <td>35063.63</td>\n",
       "      <td>0.00</td>\n",
       "      <td>C1136419747</td>\n",
       "      <td>0.0</td>\n",
       "      <td>0.0</td>\n",
       "      <td>1</td>\n",
       "      <td>0</td>\n",
       "    </tr>\n",
       "    <tr>\n",
       "      <th>1869</th>\n",
       "      <td>1</td>\n",
       "      <td>TRANSFER</td>\n",
       "      <td>25071.46</td>\n",
       "      <td>C669700766</td>\n",
       "      <td>25071.46</td>\n",
       "      <td>0.00</td>\n",
       "      <td>C1384210339</td>\n",
       "      <td>0.0</td>\n",
       "      <td>0.0</td>\n",
       "      <td>1</td>\n",
       "      <td>0</td>\n",
       "    </tr>\n",
       "    <tr>\n",
       "      <th>2301</th>\n",
       "      <td>1</td>\n",
       "      <td>TRANSFER</td>\n",
       "      <td>235238.66</td>\n",
       "      <td>C1872047468</td>\n",
       "      <td>235238.66</td>\n",
       "      <td>0.00</td>\n",
       "      <td>C116289363</td>\n",
       "      <td>0.0</td>\n",
       "      <td>0.0</td>\n",
       "      <td>1</td>\n",
       "      <td>0</td>\n",
       "    </tr>\n",
       "    <tr>\n",
       "      <th>3059</th>\n",
       "      <td>2</td>\n",
       "      <td>TRANSFER</td>\n",
       "      <td>1096187.24</td>\n",
       "      <td>C1093223281</td>\n",
       "      <td>1096187.24</td>\n",
       "      <td>0.00</td>\n",
       "      <td>C2063275841</td>\n",
       "      <td>0.0</td>\n",
       "      <td>0.0</td>\n",
       "      <td>1</td>\n",
       "      <td>0</td>\n",
       "    </tr>\n",
       "    <tr>\n",
       "      <th>3162</th>\n",
       "      <td>2</td>\n",
       "      <td>TRANSFER</td>\n",
       "      <td>963532.14</td>\n",
       "      <td>C1440057381</td>\n",
       "      <td>963532.14</td>\n",
       "      <td>0.00</td>\n",
       "      <td>C268086000</td>\n",
       "      <td>0.0</td>\n",
       "      <td>0.0</td>\n",
       "      <td>1</td>\n",
       "      <td>0</td>\n",
       "    </tr>\n",
       "    <tr>\n",
       "      <th>3271</th>\n",
       "      <td>2</td>\n",
       "      <td>TRANSFER</td>\n",
       "      <td>14949.84</td>\n",
       "      <td>C140702728</td>\n",
       "      <td>14949.84</td>\n",
       "      <td>0.00</td>\n",
       "      <td>C634210724</td>\n",
       "      <td>0.0</td>\n",
       "      <td>0.0</td>\n",
       "      <td>1</td>\n",
       "      <td>0</td>\n",
       "    </tr>\n",
       "    <tr>\n",
       "      <th>3683</th>\n",
       "      <td>2</td>\n",
       "      <td>TRANSFER</td>\n",
       "      <td>18627.02</td>\n",
       "      <td>C1375503918</td>\n",
       "      <td>18627.02</td>\n",
       "      <td>0.00</td>\n",
       "      <td>C234430897</td>\n",
       "      <td>0.0</td>\n",
       "      <td>0.0</td>\n",
       "      <td>1</td>\n",
       "      <td>0</td>\n",
       "    </tr>\n",
       "    <tr>\n",
       "      <th>4103</th>\n",
       "      <td>3</td>\n",
       "      <td>TRANSFER</td>\n",
       "      <td>10539.37</td>\n",
       "      <td>C1134864869</td>\n",
       "      <td>10539.37</td>\n",
       "      <td>0.00</td>\n",
       "      <td>C118648358</td>\n",
       "      <td>0.0</td>\n",
       "      <td>0.0</td>\n",
       "      <td>1</td>\n",
       "      <td>0</td>\n",
       "    </tr>\n",
       "    <tr>\n",
       "      <th>4260</th>\n",
       "      <td>3</td>\n",
       "      <td>TRANSFER</td>\n",
       "      <td>22877.00</td>\n",
       "      <td>C1247938090</td>\n",
       "      <td>22877.00</td>\n",
       "      <td>0.00</td>\n",
       "      <td>C1002031672</td>\n",
       "      <td>0.0</td>\n",
       "      <td>0.0</td>\n",
       "      <td>1</td>\n",
       "      <td>0</td>\n",
       "    </tr>\n",
       "    <tr>\n",
       "      <th>4440</th>\n",
       "      <td>4</td>\n",
       "      <td>TRANSFER</td>\n",
       "      <td>10000000.00</td>\n",
       "      <td>C7162498</td>\n",
       "      <td>12930418.44</td>\n",
       "      <td>2930418.44</td>\n",
       "      <td>C945327594</td>\n",
       "      <td>0.0</td>\n",
       "      <td>0.0</td>\n",
       "      <td>1</td>\n",
       "      <td>0</td>\n",
       "    </tr>\n",
       "    <tr>\n",
       "      <th>4442</th>\n",
       "      <td>4</td>\n",
       "      <td>TRANSFER</td>\n",
       "      <td>2930418.44</td>\n",
       "      <td>C2047521920</td>\n",
       "      <td>2930418.44</td>\n",
       "      <td>0.00</td>\n",
       "      <td>C449261773</td>\n",
       "      <td>0.0</td>\n",
       "      <td>0.0</td>\n",
       "      <td>1</td>\n",
       "      <td>0</td>\n",
       "    </tr>\n",
       "    <tr>\n",
       "      <th>4667</th>\n",
       "      <td>4</td>\n",
       "      <td>TRANSFER</td>\n",
       "      <td>169941.73</td>\n",
       "      <td>C540962910</td>\n",
       "      <td>169941.73</td>\n",
       "      <td>0.00</td>\n",
       "      <td>C2127862399</td>\n",
       "      <td>0.0</td>\n",
       "      <td>0.0</td>\n",
       "      <td>1</td>\n",
       "      <td>0</td>\n",
       "    </tr>\n",
       "    <tr>\n",
       "      <th>4693</th>\n",
       "      <td>4</td>\n",
       "      <td>TRANSFER</td>\n",
       "      <td>13707.11</td>\n",
       "      <td>C17222024</td>\n",
       "      <td>13707.11</td>\n",
       "      <td>0.00</td>\n",
       "      <td>C410033330</td>\n",
       "      <td>0.0</td>\n",
       "      <td>0.0</td>\n",
       "      <td>1</td>\n",
       "      <td>0</td>\n",
       "    </tr>\n",
       "    <tr>\n",
       "      <th>4775</th>\n",
       "      <td>4</td>\n",
       "      <td>TRANSFER</td>\n",
       "      <td>86070.17</td>\n",
       "      <td>C1844941220</td>\n",
       "      <td>86070.17</td>\n",
       "      <td>0.00</td>\n",
       "      <td>C1191544932</td>\n",
       "      <td>0.0</td>\n",
       "      <td>0.0</td>\n",
       "      <td>1</td>\n",
       "      <td>0</td>\n",
       "    </tr>\n",
       "    <tr>\n",
       "      <th>4857</th>\n",
       "      <td>5</td>\n",
       "      <td>TRANSFER</td>\n",
       "      <td>120074.73</td>\n",
       "      <td>C1409933277</td>\n",
       "      <td>120074.73</td>\n",
       "      <td>0.00</td>\n",
       "      <td>C162114152</td>\n",
       "      <td>0.0</td>\n",
       "      <td>0.0</td>\n",
       "      <td>1</td>\n",
       "      <td>0</td>\n",
       "    </tr>\n",
       "    <tr>\n",
       "      <th>5123</th>\n",
       "      <td>5</td>\n",
       "      <td>TRANSFER</td>\n",
       "      <td>60726.57</td>\n",
       "      <td>C383882703</td>\n",
       "      <td>60726.57</td>\n",
       "      <td>0.00</td>\n",
       "      <td>C1807010830</td>\n",
       "      <td>0.0</td>\n",
       "      <td>0.0</td>\n",
       "      <td>1</td>\n",
       "      <td>0</td>\n",
       "    </tr>\n",
       "  </tbody>\n",
       "</table>\n",
       "</div>"
      ],
      "text/plain": [
       "      step      type       amount     nameOrig  oldbalanceOrg  newbalanceOrig  \\\n",
       "2        1  TRANSFER       181.00  C1305486145         181.00            0.00   \n",
       "251      1  TRANSFER      2806.00  C1420196421        2806.00            0.00   \n",
       "680      1  TRANSFER     20128.00   C137533655       20128.00            0.00   \n",
       "969      1  TRANSFER   1277212.77  C1334405552     1277212.77            0.00   \n",
       "1115     1  TRANSFER     35063.63  C1364127192       35063.63            0.00   \n",
       "1869     1  TRANSFER     25071.46   C669700766       25071.46            0.00   \n",
       "2301     1  TRANSFER    235238.66  C1872047468      235238.66            0.00   \n",
       "3059     2  TRANSFER   1096187.24  C1093223281     1096187.24            0.00   \n",
       "3162     2  TRANSFER    963532.14  C1440057381      963532.14            0.00   \n",
       "3271     2  TRANSFER     14949.84   C140702728       14949.84            0.00   \n",
       "3683     2  TRANSFER     18627.02  C1375503918       18627.02            0.00   \n",
       "4103     3  TRANSFER     10539.37  C1134864869       10539.37            0.00   \n",
       "4260     3  TRANSFER     22877.00  C1247938090       22877.00            0.00   \n",
       "4440     4  TRANSFER  10000000.00     C7162498    12930418.44      2930418.44   \n",
       "4442     4  TRANSFER   2930418.44  C2047521920     2930418.44            0.00   \n",
       "4667     4  TRANSFER    169941.73   C540962910      169941.73            0.00   \n",
       "4693     4  TRANSFER     13707.11    C17222024       13707.11            0.00   \n",
       "4775     4  TRANSFER     86070.17  C1844941220       86070.17            0.00   \n",
       "4857     5  TRANSFER    120074.73  C1409933277      120074.73            0.00   \n",
       "5123     5  TRANSFER     60726.57   C383882703       60726.57            0.00   \n",
       "\n",
       "         nameDest  oldbalanceDest  newbalanceDest  isFraud  isFlaggedFraud  \n",
       "2      C553264065             0.0             0.0        1               0  \n",
       "251    C972765878             0.0             0.0        1               0  \n",
       "680   C1848415041             0.0             0.0        1               0  \n",
       "969    C431687661             0.0             0.0        1               0  \n",
       "1115  C1136419747             0.0             0.0        1               0  \n",
       "1869  C1384210339             0.0             0.0        1               0  \n",
       "2301   C116289363             0.0             0.0        1               0  \n",
       "3059  C2063275841             0.0             0.0        1               0  \n",
       "3162   C268086000             0.0             0.0        1               0  \n",
       "3271   C634210724             0.0             0.0        1               0  \n",
       "3683   C234430897             0.0             0.0        1               0  \n",
       "4103   C118648358             0.0             0.0        1               0  \n",
       "4260  C1002031672             0.0             0.0        1               0  \n",
       "4440   C945327594             0.0             0.0        1               0  \n",
       "4442   C449261773             0.0             0.0        1               0  \n",
       "4667  C2127862399             0.0             0.0        1               0  \n",
       "4693   C410033330             0.0             0.0        1               0  \n",
       "4775  C1191544932             0.0             0.0        1               0  \n",
       "4857   C162114152             0.0             0.0        1               0  \n",
       "5123  C1807010830             0.0             0.0        1               0  "
      ]
     },
     "execution_count": 40,
     "metadata": {},
     "output_type": "execute_result"
    }
   ],
   "source": [
    "#finding out where oldbalance and new balance destination are zero with fraud customers\n",
    "\n",
    "zerobalanceD_df = df.loc[(df.isFraud == 1) & (df.oldbalanceDest == 0) & (df.newbalanceDest == 0)]\n",
    "zerobalanceD_df.head(20)"
   ]
  },
  {
   "cell_type": "code",
   "execution_count": 54,
   "id": "e1a6e24d",
   "metadata": {},
   "outputs": [
    {
     "name": "stdout",
     "output_type": "stream",
     "text": [
      "Old balance at Destination\n",
      "Maximum Old Balance: 236230516.82\n",
      "Minimum Old Balance: 0.0\n",
      "\n",
      "\n",
      "New balance at Destination\n",
      "Maximum New Balance: 236726494.66\n",
      "Minimum New Balance: 0.0\n"
     ]
    }
   ],
   "source": [
    "#finding out the maximum and minimum old/new balance for destination with fraud label customers\n",
    "print(\"Old balance at Destination\")\n",
    "print(\"Maximum Old Balance:\",df.loc[df.isFraud == 1].oldbalanceDest.max())\n",
    "print(\"Minimum Old Balance:\",df.loc[df.isFraud == 1].oldbalanceDest.min())\n",
    "\n",
    "print(\"\\n\\nNew balance at Destination\")\n",
    "print(\"Maximum New Balance:\",df.loc[df.isFraud == 1].newbalanceDest.max())\n",
    "print(\"Minimum New Balance:\",df.loc[df.isFraud == 1].newbalanceDest.min())"
   ]
  },
  {
   "cell_type": "code",
   "execution_count": 42,
   "id": "13becb6a",
   "metadata": {},
   "outputs": [
    {
     "data": {
      "text/html": [
       "<div>\n",
       "<style scoped>\n",
       "    .dataframe tbody tr th:only-of-type {\n",
       "        vertical-align: middle;\n",
       "    }\n",
       "\n",
       "    .dataframe tbody tr th {\n",
       "        vertical-align: top;\n",
       "    }\n",
       "\n",
       "    .dataframe thead th {\n",
       "        text-align: right;\n",
       "    }\n",
       "</style>\n",
       "<table border=\"1\" class=\"dataframe\">\n",
       "  <thead>\n",
       "    <tr style=\"text-align: right;\">\n",
       "      <th></th>\n",
       "      <th>step</th>\n",
       "      <th>type</th>\n",
       "      <th>amount</th>\n",
       "      <th>nameOrig</th>\n",
       "      <th>oldbalanceOrg</th>\n",
       "      <th>newbalanceOrig</th>\n",
       "      <th>nameDest</th>\n",
       "      <th>oldbalanceDest</th>\n",
       "      <th>newbalanceDest</th>\n",
       "      <th>isFraud</th>\n",
       "      <th>isFlaggedFraud</th>\n",
       "    </tr>\n",
       "  </thead>\n",
       "  <tbody>\n",
       "    <tr>\n",
       "      <th>2736447</th>\n",
       "      <td>212</td>\n",
       "      <td>CASH_OUT</td>\n",
       "      <td>0.0</td>\n",
       "      <td>C1510987794</td>\n",
       "      <td>0.0</td>\n",
       "      <td>0.0</td>\n",
       "      <td>C1696624817</td>\n",
       "      <td>0.0</td>\n",
       "      <td>0.0</td>\n",
       "      <td>1</td>\n",
       "      <td>0</td>\n",
       "    </tr>\n",
       "    <tr>\n",
       "      <th>3247298</th>\n",
       "      <td>250</td>\n",
       "      <td>CASH_OUT</td>\n",
       "      <td>0.0</td>\n",
       "      <td>C521393327</td>\n",
       "      <td>0.0</td>\n",
       "      <td>0.0</td>\n",
       "      <td>C480398193</td>\n",
       "      <td>0.0</td>\n",
       "      <td>0.0</td>\n",
       "      <td>1</td>\n",
       "      <td>0</td>\n",
       "    </tr>\n",
       "    <tr>\n",
       "      <th>6266414</th>\n",
       "      <td>617</td>\n",
       "      <td>CASH_OUT</td>\n",
       "      <td>0.0</td>\n",
       "      <td>C1971175979</td>\n",
       "      <td>0.0</td>\n",
       "      <td>0.0</td>\n",
       "      <td>C1352345416</td>\n",
       "      <td>0.0</td>\n",
       "      <td>0.0</td>\n",
       "      <td>1</td>\n",
       "      <td>0</td>\n",
       "    </tr>\n",
       "    <tr>\n",
       "      <th>6281483</th>\n",
       "      <td>646</td>\n",
       "      <td>CASH_OUT</td>\n",
       "      <td>0.0</td>\n",
       "      <td>C2060908932</td>\n",
       "      <td>0.0</td>\n",
       "      <td>0.0</td>\n",
       "      <td>C1587892888</td>\n",
       "      <td>0.0</td>\n",
       "      <td>0.0</td>\n",
       "      <td>1</td>\n",
       "      <td>0</td>\n",
       "    </tr>\n",
       "    <tr>\n",
       "      <th>6281485</th>\n",
       "      <td>646</td>\n",
       "      <td>CASH_OUT</td>\n",
       "      <td>0.0</td>\n",
       "      <td>C1997645312</td>\n",
       "      <td>0.0</td>\n",
       "      <td>0.0</td>\n",
       "      <td>C601248796</td>\n",
       "      <td>0.0</td>\n",
       "      <td>0.0</td>\n",
       "      <td>1</td>\n",
       "      <td>0</td>\n",
       "    </tr>\n",
       "    <tr>\n",
       "      <th>6362463</th>\n",
       "      <td>730</td>\n",
       "      <td>CASH_OUT</td>\n",
       "      <td>0.0</td>\n",
       "      <td>C2088151490</td>\n",
       "      <td>0.0</td>\n",
       "      <td>0.0</td>\n",
       "      <td>C1156763710</td>\n",
       "      <td>0.0</td>\n",
       "      <td>0.0</td>\n",
       "      <td>1</td>\n",
       "      <td>0</td>\n",
       "    </tr>\n",
       "  </tbody>\n",
       "</table>\n",
       "</div>"
      ],
      "text/plain": [
       "         step      type  amount     nameOrig  oldbalanceOrg  newbalanceOrig  \\\n",
       "2736447   212  CASH_OUT     0.0  C1510987794            0.0             0.0   \n",
       "3247298   250  CASH_OUT     0.0   C521393327            0.0             0.0   \n",
       "6266414   617  CASH_OUT     0.0  C1971175979            0.0             0.0   \n",
       "6281483   646  CASH_OUT     0.0  C2060908932            0.0             0.0   \n",
       "6281485   646  CASH_OUT     0.0  C1997645312            0.0             0.0   \n",
       "6362463   730  CASH_OUT     0.0  C2088151490            0.0             0.0   \n",
       "\n",
       "            nameDest  oldbalanceDest  newbalanceDest  isFraud  isFlaggedFraud  \n",
       "2736447  C1696624817             0.0             0.0        1               0  \n",
       "3247298   C480398193             0.0             0.0        1               0  \n",
       "6266414  C1352345416             0.0             0.0        1               0  \n",
       "6281483  C1587892888             0.0             0.0        1               0  \n",
       "6281485   C601248796             0.0             0.0        1               0  \n",
       "6362463  C1156763710             0.0             0.0        1               0  "
      ]
     },
     "execution_count": 42,
     "metadata": {},
     "output_type": "execute_result"
    }
   ],
   "source": [
    "#finding out where all four balances are zero with fraud label\n",
    "\n",
    "zerobalanceC_df = df.loc[(df.isFraud == 1) & (df.oldbalanceDest == 0) & (df.newbalanceDest == 0) & (df.oldbalanceOrg == 0) & (df.newbalanceOrig == 0)]\n",
    "zerobalanceC_df"
   ]
  },
  {
   "cell_type": "code",
   "execution_count": 48,
   "id": "99ace8e1",
   "metadata": {},
   "outputs": [
    {
     "data": {
      "text/html": [
       "<div>\n",
       "<style scoped>\n",
       "    .dataframe tbody tr th:only-of-type {\n",
       "        vertical-align: middle;\n",
       "    }\n",
       "\n",
       "    .dataframe tbody tr th {\n",
       "        vertical-align: top;\n",
       "    }\n",
       "\n",
       "    .dataframe thead th {\n",
       "        text-align: right;\n",
       "    }\n",
       "</style>\n",
       "<table border=\"1\" class=\"dataframe\">\n",
       "  <thead>\n",
       "    <tr style=\"text-align: right;\">\n",
       "      <th></th>\n",
       "      <th>step</th>\n",
       "      <th>type</th>\n",
       "      <th>amount</th>\n",
       "      <th>nameOrig</th>\n",
       "      <th>oldbalanceOrg</th>\n",
       "      <th>newbalanceOrig</th>\n",
       "      <th>nameDest</th>\n",
       "      <th>oldbalanceDest</th>\n",
       "      <th>newbalanceDest</th>\n",
       "      <th>isFraud</th>\n",
       "      <th>isFlaggedFraud</th>\n",
       "    </tr>\n",
       "  </thead>\n",
       "  <tbody>\n",
       "    <tr>\n",
       "      <th>2736446</th>\n",
       "      <td>212</td>\n",
       "      <td>TRANSFER</td>\n",
       "      <td>4953893.08</td>\n",
       "      <td>C728984460</td>\n",
       "      <td>4953893.08</td>\n",
       "      <td>4953893.08</td>\n",
       "      <td>C639921569</td>\n",
       "      <td>0.0</td>\n",
       "      <td>0.0</td>\n",
       "      <td>1</td>\n",
       "      <td>1</td>\n",
       "    </tr>\n",
       "    <tr>\n",
       "      <th>3247297</th>\n",
       "      <td>250</td>\n",
       "      <td>TRANSFER</td>\n",
       "      <td>1343002.08</td>\n",
       "      <td>C1100582606</td>\n",
       "      <td>1343002.08</td>\n",
       "      <td>1343002.08</td>\n",
       "      <td>C1147517658</td>\n",
       "      <td>0.0</td>\n",
       "      <td>0.0</td>\n",
       "      <td>1</td>\n",
       "      <td>1</td>\n",
       "    </tr>\n",
       "    <tr>\n",
       "      <th>3760288</th>\n",
       "      <td>279</td>\n",
       "      <td>TRANSFER</td>\n",
       "      <td>536624.41</td>\n",
       "      <td>C1035541766</td>\n",
       "      <td>536624.41</td>\n",
       "      <td>536624.41</td>\n",
       "      <td>C1100697970</td>\n",
       "      <td>0.0</td>\n",
       "      <td>0.0</td>\n",
       "      <td>1</td>\n",
       "      <td>1</td>\n",
       "    </tr>\n",
       "    <tr>\n",
       "      <th>5563713</th>\n",
       "      <td>387</td>\n",
       "      <td>TRANSFER</td>\n",
       "      <td>4892193.09</td>\n",
       "      <td>C908544136</td>\n",
       "      <td>4892193.09</td>\n",
       "      <td>4892193.09</td>\n",
       "      <td>C891140444</td>\n",
       "      <td>0.0</td>\n",
       "      <td>0.0</td>\n",
       "      <td>1</td>\n",
       "      <td>1</td>\n",
       "    </tr>\n",
       "    <tr>\n",
       "      <th>5996407</th>\n",
       "      <td>425</td>\n",
       "      <td>TRANSFER</td>\n",
       "      <td>10000000.00</td>\n",
       "      <td>C689608084</td>\n",
       "      <td>19585040.37</td>\n",
       "      <td>19585040.37</td>\n",
       "      <td>C1392803603</td>\n",
       "      <td>0.0</td>\n",
       "      <td>0.0</td>\n",
       "      <td>1</td>\n",
       "      <td>1</td>\n",
       "    </tr>\n",
       "    <tr>\n",
       "      <th>5996409</th>\n",
       "      <td>425</td>\n",
       "      <td>TRANSFER</td>\n",
       "      <td>9585040.37</td>\n",
       "      <td>C452586515</td>\n",
       "      <td>19585040.37</td>\n",
       "      <td>19585040.37</td>\n",
       "      <td>C1109166882</td>\n",
       "      <td>0.0</td>\n",
       "      <td>0.0</td>\n",
       "      <td>1</td>\n",
       "      <td>1</td>\n",
       "    </tr>\n",
       "    <tr>\n",
       "      <th>6168499</th>\n",
       "      <td>554</td>\n",
       "      <td>TRANSFER</td>\n",
       "      <td>3576297.10</td>\n",
       "      <td>C193696150</td>\n",
       "      <td>3576297.10</td>\n",
       "      <td>3576297.10</td>\n",
       "      <td>C484597480</td>\n",
       "      <td>0.0</td>\n",
       "      <td>0.0</td>\n",
       "      <td>1</td>\n",
       "      <td>1</td>\n",
       "    </tr>\n",
       "    <tr>\n",
       "      <th>6205439</th>\n",
       "      <td>586</td>\n",
       "      <td>TRANSFER</td>\n",
       "      <td>353874.22</td>\n",
       "      <td>C1684585475</td>\n",
       "      <td>353874.22</td>\n",
       "      <td>353874.22</td>\n",
       "      <td>C1770418982</td>\n",
       "      <td>0.0</td>\n",
       "      <td>0.0</td>\n",
       "      <td>1</td>\n",
       "      <td>1</td>\n",
       "    </tr>\n",
       "    <tr>\n",
       "      <th>6266413</th>\n",
       "      <td>617</td>\n",
       "      <td>TRANSFER</td>\n",
       "      <td>2542664.27</td>\n",
       "      <td>C786455622</td>\n",
       "      <td>2542664.27</td>\n",
       "      <td>2542664.27</td>\n",
       "      <td>C661958277</td>\n",
       "      <td>0.0</td>\n",
       "      <td>0.0</td>\n",
       "      <td>1</td>\n",
       "      <td>1</td>\n",
       "    </tr>\n",
       "    <tr>\n",
       "      <th>6281482</th>\n",
       "      <td>646</td>\n",
       "      <td>TRANSFER</td>\n",
       "      <td>10000000.00</td>\n",
       "      <td>C19004745</td>\n",
       "      <td>10399045.08</td>\n",
       "      <td>10399045.08</td>\n",
       "      <td>C1806199534</td>\n",
       "      <td>0.0</td>\n",
       "      <td>0.0</td>\n",
       "      <td>1</td>\n",
       "      <td>1</td>\n",
       "    </tr>\n",
       "    <tr>\n",
       "      <th>6281484</th>\n",
       "      <td>646</td>\n",
       "      <td>TRANSFER</td>\n",
       "      <td>399045.08</td>\n",
       "      <td>C724693370</td>\n",
       "      <td>10399045.08</td>\n",
       "      <td>10399045.08</td>\n",
       "      <td>C1909486199</td>\n",
       "      <td>0.0</td>\n",
       "      <td>0.0</td>\n",
       "      <td>1</td>\n",
       "      <td>1</td>\n",
       "    </tr>\n",
       "    <tr>\n",
       "      <th>6296014</th>\n",
       "      <td>671</td>\n",
       "      <td>TRANSFER</td>\n",
       "      <td>3441041.46</td>\n",
       "      <td>C917414431</td>\n",
       "      <td>3441041.46</td>\n",
       "      <td>3441041.46</td>\n",
       "      <td>C1082139865</td>\n",
       "      <td>0.0</td>\n",
       "      <td>0.0</td>\n",
       "      <td>1</td>\n",
       "      <td>1</td>\n",
       "    </tr>\n",
       "    <tr>\n",
       "      <th>6351225</th>\n",
       "      <td>702</td>\n",
       "      <td>TRANSFER</td>\n",
       "      <td>3171085.59</td>\n",
       "      <td>C1892216157</td>\n",
       "      <td>3171085.59</td>\n",
       "      <td>3171085.59</td>\n",
       "      <td>C1308068787</td>\n",
       "      <td>0.0</td>\n",
       "      <td>0.0</td>\n",
       "      <td>1</td>\n",
       "      <td>1</td>\n",
       "    </tr>\n",
       "    <tr>\n",
       "      <th>6362460</th>\n",
       "      <td>730</td>\n",
       "      <td>TRANSFER</td>\n",
       "      <td>10000000.00</td>\n",
       "      <td>C2140038573</td>\n",
       "      <td>17316255.05</td>\n",
       "      <td>17316255.05</td>\n",
       "      <td>C1395467927</td>\n",
       "      <td>0.0</td>\n",
       "      <td>0.0</td>\n",
       "      <td>1</td>\n",
       "      <td>1</td>\n",
       "    </tr>\n",
       "    <tr>\n",
       "      <th>6362462</th>\n",
       "      <td>730</td>\n",
       "      <td>TRANSFER</td>\n",
       "      <td>7316255.05</td>\n",
       "      <td>C1869569059</td>\n",
       "      <td>17316255.05</td>\n",
       "      <td>17316255.05</td>\n",
       "      <td>C1861208726</td>\n",
       "      <td>0.0</td>\n",
       "      <td>0.0</td>\n",
       "      <td>1</td>\n",
       "      <td>1</td>\n",
       "    </tr>\n",
       "    <tr>\n",
       "      <th>6362584</th>\n",
       "      <td>741</td>\n",
       "      <td>TRANSFER</td>\n",
       "      <td>5674547.89</td>\n",
       "      <td>C992223106</td>\n",
       "      <td>5674547.89</td>\n",
       "      <td>5674547.89</td>\n",
       "      <td>C1366804249</td>\n",
       "      <td>0.0</td>\n",
       "      <td>0.0</td>\n",
       "      <td>1</td>\n",
       "      <td>1</td>\n",
       "    </tr>\n",
       "  </tbody>\n",
       "</table>\n",
       "</div>"
      ],
      "text/plain": [
       "         step      type       amount     nameOrig  oldbalanceOrg  \\\n",
       "2736446   212  TRANSFER   4953893.08   C728984460     4953893.08   \n",
       "3247297   250  TRANSFER   1343002.08  C1100582606     1343002.08   \n",
       "3760288   279  TRANSFER    536624.41  C1035541766      536624.41   \n",
       "5563713   387  TRANSFER   4892193.09   C908544136     4892193.09   \n",
       "5996407   425  TRANSFER  10000000.00   C689608084    19585040.37   \n",
       "5996409   425  TRANSFER   9585040.37   C452586515    19585040.37   \n",
       "6168499   554  TRANSFER   3576297.10   C193696150     3576297.10   \n",
       "6205439   586  TRANSFER    353874.22  C1684585475      353874.22   \n",
       "6266413   617  TRANSFER   2542664.27   C786455622     2542664.27   \n",
       "6281482   646  TRANSFER  10000000.00    C19004745    10399045.08   \n",
       "6281484   646  TRANSFER    399045.08   C724693370    10399045.08   \n",
       "6296014   671  TRANSFER   3441041.46   C917414431     3441041.46   \n",
       "6351225   702  TRANSFER   3171085.59  C1892216157     3171085.59   \n",
       "6362460   730  TRANSFER  10000000.00  C2140038573    17316255.05   \n",
       "6362462   730  TRANSFER   7316255.05  C1869569059    17316255.05   \n",
       "6362584   741  TRANSFER   5674547.89   C992223106     5674547.89   \n",
       "\n",
       "         newbalanceOrig     nameDest  oldbalanceDest  newbalanceDest  isFraud  \\\n",
       "2736446      4953893.08   C639921569             0.0             0.0        1   \n",
       "3247297      1343002.08  C1147517658             0.0             0.0        1   \n",
       "3760288       536624.41  C1100697970             0.0             0.0        1   \n",
       "5563713      4892193.09   C891140444             0.0             0.0        1   \n",
       "5996407     19585040.37  C1392803603             0.0             0.0        1   \n",
       "5996409     19585040.37  C1109166882             0.0             0.0        1   \n",
       "6168499      3576297.10   C484597480             0.0             0.0        1   \n",
       "6205439       353874.22  C1770418982             0.0             0.0        1   \n",
       "6266413      2542664.27   C661958277             0.0             0.0        1   \n",
       "6281482     10399045.08  C1806199534             0.0             0.0        1   \n",
       "6281484     10399045.08  C1909486199             0.0             0.0        1   \n",
       "6296014      3441041.46  C1082139865             0.0             0.0        1   \n",
       "6351225      3171085.59  C1308068787             0.0             0.0        1   \n",
       "6362460     17316255.05  C1395467927             0.0             0.0        1   \n",
       "6362462     17316255.05  C1861208726             0.0             0.0        1   \n",
       "6362584      5674547.89  C1366804249             0.0             0.0        1   \n",
       "\n",
       "         isFlaggedFraud  \n",
       "2736446               1  \n",
       "3247297               1  \n",
       "3760288               1  \n",
       "5563713               1  \n",
       "5996407               1  \n",
       "5996409               1  \n",
       "6168499               1  \n",
       "6205439               1  \n",
       "6266413               1  \n",
       "6281482               1  \n",
       "6281484               1  \n",
       "6296014               1  \n",
       "6351225               1  \n",
       "6362460               1  \n",
       "6362462               1  \n",
       "6362584               1  "
      ]
     },
     "execution_count": 48,
     "metadata": {},
     "output_type": "execute_result"
    }
   ],
   "source": [
    "#finding out fraud flagged customers when fraud is also labelled on the customer\n",
    "\n",
    "flagged_df = df.loc[(df.isFlaggedFraud == 1) & (df.isFraud == 1)]\n",
    "flagged_df"
   ]
  },
  {
   "cell_type": "code",
   "execution_count": 49,
   "id": "cdfa150b",
   "metadata": {},
   "outputs": [
    {
     "data": {
      "text/plain": [
       "array(['TRANSFER'], dtype=object)"
      ]
     },
     "execution_count": 49,
     "metadata": {},
     "output_type": "execute_result"
    }
   ],
   "source": [
    "#finding out the transaction type with flagged fraud person\n",
    "\n",
    "df.loc[df.isFlaggedFraud == 1].type.unique()"
   ]
  },
  {
   "cell_type": "markdown",
   "id": "b85de5e0",
   "metadata": {},
   "source": [
    "- Only transfer type transaction has flagged fraud customer"
   ]
  },
  {
   "cell_type": "code",
   "execution_count": 55,
   "id": "78586fdf",
   "metadata": {},
   "outputs": [
    {
     "data": {
      "text/html": [
       "<div>\n",
       "<style scoped>\n",
       "    .dataframe tbody tr th:only-of-type {\n",
       "        vertical-align: middle;\n",
       "    }\n",
       "\n",
       "    .dataframe tbody tr th {\n",
       "        vertical-align: top;\n",
       "    }\n",
       "\n",
       "    .dataframe thead th {\n",
       "        text-align: right;\n",
       "    }\n",
       "</style>\n",
       "<table border=\"1\" class=\"dataframe\">\n",
       "  <thead>\n",
       "    <tr style=\"text-align: right;\">\n",
       "      <th></th>\n",
       "      <th>step</th>\n",
       "      <th>type</th>\n",
       "      <th>amount</th>\n",
       "      <th>nameOrig</th>\n",
       "      <th>oldbalanceOrg</th>\n",
       "      <th>newbalanceOrig</th>\n",
       "      <th>nameDest</th>\n",
       "      <th>oldbalanceDest</th>\n",
       "      <th>newbalanceDest</th>\n",
       "      <th>isFraud</th>\n",
       "      <th>isFlaggedFraud</th>\n",
       "    </tr>\n",
       "  </thead>\n",
       "  <tbody>\n",
       "    <tr>\n",
       "      <th>2736446</th>\n",
       "      <td>212</td>\n",
       "      <td>TRANSFER</td>\n",
       "      <td>4953893.08</td>\n",
       "      <td>C728984460</td>\n",
       "      <td>4953893.08</td>\n",
       "      <td>4953893.08</td>\n",
       "      <td>C639921569</td>\n",
       "      <td>0.0</td>\n",
       "      <td>0.0</td>\n",
       "      <td>1</td>\n",
       "      <td>1</td>\n",
       "    </tr>\n",
       "    <tr>\n",
       "      <th>3247297</th>\n",
       "      <td>250</td>\n",
       "      <td>TRANSFER</td>\n",
       "      <td>1343002.08</td>\n",
       "      <td>C1100582606</td>\n",
       "      <td>1343002.08</td>\n",
       "      <td>1343002.08</td>\n",
       "      <td>C1147517658</td>\n",
       "      <td>0.0</td>\n",
       "      <td>0.0</td>\n",
       "      <td>1</td>\n",
       "      <td>1</td>\n",
       "    </tr>\n",
       "    <tr>\n",
       "      <th>3760288</th>\n",
       "      <td>279</td>\n",
       "      <td>TRANSFER</td>\n",
       "      <td>536624.41</td>\n",
       "      <td>C1035541766</td>\n",
       "      <td>536624.41</td>\n",
       "      <td>536624.41</td>\n",
       "      <td>C1100697970</td>\n",
       "      <td>0.0</td>\n",
       "      <td>0.0</td>\n",
       "      <td>1</td>\n",
       "      <td>1</td>\n",
       "    </tr>\n",
       "    <tr>\n",
       "      <th>5563713</th>\n",
       "      <td>387</td>\n",
       "      <td>TRANSFER</td>\n",
       "      <td>4892193.09</td>\n",
       "      <td>C908544136</td>\n",
       "      <td>4892193.09</td>\n",
       "      <td>4892193.09</td>\n",
       "      <td>C891140444</td>\n",
       "      <td>0.0</td>\n",
       "      <td>0.0</td>\n",
       "      <td>1</td>\n",
       "      <td>1</td>\n",
       "    </tr>\n",
       "    <tr>\n",
       "      <th>5996407</th>\n",
       "      <td>425</td>\n",
       "      <td>TRANSFER</td>\n",
       "      <td>10000000.00</td>\n",
       "      <td>C689608084</td>\n",
       "      <td>19585040.37</td>\n",
       "      <td>19585040.37</td>\n",
       "      <td>C1392803603</td>\n",
       "      <td>0.0</td>\n",
       "      <td>0.0</td>\n",
       "      <td>1</td>\n",
       "      <td>1</td>\n",
       "    </tr>\n",
       "    <tr>\n",
       "      <th>5996409</th>\n",
       "      <td>425</td>\n",
       "      <td>TRANSFER</td>\n",
       "      <td>9585040.37</td>\n",
       "      <td>C452586515</td>\n",
       "      <td>19585040.37</td>\n",
       "      <td>19585040.37</td>\n",
       "      <td>C1109166882</td>\n",
       "      <td>0.0</td>\n",
       "      <td>0.0</td>\n",
       "      <td>1</td>\n",
       "      <td>1</td>\n",
       "    </tr>\n",
       "    <tr>\n",
       "      <th>6168499</th>\n",
       "      <td>554</td>\n",
       "      <td>TRANSFER</td>\n",
       "      <td>3576297.10</td>\n",
       "      <td>C193696150</td>\n",
       "      <td>3576297.10</td>\n",
       "      <td>3576297.10</td>\n",
       "      <td>C484597480</td>\n",
       "      <td>0.0</td>\n",
       "      <td>0.0</td>\n",
       "      <td>1</td>\n",
       "      <td>1</td>\n",
       "    </tr>\n",
       "    <tr>\n",
       "      <th>6205439</th>\n",
       "      <td>586</td>\n",
       "      <td>TRANSFER</td>\n",
       "      <td>353874.22</td>\n",
       "      <td>C1684585475</td>\n",
       "      <td>353874.22</td>\n",
       "      <td>353874.22</td>\n",
       "      <td>C1770418982</td>\n",
       "      <td>0.0</td>\n",
       "      <td>0.0</td>\n",
       "      <td>1</td>\n",
       "      <td>1</td>\n",
       "    </tr>\n",
       "    <tr>\n",
       "      <th>6266413</th>\n",
       "      <td>617</td>\n",
       "      <td>TRANSFER</td>\n",
       "      <td>2542664.27</td>\n",
       "      <td>C786455622</td>\n",
       "      <td>2542664.27</td>\n",
       "      <td>2542664.27</td>\n",
       "      <td>C661958277</td>\n",
       "      <td>0.0</td>\n",
       "      <td>0.0</td>\n",
       "      <td>1</td>\n",
       "      <td>1</td>\n",
       "    </tr>\n",
       "    <tr>\n",
       "      <th>6281482</th>\n",
       "      <td>646</td>\n",
       "      <td>TRANSFER</td>\n",
       "      <td>10000000.00</td>\n",
       "      <td>C19004745</td>\n",
       "      <td>10399045.08</td>\n",
       "      <td>10399045.08</td>\n",
       "      <td>C1806199534</td>\n",
       "      <td>0.0</td>\n",
       "      <td>0.0</td>\n",
       "      <td>1</td>\n",
       "      <td>1</td>\n",
       "    </tr>\n",
       "    <tr>\n",
       "      <th>6281484</th>\n",
       "      <td>646</td>\n",
       "      <td>TRANSFER</td>\n",
       "      <td>399045.08</td>\n",
       "      <td>C724693370</td>\n",
       "      <td>10399045.08</td>\n",
       "      <td>10399045.08</td>\n",
       "      <td>C1909486199</td>\n",
       "      <td>0.0</td>\n",
       "      <td>0.0</td>\n",
       "      <td>1</td>\n",
       "      <td>1</td>\n",
       "    </tr>\n",
       "    <tr>\n",
       "      <th>6296014</th>\n",
       "      <td>671</td>\n",
       "      <td>TRANSFER</td>\n",
       "      <td>3441041.46</td>\n",
       "      <td>C917414431</td>\n",
       "      <td>3441041.46</td>\n",
       "      <td>3441041.46</td>\n",
       "      <td>C1082139865</td>\n",
       "      <td>0.0</td>\n",
       "      <td>0.0</td>\n",
       "      <td>1</td>\n",
       "      <td>1</td>\n",
       "    </tr>\n",
       "    <tr>\n",
       "      <th>6351225</th>\n",
       "      <td>702</td>\n",
       "      <td>TRANSFER</td>\n",
       "      <td>3171085.59</td>\n",
       "      <td>C1892216157</td>\n",
       "      <td>3171085.59</td>\n",
       "      <td>3171085.59</td>\n",
       "      <td>C1308068787</td>\n",
       "      <td>0.0</td>\n",
       "      <td>0.0</td>\n",
       "      <td>1</td>\n",
       "      <td>1</td>\n",
       "    </tr>\n",
       "    <tr>\n",
       "      <th>6362460</th>\n",
       "      <td>730</td>\n",
       "      <td>TRANSFER</td>\n",
       "      <td>10000000.00</td>\n",
       "      <td>C2140038573</td>\n",
       "      <td>17316255.05</td>\n",
       "      <td>17316255.05</td>\n",
       "      <td>C1395467927</td>\n",
       "      <td>0.0</td>\n",
       "      <td>0.0</td>\n",
       "      <td>1</td>\n",
       "      <td>1</td>\n",
       "    </tr>\n",
       "    <tr>\n",
       "      <th>6362462</th>\n",
       "      <td>730</td>\n",
       "      <td>TRANSFER</td>\n",
       "      <td>7316255.05</td>\n",
       "      <td>C1869569059</td>\n",
       "      <td>17316255.05</td>\n",
       "      <td>17316255.05</td>\n",
       "      <td>C1861208726</td>\n",
       "      <td>0.0</td>\n",
       "      <td>0.0</td>\n",
       "      <td>1</td>\n",
       "      <td>1</td>\n",
       "    </tr>\n",
       "    <tr>\n",
       "      <th>6362584</th>\n",
       "      <td>741</td>\n",
       "      <td>TRANSFER</td>\n",
       "      <td>5674547.89</td>\n",
       "      <td>C992223106</td>\n",
       "      <td>5674547.89</td>\n",
       "      <td>5674547.89</td>\n",
       "      <td>C1366804249</td>\n",
       "      <td>0.0</td>\n",
       "      <td>0.0</td>\n",
       "      <td>1</td>\n",
       "      <td>1</td>\n",
       "    </tr>\n",
       "  </tbody>\n",
       "</table>\n",
       "</div>"
      ],
      "text/plain": [
       "         step      type       amount     nameOrig  oldbalanceOrg  \\\n",
       "2736446   212  TRANSFER   4953893.08   C728984460     4953893.08   \n",
       "3247297   250  TRANSFER   1343002.08  C1100582606     1343002.08   \n",
       "3760288   279  TRANSFER    536624.41  C1035541766      536624.41   \n",
       "5563713   387  TRANSFER   4892193.09   C908544136     4892193.09   \n",
       "5996407   425  TRANSFER  10000000.00   C689608084    19585040.37   \n",
       "5996409   425  TRANSFER   9585040.37   C452586515    19585040.37   \n",
       "6168499   554  TRANSFER   3576297.10   C193696150     3576297.10   \n",
       "6205439   586  TRANSFER    353874.22  C1684585475      353874.22   \n",
       "6266413   617  TRANSFER   2542664.27   C786455622     2542664.27   \n",
       "6281482   646  TRANSFER  10000000.00    C19004745    10399045.08   \n",
       "6281484   646  TRANSFER    399045.08   C724693370    10399045.08   \n",
       "6296014   671  TRANSFER   3441041.46   C917414431     3441041.46   \n",
       "6351225   702  TRANSFER   3171085.59  C1892216157     3171085.59   \n",
       "6362460   730  TRANSFER  10000000.00  C2140038573    17316255.05   \n",
       "6362462   730  TRANSFER   7316255.05  C1869569059    17316255.05   \n",
       "6362584   741  TRANSFER   5674547.89   C992223106     5674547.89   \n",
       "\n",
       "         newbalanceOrig     nameDest  oldbalanceDest  newbalanceDest  isFraud  \\\n",
       "2736446      4953893.08   C639921569             0.0             0.0        1   \n",
       "3247297      1343002.08  C1147517658             0.0             0.0        1   \n",
       "3760288       536624.41  C1100697970             0.0             0.0        1   \n",
       "5563713      4892193.09   C891140444             0.0             0.0        1   \n",
       "5996407     19585040.37  C1392803603             0.0             0.0        1   \n",
       "5996409     19585040.37  C1109166882             0.0             0.0        1   \n",
       "6168499      3576297.10   C484597480             0.0             0.0        1   \n",
       "6205439       353874.22  C1770418982             0.0             0.0        1   \n",
       "6266413      2542664.27   C661958277             0.0             0.0        1   \n",
       "6281482     10399045.08  C1806199534             0.0             0.0        1   \n",
       "6281484     10399045.08  C1909486199             0.0             0.0        1   \n",
       "6296014      3441041.46  C1082139865             0.0             0.0        1   \n",
       "6351225      3171085.59  C1308068787             0.0             0.0        1   \n",
       "6362460     17316255.05  C1395467927             0.0             0.0        1   \n",
       "6362462     17316255.05  C1861208726             0.0             0.0        1   \n",
       "6362584      5674547.89  C1366804249             0.0             0.0        1   \n",
       "\n",
       "         isFlaggedFraud  \n",
       "2736446               1  \n",
       "3247297               1  \n",
       "3760288               1  \n",
       "5563713               1  \n",
       "5996407               1  \n",
       "5996409               1  \n",
       "6168499               1  \n",
       "6205439               1  \n",
       "6266413               1  \n",
       "6281482               1  \n",
       "6281484               1  \n",
       "6296014               1  \n",
       "6351225               1  \n",
       "6362460               1  \n",
       "6362462               1  \n",
       "6362584               1  "
      ]
     },
     "execution_count": 55,
     "metadata": {},
     "output_type": "execute_result"
    }
   ],
   "source": [
    "flagged_df_transc = df.loc[(df.isFlaggedFraud == 1) & (df.type == 'TRANSFER')]\n",
    "flagged_df_transc"
   ]
  },
  {
   "cell_type": "code",
   "execution_count": 57,
   "id": "fddcaae6",
   "metadata": {},
   "outputs": [
    {
     "name": "stdout",
     "output_type": "stream",
     "text": [
      "Maximum Amount: 10000000.0\n",
      "Minimum Amount: 353874.22\n"
     ]
    }
   ],
   "source": [
    "#maximum and minimum amount with flagged fraud customers\n",
    "print(\"Maximum Amount:\",df.loc[df.isFlaggedFraud == 1].amount.max())\n",
    "print(\"Minimum Amount:\",df.loc[df.isFlaggedFraud == 1].amount.min())"
   ]
  },
  {
   "cell_type": "code",
   "execution_count": 64,
   "id": "e76a6041",
   "metadata": {},
   "outputs": [
    {
     "data": {
      "image/png": "[encoded data removed]",
      "text/plain": [
       "<Figure size 1008x504 with 2 Axes>"
      ]
     },
     "metadata": {
      "needs_background": "light"
     },
     "output_type": "display_data"
    }
   ],
   "source": [
    "#correlation matrix\n",
    "\n",
    "plt.figure(figsize=(14,7))\n",
    "plt.title(\"Correlation Matrix\")\n",
    "sns.heatmap(df.corr(), cmap='nipy_spectral', annot=True, fmt='.2%')\n",
    "plt.show()"
   ]
  },
  {
   "cell_type": "markdown",
   "id": "cac5fcd9",
   "metadata": {},
   "source": [
    "Observation:\n",
    "- all of the input variable has very weak correlation with the target variable\n",
    "- oldbalanceDest and newbalanceDest are highly correlated with each other, hence multicollinearity is present"
   ]
  },
  {
   "cell_type": "code",
   "execution_count": 65,
   "id": "4beca376",
   "metadata": {},
   "outputs": [
    {
     "data": {
      "text/plain": [
       "isFraud           1.000000\n",
       "amount            0.076688\n",
       "isFlaggedFraud    0.044109\n",
       "step              0.031578\n",
       "oldbalanceOrg     0.010154\n",
       "newbalanceDest    0.000535\n",
       "oldbalanceDest   -0.005885\n",
       "newbalanceOrig   -0.008148\n",
       "Name: isFraud, dtype: float64"
      ]
     },
     "execution_count": 65,
     "metadata": {},
     "output_type": "execute_result"
    }
   ],
   "source": [
    "#correlation with target variable\n",
    "df.corr()['isFraud'].sort_values(ascending=False)"
   ]
  },
  {
   "cell_type": "markdown",
   "id": "5a96abd5",
   "metadata": {},
   "source": [
    "- amount has an correlation bond of 0.07  with target variable isFraud, where 0 being the weakest correlation and 1 being the strongest correlation"
   ]
  },
  {
   "cell_type": "code",
   "execution_count": 82,
   "id": "fe7aef5b",
   "metadata": {},
   "outputs": [
    {
     "data": {
      "text/plain": [
       "step                int64\n",
       "type               object\n",
       "amount            float64\n",
       "nameOrig           object\n",
       "oldbalanceOrg     float64\n",
       "newbalanceOrig    float64\n",
       "nameDest           object\n",
       "oldbalanceDest    float64\n",
       "newbalanceDest    float64\n",
       "isFraud             int64\n",
       "isFlaggedFraud      int64\n",
       "dtype: object"
      ]
     },
     "execution_count": 82,
     "metadata": {},
     "output_type": "execute_result"
    }
   ],
   "source": [
    "df.dtypes"
   ]
  },
  {
   "cell_type": "code",
   "execution_count": 86,
   "id": "8398fceb",
   "metadata": {},
   "outputs": [
    {
     "data": {
      "text/plain": [
       "(array([      2,       3,      84, ..., 6362618, 6362619, 6362619],\n",
       "       dtype=int64),\n",
       " array([6, 6, 5, ..., 6, 0, 6], dtype=int64))"
      ]
     },
     "execution_count": 86,
     "metadata": {},
     "output_type": "execute_result"
    }
   ],
   "source": [
    "#let's now check for the outliers using Zscore\n",
    "\n",
    "from scipy.stats import zscore     #importing zscore \n",
    "\n",
    "z=np.abs(zscore(df.drop(['type' , 'nameOrig' , 'nameDest'],axis=1)))   #numerical columns only\n",
    "\n",
    "#threhold=3\n",
    "np.where(z>3)"
   ]
  },
  {
   "cell_type": "code",
   "execution_count": 89,
   "id": "cbf83890",
   "metadata": {},
   "outputs": [
    {
     "data": {
      "text/plain": [
       "27.81548280450792"
      ]
     },
     "execution_count": 89,
     "metadata": {},
     "output_type": "execute_result"
    }
   ],
   "source": [
    "#let's check the value of a loaction\n",
    "\n",
    "z.iloc[2,6]"
   ]
  },
  {
   "cell_type": "code",
   "execution_count": 90,
   "id": "558018a3",
   "metadata": {},
   "outputs": [
    {
     "data": {
      "text/plain": [
       "27.81548280450792"
      ]
     },
     "execution_count": 90,
     "metadata": {},
     "output_type": "execute_result"
    }
   ],
   "source": [
    "z.iloc[6362619,6]"
   ]
  },
  {
   "cell_type": "markdown",
   "id": "659c4ba8",
   "metadata": {},
   "source": [
    "- the zscore value outside range -3 to +3 is considered as an outlier"
   ]
  },
  {
   "cell_type": "code",
   "execution_count": 91,
   "id": "51645685",
   "metadata": {},
   "outputs": [],
   "source": [
    "#so outliers are present, so we are going to see how much data is being lost\n",
    "\n",
    "df_new=df[(z<3).all(axis=1)]"
   ]
  },
  {
   "cell_type": "code",
   "execution_count": 92,
   "id": "39b4ee55",
   "metadata": {},
   "outputs": [
    {
     "name": "stdout",
     "output_type": "stream",
     "text": [
      "Data loss is 5.383348369068088 %\n"
     ]
    }
   ],
   "source": [
    "print(\"Data loss is\",(df.shape[0] - df_new.shape[0])/df.shape[0]*100,'%')"
   ]
  },
  {
   "cell_type": "markdown",
   "id": "d9667f31",
   "metadata": {},
   "source": [
    "- Data loss is around 5% of the total data when outliers are being removed, but since this data is real every point can be of some use in building the model, So, I am not going to remove the outliers"
   ]
  },
  {
   "cell_type": "markdown",
   "id": "b202ed2c",
   "metadata": {},
   "source": [
    "**SPLITTING THE DATA**"
   ]
  },
  {
   "cell_type": "markdown",
   "id": "4c6dc23b",
   "metadata": {},
   "source": [
    "- Since the fraud label transaction type is only Transfer and Cash-Out, I am going to drop the data with other type class"
   ]
  },
  {
   "cell_type": "code",
   "execution_count": 3,
   "id": "1904fc25",
   "metadata": {},
   "outputs": [
    {
     "name": "stdout",
     "output_type": "stream",
     "text": [
      "Shape of X: (2770409, 8)\n",
      "Shape of Y: (2770409,)\n"
     ]
    }
   ],
   "source": [
    "df_model = df.loc[(df.type == 'TRANSFER') | (df.type == 'CASH_OUT')]\n",
    "\n",
    "x = df_model.drop(['isFraud', 'nameOrig' , 'nameDest'] , axis=1)\n",
    "y = df_model['isFraud']\n",
    "\n",
    "print(\"Shape of X:\",x.shape)\n",
    "print(\"Shape of Y:\",y.shape)"
   ]
  },
  {
   "cell_type": "code",
   "execution_count": 4,
   "id": "b71e96a9",
   "metadata": {},
   "outputs": [
    {
     "data": {
      "text/html": [
       "<div>\n",
       "<style scoped>\n",
       "    .dataframe tbody tr th:only-of-type {\n",
       "        vertical-align: middle;\n",
       "    }\n",
       "\n",
       "    .dataframe tbody tr th {\n",
       "        vertical-align: top;\n",
       "    }\n",
       "\n",
       "    .dataframe thead th {\n",
       "        text-align: right;\n",
       "    }\n",
       "</style>\n",
       "<table border=\"1\" class=\"dataframe\">\n",
       "  <thead>\n",
       "    <tr style=\"text-align: right;\">\n",
       "      <th></th>\n",
       "      <th>step</th>\n",
       "      <th>type</th>\n",
       "      <th>amount</th>\n",
       "      <th>oldbalanceOrg</th>\n",
       "      <th>newbalanceOrig</th>\n",
       "      <th>oldbalanceDest</th>\n",
       "      <th>newbalanceDest</th>\n",
       "      <th>isFlaggedFraud</th>\n",
       "    </tr>\n",
       "  </thead>\n",
       "  <tbody>\n",
       "    <tr>\n",
       "      <th>2</th>\n",
       "      <td>1</td>\n",
       "      <td>0</td>\n",
       "      <td>181.00</td>\n",
       "      <td>181.0</td>\n",
       "      <td>0.0</td>\n",
       "      <td>0.0</td>\n",
       "      <td>0.00</td>\n",
       "      <td>0</td>\n",
       "    </tr>\n",
       "    <tr>\n",
       "      <th>3</th>\n",
       "      <td>1</td>\n",
       "      <td>1</td>\n",
       "      <td>181.00</td>\n",
       "      <td>181.0</td>\n",
       "      <td>0.0</td>\n",
       "      <td>21182.0</td>\n",
       "      <td>0.00</td>\n",
       "      <td>0</td>\n",
       "    </tr>\n",
       "    <tr>\n",
       "      <th>15</th>\n",
       "      <td>1</td>\n",
       "      <td>1</td>\n",
       "      <td>229133.94</td>\n",
       "      <td>15325.0</td>\n",
       "      <td>0.0</td>\n",
       "      <td>5083.0</td>\n",
       "      <td>51513.44</td>\n",
       "      <td>0</td>\n",
       "    </tr>\n",
       "    <tr>\n",
       "      <th>19</th>\n",
       "      <td>1</td>\n",
       "      <td>0</td>\n",
       "      <td>215310.30</td>\n",
       "      <td>705.0</td>\n",
       "      <td>0.0</td>\n",
       "      <td>22425.0</td>\n",
       "      <td>0.00</td>\n",
       "      <td>0</td>\n",
       "    </tr>\n",
       "    <tr>\n",
       "      <th>24</th>\n",
       "      <td>1</td>\n",
       "      <td>0</td>\n",
       "      <td>311685.89</td>\n",
       "      <td>10835.0</td>\n",
       "      <td>0.0</td>\n",
       "      <td>6267.0</td>\n",
       "      <td>2719172.89</td>\n",
       "      <td>0</td>\n",
       "    </tr>\n",
       "  </tbody>\n",
       "</table>\n",
       "</div>"
      ],
      "text/plain": [
       "    step  type     amount  oldbalanceOrg  newbalanceOrig  oldbalanceDest  \\\n",
       "2      1     0     181.00          181.0             0.0             0.0   \n",
       "3      1     1     181.00          181.0             0.0         21182.0   \n",
       "15     1     1  229133.94        15325.0             0.0          5083.0   \n",
       "19     1     0  215310.30          705.0             0.0         22425.0   \n",
       "24     1     0  311685.89        10835.0             0.0          6267.0   \n",
       "\n",
       "    newbalanceDest  isFlaggedFraud  \n",
       "2             0.00               0  \n",
       "3             0.00               0  \n",
       "15        51513.44               0  \n",
       "19            0.00               0  \n",
       "24      2719172.89               0  "
      ]
     },
     "execution_count": 4,
     "metadata": {},
     "output_type": "execute_result"
    }
   ],
   "source": [
    "#encoding the categorical variable\n",
    "\n",
    "x['type'].replace('TRANSFER',0,inplace=True)\n",
    "x['type'].replace('CASH_OUT',1,inplace=True)\n",
    "x.head()"
   ]
  },
  {
   "cell_type": "code",
   "execution_count": 5,
   "id": "fa7bab53",
   "metadata": {},
   "outputs": [],
   "source": [
    "#Now checking for multicollinearity\n",
    "\n",
    "from statsmodels.stats.outliers_influence import variance_inflation_factor\n",
    "\n",
    "def vif_calc():        #defining a function which returns VIF value for features\n",
    "    vif=pd.DataFrame()\n",
    "    vif['VIF Factor']=[variance_inflation_factor(x.values,i) for i in range(x.shape[1])]\n",
    "    vif['features']=x.columns\n",
    "    print(vif)"
   ]
  },
  {
   "cell_type": "code",
   "execution_count": 6,
   "id": "5d6e4c4a",
   "metadata": {},
   "outputs": [
    {
     "name": "stdout",
     "output_type": "stream",
     "text": [
      "   VIF Factor        features\n",
      "0    2.729546            step\n",
      "1    2.556226            type\n",
      "2    5.188397          amount\n",
      "3    2.795435   oldbalanceOrg\n",
      "4    2.662569  newbalanceOrig\n",
      "5   65.276755  oldbalanceDest\n",
      "6   80.858351  newbalanceDest\n",
      "7    1.017702  isFlaggedFraud\n"
     ]
    }
   ],
   "source": [
    "#calling the function\n",
    "vif_calc()"
   ]
  },
  {
   "cell_type": "markdown",
   "id": "575b51f2",
   "metadata": {},
   "source": [
    "- we have already seen the strong correlation between oldbalanceDest and newbalanceDest , VIF upto 10-15 is still passable depending on the case though, but since the VIF for these two is so high I am going to drop the least correlated variable of these two"
   ]
  },
  {
   "cell_type": "code",
   "execution_count": 7,
   "id": "0bdc6584",
   "metadata": {},
   "outputs": [
    {
     "name": "stdout",
     "output_type": "stream",
     "text": [
      "   VIF Factor        features\n",
      "0    2.721522            step\n",
      "1    2.549861            type\n",
      "2    1.309940          amount\n",
      "3    2.729427   oldbalanceOrg\n",
      "4    2.646129  newbalanceOrig\n",
      "5    1.282491  oldbalanceDest\n",
      "6    1.017263  isFlaggedFraud\n"
     ]
    }
   ],
   "source": [
    "#dropping newbalanceDest from the features\n",
    "\n",
    "x.drop('newbalanceDest' , axis=1, inplace=True)\n",
    "\n",
    "#again checking for VIF\n",
    "\n",
    "vif_calc()"
   ]
  },
  {
   "cell_type": "markdown",
   "id": "cd6bcee6",
   "metadata": {},
   "source": [
    "- The multicollinearity has been reduced from the dataset"
   ]
  },
  {
   "cell_type": "code",
   "execution_count": 9,
   "id": "d60d9641",
   "metadata": {},
   "outputs": [
    {
     "name": "stdout",
     "output_type": "stream",
     "text": [
      "X TRAIN SIZE: (1856174, 7)\n",
      "Y TRAIN SIZE: (1856174,)\n",
      "\n",
      "X TEST SIZE: (914235, 7)\n",
      "Y TEST SIZE: (914235,)\n"
     ]
    }
   ],
   "source": [
    "#splitting the data into training and testing\n",
    "\n",
    "from sklearn.model_selection import train_test_split\n",
    "\n",
    "x_train , x_test , y_train , y_test = train_test_split(x , y , test_size=0.33 , random_state = 0 , stratify = y)\n",
    "\n",
    "print(\"X TRAIN SIZE:\",x_train.shape)\n",
    "print(\"Y TRAIN SIZE:\",y_train.shape)\n",
    "\n",
    "print(\"\\nX TEST SIZE:\",x_test.shape)\n",
    "print(\"Y TEST SIZE:\",y_test.shape)"
   ]
  },
  {
   "cell_type": "markdown",
   "id": "d839f485",
   "metadata": {},
   "source": [
    "- Since the dataset is highly imbalanced, I am going to use SMOTE for over sampling the minority class for training data only and not the test set as this can allow model to simply memorize specific data points and cause overfitting and poor generalization to the test data."
   ]
  },
  {
   "cell_type": "code",
   "execution_count": 10,
   "id": "eaec2a3a",
   "metadata": {},
   "outputs": [
    {
     "data": {
      "text/plain": [
       "0    1850671\n",
       "1       5503\n",
       "Name: isFraud, dtype: int64"
      ]
     },
     "execution_count": 10,
     "metadata": {},
     "output_type": "execute_result"
    }
   ],
   "source": [
    "#checking for value counts\n",
    "y_train.value_counts()"
   ]
  },
  {
   "cell_type": "code",
   "execution_count": 11,
   "id": "22529355",
   "metadata": {},
   "outputs": [],
   "source": [
    "#applying SMOTE over sampling to deal with the imbalanced dataset \n",
    "\n",
    "from imblearn.over_sampling import SMOTE\n",
    "\n",
    "smt = SMOTE()\n",
    "\n",
    "train_x , train_y = smt.fit_resample(x_train , y_train)"
   ]
  },
  {
   "cell_type": "code",
   "execution_count": 176,
   "id": "e8f58b7d",
   "metadata": {},
   "outputs": [
    {
     "data": {
      "image/png": "[encoded data removed]",
      "text/plain": [
       "<Figure size 432x288 with 1 Axes>"
      ]
     },
     "metadata": {
      "needs_background": "light"
     },
     "output_type": "display_data"
    }
   ],
   "source": [
    "#now checking the value counts\n",
    "\n",
    "sns.countplot(train_y)\n",
    "plt.show()"
   ]
  },
  {
   "cell_type": "markdown",
   "id": "b4c9d34d",
   "metadata": {},
   "source": [
    "- The imabalanced data has been dealt with"
   ]
  },
  {
   "cell_type": "markdown",
   "id": "28a8ea90",
   "metadata": {},
   "source": [
    "**BUILDING MODELS**"
   ]
  },
  {
   "cell_type": "code",
   "execution_count": 12,
   "id": "6c45cb93",
   "metadata": {},
   "outputs": [],
   "source": [
    "#Importing Machine learning Model and metrics library \n",
    "from sklearn.linear_model import LogisticRegression\n",
    "from sklearn.tree import DecisionTreeClassifier\n",
    "from sklearn.neighbors import KNeighborsClassifier\n",
    "from sklearn.model_selection import cross_val_score\n",
    "from sklearn.metrics import confusion_matrix,classification_report,accuracy_score,roc_curve,auc"
   ]
  },
  {
   "cell_type": "markdown",
   "id": "9ff935e3",
   "metadata": {},
   "source": [
    "1. Logistic Regression"
   ]
  },
  {
   "cell_type": "code",
   "execution_count": 13,
   "id": "322f58b5",
   "metadata": {},
   "outputs": [],
   "source": [
    "lr = LogisticRegression()\n",
    "lr.fit(train_x , train_y)\n",
    "predlr = lr.predict(x_test)"
   ]
  },
  {
   "cell_type": "code",
   "execution_count": 14,
   "id": "df848210",
   "metadata": {},
   "outputs": [
    {
     "name": "stdout",
     "output_type": "stream",
     "text": [
      "Accuracy score for Logistic Regression Model: 88.14\n",
      "\n",
      " Confusion Matrix for Logistic Regression:\n",
      " [[803158 108367]\n",
      " [    68   2642]]\n",
      "\n",
      "Classification report for Logistic Regression:\n",
      "               precision    recall  f1-score   support\n",
      "\n",
      "           0       1.00      0.88      0.94    911525\n",
      "           1       0.02      0.97      0.05      2710\n",
      "\n",
      "    accuracy                           0.88    914235\n",
      "   macro avg       0.51      0.93      0.49    914235\n",
      "weighted avg       1.00      0.88      0.93    914235\n",
      "\n"
     ]
    }
   ],
   "source": [
    "acc_lr = round(accuracy_score(y_test , predlr)*100,2)\n",
    "\n",
    "print(\"Accuracy score for Logistic Regression Model:\",acc_lr)\n",
    "print(\"\\n Confusion Matrix for Logistic Regression:\\n\",confusion_matrix(y_test , predlr))\n",
    "print(\"\\nClassification report for Logistic Regression:\\n\",classification_report(y_test , predlr))"
   ]
  },
  {
   "cell_type": "code",
   "execution_count": 15,
   "id": "fbbf6497",
   "metadata": {},
   "outputs": [],
   "source": [
    "#cross validation for logistic regression\n",
    "\n",
    "score_lr = cross_val_score(lr,x,y,cv=5)"
   ]
  },
  {
   "cell_type": "code",
   "execution_count": 16,
   "id": "2893a7f4",
   "metadata": {},
   "outputs": [
    {
     "name": "stdout",
     "output_type": "stream",
     "text": [
      "Scores: [0.97562816 0.99813566 0.99802376 0.99765739 0.99761768] \n",
      "\n",
      "Mean: 0.9934125265277258 \n",
      "\n",
      "Standard deviation: 0.008894462951945407\n"
     ]
    }
   ],
   "source": [
    "print(\"Scores:\",score_lr,'\\n')\n",
    "print(\"Mean:\",score_lr.mean(),'\\n')\n",
    "print(\"Standard deviation:\",score_lr.std())"
   ]
  },
  {
   "cell_type": "markdown",
   "id": "4c34dfd2",
   "metadata": {},
   "source": [
    "2. Decision Tree Classifier"
   ]
  },
  {
   "cell_type": "code",
   "execution_count": 17,
   "id": "f257ce33",
   "metadata": {},
   "outputs": [],
   "source": [
    "dtc = DecisionTreeClassifier()\n",
    "dtc.fit(train_x , train_y)\n",
    "preddtc = dtc.predict(x_test)"
   ]
  },
  {
   "cell_type": "code",
   "execution_count": 18,
   "id": "1f4e4c19",
   "metadata": {},
   "outputs": [
    {
     "name": "stdout",
     "output_type": "stream",
     "text": [
      "Accuracy score for Decision Tree Classifier Model: 99.86\n",
      "\n",
      " Confusion Matrix for Decision Tree Classifier:\n",
      " [[910441   1084]\n",
      " [   200   2510]]\n",
      "\n",
      "Classification report for Decision Tree Classifier:\n",
      "               precision    recall  f1-score   support\n",
      "\n",
      "           0       1.00      1.00      1.00    911525\n",
      "           1       0.70      0.93      0.80      2710\n",
      "\n",
      "    accuracy                           1.00    914235\n",
      "   macro avg       0.85      0.96      0.90    914235\n",
      "weighted avg       1.00      1.00      1.00    914235\n",
      "\n"
     ]
    }
   ],
   "source": [
    "acc_dtc = round(accuracy_score(y_test , preddtc)*100,2)\n",
    "\n",
    "print(\"Accuracy score for Decision Tree Classifier Model:\",acc_dtc)\n",
    "print(\"\\n Confusion Matrix for Decision Tree Classifier:\\n\",confusion_matrix(y_test , preddtc))\n",
    "print(\"\\nClassification report for Decision Tree Classifier:\\n\",classification_report(y_test , preddtc))"
   ]
  },
  {
   "cell_type": "code",
   "execution_count": 19,
   "id": "78d46f95",
   "metadata": {},
   "outputs": [],
   "source": [
    "#cross validation for decision tree classifier\n",
    "\n",
    "score_dtc = cross_val_score(dtc,x,y,cv=5)"
   ]
  },
  {
   "cell_type": "code",
   "execution_count": 20,
   "id": "7d75ffef",
   "metadata": {},
   "outputs": [
    {
     "name": "stdout",
     "output_type": "stream",
     "text": [
      "Scores: [0.99857061 0.98002281 0.83220173 0.99888825 0.01052554] \n",
      "\n",
      "Mean: 0.76404178822829 \n",
      "\n",
      "Standard deviation: 0.3818997121248896\n"
     ]
    }
   ],
   "source": [
    "print(\"Scores:\",score_dtc,'\\n')\n",
    "print(\"Mean:\",score_dtc.mean(),'\\n')\n",
    "print(\"Standard deviation:\",score_dtc.std())"
   ]
  },
  {
   "cell_type": "markdown",
   "id": "3749e86e",
   "metadata": {},
   "source": [
    "3. KNeighbors Classifier"
   ]
  },
  {
   "cell_type": "code",
   "execution_count": 21,
   "id": "8b460254",
   "metadata": {},
   "outputs": [],
   "source": [
    "knn = KNeighborsClassifier()\n",
    "knn.fit(train_x , train_y)\n",
    "predknn = knn.predict(x_test)"
   ]
  },
  {
   "cell_type": "code",
   "execution_count": 22,
   "id": "5e287675",
   "metadata": {},
   "outputs": [
    {
     "name": "stdout",
     "output_type": "stream",
     "text": [
      "Accuracy score for KNeighbors Classifier Model: 99.17\n",
      "\n",
      " Confusion Matrix for KNeighbors:\n",
      " [[904152   7373]\n",
      " [   222   2488]]\n",
      "\n",
      "Classification report for KNeighbors Classifier:\n",
      "               precision    recall  f1-score   support\n",
      "\n",
      "           0       1.00      0.99      1.00    911525\n",
      "           1       0.25      0.92      0.40      2710\n",
      "\n",
      "    accuracy                           0.99    914235\n",
      "   macro avg       0.63      0.95      0.70    914235\n",
      "weighted avg       1.00      0.99      0.99    914235\n",
      "\n"
     ]
    }
   ],
   "source": [
    "acc_knn = round(accuracy_score(y_test , predknn)*100,2)\n",
    "\n",
    "print(\"Accuracy score for KNeighbors Classifier Model:\",acc_knn)\n",
    "print(\"\\n Confusion Matrix for KNeighbors:\\n\",confusion_matrix(y_test , predknn))\n",
    "print(\"\\nClassification report for KNeighbors Classifier:\\n\",classification_report(y_test , predknn))"
   ]
  },
  {
   "cell_type": "code",
   "execution_count": 23,
   "id": "7fbaf245",
   "metadata": {},
   "outputs": [],
   "source": [
    "#cross validation for KNeighbors classifier\n",
    "\n",
    "score_knn = cross_val_score(knn,x,y,cv=5)"
   ]
  },
  {
   "cell_type": "code",
   "execution_count": 24,
   "id": "4ee4fd20",
   "metadata": {},
   "outputs": [
    {
     "name": "stdout",
     "output_type": "stream",
     "text": [
      "Scores: [0.99854895 0.99886479 0.99892074 0.9988702  0.9988684 ] \n",
      "\n",
      "Mean: 0.9988146154787184 \n",
      "\n",
      "Standard deviation: 0.00013441661276881453\n"
     ]
    }
   ],
   "source": [
    "print(\"Scores:\",score_knn,'\\n')\n",
    "print(\"Mean:\",score_knn.mean(),'\\n')\n",
    "print(\"Standard deviation:\",score_knn.std())"
   ]
  },
  {
   "cell_type": "markdown",
   "id": "27d6e954",
   "metadata": {},
   "source": [
    "4. XGB Classifier "
   ]
  },
  {
   "cell_type": "code",
   "execution_count": 25,
   "id": "14fef169",
   "metadata": {},
   "outputs": [],
   "source": [
    "from xgboost.sklearn import XGBClassifier"
   ]
  },
  {
   "cell_type": "code",
   "execution_count": 26,
   "id": "b02f4862",
   "metadata": {},
   "outputs": [],
   "source": [
    "xgb = XGBClassifier()\n",
    "xgb.fit(train_x , train_y)\n",
    "predxgb = xgb.predict(x_test)"
   ]
  },
  {
   "cell_type": "code",
   "execution_count": 27,
   "id": "fc6a092a",
   "metadata": {},
   "outputs": [
    {
     "name": "stdout",
     "output_type": "stream",
     "text": [
      "Accuracy score for XGB Classifier Model: 99.73\n",
      "\n",
      " Confusion Matrix for XGB Classifier:\n",
      " [[909055   2470]\n",
      " [    27   2683]]\n",
      "\n",
      "Classification report for XGB Classifier:\n",
      "               precision    recall  f1-score   support\n",
      "\n",
      "           0       1.00      1.00      1.00    911525\n",
      "           1       0.52      0.99      0.68      2710\n",
      "\n",
      "    accuracy                           1.00    914235\n",
      "   macro avg       0.76      0.99      0.84    914235\n",
      "weighted avg       1.00      1.00      1.00    914235\n",
      "\n"
     ]
    }
   ],
   "source": [
    "acc_xgb = round(accuracy_score(y_test , predxgb)*100,2)\n",
    "\n",
    "print(\"Accuracy score for XGB Classifier Model:\",acc_xgb)\n",
    "print(\"\\n Confusion Matrix for XGB Classifier:\\n\",confusion_matrix(y_test , predxgb))\n",
    "print(\"\\nClassification report for XGB Classifier:\\n\",classification_report(y_test , predxgb))"
   ]
  },
  {
   "cell_type": "code",
   "execution_count": 28,
   "id": "0be29c53",
   "metadata": {},
   "outputs": [],
   "source": [
    "#cross validation for XGB classifier\n",
    "\n",
    "score_xgb = cross_val_score(xgb,x,y,cv=3)"
   ]
  },
  {
   "cell_type": "code",
   "execution_count": 29,
   "id": "9ac99bc0",
   "metadata": {},
   "outputs": [
    {
     "name": "stdout",
     "output_type": "stream",
     "text": [
      "Scores: [0.99704376 0.98992387 0.92862024] \n",
      "\n",
      "Mean: 0.9718626227237973 \n",
      "\n",
      "Standard deviation: 0.03071483080952003\n"
     ]
    }
   ],
   "source": [
    "print(\"Scores:\",score_xgb,'\\n')\n",
    "print(\"Mean:\",score_xgb.mean(),'\\n')\n",
    "print(\"Standard deviation:\",score_xgb.std())"
   ]
  },
  {
   "cell_type": "markdown",
   "id": "17dcd8a9",
   "metadata": {},
   "source": [
    "Remarks:\n",
    "- As we can see XGB Classifier is the best working model upto now\n",
    "- It has a great accuracy score and better recall and precision for the minority class when comapred to algorithms\n",
    "- The cross validation score for XGB Classifier is around 97% with a deivation of -/+ 3% in this case\n",
    "- As the cross validation score is very close to the accuracy score we are going to select this as our best model as the model is working extremenly good"
   ]
  },
  {
   "cell_type": "code",
   "execution_count": 30,
   "id": "326f35e7",
   "metadata": {
    "scrolled": true
   },
   "outputs": [
    {
     "data": {
      "image/png": "[encoded data removed]",
      "text/plain": [
       "<Figure size 432x288 with 1 Axes>"
      ]
     },
     "metadata": {
      "needs_background": "light"
     },
     "output_type": "display_data"
    }
   ],
   "source": [
    "#roc auc plotting for XGB Classifier\n",
    "\n",
    "fpr,tpr,thresholds=roc_curve(y_test,predxgb)\n",
    "\n",
    "roc_auc=auc(fpr,tpr)         #area under curve score\n",
    "\n",
    "plt.figure()\n",
    "plt.plot(fpr,tpr,color='yellow',lw=10,label='ROC curve (area=%.2f)'%roc_auc)\n",
    "plt.plot([0,1],[0,1],color='navy',lw=10,linestyle='--')\n",
    "plt.xlim([0.0,1.0])\n",
    "plt.ylim([0.0,1.05])\n",
    "plt.xlabel('False Positive rate')\n",
    "plt.ylabel('True Positive rate')\n",
    "plt.title('Receiver Operating Characteristics')\n",
    "plt.legend(loc='lower right')\n",
    "plt.show()"
   ]
  },
  {
   "cell_type": "markdown",
   "id": "22e6b6d5",
   "metadata": {},
   "source": [
    "- We can see that the XGB model is working so much better than the base model\n",
    "- The more the area under the curve the better the model"
   ]
  },
  {
   "cell_type": "markdown",
   "id": "00dd3808",
   "metadata": {},
   "source": [
    "**Tuning/Optimizing**"
   ]
  },
  {
   "cell_type": "code",
   "execution_count": 39,
   "id": "08c5573b",
   "metadata": {},
   "outputs": [
    {
     "data": {
      "text/html": [
       "<div>\n",
       "<style scoped>\n",
       "    .dataframe tbody tr th:only-of-type {\n",
       "        vertical-align: middle;\n",
       "    }\n",
       "\n",
       "    .dataframe tbody tr th {\n",
       "        vertical-align: top;\n",
       "    }\n",
       "\n",
       "    .dataframe thead th {\n",
       "        text-align: right;\n",
       "    }\n",
       "</style>\n",
       "<table border=\"1\" class=\"dataframe\">\n",
       "  <thead>\n",
       "    <tr style=\"text-align: right;\">\n",
       "      <th></th>\n",
       "      <th>importance</th>\n",
       "    </tr>\n",
       "    <tr>\n",
       "      <th>feature</th>\n",
       "      <th></th>\n",
       "    </tr>\n",
       "  </thead>\n",
       "  <tbody>\n",
       "    <tr>\n",
       "      <th>newbalanceOrig</th>\n",
       "      <td>0.381</td>\n",
       "    </tr>\n",
       "    <tr>\n",
       "      <th>oldbalanceOrg</th>\n",
       "      <td>0.321</td>\n",
       "    </tr>\n",
       "    <tr>\n",
       "      <th>type</th>\n",
       "      <td>0.141</td>\n",
       "    </tr>\n",
       "    <tr>\n",
       "      <th>amount</th>\n",
       "      <td>0.125</td>\n",
       "    </tr>\n",
       "    <tr>\n",
       "      <th>step</th>\n",
       "      <td>0.016</td>\n",
       "    </tr>\n",
       "    <tr>\n",
       "      <th>oldbalanceDest</th>\n",
       "      <td>0.013</td>\n",
       "    </tr>\n",
       "    <tr>\n",
       "      <th>isFlaggedFraud</th>\n",
       "      <td>0.002</td>\n",
       "    </tr>\n",
       "  </tbody>\n",
       "</table>\n",
       "</div>"
      ],
      "text/plain": [
       "                importance\n",
       "feature                   \n",
       "newbalanceOrig       0.381\n",
       "oldbalanceOrg        0.321\n",
       "type                 0.141\n",
       "amount               0.125\n",
       "step                 0.016\n",
       "oldbalanceDest       0.013\n",
       "isFlaggedFraud       0.002"
      ]
     },
     "execution_count": 39,
     "metadata": {},
     "output_type": "execute_result"
    }
   ],
   "source": [
    "#checking for feature importances\n",
    "\n",
    "importances = pd.DataFrame({'feature':x.columns,'importance':np.round(xgb.feature_importances_,3)})\n",
    "importances = importances.sort_values('importance',ascending=False).set_index('feature')\n",
    "importances"
   ]
  },
  {
   "cell_type": "code",
   "execution_count": 41,
   "id": "38fd8f93",
   "metadata": {},
   "outputs": [
    {
     "data": {
      "image/png": "[encoded data removed]",
      "text/plain": [
       "<Figure size 432x288 with 1 Axes>"
      ]
     },
     "metadata": {
      "needs_background": "light"
     },
     "output_type": "display_data"
    }
   ],
   "source": [
    "importances.plot.bar() #plotting a barplot\n",
    "plt.show()"
   ]
  },
  {
   "cell_type": "markdown",
   "id": "e8ad561a",
   "metadata": {},
   "source": [
    "#Remarks:\n",
    "- For XGB Classifier the most important feature is coming out to be new balance at origin\n",
    "- The least important feature is coming out to be isFlaggedFraud variable\n",
    "- Let's try and drop least important feature and check the accuracy"
   ]
  },
  {
   "cell_type": "code",
   "execution_count": 43,
   "id": "489a0e62",
   "metadata": {},
   "outputs": [],
   "source": [
    "x_train_modify = train_x.drop('isFlaggedFraud',axis=1)     #dropping the variable from both the sets\n",
    "x_test_modify = x_test.drop('isFlaggedFraud',axis=1)"
   ]
  },
  {
   "cell_type": "code",
   "execution_count": 44,
   "id": "549a6d14",
   "metadata": {},
   "outputs": [],
   "source": [
    "#now re-training the model and checking for predictions\n",
    "\n",
    "xgb = XGBClassifier()\n",
    "xgb.fit(x_train_modify , train_y)\n",
    "predxgb_modify = xgb.predict(x_test_modify)"
   ]
  },
  {
   "cell_type": "code",
   "execution_count": 45,
   "id": "d4c64e65",
   "metadata": {},
   "outputs": [
    {
     "name": "stdout",
     "output_type": "stream",
     "text": [
      "Accuracy Before: 99.73\n",
      "\n",
      " Accuracy After: 99.74\n"
     ]
    }
   ],
   "source": [
    "acc_xgb_modify = round(accuracy_score(y_test , predxgb_modify)*100,2)\n",
    "\n",
    "print(\"Accuracy Before:\",acc_xgb)\n",
    "print(\"\\n Accuracy After:\",acc_xgb_modify)"
   ]
  },
  {
   "cell_type": "markdown",
   "id": "b231ed19",
   "metadata": {},
   "source": [
    "Remark:\n",
    "- we can see the accuracy score has improved after removing least important variable"
   ]
  },
  {
   "cell_type": "markdown",
   "id": "d21efc0e",
   "metadata": {},
   "source": [
    "Hyperparameter Tuning:"
   ]
  },
  {
   "cell_type": "code",
   "execution_count": 32,
   "id": "7087e76b",
   "metadata": {},
   "outputs": [],
   "source": [
    "from sklearn.experimental import enable_halving_search_cv\n",
    "from sklearn.model_selection import HalvingRandomSearchCV              #importing HalvingRandomSearch"
   ]
  },
  {
   "cell_type": "markdown",
   "id": "5e601d23",
   "metadata": {},
   "source": [
    "Remark:\n",
    "- Using Halving Search CV as it is faster than Grid Search CV"
   ]
  },
  {
   "cell_type": "code",
   "execution_count": 37,
   "id": "5aaa7009",
   "metadata": {},
   "outputs": [
    {
     "data": {
      "text/plain": [
       "HalvingRandomSearchCV(cv=3,\n",
       "                      estimator=XGBClassifier(base_score=0.5, booster='gbtree',\n",
       "                                              callbacks=None,\n",
       "                                              colsample_bylevel=1,\n",
       "                                              colsample_bynode=1,\n",
       "                                              colsample_bytree=1,\n",
       "                                              early_stopping_rounds=None,\n",
       "                                              enable_categorical=False,\n",
       "                                              eval_metric=None, gamma=0,\n",
       "                                              gpu_id=-1,\n",
       "                                              grow_policy='depthwise',\n",
       "                                              importance_type=None,\n",
       "                                              interaction_constraints='',\n",
       "                                              learning_rate=0.300000012,\n",
       "                                              max_bin=2...\n",
       "                                              max_delta_step=0, max_depth=6,\n",
       "                                              max_leaves=0, min_child_weight=1,\n",
       "                                              missing=nan,\n",
       "                                              monotone_constraints='()',\n",
       "                                              n_estimators=100, n_jobs=0,\n",
       "                                              num_parallel_tree=1,\n",
       "                                              predictor='auto', random_state=0,\n",
       "                                              reg_alpha=0, reg_lambda=1, ...),\n",
       "                      param_distributions={'base_score': [0.2, 0.5, 0.9],\n",
       "                                           'learning_rate': [0.01, 0.05, 0.1],\n",
       "                                           'n_estimators': [100, 200, 500],\n",
       "                                           'reg_alpha': [0, 0.5, 1],\n",
       "                                           'reg_lambda': [0.5, 1, 5]})"
      ]
     },
     "execution_count": 37,
     "metadata": {},
     "output_type": "execute_result"
    }
   ],
   "source": [
    "params = {\n",
    "    'n_estimators': [100, 200, 500],\n",
    "    'learning_rate': [0.01,0.05,0.1],                    #making the parameter grid\n",
    "    'reg_alpha': [0, 0.5, 1],\n",
    "    'reg_lambda': [0.5, 1, 5],\n",
    "    'base_score': [0.2, 0.5, 0.9]\n",
    "}\n",
    "\n",
    "hrs = HalvingRandomSearchCV(xgb, params,cv = 3)\n",
    "hrs.fit(train_x, train_y)"
   ]
  },
  {
   "cell_type": "code",
   "execution_count": 38,
   "id": "4968d053",
   "metadata": {},
   "outputs": [
    {
     "name": "stdout",
     "output_type": "stream",
     "text": [
      "Best score: 0.983529539171094\n",
      "Best parameters:\n",
      " {'reg_lambda': 0.5, 'reg_alpha': 0.5, 'n_estimators': 500, 'learning_rate': 0.05, 'base_score': 0.2}\n"
     ]
    }
   ],
   "source": [
    "print(\"Best score:\",hrs.best_score_)       #checking for best score\n",
    "print(\"Best parameters:\\n\",hrs.best_params_)   #checking for best parameters"
   ]
  },
  {
   "cell_type": "code",
   "execution_count": 47,
   "id": "1ba29496",
   "metadata": {},
   "outputs": [],
   "source": [
    "#now re-training the model and checking for predictions\n",
    "\n",
    "xgb = XGBClassifier(reg_lambda = 0.5,\n",
    "                    reg_alpha = 0.5,\n",
    "                    learning_rate = 0.05,\n",
    "                    base_score = 0.2)\n",
    "xgb.fit(x_train_modify , train_y)\n",
    "\n",
    "predxgb_tuned = xgb.predict(x_test_modify)"
   ]
  },
  {
   "cell_type": "code",
   "execution_count": 48,
   "id": "b06256e3",
   "metadata": {},
   "outputs": [
    {
     "name": "stdout",
     "output_type": "stream",
     "text": [
      "Accuracy score for XGB Classifier Model after tuned parameters: 98.61\n",
      "\n",
      " Confusion Matrix for XGB Classifier:\n",
      " [[898845  12680]\n",
      " [    17   2693]]\n",
      "\n",
      "Classification report for XGB Classifier:\n",
      "               precision    recall  f1-score   support\n",
      "\n",
      "           0       1.00      0.99      0.99    911525\n",
      "           1       0.18      0.99      0.30      2710\n",
      "\n",
      "    accuracy                           0.99    914235\n",
      "   macro avg       0.59      0.99      0.65    914235\n",
      "weighted avg       1.00      0.99      0.99    914235\n",
      "\n"
     ]
    }
   ],
   "source": [
    "acc_xgb_tuned = round(accuracy_score(y_test , predxgb_tuned)*100,2)\n",
    "\n",
    "print(\"Accuracy score for XGB Classifier Model after tuned parameters:\",acc_xgb_tuned)\n",
    "print(\"\\n Confusion Matrix for XGB Classifier:\\n\",confusion_matrix(y_test , predxgb_tuned))\n",
    "print(\"\\nClassification report for XGB Classifier:\\n\",classification_report(y_test , predxgb_tuned))"
   ]
  },
  {
   "cell_type": "markdown",
   "id": "2e986707",
   "metadata": {},
   "source": [
    "Remarks:\n",
    "- The accuracy score now is much closer to the cross validation score\n",
    "- The model is working well"
   ]
  },
  {
   "cell_type": "code",
   "execution_count": 53,
   "id": "0c762659",
   "metadata": {},
   "outputs": [
    {
     "data": {
      "text/html": [
       "<div>\n",
       "<style scoped>\n",
       "    .dataframe tbody tr th:only-of-type {\n",
       "        vertical-align: middle;\n",
       "    }\n",
       "\n",
       "    .dataframe tbody tr th {\n",
       "        vertical-align: top;\n",
       "    }\n",
       "\n",
       "    .dataframe thead th {\n",
       "        text-align: right;\n",
       "    }\n",
       "</style>\n",
       "<table border=\"1\" class=\"dataframe\">\n",
       "  <thead>\n",
       "    <tr style=\"text-align: right;\">\n",
       "      <th></th>\n",
       "      <th>Actual</th>\n",
       "      <th>Predicted</th>\n",
       "    </tr>\n",
       "  </thead>\n",
       "  <tbody>\n",
       "    <tr>\n",
       "      <th>5602103</th>\n",
       "      <td>0</td>\n",
       "      <td>1</td>\n",
       "    </tr>\n",
       "    <tr>\n",
       "      <th>1030651</th>\n",
       "      <td>1</td>\n",
       "      <td>1</td>\n",
       "    </tr>\n",
       "    <tr>\n",
       "      <th>4774124</th>\n",
       "      <td>0</td>\n",
       "      <td>1</td>\n",
       "    </tr>\n",
       "    <tr>\n",
       "      <th>1992897</th>\n",
       "      <td>0</td>\n",
       "      <td>1</td>\n",
       "    </tr>\n",
       "    <tr>\n",
       "      <th>3705795</th>\n",
       "      <td>0</td>\n",
       "      <td>1</td>\n",
       "    </tr>\n",
       "    <tr>\n",
       "      <th>...</th>\n",
       "      <td>...</td>\n",
       "      <td>...</td>\n",
       "    </tr>\n",
       "    <tr>\n",
       "      <th>6123616</th>\n",
       "      <td>0</td>\n",
       "      <td>1</td>\n",
       "    </tr>\n",
       "    <tr>\n",
       "      <th>1114125</th>\n",
       "      <td>0</td>\n",
       "      <td>1</td>\n",
       "    </tr>\n",
       "    <tr>\n",
       "      <th>774248</th>\n",
       "      <td>0</td>\n",
       "      <td>1</td>\n",
       "    </tr>\n",
       "    <tr>\n",
       "      <th>5359453</th>\n",
       "      <td>0</td>\n",
       "      <td>1</td>\n",
       "    </tr>\n",
       "    <tr>\n",
       "      <th>6039791</th>\n",
       "      <td>1</td>\n",
       "      <td>1</td>\n",
       "    </tr>\n",
       "  </tbody>\n",
       "</table>\n",
       "<p>15373 rows × 2 columns</p>\n",
       "</div>"
      ],
      "text/plain": [
       "         Actual  Predicted\n",
       "5602103       0          1\n",
       "1030651       1          1\n",
       "4774124       0          1\n",
       "1992897       0          1\n",
       "3705795       0          1\n",
       "...         ...        ...\n",
       "6123616       0          1\n",
       "1114125       0          1\n",
       "774248        0          1\n",
       "5359453       0          1\n",
       "6039791       1          1\n",
       "\n",
       "[15373 rows x 2 columns]"
      ]
     },
     "execution_count": 53,
     "metadata": {},
     "output_type": "execute_result"
    }
   ],
   "source": [
    "#making a data frame\n",
    "\n",
    "preddf = pd.DataFrame({'Actual':y_test , 'Predicted':predxgb_tuned})\n",
    "preddf = preddf.loc[(preddf.Predicted == 1)]\n",
    "preddf"
   ]
  },
  {
   "cell_type": "code",
   "execution_count": 54,
   "id": "7671a4ac",
   "metadata": {},
   "outputs": [],
   "source": [
    "#saving the model\n",
    "\n",
    "import pickle\n",
    "pickle.dump(xgb,open('fraud_detection.pkl','wb'))"
   ]
  },
  {
   "cell_type": "code",
   "execution_count": null,
   "id": "d46f9c63",
   "metadata": {},
   "outputs": [],
   "source": []
  }
 ],
 "metadata": {
  "kernelspec": {
   "display_name": "Python 3 (ipykernel)",
   "language": "python",
   "name": "python3"
  },
  "language_info": {
   "codemirror_mode": {
    "name": "ipython",
    "version": 3
   },
   "file_extension": ".py",
   "mimetype": "text/x-python",
   "name": "python",
   "nbconvert_exporter": "python",
   "pygments_lexer": "ipython3",
   "version": "3.9.7"
  }
 },
 "nbformat": 4,
 "nbformat_minor": 5
}
