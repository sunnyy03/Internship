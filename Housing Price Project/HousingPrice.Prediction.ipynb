{
 "cells": [
  {
   "cell_type": "markdown",
   "id": "447c8753",
   "metadata": {},
   "source": [
    "Problem statement:\n",
    "\n",
    "-You are required to model the price of houses with the available independent variables"
   ]
  },
  {
   "cell_type": "code",
   "execution_count": 1,
   "id": "23bb8603",
   "metadata": {},
   "outputs": [],
   "source": [
    "#linear algebra\n",
    "\n",
    "import numpy as np\n",
    "\n",
    "#data processing\n",
    "\n",
    "import pandas as pd\n",
    "\n",
    "#data visualization\n",
    "\n",
    "import seaborn as sns\n",
    "import matplotlib.pyplot as plt\n",
    "import warnings\n",
    "warnings.filterwarnings('ignore')\n",
    "\n",
    "#algorithms\n",
    "\n",
    "from sklearn.linear_model import LinearRegression,Lasso,Ridge\n",
    "from sklearn.tree import DecisionTreeRegressor\n",
    "from sklearn.neighbors import KNeighborsRegressor\n",
    "from sklearn.svm import SVC\n",
    "from sklearn.ensemble import RandomForestRegressor , AdaBoostRegressor , GradientBoostingRegressor\n",
    "\n",
    "#importing metrics\n",
    "\n",
    "from sklearn.model_selection import train_test_split,cross_val_score\n",
    "from sklearn.metrics import r2_score,mean_squared_error,mean_absolute_error"
   ]
  },
  {
   "cell_type": "code",
   "execution_count": 2,
   "id": "7c6b2fd3",
   "metadata": {},
   "outputs": [
    {
     "name": "stdout",
     "output_type": "stream",
     "text": [
      "(292, 80)\n",
      "(1168, 81)\n"
     ]
    }
   ],
   "source": [
    "#loading the data\n",
    "\n",
    "test_df = pd.read_csv(r\"C:\\Users\\Yash Bhardwaj\\Downloads\\Project-Housing--2---1-\\Project-Housing_splitted\\test.csv\")\n",
    "train_df = pd.read_csv(r\"C:\\Users\\Yash Bhardwaj\\Downloads\\Project-Housing--2---1-\\Project-Housing_splitted\\train.csv\")\n",
    "\n",
    "print(test_df.shape)\n",
    "print(train_df.shape)"
   ]
  },
  {
   "cell_type": "markdown",
   "id": "c5134514",
   "metadata": {},
   "source": [
    "# Data Exploration/Analysis:"
   ]
  },
  {
   "cell_type": "code",
   "execution_count": 8,
   "id": "5659be66",
   "metadata": {},
   "outputs": [
    {
     "name": "stdout",
     "output_type": "stream",
     "text": [
      "<class 'pandas.core.frame.DataFrame'>\n",
      "RangeIndex: 1168 entries, 0 to 1167\n",
      "Data columns (total 81 columns):\n",
      " #   Column         Non-Null Count  Dtype  \n",
      "---  ------         --------------  -----  \n",
      " 0   Id             1168 non-null   int64  \n",
      " 1   MSSubClass     1168 non-null   int64  \n",
      " 2   MSZoning       1168 non-null   object \n",
      " 3   LotFrontage    954 non-null    float64\n",
      " 4   LotArea        1168 non-null   int64  \n",
      " 5   Street         1168 non-null   object \n",
      " 6   Alley          77 non-null     object \n",
      " 7   LotShape       1168 non-null   object \n",
      " 8   LandContour    1168 non-null   object \n",
      " 9   Utilities      1168 non-null   object \n",
      " 10  LotConfig      1168 non-null   object \n",
      " 11  LandSlope      1168 non-null   object \n",
      " 12  Neighborhood   1168 non-null   object \n",
      " 13  Condition1     1168 non-null   object \n",
      " 14  Condition2     1168 non-null   object \n",
      " 15  BldgType       1168 non-null   object \n",
      " 16  HouseStyle     1168 non-null   object \n",
      " 17  OverallQual    1168 non-null   int64  \n",
      " 18  OverallCond    1168 non-null   int64  \n",
      " 19  YearBuilt      1168 non-null   int64  \n",
      " 20  YearRemodAdd   1168 non-null   int64  \n",
      " 21  RoofStyle      1168 non-null   object \n",
      " 22  RoofMatl       1168 non-null   object \n",
      " 23  Exterior1st    1168 non-null   object \n",
      " 24  Exterior2nd    1168 non-null   object \n",
      " 25  MasVnrType     1161 non-null   object \n",
      " 26  MasVnrArea     1161 non-null   float64\n",
      " 27  ExterQual      1168 non-null   object \n",
      " 28  ExterCond      1168 non-null   object \n",
      " 29  Foundation     1168 non-null   object \n",
      " 30  BsmtQual       1138 non-null   object \n",
      " 31  BsmtCond       1138 non-null   object \n",
      " 32  BsmtExposure   1137 non-null   object \n",
      " 33  BsmtFinType1   1138 non-null   object \n",
      " 34  BsmtFinSF1     1168 non-null   int64  \n",
      " 35  BsmtFinType2   1137 non-null   object \n",
      " 36  BsmtFinSF2     1168 non-null   int64  \n",
      " 37  BsmtUnfSF      1168 non-null   int64  \n",
      " 38  TotalBsmtSF    1168 non-null   int64  \n",
      " 39  Heating        1168 non-null   object \n",
      " 40  HeatingQC      1168 non-null   object \n",
      " 41  CentralAir     1168 non-null   object \n",
      " 42  Electrical     1168 non-null   object \n",
      " 43  1stFlrSF       1168 non-null   int64  \n",
      " 44  2ndFlrSF       1168 non-null   int64  \n",
      " 45  LowQualFinSF   1168 non-null   int64  \n",
      " 46  GrLivArea      1168 non-null   int64  \n",
      " 47  BsmtFullBath   1168 non-null   int64  \n",
      " 48  BsmtHalfBath   1168 non-null   int64  \n",
      " 49  FullBath       1168 non-null   int64  \n",
      " 50  HalfBath       1168 non-null   int64  \n",
      " 51  BedroomAbvGr   1168 non-null   int64  \n",
      " 52  KitchenAbvGr   1168 non-null   int64  \n",
      " 53  KitchenQual    1168 non-null   object \n",
      " 54  TotRmsAbvGrd   1168 non-null   int64  \n",
      " 55  Functional     1168 non-null   object \n",
      " 56  Fireplaces     1168 non-null   int64  \n",
      " 57  FireplaceQu    617 non-null    object \n",
      " 58  GarageType     1104 non-null   object \n",
      " 59  GarageYrBlt    1104 non-null   float64\n",
      " 60  GarageFinish   1104 non-null   object \n",
      " 61  GarageCars     1168 non-null   int64  \n",
      " 62  GarageArea     1168 non-null   int64  \n",
      " 63  GarageQual     1104 non-null   object \n",
      " 64  GarageCond     1104 non-null   object \n",
      " 65  PavedDrive     1168 non-null   object \n",
      " 66  WoodDeckSF     1168 non-null   int64  \n",
      " 67  OpenPorchSF    1168 non-null   int64  \n",
      " 68  EnclosedPorch  1168 non-null   int64  \n",
      " 69  3SsnPorch      1168 non-null   int64  \n",
      " 70  ScreenPorch    1168 non-null   int64  \n",
      " 71  PoolArea       1168 non-null   int64  \n",
      " 72  PoolQC         7 non-null      object \n",
      " 73  Fence          237 non-null    object \n",
      " 74  MiscFeature    44 non-null     object \n",
      " 75  MiscVal        1168 non-null   int64  \n",
      " 76  MoSold         1168 non-null   int64  \n",
      " 77  YrSold         1168 non-null   int64  \n",
      " 78  SaleType       1168 non-null   object \n",
      " 79  SaleCondition  1168 non-null   object \n",
      " 80  SalePrice      1168 non-null   int64  \n",
      "dtypes: float64(3), int64(35), object(43)\n",
      "memory usage: 739.2+ KB\n"
     ]
    }
   ],
   "source": [
    "#getting info\n",
    "\n",
    "train_df.info()"
   ]
  },
  {
   "cell_type": "markdown",
   "id": "aa64e5c0",
   "metadata": {},
   "source": [
    "- The training-set has 1168 examples and 80 features + the target variable (SalePrice). 3 of the features are floats, 35 are integers and 43 are objects."
   ]
  },
  {
   "cell_type": "code",
   "execution_count": 12,
   "id": "f41c3f7f",
   "metadata": {},
   "outputs": [
    {
     "data": {
      "text/html": [
       "<div>\n",
       "<style scoped>\n",
       "    .dataframe tbody tr th:only-of-type {\n",
       "        vertical-align: middle;\n",
       "    }\n",
       "\n",
       "    .dataframe tbody tr th {\n",
       "        vertical-align: top;\n",
       "    }\n",
       "\n",
       "    .dataframe thead th {\n",
       "        text-align: right;\n",
       "    }\n",
       "</style>\n",
       "<table border=\"1\" class=\"dataframe\">\n",
       "  <thead>\n",
       "    <tr style=\"text-align: right;\">\n",
       "      <th></th>\n",
       "      <th>Id</th>\n",
       "      <th>MSSubClass</th>\n",
       "      <th>MSZoning</th>\n",
       "      <th>LotFrontage</th>\n",
       "      <th>LotArea</th>\n",
       "      <th>Street</th>\n",
       "      <th>Alley</th>\n",
       "      <th>LotShape</th>\n",
       "      <th>LandContour</th>\n",
       "      <th>Utilities</th>\n",
       "      <th>LotConfig</th>\n",
       "      <th>LandSlope</th>\n",
       "      <th>Neighborhood</th>\n",
       "      <th>Condition1</th>\n",
       "      <th>Condition2</th>\n",
       "      <th>BldgType</th>\n",
       "      <th>HouseStyle</th>\n",
       "      <th>OverallQual</th>\n",
       "      <th>OverallCond</th>\n",
       "      <th>YearBuilt</th>\n",
       "      <th>YearRemodAdd</th>\n",
       "      <th>RoofStyle</th>\n",
       "      <th>RoofMatl</th>\n",
       "      <th>Exterior1st</th>\n",
       "      <th>Exterior2nd</th>\n",
       "      <th>MasVnrType</th>\n",
       "      <th>MasVnrArea</th>\n",
       "      <th>ExterQual</th>\n",
       "      <th>ExterCond</th>\n",
       "      <th>Foundation</th>\n",
       "      <th>BsmtQual</th>\n",
       "      <th>BsmtCond</th>\n",
       "      <th>BsmtExposure</th>\n",
       "      <th>BsmtFinType1</th>\n",
       "      <th>BsmtFinSF1</th>\n",
       "      <th>BsmtFinType2</th>\n",
       "      <th>BsmtFinSF2</th>\n",
       "      <th>BsmtUnfSF</th>\n",
       "      <th>TotalBsmtSF</th>\n",
       "      <th>Heating</th>\n",
       "      <th>HeatingQC</th>\n",
       "      <th>CentralAir</th>\n",
       "      <th>Electrical</th>\n",
       "      <th>1stFlrSF</th>\n",
       "      <th>2ndFlrSF</th>\n",
       "      <th>LowQualFinSF</th>\n",
       "      <th>GrLivArea</th>\n",
       "      <th>BsmtFullBath</th>\n",
       "      <th>BsmtHalfBath</th>\n",
       "      <th>FullBath</th>\n",
       "      <th>HalfBath</th>\n",
       "      <th>BedroomAbvGr</th>\n",
       "      <th>KitchenAbvGr</th>\n",
       "      <th>KitchenQual</th>\n",
       "      <th>TotRmsAbvGrd</th>\n",
       "      <th>Functional</th>\n",
       "      <th>Fireplaces</th>\n",
       "      <th>FireplaceQu</th>\n",
       "      <th>GarageType</th>\n",
       "      <th>GarageYrBlt</th>\n",
       "      <th>GarageFinish</th>\n",
       "      <th>GarageCars</th>\n",
       "      <th>GarageArea</th>\n",
       "      <th>GarageQual</th>\n",
       "      <th>GarageCond</th>\n",
       "      <th>PavedDrive</th>\n",
       "      <th>WoodDeckSF</th>\n",
       "      <th>OpenPorchSF</th>\n",
       "      <th>EnclosedPorch</th>\n",
       "      <th>3SsnPorch</th>\n",
       "      <th>ScreenPorch</th>\n",
       "      <th>PoolArea</th>\n",
       "      <th>PoolQC</th>\n",
       "      <th>Fence</th>\n",
       "      <th>MiscFeature</th>\n",
       "      <th>MiscVal</th>\n",
       "      <th>MoSold</th>\n",
       "      <th>YrSold</th>\n",
       "      <th>SaleType</th>\n",
       "      <th>SaleCondition</th>\n",
       "      <th>SalePrice</th>\n",
       "    </tr>\n",
       "  </thead>\n",
       "  <tbody>\n",
       "    <tr>\n",
       "      <th>656</th>\n",
       "      <td>1220</td>\n",
       "      <td>160</td>\n",
       "      <td>RM</td>\n",
       "      <td>21.0</td>\n",
       "      <td>1680</td>\n",
       "      <td>Pave</td>\n",
       "      <td>NaN</td>\n",
       "      <td>Reg</td>\n",
       "      <td>Lvl</td>\n",
       "      <td>AllPub</td>\n",
       "      <td>Inside</td>\n",
       "      <td>Gtl</td>\n",
       "      <td>BrDale</td>\n",
       "      <td>Norm</td>\n",
       "      <td>Norm</td>\n",
       "      <td>Twnhs</td>\n",
       "      <td>2Story</td>\n",
       "      <td>6</td>\n",
       "      <td>5</td>\n",
       "      <td>1971</td>\n",
       "      <td>1971</td>\n",
       "      <td>Gable</td>\n",
       "      <td>CompShg</td>\n",
       "      <td>CemntBd</td>\n",
       "      <td>CmentBd</td>\n",
       "      <td>BrkFace</td>\n",
       "      <td>236.0</td>\n",
       "      <td>TA</td>\n",
       "      <td>TA</td>\n",
       "      <td>CBlock</td>\n",
       "      <td>TA</td>\n",
       "      <td>TA</td>\n",
       "      <td>No</td>\n",
       "      <td>Unf</td>\n",
       "      <td>0</td>\n",
       "      <td>Unf</td>\n",
       "      <td>0</td>\n",
       "      <td>672</td>\n",
       "      <td>672</td>\n",
       "      <td>GasA</td>\n",
       "      <td>TA</td>\n",
       "      <td>Y</td>\n",
       "      <td>SBrkr</td>\n",
       "      <td>672</td>\n",
       "      <td>546</td>\n",
       "      <td>0</td>\n",
       "      <td>1218</td>\n",
       "      <td>0</td>\n",
       "      <td>0</td>\n",
       "      <td>1</td>\n",
       "      <td>1</td>\n",
       "      <td>3</td>\n",
       "      <td>1</td>\n",
       "      <td>TA</td>\n",
       "      <td>7</td>\n",
       "      <td>Typ</td>\n",
       "      <td>0</td>\n",
       "      <td>NaN</td>\n",
       "      <td>NaN</td>\n",
       "      <td>NaN</td>\n",
       "      <td>NaN</td>\n",
       "      <td>0</td>\n",
       "      <td>0</td>\n",
       "      <td>NaN</td>\n",
       "      <td>NaN</td>\n",
       "      <td>N</td>\n",
       "      <td>201</td>\n",
       "      <td>0</td>\n",
       "      <td>0</td>\n",
       "      <td>0</td>\n",
       "      <td>0</td>\n",
       "      <td>0</td>\n",
       "      <td>NaN</td>\n",
       "      <td>NaN</td>\n",
       "      <td>NaN</td>\n",
       "      <td>0</td>\n",
       "      <td>4</td>\n",
       "      <td>2006</td>\n",
       "      <td>WD</td>\n",
       "      <td>Abnorml</td>\n",
       "      <td>91500</td>\n",
       "    </tr>\n",
       "    <tr>\n",
       "      <th>911</th>\n",
       "      <td>765</td>\n",
       "      <td>120</td>\n",
       "      <td>RL</td>\n",
       "      <td>30.0</td>\n",
       "      <td>9549</td>\n",
       "      <td>Pave</td>\n",
       "      <td>NaN</td>\n",
       "      <td>IR1</td>\n",
       "      <td>Lvl</td>\n",
       "      <td>AllPub</td>\n",
       "      <td>CulDSac</td>\n",
       "      <td>Gtl</td>\n",
       "      <td>Veenker</td>\n",
       "      <td>Norm</td>\n",
       "      <td>Norm</td>\n",
       "      <td>TwnhsE</td>\n",
       "      <td>1Story</td>\n",
       "      <td>8</td>\n",
       "      <td>5</td>\n",
       "      <td>1995</td>\n",
       "      <td>1996</td>\n",
       "      <td>Hip</td>\n",
       "      <td>CompShg</td>\n",
       "      <td>BrkFace</td>\n",
       "      <td>BrkFace</td>\n",
       "      <td>None</td>\n",
       "      <td>0.0</td>\n",
       "      <td>Gd</td>\n",
       "      <td>Gd</td>\n",
       "      <td>PConc</td>\n",
       "      <td>Gd</td>\n",
       "      <td>Gd</td>\n",
       "      <td>Av</td>\n",
       "      <td>LwQ</td>\n",
       "      <td>437</td>\n",
       "      <td>GLQ</td>\n",
       "      <td>1057</td>\n",
       "      <td>0</td>\n",
       "      <td>1494</td>\n",
       "      <td>GasA</td>\n",
       "      <td>Ex</td>\n",
       "      <td>Y</td>\n",
       "      <td>SBrkr</td>\n",
       "      <td>1494</td>\n",
       "      <td>0</td>\n",
       "      <td>0</td>\n",
       "      <td>1494</td>\n",
       "      <td>1</td>\n",
       "      <td>0</td>\n",
       "      <td>1</td>\n",
       "      <td>1</td>\n",
       "      <td>2</td>\n",
       "      <td>1</td>\n",
       "      <td>Ex</td>\n",
       "      <td>6</td>\n",
       "      <td>Typ</td>\n",
       "      <td>1</td>\n",
       "      <td>Gd</td>\n",
       "      <td>Attchd</td>\n",
       "      <td>1995.0</td>\n",
       "      <td>Fin</td>\n",
       "      <td>2</td>\n",
       "      <td>481</td>\n",
       "      <td>TA</td>\n",
       "      <td>TA</td>\n",
       "      <td>Y</td>\n",
       "      <td>0</td>\n",
       "      <td>30</td>\n",
       "      <td>0</td>\n",
       "      <td>0</td>\n",
       "      <td>216</td>\n",
       "      <td>0</td>\n",
       "      <td>NaN</td>\n",
       "      <td>NaN</td>\n",
       "      <td>NaN</td>\n",
       "      <td>0</td>\n",
       "      <td>4</td>\n",
       "      <td>2006</td>\n",
       "      <td>WD</td>\n",
       "      <td>Normal</td>\n",
       "      <td>270000</td>\n",
       "    </tr>\n",
       "    <tr>\n",
       "      <th>467</th>\n",
       "      <td>42</td>\n",
       "      <td>20</td>\n",
       "      <td>RL</td>\n",
       "      <td>115.0</td>\n",
       "      <td>16905</td>\n",
       "      <td>Pave</td>\n",
       "      <td>NaN</td>\n",
       "      <td>Reg</td>\n",
       "      <td>Lvl</td>\n",
       "      <td>AllPub</td>\n",
       "      <td>Inside</td>\n",
       "      <td>Gtl</td>\n",
       "      <td>Timber</td>\n",
       "      <td>Norm</td>\n",
       "      <td>Norm</td>\n",
       "      <td>1Fam</td>\n",
       "      <td>1Story</td>\n",
       "      <td>5</td>\n",
       "      <td>6</td>\n",
       "      <td>1959</td>\n",
       "      <td>1959</td>\n",
       "      <td>Gable</td>\n",
       "      <td>CompShg</td>\n",
       "      <td>VinylSd</td>\n",
       "      <td>VinylSd</td>\n",
       "      <td>None</td>\n",
       "      <td>0.0</td>\n",
       "      <td>TA</td>\n",
       "      <td>Gd</td>\n",
       "      <td>CBlock</td>\n",
       "      <td>TA</td>\n",
       "      <td>TA</td>\n",
       "      <td>Gd</td>\n",
       "      <td>BLQ</td>\n",
       "      <td>967</td>\n",
       "      <td>Unf</td>\n",
       "      <td>0</td>\n",
       "      <td>383</td>\n",
       "      <td>1350</td>\n",
       "      <td>GasA</td>\n",
       "      <td>Gd</td>\n",
       "      <td>Y</td>\n",
       "      <td>SBrkr</td>\n",
       "      <td>1328</td>\n",
       "      <td>0</td>\n",
       "      <td>0</td>\n",
       "      <td>1328</td>\n",
       "      <td>0</td>\n",
       "      <td>1</td>\n",
       "      <td>1</td>\n",
       "      <td>1</td>\n",
       "      <td>2</td>\n",
       "      <td>1</td>\n",
       "      <td>TA</td>\n",
       "      <td>5</td>\n",
       "      <td>Typ</td>\n",
       "      <td>2</td>\n",
       "      <td>Gd</td>\n",
       "      <td>Attchd</td>\n",
       "      <td>1959.0</td>\n",
       "      <td>RFn</td>\n",
       "      <td>1</td>\n",
       "      <td>308</td>\n",
       "      <td>TA</td>\n",
       "      <td>TA</td>\n",
       "      <td>P</td>\n",
       "      <td>0</td>\n",
       "      <td>104</td>\n",
       "      <td>0</td>\n",
       "      <td>0</td>\n",
       "      <td>0</td>\n",
       "      <td>0</td>\n",
       "      <td>NaN</td>\n",
       "      <td>NaN</td>\n",
       "      <td>NaN</td>\n",
       "      <td>0</td>\n",
       "      <td>7</td>\n",
       "      <td>2007</td>\n",
       "      <td>WD</td>\n",
       "      <td>Normal</td>\n",
       "      <td>170000</td>\n",
       "    </tr>\n",
       "    <tr>\n",
       "      <th>1026</th>\n",
       "      <td>544</td>\n",
       "      <td>120</td>\n",
       "      <td>RH</td>\n",
       "      <td>34.0</td>\n",
       "      <td>4058</td>\n",
       "      <td>Pave</td>\n",
       "      <td>NaN</td>\n",
       "      <td>Reg</td>\n",
       "      <td>Lvl</td>\n",
       "      <td>AllPub</td>\n",
       "      <td>Inside</td>\n",
       "      <td>Gtl</td>\n",
       "      <td>NAmes</td>\n",
       "      <td>Norm</td>\n",
       "      <td>Norm</td>\n",
       "      <td>TwnhsE</td>\n",
       "      <td>SFoyer</td>\n",
       "      <td>7</td>\n",
       "      <td>5</td>\n",
       "      <td>1998</td>\n",
       "      <td>1998</td>\n",
       "      <td>Gable</td>\n",
       "      <td>CompShg</td>\n",
       "      <td>MetalSd</td>\n",
       "      <td>MetalSd</td>\n",
       "      <td>BrkFace</td>\n",
       "      <td>182.0</td>\n",
       "      <td>TA</td>\n",
       "      <td>TA</td>\n",
       "      <td>PConc</td>\n",
       "      <td>Gd</td>\n",
       "      <td>TA</td>\n",
       "      <td>Av</td>\n",
       "      <td>GLQ</td>\n",
       "      <td>584</td>\n",
       "      <td>LwQ</td>\n",
       "      <td>139</td>\n",
       "      <td>0</td>\n",
       "      <td>723</td>\n",
       "      <td>GasA</td>\n",
       "      <td>Ex</td>\n",
       "      <td>Y</td>\n",
       "      <td>SBrkr</td>\n",
       "      <td>767</td>\n",
       "      <td>0</td>\n",
       "      <td>0</td>\n",
       "      <td>767</td>\n",
       "      <td>1</td>\n",
       "      <td>0</td>\n",
       "      <td>1</td>\n",
       "      <td>0</td>\n",
       "      <td>1</td>\n",
       "      <td>1</td>\n",
       "      <td>TA</td>\n",
       "      <td>4</td>\n",
       "      <td>Typ</td>\n",
       "      <td>0</td>\n",
       "      <td>NaN</td>\n",
       "      <td>Attchd</td>\n",
       "      <td>1998.0</td>\n",
       "      <td>Fin</td>\n",
       "      <td>1</td>\n",
       "      <td>367</td>\n",
       "      <td>TA</td>\n",
       "      <td>TA</td>\n",
       "      <td>Y</td>\n",
       "      <td>120</td>\n",
       "      <td>40</td>\n",
       "      <td>0</td>\n",
       "      <td>0</td>\n",
       "      <td>0</td>\n",
       "      <td>0</td>\n",
       "      <td>NaN</td>\n",
       "      <td>NaN</td>\n",
       "      <td>NaN</td>\n",
       "      <td>0</td>\n",
       "      <td>6</td>\n",
       "      <td>2007</td>\n",
       "      <td>WD</td>\n",
       "      <td>Normal</td>\n",
       "      <td>133000</td>\n",
       "    </tr>\n",
       "    <tr>\n",
       "      <th>1088</th>\n",
       "      <td>882</td>\n",
       "      <td>50</td>\n",
       "      <td>RL</td>\n",
       "      <td>44.0</td>\n",
       "      <td>13758</td>\n",
       "      <td>Pave</td>\n",
       "      <td>NaN</td>\n",
       "      <td>IR1</td>\n",
       "      <td>Lvl</td>\n",
       "      <td>AllPub</td>\n",
       "      <td>CulDSac</td>\n",
       "      <td>Gtl</td>\n",
       "      <td>Timber</td>\n",
       "      <td>Norm</td>\n",
       "      <td>Norm</td>\n",
       "      <td>1Fam</td>\n",
       "      <td>1.5Fin</td>\n",
       "      <td>7</td>\n",
       "      <td>5</td>\n",
       "      <td>1990</td>\n",
       "      <td>1991</td>\n",
       "      <td>Gable</td>\n",
       "      <td>CompShg</td>\n",
       "      <td>HdBoard</td>\n",
       "      <td>HdBoard</td>\n",
       "      <td>BrkFace</td>\n",
       "      <td>117.0</td>\n",
       "      <td>Gd</td>\n",
       "      <td>Gd</td>\n",
       "      <td>CBlock</td>\n",
       "      <td>Gd</td>\n",
       "      <td>TA</td>\n",
       "      <td>Mn</td>\n",
       "      <td>LwQ</td>\n",
       "      <td>902</td>\n",
       "      <td>Unf</td>\n",
       "      <td>0</td>\n",
       "      <td>254</td>\n",
       "      <td>1156</td>\n",
       "      <td>GasA</td>\n",
       "      <td>Ex</td>\n",
       "      <td>Y</td>\n",
       "      <td>SBrkr</td>\n",
       "      <td>1187</td>\n",
       "      <td>530</td>\n",
       "      <td>0</td>\n",
       "      <td>1717</td>\n",
       "      <td>0</td>\n",
       "      <td>0</td>\n",
       "      <td>2</td>\n",
       "      <td>1</td>\n",
       "      <td>3</td>\n",
       "      <td>1</td>\n",
       "      <td>Gd</td>\n",
       "      <td>7</td>\n",
       "      <td>Typ</td>\n",
       "      <td>1</td>\n",
       "      <td>TA</td>\n",
       "      <td>Attchd</td>\n",
       "      <td>1990.0</td>\n",
       "      <td>RFn</td>\n",
       "      <td>2</td>\n",
       "      <td>400</td>\n",
       "      <td>TA</td>\n",
       "      <td>TA</td>\n",
       "      <td>Y</td>\n",
       "      <td>168</td>\n",
       "      <td>36</td>\n",
       "      <td>0</td>\n",
       "      <td>0</td>\n",
       "      <td>0</td>\n",
       "      <td>0</td>\n",
       "      <td>NaN</td>\n",
       "      <td>NaN</td>\n",
       "      <td>NaN</td>\n",
       "      <td>0</td>\n",
       "      <td>4</td>\n",
       "      <td>2007</td>\n",
       "      <td>WD</td>\n",
       "      <td>Normal</td>\n",
       "      <td>187500</td>\n",
       "    </tr>\n",
       "    <tr>\n",
       "      <th>1134</th>\n",
       "      <td>894</td>\n",
       "      <td>20</td>\n",
       "      <td>RL</td>\n",
       "      <td>NaN</td>\n",
       "      <td>13284</td>\n",
       "      <td>Pave</td>\n",
       "      <td>NaN</td>\n",
       "      <td>Reg</td>\n",
       "      <td>Lvl</td>\n",
       "      <td>AllPub</td>\n",
       "      <td>Inside</td>\n",
       "      <td>Gtl</td>\n",
       "      <td>Sawyer</td>\n",
       "      <td>PosN</td>\n",
       "      <td>Norm</td>\n",
       "      <td>1Fam</td>\n",
       "      <td>1Story</td>\n",
       "      <td>5</td>\n",
       "      <td>5</td>\n",
       "      <td>1954</td>\n",
       "      <td>1954</td>\n",
       "      <td>Gable</td>\n",
       "      <td>CompShg</td>\n",
       "      <td>Wd Sdng</td>\n",
       "      <td>Plywood</td>\n",
       "      <td>None</td>\n",
       "      <td>0.0</td>\n",
       "      <td>TA</td>\n",
       "      <td>TA</td>\n",
       "      <td>PConc</td>\n",
       "      <td>Gd</td>\n",
       "      <td>TA</td>\n",
       "      <td>Mn</td>\n",
       "      <td>BLQ</td>\n",
       "      <td>1064</td>\n",
       "      <td>Unf</td>\n",
       "      <td>0</td>\n",
       "      <td>319</td>\n",
       "      <td>1383</td>\n",
       "      <td>GasA</td>\n",
       "      <td>TA</td>\n",
       "      <td>Y</td>\n",
       "      <td>SBrkr</td>\n",
       "      <td>1383</td>\n",
       "      <td>0</td>\n",
       "      <td>0</td>\n",
       "      <td>1383</td>\n",
       "      <td>1</td>\n",
       "      <td>0</td>\n",
       "      <td>1</td>\n",
       "      <td>0</td>\n",
       "      <td>3</td>\n",
       "      <td>1</td>\n",
       "      <td>TA</td>\n",
       "      <td>6</td>\n",
       "      <td>Typ</td>\n",
       "      <td>1</td>\n",
       "      <td>Gd</td>\n",
       "      <td>Attchd</td>\n",
       "      <td>1954.0</td>\n",
       "      <td>Unf</td>\n",
       "      <td>1</td>\n",
       "      <td>354</td>\n",
       "      <td>TA</td>\n",
       "      <td>TA</td>\n",
       "      <td>Y</td>\n",
       "      <td>511</td>\n",
       "      <td>116</td>\n",
       "      <td>0</td>\n",
       "      <td>0</td>\n",
       "      <td>0</td>\n",
       "      <td>0</td>\n",
       "      <td>NaN</td>\n",
       "      <td>GdPrv</td>\n",
       "      <td>NaN</td>\n",
       "      <td>0</td>\n",
       "      <td>6</td>\n",
       "      <td>2008</td>\n",
       "      <td>WD</td>\n",
       "      <td>Normal</td>\n",
       "      <td>165000</td>\n",
       "    </tr>\n",
       "    <tr>\n",
       "      <th>669</th>\n",
       "      <td>20</td>\n",
       "      <td>20</td>\n",
       "      <td>RL</td>\n",
       "      <td>70.0</td>\n",
       "      <td>7560</td>\n",
       "      <td>Pave</td>\n",
       "      <td>NaN</td>\n",
       "      <td>Reg</td>\n",
       "      <td>Lvl</td>\n",
       "      <td>AllPub</td>\n",
       "      <td>Inside</td>\n",
       "      <td>Gtl</td>\n",
       "      <td>NAmes</td>\n",
       "      <td>Norm</td>\n",
       "      <td>Norm</td>\n",
       "      <td>1Fam</td>\n",
       "      <td>1Story</td>\n",
       "      <td>5</td>\n",
       "      <td>6</td>\n",
       "      <td>1958</td>\n",
       "      <td>1965</td>\n",
       "      <td>Hip</td>\n",
       "      <td>CompShg</td>\n",
       "      <td>BrkFace</td>\n",
       "      <td>Plywood</td>\n",
       "      <td>None</td>\n",
       "      <td>0.0</td>\n",
       "      <td>TA</td>\n",
       "      <td>TA</td>\n",
       "      <td>CBlock</td>\n",
       "      <td>TA</td>\n",
       "      <td>TA</td>\n",
       "      <td>No</td>\n",
       "      <td>LwQ</td>\n",
       "      <td>504</td>\n",
       "      <td>Unf</td>\n",
       "      <td>0</td>\n",
       "      <td>525</td>\n",
       "      <td>1029</td>\n",
       "      <td>GasA</td>\n",
       "      <td>TA</td>\n",
       "      <td>Y</td>\n",
       "      <td>SBrkr</td>\n",
       "      <td>1339</td>\n",
       "      <td>0</td>\n",
       "      <td>0</td>\n",
       "      <td>1339</td>\n",
       "      <td>0</td>\n",
       "      <td>0</td>\n",
       "      <td>1</td>\n",
       "      <td>0</td>\n",
       "      <td>3</td>\n",
       "      <td>1</td>\n",
       "      <td>TA</td>\n",
       "      <td>6</td>\n",
       "      <td>Min1</td>\n",
       "      <td>0</td>\n",
       "      <td>NaN</td>\n",
       "      <td>Attchd</td>\n",
       "      <td>1958.0</td>\n",
       "      <td>Unf</td>\n",
       "      <td>1</td>\n",
       "      <td>294</td>\n",
       "      <td>TA</td>\n",
       "      <td>TA</td>\n",
       "      <td>Y</td>\n",
       "      <td>0</td>\n",
       "      <td>0</td>\n",
       "      <td>0</td>\n",
       "      <td>0</td>\n",
       "      <td>0</td>\n",
       "      <td>0</td>\n",
       "      <td>NaN</td>\n",
       "      <td>MnPrv</td>\n",
       "      <td>NaN</td>\n",
       "      <td>0</td>\n",
       "      <td>5</td>\n",
       "      <td>2009</td>\n",
       "      <td>COD</td>\n",
       "      <td>Abnorml</td>\n",
       "      <td>139000</td>\n",
       "    </tr>\n",
       "    <tr>\n",
       "      <th>296</th>\n",
       "      <td>158</td>\n",
       "      <td>60</td>\n",
       "      <td>RL</td>\n",
       "      <td>92.0</td>\n",
       "      <td>12003</td>\n",
       "      <td>Pave</td>\n",
       "      <td>NaN</td>\n",
       "      <td>Reg</td>\n",
       "      <td>Lvl</td>\n",
       "      <td>AllPub</td>\n",
       "      <td>Corner</td>\n",
       "      <td>Gtl</td>\n",
       "      <td>Timber</td>\n",
       "      <td>Norm</td>\n",
       "      <td>Norm</td>\n",
       "      <td>1Fam</td>\n",
       "      <td>2Story</td>\n",
       "      <td>8</td>\n",
       "      <td>5</td>\n",
       "      <td>2009</td>\n",
       "      <td>2010</td>\n",
       "      <td>Gable</td>\n",
       "      <td>CompShg</td>\n",
       "      <td>VinylSd</td>\n",
       "      <td>VinylSd</td>\n",
       "      <td>BrkFace</td>\n",
       "      <td>84.0</td>\n",
       "      <td>Gd</td>\n",
       "      <td>TA</td>\n",
       "      <td>PConc</td>\n",
       "      <td>Ex</td>\n",
       "      <td>TA</td>\n",
       "      <td>No</td>\n",
       "      <td>Unf</td>\n",
       "      <td>0</td>\n",
       "      <td>Unf</td>\n",
       "      <td>0</td>\n",
       "      <td>774</td>\n",
       "      <td>774</td>\n",
       "      <td>GasA</td>\n",
       "      <td>Ex</td>\n",
       "      <td>Y</td>\n",
       "      <td>SBrkr</td>\n",
       "      <td>774</td>\n",
       "      <td>1194</td>\n",
       "      <td>0</td>\n",
       "      <td>1968</td>\n",
       "      <td>0</td>\n",
       "      <td>0</td>\n",
       "      <td>2</td>\n",
       "      <td>1</td>\n",
       "      <td>4</td>\n",
       "      <td>1</td>\n",
       "      <td>Ex</td>\n",
       "      <td>8</td>\n",
       "      <td>Typ</td>\n",
       "      <td>1</td>\n",
       "      <td>Gd</td>\n",
       "      <td>BuiltIn</td>\n",
       "      <td>2009.0</td>\n",
       "      <td>Fin</td>\n",
       "      <td>3</td>\n",
       "      <td>680</td>\n",
       "      <td>TA</td>\n",
       "      <td>TA</td>\n",
       "      <td>Y</td>\n",
       "      <td>0</td>\n",
       "      <td>75</td>\n",
       "      <td>0</td>\n",
       "      <td>0</td>\n",
       "      <td>0</td>\n",
       "      <td>0</td>\n",
       "      <td>NaN</td>\n",
       "      <td>NaN</td>\n",
       "      <td>NaN</td>\n",
       "      <td>0</td>\n",
       "      <td>5</td>\n",
       "      <td>2010</td>\n",
       "      <td>New</td>\n",
       "      <td>Partial</td>\n",
       "      <td>269500</td>\n",
       "    </tr>\n",
       "    <tr>\n",
       "      <th>1023</th>\n",
       "      <td>199</td>\n",
       "      <td>75</td>\n",
       "      <td>RM</td>\n",
       "      <td>92.0</td>\n",
       "      <td>5520</td>\n",
       "      <td>Pave</td>\n",
       "      <td>NaN</td>\n",
       "      <td>Reg</td>\n",
       "      <td>Lvl</td>\n",
       "      <td>AllPub</td>\n",
       "      <td>Corner</td>\n",
       "      <td>Gtl</td>\n",
       "      <td>OldTown</td>\n",
       "      <td>Norm</td>\n",
       "      <td>Norm</td>\n",
       "      <td>1Fam</td>\n",
       "      <td>2.5Fin</td>\n",
       "      <td>6</td>\n",
       "      <td>6</td>\n",
       "      <td>1912</td>\n",
       "      <td>1950</td>\n",
       "      <td>Gable</td>\n",
       "      <td>CompShg</td>\n",
       "      <td>Wd Sdng</td>\n",
       "      <td>Wd Sdng</td>\n",
       "      <td>None</td>\n",
       "      <td>0.0</td>\n",
       "      <td>TA</td>\n",
       "      <td>TA</td>\n",
       "      <td>CBlock</td>\n",
       "      <td>TA</td>\n",
       "      <td>TA</td>\n",
       "      <td>No</td>\n",
       "      <td>Unf</td>\n",
       "      <td>0</td>\n",
       "      <td>Unf</td>\n",
       "      <td>0</td>\n",
       "      <td>755</td>\n",
       "      <td>755</td>\n",
       "      <td>GasA</td>\n",
       "      <td>Ex</td>\n",
       "      <td>Y</td>\n",
       "      <td>SBrkr</td>\n",
       "      <td>929</td>\n",
       "      <td>929</td>\n",
       "      <td>371</td>\n",
       "      <td>2229</td>\n",
       "      <td>0</td>\n",
       "      <td>0</td>\n",
       "      <td>1</td>\n",
       "      <td>0</td>\n",
       "      <td>5</td>\n",
       "      <td>1</td>\n",
       "      <td>TA</td>\n",
       "      <td>8</td>\n",
       "      <td>Typ</td>\n",
       "      <td>0</td>\n",
       "      <td>NaN</td>\n",
       "      <td>NaN</td>\n",
       "      <td>NaN</td>\n",
       "      <td>NaN</td>\n",
       "      <td>0</td>\n",
       "      <td>0</td>\n",
       "      <td>NaN</td>\n",
       "      <td>NaN</td>\n",
       "      <td>Y</td>\n",
       "      <td>0</td>\n",
       "      <td>198</td>\n",
       "      <td>30</td>\n",
       "      <td>0</td>\n",
       "      <td>0</td>\n",
       "      <td>0</td>\n",
       "      <td>NaN</td>\n",
       "      <td>MnPrv</td>\n",
       "      <td>NaN</td>\n",
       "      <td>0</td>\n",
       "      <td>7</td>\n",
       "      <td>2009</td>\n",
       "      <td>WD</td>\n",
       "      <td>Abnorml</td>\n",
       "      <td>104000</td>\n",
       "    </tr>\n",
       "    <tr>\n",
       "      <th>660</th>\n",
       "      <td>1024</td>\n",
       "      <td>120</td>\n",
       "      <td>RL</td>\n",
       "      <td>43.0</td>\n",
       "      <td>3182</td>\n",
       "      <td>Pave</td>\n",
       "      <td>NaN</td>\n",
       "      <td>Reg</td>\n",
       "      <td>Lvl</td>\n",
       "      <td>AllPub</td>\n",
       "      <td>Inside</td>\n",
       "      <td>Gtl</td>\n",
       "      <td>Blmngtn</td>\n",
       "      <td>Norm</td>\n",
       "      <td>Norm</td>\n",
       "      <td>TwnhsE</td>\n",
       "      <td>1Story</td>\n",
       "      <td>7</td>\n",
       "      <td>5</td>\n",
       "      <td>2005</td>\n",
       "      <td>2006</td>\n",
       "      <td>Gable</td>\n",
       "      <td>CompShg</td>\n",
       "      <td>VinylSd</td>\n",
       "      <td>VinylSd</td>\n",
       "      <td>BrkFace</td>\n",
       "      <td>14.0</td>\n",
       "      <td>Gd</td>\n",
       "      <td>TA</td>\n",
       "      <td>PConc</td>\n",
       "      <td>Gd</td>\n",
       "      <td>Gd</td>\n",
       "      <td>No</td>\n",
       "      <td>GLQ</td>\n",
       "      <td>16</td>\n",
       "      <td>Unf</td>\n",
       "      <td>0</td>\n",
       "      <td>1330</td>\n",
       "      <td>1346</td>\n",
       "      <td>GasA</td>\n",
       "      <td>Ex</td>\n",
       "      <td>Y</td>\n",
       "      <td>SBrkr</td>\n",
       "      <td>1504</td>\n",
       "      <td>0</td>\n",
       "      <td>0</td>\n",
       "      <td>1504</td>\n",
       "      <td>0</td>\n",
       "      <td>0</td>\n",
       "      <td>2</td>\n",
       "      <td>0</td>\n",
       "      <td>2</td>\n",
       "      <td>1</td>\n",
       "      <td>Gd</td>\n",
       "      <td>7</td>\n",
       "      <td>Typ</td>\n",
       "      <td>1</td>\n",
       "      <td>Gd</td>\n",
       "      <td>Attchd</td>\n",
       "      <td>2005.0</td>\n",
       "      <td>Fin</td>\n",
       "      <td>2</td>\n",
       "      <td>437</td>\n",
       "      <td>TA</td>\n",
       "      <td>TA</td>\n",
       "      <td>Y</td>\n",
       "      <td>156</td>\n",
       "      <td>20</td>\n",
       "      <td>0</td>\n",
       "      <td>0</td>\n",
       "      <td>0</td>\n",
       "      <td>0</td>\n",
       "      <td>NaN</td>\n",
       "      <td>NaN</td>\n",
       "      <td>NaN</td>\n",
       "      <td>0</td>\n",
       "      <td>5</td>\n",
       "      <td>2008</td>\n",
       "      <td>WD</td>\n",
       "      <td>Normal</td>\n",
       "      <td>191000</td>\n",
       "    </tr>\n",
       "  </tbody>\n",
       "</table>\n",
       "</div>"
      ],
      "text/plain": [
       "        Id  MSSubClass MSZoning  LotFrontage  LotArea Street Alley LotShape  \\\n",
       "656   1220         160       RM         21.0     1680   Pave   NaN      Reg   \n",
       "911    765         120       RL         30.0     9549   Pave   NaN      IR1   \n",
       "467     42          20       RL        115.0    16905   Pave   NaN      Reg   \n",
       "1026   544         120       RH         34.0     4058   Pave   NaN      Reg   \n",
       "1088   882          50       RL         44.0    13758   Pave   NaN      IR1   \n",
       "1134   894          20       RL          NaN    13284   Pave   NaN      Reg   \n",
       "669     20          20       RL         70.0     7560   Pave   NaN      Reg   \n",
       "296    158          60       RL         92.0    12003   Pave   NaN      Reg   \n",
       "1023   199          75       RM         92.0     5520   Pave   NaN      Reg   \n",
       "660   1024         120       RL         43.0     3182   Pave   NaN      Reg   \n",
       "\n",
       "     LandContour Utilities LotConfig LandSlope Neighborhood Condition1  \\\n",
       "656          Lvl    AllPub    Inside       Gtl       BrDale       Norm   \n",
       "911          Lvl    AllPub   CulDSac       Gtl      Veenker       Norm   \n",
       "467          Lvl    AllPub    Inside       Gtl       Timber       Norm   \n",
       "1026         Lvl    AllPub    Inside       Gtl        NAmes       Norm   \n",
       "1088         Lvl    AllPub   CulDSac       Gtl       Timber       Norm   \n",
       "1134         Lvl    AllPub    Inside       Gtl       Sawyer       PosN   \n",
       "669          Lvl    AllPub    Inside       Gtl        NAmes       Norm   \n",
       "296          Lvl    AllPub    Corner       Gtl       Timber       Norm   \n",
       "1023         Lvl    AllPub    Corner       Gtl      OldTown       Norm   \n",
       "660          Lvl    AllPub    Inside       Gtl      Blmngtn       Norm   \n",
       "\n",
       "     Condition2 BldgType HouseStyle  OverallQual  OverallCond  YearBuilt  \\\n",
       "656        Norm    Twnhs     2Story            6            5       1971   \n",
       "911        Norm   TwnhsE     1Story            8            5       1995   \n",
       "467        Norm     1Fam     1Story            5            6       1959   \n",
       "1026       Norm   TwnhsE     SFoyer            7            5       1998   \n",
       "1088       Norm     1Fam     1.5Fin            7            5       1990   \n",
       "1134       Norm     1Fam     1Story            5            5       1954   \n",
       "669        Norm     1Fam     1Story            5            6       1958   \n",
       "296        Norm     1Fam     2Story            8            5       2009   \n",
       "1023       Norm     1Fam     2.5Fin            6            6       1912   \n",
       "660        Norm   TwnhsE     1Story            7            5       2005   \n",
       "\n",
       "      YearRemodAdd RoofStyle RoofMatl Exterior1st Exterior2nd MasVnrType  \\\n",
       "656           1971     Gable  CompShg     CemntBd     CmentBd    BrkFace   \n",
       "911           1996       Hip  CompShg     BrkFace     BrkFace       None   \n",
       "467           1959     Gable  CompShg     VinylSd     VinylSd       None   \n",
       "1026          1998     Gable  CompShg     MetalSd     MetalSd    BrkFace   \n",
       "1088          1991     Gable  CompShg     HdBoard     HdBoard    BrkFace   \n",
       "1134          1954     Gable  CompShg     Wd Sdng     Plywood       None   \n",
       "669           1965       Hip  CompShg     BrkFace     Plywood       None   \n",
       "296           2010     Gable  CompShg     VinylSd     VinylSd    BrkFace   \n",
       "1023          1950     Gable  CompShg     Wd Sdng     Wd Sdng       None   \n",
       "660           2006     Gable  CompShg     VinylSd     VinylSd    BrkFace   \n",
       "\n",
       "      MasVnrArea ExterQual ExterCond Foundation BsmtQual BsmtCond  \\\n",
       "656        236.0        TA        TA     CBlock       TA       TA   \n",
       "911          0.0        Gd        Gd      PConc       Gd       Gd   \n",
       "467          0.0        TA        Gd     CBlock       TA       TA   \n",
       "1026       182.0        TA        TA      PConc       Gd       TA   \n",
       "1088       117.0        Gd        Gd     CBlock       Gd       TA   \n",
       "1134         0.0        TA        TA      PConc       Gd       TA   \n",
       "669          0.0        TA        TA     CBlock       TA       TA   \n",
       "296         84.0        Gd        TA      PConc       Ex       TA   \n",
       "1023         0.0        TA        TA     CBlock       TA       TA   \n",
       "660         14.0        Gd        TA      PConc       Gd       Gd   \n",
       "\n",
       "     BsmtExposure BsmtFinType1  BsmtFinSF1 BsmtFinType2  BsmtFinSF2  \\\n",
       "656            No          Unf           0          Unf           0   \n",
       "911            Av          LwQ         437          GLQ        1057   \n",
       "467            Gd          BLQ         967          Unf           0   \n",
       "1026           Av          GLQ         584          LwQ         139   \n",
       "1088           Mn          LwQ         902          Unf           0   \n",
       "1134           Mn          BLQ        1064          Unf           0   \n",
       "669            No          LwQ         504          Unf           0   \n",
       "296            No          Unf           0          Unf           0   \n",
       "1023           No          Unf           0          Unf           0   \n",
       "660            No          GLQ          16          Unf           0   \n",
       "\n",
       "      BsmtUnfSF  TotalBsmtSF Heating HeatingQC CentralAir Electrical  \\\n",
       "656         672          672    GasA        TA          Y      SBrkr   \n",
       "911           0         1494    GasA        Ex          Y      SBrkr   \n",
       "467         383         1350    GasA        Gd          Y      SBrkr   \n",
       "1026          0          723    GasA        Ex          Y      SBrkr   \n",
       "1088        254         1156    GasA        Ex          Y      SBrkr   \n",
       "1134        319         1383    GasA        TA          Y      SBrkr   \n",
       "669         525         1029    GasA        TA          Y      SBrkr   \n",
       "296         774          774    GasA        Ex          Y      SBrkr   \n",
       "1023        755          755    GasA        Ex          Y      SBrkr   \n",
       "660        1330         1346    GasA        Ex          Y      SBrkr   \n",
       "\n",
       "      1stFlrSF  2ndFlrSF  LowQualFinSF  GrLivArea  BsmtFullBath  BsmtHalfBath  \\\n",
       "656        672       546             0       1218             0             0   \n",
       "911       1494         0             0       1494             1             0   \n",
       "467       1328         0             0       1328             0             1   \n",
       "1026       767         0             0        767             1             0   \n",
       "1088      1187       530             0       1717             0             0   \n",
       "1134      1383         0             0       1383             1             0   \n",
       "669       1339         0             0       1339             0             0   \n",
       "296        774      1194             0       1968             0             0   \n",
       "1023       929       929           371       2229             0             0   \n",
       "660       1504         0             0       1504             0             0   \n",
       "\n",
       "      FullBath  HalfBath  BedroomAbvGr  KitchenAbvGr KitchenQual  \\\n",
       "656          1         1             3             1          TA   \n",
       "911          1         1             2             1          Ex   \n",
       "467          1         1             2             1          TA   \n",
       "1026         1         0             1             1          TA   \n",
       "1088         2         1             3             1          Gd   \n",
       "1134         1         0             3             1          TA   \n",
       "669          1         0             3             1          TA   \n",
       "296          2         1             4             1          Ex   \n",
       "1023         1         0             5             1          TA   \n",
       "660          2         0             2             1          Gd   \n",
       "\n",
       "      TotRmsAbvGrd Functional  Fireplaces FireplaceQu GarageType  GarageYrBlt  \\\n",
       "656              7        Typ           0         NaN        NaN          NaN   \n",
       "911              6        Typ           1          Gd     Attchd       1995.0   \n",
       "467              5        Typ           2          Gd     Attchd       1959.0   \n",
       "1026             4        Typ           0         NaN     Attchd       1998.0   \n",
       "1088             7        Typ           1          TA     Attchd       1990.0   \n",
       "1134             6        Typ           1          Gd     Attchd       1954.0   \n",
       "669              6       Min1           0         NaN     Attchd       1958.0   \n",
       "296              8        Typ           1          Gd    BuiltIn       2009.0   \n",
       "1023             8        Typ           0         NaN        NaN          NaN   \n",
       "660              7        Typ           1          Gd     Attchd       2005.0   \n",
       "\n",
       "     GarageFinish  GarageCars  GarageArea GarageQual GarageCond PavedDrive  \\\n",
       "656           NaN           0           0        NaN        NaN          N   \n",
       "911           Fin           2         481         TA         TA          Y   \n",
       "467           RFn           1         308         TA         TA          P   \n",
       "1026          Fin           1         367         TA         TA          Y   \n",
       "1088          RFn           2         400         TA         TA          Y   \n",
       "1134          Unf           1         354         TA         TA          Y   \n",
       "669           Unf           1         294         TA         TA          Y   \n",
       "296           Fin           3         680         TA         TA          Y   \n",
       "1023          NaN           0           0        NaN        NaN          Y   \n",
       "660           Fin           2         437         TA         TA          Y   \n",
       "\n",
       "      WoodDeckSF  OpenPorchSF  EnclosedPorch  3SsnPorch  ScreenPorch  \\\n",
       "656          201            0              0          0            0   \n",
       "911            0           30              0          0          216   \n",
       "467            0          104              0          0            0   \n",
       "1026         120           40              0          0            0   \n",
       "1088         168           36              0          0            0   \n",
       "1134         511          116              0          0            0   \n",
       "669            0            0              0          0            0   \n",
       "296            0           75              0          0            0   \n",
       "1023           0          198             30          0            0   \n",
       "660          156           20              0          0            0   \n",
       "\n",
       "      PoolArea PoolQC  Fence MiscFeature  MiscVal  MoSold  YrSold SaleType  \\\n",
       "656          0    NaN    NaN         NaN        0       4    2006       WD   \n",
       "911          0    NaN    NaN         NaN        0       4    2006       WD   \n",
       "467          0    NaN    NaN         NaN        0       7    2007       WD   \n",
       "1026         0    NaN    NaN         NaN        0       6    2007       WD   \n",
       "1088         0    NaN    NaN         NaN        0       4    2007       WD   \n",
       "1134         0    NaN  GdPrv         NaN        0       6    2008       WD   \n",
       "669          0    NaN  MnPrv         NaN        0       5    2009      COD   \n",
       "296          0    NaN    NaN         NaN        0       5    2010      New   \n",
       "1023         0    NaN  MnPrv         NaN        0       7    2009       WD   \n",
       "660          0    NaN    NaN         NaN        0       5    2008       WD   \n",
       "\n",
       "     SaleCondition  SalePrice  \n",
       "656        Abnorml      91500  \n",
       "911         Normal     270000  \n",
       "467         Normal     170000  \n",
       "1026        Normal     133000  \n",
       "1088        Normal     187500  \n",
       "1134        Normal     165000  \n",
       "669        Abnorml     139000  \n",
       "296        Partial     269500  \n",
       "1023       Abnorml     104000  \n",
       "660         Normal     191000  "
      ]
     },
     "execution_count": 12,
     "metadata": {},
     "output_type": "execute_result"
    }
   ],
   "source": [
    "#checking out a few sample from the training-set\n",
    "\n",
    "pd.set_option('display.max_columns',None)\n",
    "train_df.sample(10)"
   ]
  },
  {
   "cell_type": "code",
   "execution_count": 13,
   "id": "ccb486d4",
   "metadata": {
    "scrolled": true
   },
   "outputs": [
    {
     "data": {
      "text/html": [
       "<div>\n",
       "<style scoped>\n",
       "    .dataframe tbody tr th:only-of-type {\n",
       "        vertical-align: middle;\n",
       "    }\n",
       "\n",
       "    .dataframe tbody tr th {\n",
       "        vertical-align: top;\n",
       "    }\n",
       "\n",
       "    .dataframe thead th {\n",
       "        text-align: right;\n",
       "    }\n",
       "</style>\n",
       "<table border=\"1\" class=\"dataframe\">\n",
       "  <thead>\n",
       "    <tr style=\"text-align: right;\">\n",
       "      <th></th>\n",
       "      <th>Id</th>\n",
       "      <th>MSSubClass</th>\n",
       "      <th>LotFrontage</th>\n",
       "      <th>LotArea</th>\n",
       "      <th>OverallQual</th>\n",
       "      <th>OverallCond</th>\n",
       "      <th>YearBuilt</th>\n",
       "      <th>YearRemodAdd</th>\n",
       "      <th>MasVnrArea</th>\n",
       "      <th>BsmtFinSF1</th>\n",
       "      <th>BsmtFinSF2</th>\n",
       "      <th>BsmtUnfSF</th>\n",
       "      <th>TotalBsmtSF</th>\n",
       "      <th>1stFlrSF</th>\n",
       "      <th>2ndFlrSF</th>\n",
       "      <th>LowQualFinSF</th>\n",
       "      <th>GrLivArea</th>\n",
       "      <th>BsmtFullBath</th>\n",
       "      <th>BsmtHalfBath</th>\n",
       "      <th>FullBath</th>\n",
       "      <th>HalfBath</th>\n",
       "      <th>BedroomAbvGr</th>\n",
       "      <th>KitchenAbvGr</th>\n",
       "      <th>TotRmsAbvGrd</th>\n",
       "      <th>Fireplaces</th>\n",
       "      <th>GarageYrBlt</th>\n",
       "      <th>GarageCars</th>\n",
       "      <th>GarageArea</th>\n",
       "      <th>WoodDeckSF</th>\n",
       "      <th>OpenPorchSF</th>\n",
       "      <th>EnclosedPorch</th>\n",
       "      <th>3SsnPorch</th>\n",
       "      <th>ScreenPorch</th>\n",
       "      <th>PoolArea</th>\n",
       "      <th>MiscVal</th>\n",
       "      <th>MoSold</th>\n",
       "      <th>YrSold</th>\n",
       "      <th>SalePrice</th>\n",
       "    </tr>\n",
       "  </thead>\n",
       "  <tbody>\n",
       "    <tr>\n",
       "      <th>count</th>\n",
       "      <td>1168.000000</td>\n",
       "      <td>1168.000000</td>\n",
       "      <td>954.00000</td>\n",
       "      <td>1168.000000</td>\n",
       "      <td>1168.000000</td>\n",
       "      <td>1168.000000</td>\n",
       "      <td>1168.000000</td>\n",
       "      <td>1168.000000</td>\n",
       "      <td>1161.000000</td>\n",
       "      <td>1168.000000</td>\n",
       "      <td>1168.000000</td>\n",
       "      <td>1168.000000</td>\n",
       "      <td>1168.000000</td>\n",
       "      <td>1168.000000</td>\n",
       "      <td>1168.000000</td>\n",
       "      <td>1168.000000</td>\n",
       "      <td>1168.000000</td>\n",
       "      <td>1168.000000</td>\n",
       "      <td>1168.000000</td>\n",
       "      <td>1168.000000</td>\n",
       "      <td>1168.000000</td>\n",
       "      <td>1168.000000</td>\n",
       "      <td>1168.000000</td>\n",
       "      <td>1168.000000</td>\n",
       "      <td>1168.000000</td>\n",
       "      <td>1104.000000</td>\n",
       "      <td>1168.000000</td>\n",
       "      <td>1168.000000</td>\n",
       "      <td>1168.000000</td>\n",
       "      <td>1168.000000</td>\n",
       "      <td>1168.000000</td>\n",
       "      <td>1168.000000</td>\n",
       "      <td>1168.000000</td>\n",
       "      <td>1168.000000</td>\n",
       "      <td>1168.000000</td>\n",
       "      <td>1168.000000</td>\n",
       "      <td>1168.000000</td>\n",
       "      <td>1168.000000</td>\n",
       "    </tr>\n",
       "    <tr>\n",
       "      <th>mean</th>\n",
       "      <td>724.136130</td>\n",
       "      <td>56.767979</td>\n",
       "      <td>70.98847</td>\n",
       "      <td>10484.749144</td>\n",
       "      <td>6.104452</td>\n",
       "      <td>5.595890</td>\n",
       "      <td>1970.930651</td>\n",
       "      <td>1984.758562</td>\n",
       "      <td>102.310078</td>\n",
       "      <td>444.726027</td>\n",
       "      <td>46.647260</td>\n",
       "      <td>569.721747</td>\n",
       "      <td>1061.095034</td>\n",
       "      <td>1169.860445</td>\n",
       "      <td>348.826199</td>\n",
       "      <td>6.380137</td>\n",
       "      <td>1525.066781</td>\n",
       "      <td>0.425514</td>\n",
       "      <td>0.055651</td>\n",
       "      <td>1.562500</td>\n",
       "      <td>0.388699</td>\n",
       "      <td>2.884418</td>\n",
       "      <td>1.045377</td>\n",
       "      <td>6.542808</td>\n",
       "      <td>0.617295</td>\n",
       "      <td>1978.193841</td>\n",
       "      <td>1.776541</td>\n",
       "      <td>476.860445</td>\n",
       "      <td>96.206336</td>\n",
       "      <td>46.559932</td>\n",
       "      <td>23.015411</td>\n",
       "      <td>3.639555</td>\n",
       "      <td>15.051370</td>\n",
       "      <td>3.448630</td>\n",
       "      <td>47.315068</td>\n",
       "      <td>6.344178</td>\n",
       "      <td>2007.804795</td>\n",
       "      <td>181477.005993</td>\n",
       "    </tr>\n",
       "    <tr>\n",
       "      <th>std</th>\n",
       "      <td>416.159877</td>\n",
       "      <td>41.940650</td>\n",
       "      <td>24.82875</td>\n",
       "      <td>8957.442311</td>\n",
       "      <td>1.390153</td>\n",
       "      <td>1.124343</td>\n",
       "      <td>30.145255</td>\n",
       "      <td>20.785185</td>\n",
       "      <td>182.595606</td>\n",
       "      <td>462.664785</td>\n",
       "      <td>163.520016</td>\n",
       "      <td>449.375525</td>\n",
       "      <td>442.272249</td>\n",
       "      <td>391.161983</td>\n",
       "      <td>439.696370</td>\n",
       "      <td>50.892844</td>\n",
       "      <td>528.042957</td>\n",
       "      <td>0.521615</td>\n",
       "      <td>0.236699</td>\n",
       "      <td>0.551882</td>\n",
       "      <td>0.504929</td>\n",
       "      <td>0.817229</td>\n",
       "      <td>0.216292</td>\n",
       "      <td>1.598484</td>\n",
       "      <td>0.650575</td>\n",
       "      <td>24.890704</td>\n",
       "      <td>0.745554</td>\n",
       "      <td>214.466769</td>\n",
       "      <td>126.158988</td>\n",
       "      <td>66.381023</td>\n",
       "      <td>63.191089</td>\n",
       "      <td>29.088867</td>\n",
       "      <td>55.080816</td>\n",
       "      <td>44.896939</td>\n",
       "      <td>543.264432</td>\n",
       "      <td>2.686352</td>\n",
       "      <td>1.329738</td>\n",
       "      <td>79105.586863</td>\n",
       "    </tr>\n",
       "    <tr>\n",
       "      <th>min</th>\n",
       "      <td>1.000000</td>\n",
       "      <td>20.000000</td>\n",
       "      <td>21.00000</td>\n",
       "      <td>1300.000000</td>\n",
       "      <td>1.000000</td>\n",
       "      <td>1.000000</td>\n",
       "      <td>1875.000000</td>\n",
       "      <td>1950.000000</td>\n",
       "      <td>0.000000</td>\n",
       "      <td>0.000000</td>\n",
       "      <td>0.000000</td>\n",
       "      <td>0.000000</td>\n",
       "      <td>0.000000</td>\n",
       "      <td>334.000000</td>\n",
       "      <td>0.000000</td>\n",
       "      <td>0.000000</td>\n",
       "      <td>334.000000</td>\n",
       "      <td>0.000000</td>\n",
       "      <td>0.000000</td>\n",
       "      <td>0.000000</td>\n",
       "      <td>0.000000</td>\n",
       "      <td>0.000000</td>\n",
       "      <td>0.000000</td>\n",
       "      <td>2.000000</td>\n",
       "      <td>0.000000</td>\n",
       "      <td>1900.000000</td>\n",
       "      <td>0.000000</td>\n",
       "      <td>0.000000</td>\n",
       "      <td>0.000000</td>\n",
       "      <td>0.000000</td>\n",
       "      <td>0.000000</td>\n",
       "      <td>0.000000</td>\n",
       "      <td>0.000000</td>\n",
       "      <td>0.000000</td>\n",
       "      <td>0.000000</td>\n",
       "      <td>1.000000</td>\n",
       "      <td>2006.000000</td>\n",
       "      <td>34900.000000</td>\n",
       "    </tr>\n",
       "    <tr>\n",
       "      <th>25%</th>\n",
       "      <td>360.500000</td>\n",
       "      <td>20.000000</td>\n",
       "      <td>60.00000</td>\n",
       "      <td>7621.500000</td>\n",
       "      <td>5.000000</td>\n",
       "      <td>5.000000</td>\n",
       "      <td>1954.000000</td>\n",
       "      <td>1966.000000</td>\n",
       "      <td>0.000000</td>\n",
       "      <td>0.000000</td>\n",
       "      <td>0.000000</td>\n",
       "      <td>216.000000</td>\n",
       "      <td>799.000000</td>\n",
       "      <td>892.000000</td>\n",
       "      <td>0.000000</td>\n",
       "      <td>0.000000</td>\n",
       "      <td>1143.250000</td>\n",
       "      <td>0.000000</td>\n",
       "      <td>0.000000</td>\n",
       "      <td>1.000000</td>\n",
       "      <td>0.000000</td>\n",
       "      <td>2.000000</td>\n",
       "      <td>1.000000</td>\n",
       "      <td>5.000000</td>\n",
       "      <td>0.000000</td>\n",
       "      <td>1961.000000</td>\n",
       "      <td>1.000000</td>\n",
       "      <td>338.000000</td>\n",
       "      <td>0.000000</td>\n",
       "      <td>0.000000</td>\n",
       "      <td>0.000000</td>\n",
       "      <td>0.000000</td>\n",
       "      <td>0.000000</td>\n",
       "      <td>0.000000</td>\n",
       "      <td>0.000000</td>\n",
       "      <td>5.000000</td>\n",
       "      <td>2007.000000</td>\n",
       "      <td>130375.000000</td>\n",
       "    </tr>\n",
       "    <tr>\n",
       "      <th>50%</th>\n",
       "      <td>714.500000</td>\n",
       "      <td>50.000000</td>\n",
       "      <td>70.00000</td>\n",
       "      <td>9522.500000</td>\n",
       "      <td>6.000000</td>\n",
       "      <td>5.000000</td>\n",
       "      <td>1972.000000</td>\n",
       "      <td>1993.000000</td>\n",
       "      <td>0.000000</td>\n",
       "      <td>385.500000</td>\n",
       "      <td>0.000000</td>\n",
       "      <td>474.000000</td>\n",
       "      <td>1005.500000</td>\n",
       "      <td>1096.500000</td>\n",
       "      <td>0.000000</td>\n",
       "      <td>0.000000</td>\n",
       "      <td>1468.500000</td>\n",
       "      <td>0.000000</td>\n",
       "      <td>0.000000</td>\n",
       "      <td>2.000000</td>\n",
       "      <td>0.000000</td>\n",
       "      <td>3.000000</td>\n",
       "      <td>1.000000</td>\n",
       "      <td>6.000000</td>\n",
       "      <td>1.000000</td>\n",
       "      <td>1980.000000</td>\n",
       "      <td>2.000000</td>\n",
       "      <td>480.000000</td>\n",
       "      <td>0.000000</td>\n",
       "      <td>24.000000</td>\n",
       "      <td>0.000000</td>\n",
       "      <td>0.000000</td>\n",
       "      <td>0.000000</td>\n",
       "      <td>0.000000</td>\n",
       "      <td>0.000000</td>\n",
       "      <td>6.000000</td>\n",
       "      <td>2008.000000</td>\n",
       "      <td>163995.000000</td>\n",
       "    </tr>\n",
       "    <tr>\n",
       "      <th>75%</th>\n",
       "      <td>1079.500000</td>\n",
       "      <td>70.000000</td>\n",
       "      <td>80.00000</td>\n",
       "      <td>11515.500000</td>\n",
       "      <td>7.000000</td>\n",
       "      <td>6.000000</td>\n",
       "      <td>2000.000000</td>\n",
       "      <td>2004.000000</td>\n",
       "      <td>160.000000</td>\n",
       "      <td>714.500000</td>\n",
       "      <td>0.000000</td>\n",
       "      <td>816.000000</td>\n",
       "      <td>1291.500000</td>\n",
       "      <td>1392.000000</td>\n",
       "      <td>729.000000</td>\n",
       "      <td>0.000000</td>\n",
       "      <td>1795.000000</td>\n",
       "      <td>1.000000</td>\n",
       "      <td>0.000000</td>\n",
       "      <td>2.000000</td>\n",
       "      <td>1.000000</td>\n",
       "      <td>3.000000</td>\n",
       "      <td>1.000000</td>\n",
       "      <td>7.000000</td>\n",
       "      <td>1.000000</td>\n",
       "      <td>2002.000000</td>\n",
       "      <td>2.000000</td>\n",
       "      <td>576.000000</td>\n",
       "      <td>171.000000</td>\n",
       "      <td>70.000000</td>\n",
       "      <td>0.000000</td>\n",
       "      <td>0.000000</td>\n",
       "      <td>0.000000</td>\n",
       "      <td>0.000000</td>\n",
       "      <td>0.000000</td>\n",
       "      <td>8.000000</td>\n",
       "      <td>2009.000000</td>\n",
       "      <td>215000.000000</td>\n",
       "    </tr>\n",
       "    <tr>\n",
       "      <th>max</th>\n",
       "      <td>1460.000000</td>\n",
       "      <td>190.000000</td>\n",
       "      <td>313.00000</td>\n",
       "      <td>164660.000000</td>\n",
       "      <td>10.000000</td>\n",
       "      <td>9.000000</td>\n",
       "      <td>2010.000000</td>\n",
       "      <td>2010.000000</td>\n",
       "      <td>1600.000000</td>\n",
       "      <td>5644.000000</td>\n",
       "      <td>1474.000000</td>\n",
       "      <td>2336.000000</td>\n",
       "      <td>6110.000000</td>\n",
       "      <td>4692.000000</td>\n",
       "      <td>2065.000000</td>\n",
       "      <td>572.000000</td>\n",
       "      <td>5642.000000</td>\n",
       "      <td>3.000000</td>\n",
       "      <td>2.000000</td>\n",
       "      <td>3.000000</td>\n",
       "      <td>2.000000</td>\n",
       "      <td>8.000000</td>\n",
       "      <td>3.000000</td>\n",
       "      <td>14.000000</td>\n",
       "      <td>3.000000</td>\n",
       "      <td>2010.000000</td>\n",
       "      <td>4.000000</td>\n",
       "      <td>1418.000000</td>\n",
       "      <td>857.000000</td>\n",
       "      <td>547.000000</td>\n",
       "      <td>552.000000</td>\n",
       "      <td>508.000000</td>\n",
       "      <td>480.000000</td>\n",
       "      <td>738.000000</td>\n",
       "      <td>15500.000000</td>\n",
       "      <td>12.000000</td>\n",
       "      <td>2010.000000</td>\n",
       "      <td>755000.000000</td>\n",
       "    </tr>\n",
       "  </tbody>\n",
       "</table>\n",
       "</div>"
      ],
      "text/plain": [
       "                Id   MSSubClass  LotFrontage        LotArea  OverallQual  \\\n",
       "count  1168.000000  1168.000000    954.00000    1168.000000  1168.000000   \n",
       "mean    724.136130    56.767979     70.98847   10484.749144     6.104452   \n",
       "std     416.159877    41.940650     24.82875    8957.442311     1.390153   \n",
       "min       1.000000    20.000000     21.00000    1300.000000     1.000000   \n",
       "25%     360.500000    20.000000     60.00000    7621.500000     5.000000   \n",
       "50%     714.500000    50.000000     70.00000    9522.500000     6.000000   \n",
       "75%    1079.500000    70.000000     80.00000   11515.500000     7.000000   \n",
       "max    1460.000000   190.000000    313.00000  164660.000000    10.000000   \n",
       "\n",
       "       OverallCond    YearBuilt  YearRemodAdd   MasVnrArea   BsmtFinSF1  \\\n",
       "count  1168.000000  1168.000000   1168.000000  1161.000000  1168.000000   \n",
       "mean      5.595890  1970.930651   1984.758562   102.310078   444.726027   \n",
       "std       1.124343    30.145255     20.785185   182.595606   462.664785   \n",
       "min       1.000000  1875.000000   1950.000000     0.000000     0.000000   \n",
       "25%       5.000000  1954.000000   1966.000000     0.000000     0.000000   \n",
       "50%       5.000000  1972.000000   1993.000000     0.000000   385.500000   \n",
       "75%       6.000000  2000.000000   2004.000000   160.000000   714.500000   \n",
       "max       9.000000  2010.000000   2010.000000  1600.000000  5644.000000   \n",
       "\n",
       "        BsmtFinSF2    BsmtUnfSF  TotalBsmtSF     1stFlrSF     2ndFlrSF  \\\n",
       "count  1168.000000  1168.000000  1168.000000  1168.000000  1168.000000   \n",
       "mean     46.647260   569.721747  1061.095034  1169.860445   348.826199   \n",
       "std     163.520016   449.375525   442.272249   391.161983   439.696370   \n",
       "min       0.000000     0.000000     0.000000   334.000000     0.000000   \n",
       "25%       0.000000   216.000000   799.000000   892.000000     0.000000   \n",
       "50%       0.000000   474.000000  1005.500000  1096.500000     0.000000   \n",
       "75%       0.000000   816.000000  1291.500000  1392.000000   729.000000   \n",
       "max    1474.000000  2336.000000  6110.000000  4692.000000  2065.000000   \n",
       "\n",
       "       LowQualFinSF    GrLivArea  BsmtFullBath  BsmtHalfBath     FullBath  \\\n",
       "count   1168.000000  1168.000000   1168.000000   1168.000000  1168.000000   \n",
       "mean       6.380137  1525.066781      0.425514      0.055651     1.562500   \n",
       "std       50.892844   528.042957      0.521615      0.236699     0.551882   \n",
       "min        0.000000   334.000000      0.000000      0.000000     0.000000   \n",
       "25%        0.000000  1143.250000      0.000000      0.000000     1.000000   \n",
       "50%        0.000000  1468.500000      0.000000      0.000000     2.000000   \n",
       "75%        0.000000  1795.000000      1.000000      0.000000     2.000000   \n",
       "max      572.000000  5642.000000      3.000000      2.000000     3.000000   \n",
       "\n",
       "          HalfBath  BedroomAbvGr  KitchenAbvGr  TotRmsAbvGrd   Fireplaces  \\\n",
       "count  1168.000000   1168.000000   1168.000000   1168.000000  1168.000000   \n",
       "mean      0.388699      2.884418      1.045377      6.542808     0.617295   \n",
       "std       0.504929      0.817229      0.216292      1.598484     0.650575   \n",
       "min       0.000000      0.000000      0.000000      2.000000     0.000000   \n",
       "25%       0.000000      2.000000      1.000000      5.000000     0.000000   \n",
       "50%       0.000000      3.000000      1.000000      6.000000     1.000000   \n",
       "75%       1.000000      3.000000      1.000000      7.000000     1.000000   \n",
       "max       2.000000      8.000000      3.000000     14.000000     3.000000   \n",
       "\n",
       "       GarageYrBlt   GarageCars   GarageArea   WoodDeckSF  OpenPorchSF  \\\n",
       "count  1104.000000  1168.000000  1168.000000  1168.000000  1168.000000   \n",
       "mean   1978.193841     1.776541   476.860445    96.206336    46.559932   \n",
       "std      24.890704     0.745554   214.466769   126.158988    66.381023   \n",
       "min    1900.000000     0.000000     0.000000     0.000000     0.000000   \n",
       "25%    1961.000000     1.000000   338.000000     0.000000     0.000000   \n",
       "50%    1980.000000     2.000000   480.000000     0.000000    24.000000   \n",
       "75%    2002.000000     2.000000   576.000000   171.000000    70.000000   \n",
       "max    2010.000000     4.000000  1418.000000   857.000000   547.000000   \n",
       "\n",
       "       EnclosedPorch    3SsnPorch  ScreenPorch     PoolArea       MiscVal  \\\n",
       "count    1168.000000  1168.000000  1168.000000  1168.000000   1168.000000   \n",
       "mean       23.015411     3.639555    15.051370     3.448630     47.315068   \n",
       "std        63.191089    29.088867    55.080816    44.896939    543.264432   \n",
       "min         0.000000     0.000000     0.000000     0.000000      0.000000   \n",
       "25%         0.000000     0.000000     0.000000     0.000000      0.000000   \n",
       "50%         0.000000     0.000000     0.000000     0.000000      0.000000   \n",
       "75%         0.000000     0.000000     0.000000     0.000000      0.000000   \n",
       "max       552.000000   508.000000   480.000000   738.000000  15500.000000   \n",
       "\n",
       "            MoSold       YrSold      SalePrice  \n",
       "count  1168.000000  1168.000000    1168.000000  \n",
       "mean      6.344178  2007.804795  181477.005993  \n",
       "std       2.686352     1.329738   79105.586863  \n",
       "min       1.000000  2006.000000   34900.000000  \n",
       "25%       5.000000  2007.000000  130375.000000  \n",
       "50%       6.000000  2008.000000  163995.000000  \n",
       "75%       8.000000  2009.000000  215000.000000  \n",
       "max      12.000000  2010.000000  755000.000000  "
      ]
     },
     "execution_count": 13,
     "metadata": {},
     "output_type": "execute_result"
    }
   ],
   "source": [
    "#describing the dataset\n",
    "\n",
    "train_df.describe()"
   ]
  },
  {
   "cell_type": "code",
   "execution_count": null,
   "id": "565c88c4",
   "metadata": {},
   "outputs": [],
   "source": [
    "Above we can see that sale price has a mean of 181477.005993  dollars. We can also see OverallQual , OverallCond ranges from 1 to 10 and 1 to 9, respectively. On top of that we can already detect some features, that contain missing values, like the ‘LoatArea’ feature."
   ]
  },
  {
   "cell_type": "code",
   "execution_count": 21,
   "id": "a3d59e1a",
   "metadata": {},
   "outputs": [
    {
     "name": "stdout",
     "output_type": "stream",
     "text": [
      "LotFrontage : 214\n",
      "Alley : 1091\n",
      "MasVnrType : 7\n",
      "MasVnrArea : 7\n",
      "BsmtQual : 30\n",
      "BsmtCond : 30\n",
      "BsmtExposure : 31\n",
      "BsmtFinType1 : 30\n",
      "BsmtFinType2 : 31\n",
      "FireplaceQu : 551\n",
      "GarageType : 64\n",
      "GarageYrBlt : 64\n",
      "GarageFinish : 64\n",
      "GarageQual : 64\n",
      "GarageCond : 64\n",
      "PoolQC : 1161\n",
      "Fence : 931\n",
      "MiscFeature : 1124\n"
     ]
    }
   ],
   "source": [
    "#checking for missing values\n",
    "\n",
    "for i in train_df.columns:\n",
    "    if train_df[i].isnull().sum()>0:\n",
    "        print(i,':',train_df[i].isnull().sum())"
   ]
  },
  {
   "cell_type": "code",
   "execution_count": 22,
   "id": "b537f379",
   "metadata": {},
   "outputs": [
    {
     "data": {
      "text/plain": [
       "(1168, 81)"
      ]
     },
     "execution_count": 22,
     "metadata": {},
     "output_type": "execute_result"
    }
   ],
   "source": [
    "train_df.shape"
   ]
  },
  {
   "cell_type": "code",
   "execution_count": 3,
   "id": "1164d90c",
   "metadata": {},
   "outputs": [
    {
     "name": "stdout",
     "output_type": "stream",
     "text": [
      "127     1\n",
      "1391    1\n",
      "1389    1\n",
      "448     1\n",
      "1179    1\n",
      "       ..\n",
      "1402    1\n",
      "661     1\n",
      "101     1\n",
      "415     1\n",
      "617     1\n",
      "Name: Id, Length: 1168, dtype: int64 \n",
      "\n",
      "\n",
      "20     428\n",
      "60     244\n",
      "50     113\n",
      "120     69\n",
      "70      53\n",
      "30      52\n",
      "160     47\n",
      "80      43\n",
      "90      41\n",
      "190     26\n",
      "85      19\n",
      "75      14\n",
      "45      10\n",
      "180      6\n",
      "40       3\n",
      "Name: MSSubClass, dtype: int64 \n",
      "\n",
      "\n",
      "RL         928\n",
      "RM         163\n",
      "FV          52\n",
      "RH          16\n",
      "C (all)      9\n",
      "Name: MSZoning, dtype: int64 \n",
      "\n",
      "\n",
      "60.0     111\n",
      "80.0      60\n",
      "70.0      58\n",
      "75.0      46\n",
      "50.0      44\n",
      "        ... \n",
      "102.0      1\n",
      "144.0      1\n",
      "112.0      1\n",
      "149.0      1\n",
      "153.0      1\n",
      "Name: LotFrontage, Length: 106, dtype: int64 \n",
      "\n",
      "\n",
      "9600     21\n",
      "7200     18\n",
      "6000     16\n",
      "8400     14\n",
      "9000     11\n",
      "         ..\n",
      "12803     1\n",
      "9480      1\n",
      "13478     1\n",
      "12122     1\n",
      "7861      1\n",
      "Name: LotArea, Length: 892, dtype: int64 \n",
      "\n",
      "\n",
      "Pave    1164\n",
      "Grvl       4\n",
      "Name: Street, dtype: int64 \n",
      "\n",
      "\n",
      "Grvl    41\n",
      "Pave    36\n",
      "Name: Alley, dtype: int64 \n",
      "\n",
      "\n",
      "Reg    740\n",
      "IR1    390\n",
      "IR2     32\n",
      "IR3      6\n",
      "Name: LotShape, dtype: int64 \n",
      "\n",
      "\n",
      "Lvl    1046\n",
      "Bnk      50\n",
      "HLS      42\n",
      "Low      30\n",
      "Name: LandContour, dtype: int64 \n",
      "\n",
      "\n",
      "AllPub    1168\n",
      "Name: Utilities, dtype: int64 \n",
      "\n",
      "\n",
      "Inside     842\n",
      "Corner     222\n",
      "CulDSac     69\n",
      "FR2         33\n",
      "FR3          2\n",
      "Name: LotConfig, dtype: int64 \n",
      "\n",
      "\n",
      "Gtl    1105\n",
      "Mod      51\n",
      "Sev      12\n",
      "Name: LandSlope, dtype: int64 \n",
      "\n",
      "\n",
      "NAmes      182\n",
      "CollgCr    118\n",
      "OldTown     86\n",
      "Edwards     83\n",
      "Somerst     68\n",
      "Gilbert     64\n",
      "NridgHt     61\n",
      "Sawyer      60\n",
      "NWAmes      59\n",
      "SawyerW     51\n",
      "BrkSide     50\n",
      "Crawfor     45\n",
      "NoRidge     35\n",
      "Mitchel     34\n",
      "IDOTRR      30\n",
      "Timber      24\n",
      "ClearCr     24\n",
      "SWISU       21\n",
      "StoneBr     19\n",
      "Blmngtn     15\n",
      "BrDale      11\n",
      "MeadowV      9\n",
      "Veenker      9\n",
      "NPkVill      8\n",
      "Blueste      2\n",
      "Name: Neighborhood, dtype: int64 \n",
      "\n",
      "\n",
      "Norm      1005\n",
      "Feedr       67\n",
      "Artery      38\n",
      "RRAn        20\n",
      "PosN        17\n",
      "RRAe         9\n",
      "PosA         6\n",
      "RRNn         4\n",
      "RRNe         2\n",
      "Name: Condition1, dtype: int64 \n",
      "\n",
      "\n",
      "Norm      1154\n",
      "Feedr        6\n",
      "PosN         2\n",
      "Artery       2\n",
      "RRAe         1\n",
      "RRNn         1\n",
      "PosA         1\n",
      "RRAn         1\n",
      "Name: Condition2, dtype: int64 \n",
      "\n",
      "\n",
      "1Fam      981\n",
      "TwnhsE     90\n",
      "Duplex     41\n",
      "Twnhs      29\n",
      "2fmCon     27\n",
      "Name: BldgType, dtype: int64 \n",
      "\n",
      "\n",
      "1Story    578\n",
      "2Story    361\n",
      "1.5Fin    121\n",
      "SLvl       47\n",
      "SFoyer     32\n",
      "1.5Unf     12\n",
      "2.5Unf     10\n",
      "2.5Fin      7\n",
      "Name: HouseStyle, dtype: int64 \n",
      "\n",
      "\n",
      "5     314\n",
      "6     295\n",
      "7     260\n",
      "8     138\n",
      "4      93\n",
      "9      32\n",
      "3      16\n",
      "10     15\n",
      "2       3\n",
      "1       2\n",
      "Name: OverallQual, dtype: int64 \n",
      "\n",
      "\n",
      "5    640\n",
      "6    209\n",
      "7    172\n",
      "8     61\n",
      "4     43\n",
      "3     21\n",
      "9     16\n",
      "2      5\n",
      "1      1\n",
      "Name: OverallCond, dtype: int64 \n",
      "\n",
      "\n",
      "2006    57\n",
      "2005    51\n",
      "2007    41\n",
      "2004    37\n",
      "2003    33\n",
      "        ..\n",
      "1927     1\n",
      "1911     1\n",
      "2010     1\n",
      "1892     1\n",
      "1913     1\n",
      "Name: YearBuilt, Length: 110, dtype: int64 \n",
      "\n",
      "\n",
      "1950    146\n",
      "2006     82\n",
      "2007     64\n",
      "2005     57\n",
      "2004     46\n",
      "       ... \n",
      "1984      5\n",
      "1951      4\n",
      "1983      4\n",
      "1952      4\n",
      "1974      4\n",
      "Name: YearRemodAdd, Length: 61, dtype: int64 \n",
      "\n",
      "\n",
      "Gable      915\n",
      "Hip        225\n",
      "Flat        12\n",
      "Gambrel      9\n",
      "Mansard      5\n",
      "Shed         2\n",
      "Name: RoofStyle, dtype: int64 \n",
      "\n",
      "\n",
      "CompShg    1144\n",
      "Tar&Grv      10\n",
      "WdShngl       6\n",
      "WdShake       4\n",
      "Roll          1\n",
      "ClyTile       1\n",
      "Metal         1\n",
      "Membran       1\n",
      "Name: RoofMatl, dtype: int64 \n",
      "\n",
      "\n",
      "VinylSd    396\n",
      "HdBoard    179\n",
      "MetalSd    178\n",
      "Wd Sdng    174\n",
      "Plywood     93\n",
      "CemntBd     42\n",
      "BrkFace     41\n",
      "Stucco      22\n",
      "WdShing     19\n",
      "AsbShng     19\n",
      "Stone        2\n",
      "AsphShn      1\n",
      "ImStucc      1\n",
      "BrkComm      1\n",
      "Name: Exterior1st, dtype: int64 \n",
      "\n",
      "\n",
      "VinylSd    387\n",
      "MetalSd    173\n",
      "HdBoard    170\n",
      "Wd Sdng    165\n",
      "Plywood    118\n",
      "CmentBd     42\n",
      "Wd Shng     31\n",
      "Stucco      23\n",
      "BrkFace     20\n",
      "AsbShng     18\n",
      "ImStucc      8\n",
      "Brk Cmn      5\n",
      "Stone        4\n",
      "AsphShn      3\n",
      "Other        1\n",
      "Name: Exterior2nd, dtype: int64 \n",
      "\n",
      "\n",
      "None       696\n",
      "BrkFace    354\n",
      "Stone       98\n",
      "BrkCmn      13\n",
      "Name: MasVnrType, dtype: int64 \n",
      "\n",
      "\n",
      "0.0      692\n",
      "72.0       7\n",
      "180.0      6\n",
      "120.0      6\n",
      "106.0      5\n",
      "        ... \n",
      "653.0      1\n",
      "975.0      1\n",
      "226.0      1\n",
      "204.0      1\n",
      "31.0       1\n",
      "Name: MasVnrArea, Length: 283, dtype: int64 \n",
      "\n",
      "\n",
      "TA    717\n",
      "Gd    397\n",
      "Ex     43\n",
      "Fa     11\n",
      "Name: ExterQual, dtype: int64 \n",
      "\n",
      "\n",
      "TA    1022\n",
      "Gd     117\n",
      "Fa      26\n",
      "Ex       2\n",
      "Po       1\n",
      "Name: ExterCond, dtype: int64 \n",
      "\n",
      "\n",
      "CBlock    516\n",
      "PConc     513\n",
      "BrkTil    112\n",
      "Slab       21\n",
      "Stone       5\n",
      "Wood        1\n",
      "Name: Foundation, dtype: int64 \n",
      "\n",
      "\n",
      "TA    517\n",
      "Gd    498\n",
      "Ex     94\n",
      "Fa     29\n",
      "Name: BsmtQual, dtype: int64 \n",
      "\n",
      "\n",
      "TA    1041\n",
      "Gd      56\n",
      "Fa      39\n",
      "Po       2\n",
      "Name: BsmtCond, dtype: int64 \n",
      "\n",
      "\n",
      "No    756\n",
      "Av    180\n",
      "Gd    108\n",
      "Mn     93\n",
      "Name: BsmtExposure, dtype: int64 \n",
      "\n",
      "\n",
      "Unf    345\n",
      "GLQ    330\n",
      "ALQ    174\n",
      "BLQ    121\n",
      "Rec    109\n",
      "LwQ     59\n",
      "Name: BsmtFinType1, dtype: int64 \n",
      "\n",
      "\n",
      "0      375\n",
      "24      10\n",
      "16       8\n",
      "20       5\n",
      "616      5\n",
      "      ... \n",
      "586      1\n",
      "412      1\n",
      "416      1\n",
      "602      1\n",
      "457      1\n",
      "Name: BsmtFinSF1, Length: 551, dtype: int64 \n",
      "\n",
      "\n",
      "Unf    1002\n",
      "Rec      43\n",
      "LwQ      40\n",
      "BLQ      24\n",
      "ALQ      16\n",
      "GLQ      12\n",
      "Name: BsmtFinType2, dtype: int64 \n",
      "\n",
      "\n",
      "0      1032\n",
      "180       5\n",
      "41        2\n",
      "147       2\n",
      "117       2\n",
      "       ... \n",
      "531       1\n",
      "40        1\n",
      "121       1\n",
      "608       1\n",
      "546       1\n",
      "Name: BsmtFinSF2, Length: 122, dtype: int64 \n",
      "\n",
      "\n",
      "0      97\n",
      "728     8\n",
      "440     6\n",
      "600     6\n",
      "300     6\n",
      "       ..\n",
      "323     1\n",
      "487     1\n",
      "349     1\n",
      "793     1\n",
      "649     1\n",
      "Name: BsmtUnfSF, Length: 681, dtype: int64 \n",
      "\n",
      "\n",
      "0       30\n",
      "864     28\n",
      "912     13\n",
      "672     13\n",
      "816     12\n",
      "        ..\n",
      "319      1\n",
      "1318     1\n",
      "1198     1\n",
      "1251     1\n",
      "1582     1\n",
      "Name: TotalBsmtSF, Length: 636, dtype: int64 \n",
      "\n",
      "\n",
      "GasA     1143\n",
      "GasW       14\n",
      "Grav        5\n",
      "Wall        4\n",
      "Floor       1\n",
      "OthW        1\n",
      "Name: Heating, dtype: int64 \n",
      "\n",
      "\n",
      "Ex    585\n",
      "TA    352\n",
      "Gd    192\n",
      "Fa     38\n",
      "Po      1\n",
      "Name: HeatingQC, dtype: int64 \n",
      "\n",
      "\n",
      "Y    1090\n",
      "N      78\n",
      "Name: CentralAir, dtype: int64 \n",
      "\n",
      "\n",
      "SBrkr    1070\n",
      "FuseA      74\n",
      "FuseF      21\n",
      "FuseP       2\n",
      "Mix         1\n",
      "Name: Electrical, dtype: int64 \n",
      "\n",
      "\n",
      "864     19\n",
      "1040    13\n",
      "912     12\n",
      "894     10\n",
      "848      9\n",
      "        ..\n",
      "1516     1\n",
      "813      1\n",
      "2633     1\n",
      "1015     1\n",
      "807      1\n",
      "Name: 1stFlrSF, Length: 669, dtype: int64 \n",
      "\n",
      "\n",
      "0       663\n",
      "728       9\n",
      "504       7\n",
      "600       6\n",
      "672       6\n",
      "       ... \n",
      "1066      1\n",
      "467       1\n",
      "1038      1\n",
      "881       1\n",
      "978       1\n",
      "Name: 2ndFlrSF, Length: 351, dtype: int64 \n",
      "\n",
      "\n",
      "0      1145\n",
      "80        3\n",
      "360       2\n",
      "384       1\n",
      "420       1\n",
      "473       1\n",
      "371       1\n",
      "232       1\n",
      "513       1\n",
      "481       1\n",
      "515       1\n",
      "514       1\n",
      "120       1\n",
      "528       1\n",
      "572       1\n",
      "144       1\n",
      "234       1\n",
      "390       1\n",
      "156       1\n",
      "53        1\n",
      "392       1\n",
      "Name: LowQualFinSF, dtype: int64 \n",
      "\n",
      "\n",
      "864     16\n",
      "1040    11\n",
      "894     10\n",
      "1456     9\n",
      "1200     8\n",
      "        ..\n",
      "1610     1\n",
      "2576     1\n",
      "2810     1\n",
      "1691     1\n",
      "1509     1\n",
      "Name: GrLivArea, Length: 746, dtype: int64 \n",
      "\n",
      "\n",
      "0    686\n",
      "1    468\n",
      "2     13\n",
      "3      1\n",
      "Name: BsmtFullBath, dtype: int64 \n",
      "\n",
      "\n",
      "0    1105\n",
      "1      61\n",
      "2       2\n",
      "Name: BsmtHalfBath, dtype: int64 \n",
      "\n",
      "\n",
      "2    610\n",
      "1    524\n",
      "3     27\n",
      "0      7\n",
      "Name: FullBath, dtype: int64 \n",
      "\n",
      "\n",
      "0    724\n",
      "1    434\n",
      "2     10\n",
      "Name: HalfBath, dtype: int64 \n",
      "\n",
      "\n",
      "3    640\n",
      "2    281\n",
      "4    180\n",
      "1     39\n",
      "5     18\n",
      "6      5\n",
      "0      4\n",
      "8      1\n",
      "Name: BedroomAbvGr, dtype: int64 \n",
      "\n",
      "\n",
      "1    1114\n",
      "2      52\n",
      "3       1\n",
      "0       1\n",
      "Name: KitchenAbvGr, dtype: int64 \n",
      "\n",
      "\n",
      "TA    578\n",
      "Gd    478\n",
      "Ex     82\n",
      "Fa     30\n",
      "Name: KitchenQual, dtype: int64 \n",
      "\n",
      "\n",
      "6     325\n",
      "7     268\n",
      "5     217\n",
      "8     148\n",
      "4      72\n",
      "9      65\n",
      "10     41\n",
      "11     13\n",
      "3      11\n",
      "12      6\n",
      "2       1\n",
      "14      1\n",
      "Name: TotRmsAbvGrd, dtype: int64 \n",
      "\n",
      "\n",
      "Typ     1085\n",
      "Min2      30\n",
      "Min1      25\n",
      "Mod       12\n",
      "Maj1      11\n",
      "Maj2       4\n",
      "Sev        1\n",
      "Name: Functional, dtype: int64 \n",
      "\n",
      "\n",
      "0    551\n",
      "1    518\n",
      "2     94\n",
      "3      5\n",
      "Name: Fireplaces, dtype: int64 \n",
      "\n",
      "\n",
      "Gd    301\n",
      "TA    252\n",
      "Fa     25\n",
      "Ex     21\n",
      "Po     18\n",
      "Name: FireplaceQu, dtype: int64 \n",
      "\n",
      "\n",
      "Attchd     691\n",
      "Detchd     314\n",
      "BuiltIn     70\n",
      "Basment     16\n",
      "CarPort      8\n",
      "2Types       5\n",
      "Name: GarageType, dtype: int64 \n",
      "\n",
      "\n",
      "2006.0    52\n",
      "2005.0    51\n",
      "2007.0    40\n",
      "2003.0    37\n",
      "2004.0    36\n",
      "          ..\n",
      "1900.0     1\n",
      "1927.0     1\n",
      "1908.0     1\n",
      "1933.0     1\n",
      "1906.0     1\n",
      "Name: GarageYrBlt, Length: 97, dtype: int64 \n",
      "\n",
      "\n",
      "Unf    487\n",
      "RFn    339\n",
      "Fin    278\n",
      "Name: GarageFinish, dtype: int64 \n",
      "\n",
      "\n",
      "2    665\n",
      "1    288\n",
      "3    147\n",
      "0     64\n",
      "4      4\n",
      "Name: GarageCars, dtype: int64 \n",
      "\n",
      "\n",
      "0      64\n",
      "440    44\n",
      "576    39\n",
      "240    31\n",
      "528    26\n",
      "       ..\n",
      "748     1\n",
      "433     1\n",
      "818     1\n",
      "604     1\n",
      "250     1\n",
      "Name: GarageArea, Length: 392, dtype: int64 \n",
      "\n",
      "\n",
      "TA    1050\n",
      "Fa      39\n",
      "Gd      11\n",
      "Ex       2\n",
      "Po       2\n",
      "Name: GarageQual, dtype: int64 \n",
      "\n",
      "\n",
      "TA    1061\n",
      "Fa      28\n",
      "Gd       8\n",
      "Po       6\n",
      "Ex       1\n",
      "Name: GarageCond, dtype: int64 \n",
      "\n",
      "\n",
      "Y    1071\n",
      "N      74\n",
      "P      23\n",
      "Name: PavedDrive, dtype: int64 \n",
      "\n",
      "\n",
      "0      603\n",
      "144     29\n",
      "192     28\n",
      "100     26\n",
      "120     25\n",
      "      ... \n",
      "278      1\n",
      "70       1\n",
      "351      1\n",
      "314      1\n",
      "87       1\n",
      "Name: WoodDeckSF, Length: 244, dtype: int64 \n",
      "\n",
      "\n",
      "0      531\n",
      "36      24\n",
      "48      18\n",
      "20      17\n",
      "39      14\n",
      "      ... \n",
      "406      1\n",
      "176      1\n",
      "137      1\n",
      "135      1\n",
      "15       1\n",
      "Name: OpenPorchSF, Length: 176, dtype: int64 \n",
      "\n",
      "\n",
      "0      999\n",
      "112     13\n",
      "96       6\n",
      "192      5\n",
      "216      5\n",
      "      ... \n",
      "80       1\n",
      "242      1\n",
      "136      1\n",
      "272      1\n",
      "172      1\n",
      "Name: EnclosedPorch, Length: 106, dtype: int64 \n",
      "\n",
      "\n",
      "0      1146\n",
      "168       3\n",
      "216       2\n",
      "180       2\n",
      "144       2\n",
      "153       1\n",
      "23        1\n",
      "304       1\n",
      "130       1\n",
      "182       1\n",
      "290       1\n",
      "238       1\n",
      "245       1\n",
      "162       1\n",
      "96        1\n",
      "140       1\n",
      "196       1\n",
      "508       1\n",
      "Name: 3SsnPorch, dtype: int64 \n",
      "\n",
      "\n",
      "0      1073\n",
      "192       5\n",
      "224       5\n",
      "189       4\n",
      "180       3\n",
      "       ... \n",
      "273       1\n",
      "99        1\n",
      "122       1\n",
      "80        1\n",
      "130       1\n",
      "Name: ScreenPorch, Length: 65, dtype: int64 \n",
      "\n",
      "\n",
      "0      1161\n",
      "555       1\n",
      "576       1\n",
      "738       1\n",
      "519       1\n",
      "480       1\n",
      "648       1\n",
      "512       1\n",
      "Name: PoolArea, dtype: int64 \n",
      "\n",
      "\n",
      "Gd    3\n",
      "Ex    2\n",
      "Fa    2\n",
      "Name: PoolQC, dtype: int64 \n",
      "\n",
      "\n",
      "MnPrv    129\n",
      "GdPrv     51\n",
      "GdWo      47\n",
      "MnWw      10\n",
      "Name: Fence, dtype: int64 \n",
      "\n",
      "\n",
      "Shed    40\n",
      "Gar2     2\n",
      "TenC     1\n",
      "Othr     1\n",
      "Name: MiscFeature, dtype: int64 \n",
      "\n",
      "\n",
      "0        1126\n",
      "400        10\n",
      "500         7\n",
      "2000        4\n",
      "600         3\n",
      "700         3\n",
      "1200        2\n",
      "1150        1\n",
      "480         1\n",
      "1300        1\n",
      "1400        1\n",
      "8300        1\n",
      "620         1\n",
      "15500       1\n",
      "450         1\n",
      "800         1\n",
      "54          1\n",
      "350         1\n",
      "560         1\n",
      "2500        1\n",
      "Name: MiscVal, dtype: int64 \n",
      "\n",
      "\n",
      "6     203\n",
      "7     187\n",
      "5     166\n",
      "4     113\n",
      "8      95\n",
      "3      87\n",
      "11     67\n",
      "10     66\n",
      "9      57\n",
      "12     46\n",
      "1      44\n",
      "2      37\n",
      "Name: MoSold, dtype: int64 \n",
      "\n",
      "\n",
      "2007    264\n",
      "2009    260\n",
      "2006    254\n",
      "2008    248\n",
      "2010    142\n",
      "Name: YrSold, dtype: int64 \n",
      "\n",
      "\n",
      "WD       999\n",
      "New      106\n",
      "COD       38\n",
      "ConLD      8\n",
      "ConLI      5\n",
      "ConLw      4\n",
      "Oth        3\n",
      "CWD        3\n",
      "Con        2\n",
      "Name: SaleType, dtype: int64 \n",
      "\n",
      "\n",
      "Normal     945\n",
      "Partial    108\n",
      "Abnorml     81\n",
      "Family      18\n",
      "Alloca      12\n",
      "AdjLand      4\n",
      "Name: SaleCondition, dtype: int64 \n",
      "\n",
      "\n",
      "140000    18\n",
      "135000    16\n",
      "155000    12\n",
      "139000    11\n",
      "160000    11\n",
      "          ..\n",
      "203000     1\n",
      "144900     1\n",
      "37900      1\n",
      "178400     1\n",
      "183200     1\n",
      "Name: SalePrice, Length: 581, dtype: int64 \n",
      "\n",
      "\n"
     ]
    }
   ],
   "source": [
    "#checking about unique values present\n",
    "\n",
    "for i in train_df.columns:\n",
    "    print(train_df[i].value_counts(),'\\n\\n')"
   ]
  },
  {
   "cell_type": "markdown",
   "id": "0c1036f5",
   "metadata": {},
   "source": [
    "# EDA:"
   ]
  },
  {
   "cell_type": "code",
   "execution_count": 3,
   "id": "b34803cd",
   "metadata": {},
   "outputs": [
    {
     "data": {
      "text/plain": [
       "Index(['Id', 'MSSubClass', 'MSZoning', 'LotFrontage', 'LotArea', 'Street',\n",
       "       'Alley', 'LotShape', 'LandContour', 'Utilities', 'LotConfig',\n",
       "       'LandSlope', 'Neighborhood', 'Condition1', 'Condition2', 'BldgType',\n",
       "       'HouseStyle', 'OverallQual', 'OverallCond', 'YearBuilt', 'YearRemodAdd',\n",
       "       'RoofStyle', 'RoofMatl', 'Exterior1st', 'Exterior2nd', 'MasVnrType',\n",
       "       'MasVnrArea', 'ExterQual', 'ExterCond', 'Foundation', 'BsmtQual',\n",
       "       'BsmtCond', 'BsmtExposure', 'BsmtFinType1', 'BsmtFinSF1',\n",
       "       'BsmtFinType2', 'BsmtFinSF2', 'BsmtUnfSF', 'TotalBsmtSF', 'Heating',\n",
       "       'HeatingQC', 'CentralAir', 'Electrical', '1stFlrSF', '2ndFlrSF',\n",
       "       'LowQualFinSF', 'GrLivArea', 'BsmtFullBath', 'BsmtHalfBath', 'FullBath',\n",
       "       'HalfBath', 'BedroomAbvGr', 'KitchenAbvGr', 'KitchenQual',\n",
       "       'TotRmsAbvGrd', 'Functional', 'Fireplaces', 'FireplaceQu', 'GarageType',\n",
       "       'GarageYrBlt', 'GarageFinish', 'GarageCars', 'GarageArea', 'GarageQual',\n",
       "       'GarageCond', 'PavedDrive', 'WoodDeckSF', 'OpenPorchSF',\n",
       "       'EnclosedPorch', '3SsnPorch', 'ScreenPorch', 'PoolArea', 'PoolQC',\n",
       "       'Fence', 'MiscFeature', 'MiscVal', 'MoSold', 'YrSold', 'SaleType',\n",
       "       'SaleCondition', 'SalePrice'],\n",
       "      dtype='object')"
      ]
     },
     "execution_count": 3,
     "metadata": {},
     "output_type": "execute_result"
    }
   ],
   "source": [
    "train_df.columns"
   ]
  },
  {
   "cell_type": "markdown",
   "id": "0c5ca6fa",
   "metadata": {},
   "source": [
    "- To me it would make sense that 'OverallQual' , 'Fireplaces' , 'Yearbuilt' would have high correlation with the target variable i.e. 'SalePrice' , So I am going to check out correlation matrix with respect to the target variable to for checking out the correlation thus, relationship of feature variables with target variable."
   ]
  },
  {
   "cell_type": "code",
   "execution_count": 11,
   "id": "c44e70d2",
   "metadata": {
    "scrolled": true
   },
   "outputs": [
    {
     "data": {
      "text/plain": [
       "KitchenAbvGr    -0.132108\n",
       "EnclosedPorch   -0.115004\n",
       "OverallCond     -0.065642\n",
       "MSSubClass      -0.060775\n",
       "YrSold          -0.045508\n",
       "LowQualFinSF    -0.032381\n",
       "Id              -0.023897\n",
       "MiscVal         -0.013071\n",
       "BsmtHalfBath    -0.011109\n",
       "BsmtFinSF2      -0.010151\n",
       "3SsnPorch        0.060119\n",
       "MoSold           0.072764\n",
       "ScreenPorch      0.100284\n",
       "PoolArea         0.103280\n",
       "BedroomAbvGr     0.158281\n",
       "BsmtFullBath     0.212924\n",
       "BsmtUnfSF        0.215724\n",
       "LotArea          0.249499\n",
       "HalfBath         0.295592\n",
       "WoodDeckSF       0.315444\n",
       "2ndFlrSF         0.330386\n",
       "OpenPorchSF      0.339500\n",
       "LotFrontage      0.341294\n",
       "BsmtFinSF1       0.362874\n",
       "Fireplaces       0.459611\n",
       "MasVnrArea       0.466386\n",
       "GarageYrBlt      0.474346\n",
       "YearRemodAdd     0.507831\n",
       "YearBuilt        0.514408\n",
       "TotRmsAbvGrd     0.528363\n",
       "FullBath         0.554988\n",
       "1stFlrSF         0.587642\n",
       "TotalBsmtSF      0.595042\n",
       "GarageArea       0.619000\n",
       "GarageCars       0.628329\n",
       "GrLivArea        0.707300\n",
       "OverallQual      0.789185\n",
       "SalePrice        1.000000\n",
       "Name: SalePrice, dtype: float64"
      ]
     },
     "execution_count": 11,
     "metadata": {},
     "output_type": "execute_result"
    }
   ],
   "source": [
    "#checking out the correlation bond\n",
    "\n",
    "train_df.corr()['SalePrice'].sort_values()"
   ]
  },
  {
   "cell_type": "markdown",
   "id": "f6821898",
   "metadata": {},
   "source": [
    "- OverallQual has a very high correlation bond with the target variable , in other words OverallQual is clearly a cruical feature in predicting the sale price\n",
    "- living area in square feet seems to be another important feature.\n",
    "- Garage car capacity , Garage area , size of first floor and total basement has a good correlation bond with SalePrice\n",
    "- Month the house got sold and three season porch area seems to be having a very weak correlation bond with the target variable\n",
    "- Type 2 finish , basement half bathrooms , Value of Misc feature , Id , Low quality finish , Year sold , MSSubClass , OverallCond are weakly and negatively connected to the target variable i.e 'SalePrice'\n",
    "- Kitchens above grade and enclosed porch area are negatively related to sale price"
   ]
  },
  {
   "cell_type": "code",
   "execution_count": null,
   "id": "6749fcb2",
   "metadata": {},
   "outputs": [],
   "source": []
  },
  {
   "cell_type": "markdown",
   "id": "07304b9f",
   "metadata": {},
   "source": [
    "1. Id and SalePrice"
   ]
  },
  {
   "cell_type": "code",
   "execution_count": 5,
   "id": "2c93d80e",
   "metadata": {},
   "outputs": [
    {
     "data": {
      "image/png": "[encoded data removed]",
      "text/plain": [
       "<Figure size 432x288 with 1 Axes>"
      ]
     },
     "metadata": {
      "needs_background": "light"
     },
     "output_type": "display_data"
    }
   ],
   "source": [
    "sns.scatterplot('Id','SalePrice',data=train_df)\n",
    "plt.show()"
   ]
  },
  {
   "cell_type": "markdown",
   "id": "a144b8a3",
   "metadata": {},
   "source": [
    "- Weak correlation with Saleprice as the slope is almost zero"
   ]
  },
  {
   "cell_type": "code",
   "execution_count": 6,
   "id": "9a58ec7e",
   "metadata": {},
   "outputs": [
    {
     "data": {
      "image/png": "[encoded data removed]",
      "text/plain": [
       "<Figure size 432x288 with 1 Axes>"
      ]
     },
     "metadata": {
      "needs_background": "light"
     },
     "output_type": "display_data"
    }
   ],
   "source": [
    "sns.histplot(train_df['SalePrice'])\n",
    "plt.show()"
   ]
  },
  {
   "cell_type": "markdown",
   "id": "cd39c94c",
   "metadata": {},
   "source": [
    "- Sale price data hasn't been distributed uniformly"
   ]
  },
  {
   "cell_type": "code",
   "execution_count": 18,
   "id": "49aa8925",
   "metadata": {},
   "outputs": [
    {
     "data": {
      "image/png": "[encoded data removed]",
      "text/plain": [
       "<Figure size 360x360 with 1 Axes>"
      ]
     },
     "metadata": {
      "needs_background": "light"
     },
     "output_type": "display_data"
    }
   ],
   "source": [
    "sns.catplot('OverallQual','SalePrice',data=train_df,kind='box')\n",
    "plt.show()"
   ]
  },
  {
   "cell_type": "markdown",
   "id": "b7455f06",
   "metadata": {},
   "source": [
    "- The most important feature , Over all quality 10 has the highest prices , OverAllQual has a linear relationship with Sale price"
   ]
  },
  {
   "cell_type": "code",
   "execution_count": 20,
   "id": "a24bdc7d",
   "metadata": {},
   "outputs": [
    {
     "data": {
      "image/png": "[encoded data removed]",
      "text/plain": [
       "<Figure size 432x288 with 1 Axes>"
      ]
     },
     "metadata": {
      "needs_background": "light"
     },
     "output_type": "display_data"
    }
   ],
   "source": [
    "sns.scatterplot('GrLivArea','SalePrice',data=train_df)\n",
    "plt.show()"
   ]
  },
  {
   "cell_type": "markdown",
   "id": "8a6cea3c",
   "metadata": {},
   "source": [
    "- GrLivArea is also highly correlated with the target variable , as higher the GrLivArea higher the prices"
   ]
  },
  {
   "cell_type": "code",
   "execution_count": 22,
   "id": "96189bdf",
   "metadata": {},
   "outputs": [
    {
     "data": {
      "image/png": "[encoded data removed]",
      "text/plain": [
       "<Figure size 360x360 with 1 Axes>"
      ]
     },
     "metadata": {
      "needs_background": "light"
     },
     "output_type": "display_data"
    }
   ],
   "source": [
    "sns.catplot('GarageCars','SalePrice',data=train_df,kind='violin')\n",
    "plt.show()"
   ]
  },
  {
   "cell_type": "markdown",
   "id": "5681723f",
   "metadata": {},
   "source": [
    "- Garage Cars capacity 3 has the highest prices"
   ]
  },
  {
   "cell_type": "code",
   "execution_count": 23,
   "id": "f710fc63",
   "metadata": {},
   "outputs": [
    {
     "data": {
      "image/png": "[encoded data removed]",
      "text/plain": [
       "<Figure size 432x288 with 1 Axes>"
      ]
     },
     "metadata": {
      "needs_background": "light"
     },
     "output_type": "display_data"
    }
   ],
   "source": [
    "sns.scatterplot('GarageArea','SalePrice',data=train_df)\n",
    "plt.show()"
   ]
  },
  {
   "cell_type": "markdown",
   "id": "952354be",
   "metadata": {},
   "source": [
    "- Higher the Garage Area higher the chances of higher sale prices"
   ]
  },
  {
   "cell_type": "code",
   "execution_count": 4,
   "id": "5e64a718",
   "metadata": {},
   "outputs": [
    {
     "data": {
      "image/png": "[encoded data removed]",
      "text/plain": [
       "<Figure size 432x288 with 1 Axes>"
      ]
     },
     "metadata": {
      "needs_background": "light"
     },
     "output_type": "display_data"
    }
   ],
   "source": [
    "sns.scatterplot('TotalBsmtSF','SalePrice',data=train_df)\n",
    "plt.show()"
   ]
  },
  {
   "cell_type": "markdown",
   "id": "b7ac8bc0",
   "metadata": {},
   "source": [
    "- though the data distribution for TotalBsmtSF has a low range but in that range higher the TotalBsmtSF higher the sale prcices"
   ]
  },
  {
   "cell_type": "code",
   "execution_count": 25,
   "id": "7b668c6c",
   "metadata": {},
   "outputs": [
    {
     "data": {
      "image/png": "[encoded data removed]",
      "text/plain": [
       "<Figure size 432x288 with 1 Axes>"
      ]
     },
     "metadata": {
      "needs_background": "light"
     },
     "output_type": "display_data"
    }
   ],
   "source": [
    "sns.scatterplot('1stFlrSF','SalePrice',data=train_df)\n",
    "plt.show()"
   ]
  },
  {
   "cell_type": "markdown",
   "id": "98c6e525",
   "metadata": {},
   "source": [
    "- same goes with first floor size"
   ]
  },
  {
   "cell_type": "code",
   "execution_count": 27,
   "id": "9b679fab",
   "metadata": {},
   "outputs": [
    {
     "data": {
      "image/png": "[encoded data removed]",
      "text/plain": [
       "<Figure size 360x360 with 1 Axes>"
      ]
     },
     "metadata": {
      "needs_background": "light"
     },
     "output_type": "display_data"
    }
   ],
   "source": [
    "sns.catplot('FullBath','SalePrice',data=train_df,kind='box')\n",
    "plt.show()"
   ]
  },
  {
   "cell_type": "markdown",
   "id": "b4ad567c",
   "metadata": {},
   "source": [
    "- 0 full bathrooms has a wide range of data than 1 and 2 full bathrooms , though house with 3 full bathrooms have the highest prices"
   ]
  },
  {
   "cell_type": "code",
   "execution_count": 30,
   "id": "e083df51",
   "metadata": {},
   "outputs": [
    {
     "data": {
      "image/png": "[encoded data removed]",
      "text/plain": [
       "<Figure size 360x360 with 1 Axes>"
      ]
     },
     "metadata": {
      "needs_background": "light"
     },
     "output_type": "display_data"
    }
   ],
   "source": [
    "sns.catplot('TotRmsAbvGrd','SalePrice',data=train_df)\n",
    "plt.show()"
   ]
  },
  {
   "cell_type": "markdown",
   "id": "360ce417",
   "metadata": {},
   "source": [
    "10 totalrooms above grade has the highest sale prices"
   ]
  },
  {
   "cell_type": "code",
   "execution_count": 31,
   "id": "d2c0eaad",
   "metadata": {},
   "outputs": [
    {
     "data": {
      "image/png": "[encoded data removed]",
      "text/plain": [
       "<Figure size 432x288 with 1 Axes>"
      ]
     },
     "metadata": {
      "needs_background": "light"
     },
     "output_type": "display_data"
    }
   ],
   "source": [
    "sns.scatterplot('YearBuilt','SalePrice',data=train_df)\n",
    "plt.show()"
   ]
  },
  {
   "cell_type": "markdown",
   "id": "b9943e80",
   "metadata": {},
   "source": [
    "- later the house has been built higher its sale price is."
   ]
  },
  {
   "cell_type": "code",
   "execution_count": 32,
   "id": "d928995e",
   "metadata": {},
   "outputs": [
    {
     "data": {
      "image/png": "[encoded data removed]",
      "text/plain": [
       "<Figure size 432x288 with 1 Axes>"
      ]
     },
     "metadata": {
      "needs_background": "light"
     },
     "output_type": "display_data"
    }
   ],
   "source": [
    "sns.scatterplot('YearRemodAdd','SalePrice',data=train_df)\n",
    "plt.show()"
   ]
  },
  {
   "cell_type": "code",
   "execution_count": 34,
   "id": "128995ca",
   "metadata": {},
   "outputs": [
    {
     "data": {
      "image/png": "[encoded data removed]",
      "text/plain": [
       "<Figure size 432x288 with 1 Axes>"
      ]
     },
     "metadata": {
      "needs_background": "light"
     },
     "output_type": "display_data"
    }
   ],
   "source": [
    "sns.scatterplot('GarageYrBlt','SalePrice',data=train_df)\n",
    "plt.show()"
   ]
  },
  {
   "cell_type": "markdown",
   "id": "38fda8a4",
   "metadata": {},
   "source": [
    "- whether it is the house itself or its parts like garage the later it has been built the higher the prices are seem to be \n",
    "- But , year 1992-1995 having to be the highest sale prices"
   ]
  },
  {
   "cell_type": "code",
   "execution_count": 36,
   "id": "4110ddf3",
   "metadata": {},
   "outputs": [
    {
     "data": {
      "image/png": "[encoded data removed]",
      "text/plain": [
       "<Figure size 432x288 with 1 Axes>"
      ]
     },
     "metadata": {
      "needs_background": "light"
     },
     "output_type": "display_data"
    }
   ],
   "source": [
    "sns.scatterplot('MasVnrArea','SalePrice',data=train_df)\n",
    "plt.show()"
   ]
  },
  {
   "cell_type": "markdown",
   "id": "7a7061f0",
   "metadata": {},
   "source": [
    "- the correlation isn't strong with MasVnrArea as the data is distibuted around bottom half only"
   ]
  },
  {
   "cell_type": "code",
   "execution_count": 38,
   "id": "7be2f65f",
   "metadata": {},
   "outputs": [
    {
     "data": {
      "image/png": "[encoded data removed]",
      "text/plain": [
       "<Figure size 360x360 with 1 Axes>"
      ]
     },
     "metadata": {
      "needs_background": "light"
     },
     "output_type": "display_data"
    }
   ],
   "source": [
    "sns.catplot('Fireplaces','SalePrice',data=train_df,kind='box')\n",
    "plt.show()"
   ]
  },
  {
   "cell_type": "markdown",
   "id": "63cf0b88",
   "metadata": {},
   "source": [
    "- 2 fireplaces in  the house seems to have the highest prices"
   ]
  },
  {
   "cell_type": "code",
   "execution_count": 39,
   "id": "8585b33c",
   "metadata": {},
   "outputs": [
    {
     "data": {
      "image/png": "[encoded data removed]",
      "text/plain": [
       "<Figure size 432x288 with 1 Axes>"
      ]
     },
     "metadata": {
      "needs_background": "light"
     },
     "output_type": "display_data"
    }
   ],
   "source": [
    "sns.scatterplot('BsmtFinSF1','SalePrice',data=train_df)\n",
    "plt.show()"
   ]
  },
  {
   "cell_type": "markdown",
   "id": "e06f24b1",
   "metadata": {},
   "source": [
    "- BsmtFinSF1 0 have a wide range of data , from 0 to 1900 BsmtFinSF1 the sale prices are increasing"
   ]
  },
  {
   "cell_type": "code",
   "execution_count": 41,
   "id": "b124e7c3",
   "metadata": {},
   "outputs": [
    {
     "data": {
      "image/png": "[encoded data removed]",
      "text/plain": [
       "<Figure size 432x288 with 1 Axes>"
      ]
     },
     "metadata": {
      "needs_background": "light"
     },
     "output_type": "display_data"
    }
   ],
   "source": [
    "sns.scatterplot('LotFrontage','SalePrice',data=train_df)\n",
    "plt.show()"
   ]
  },
  {
   "cell_type": "code",
   "execution_count": 42,
   "id": "f2d608b8",
   "metadata": {},
   "outputs": [
    {
     "data": {
      "image/png": "[encoded data removed]",
      "text/plain": [
       "<Figure size 432x288 with 1 Axes>"
      ]
     },
     "metadata": {
      "needs_background": "light"
     },
     "output_type": "display_data"
    }
   ],
   "source": [
    "sns.scatterplot('OpenPorchSF','SalePrice',data=train_df)\n",
    "plt.show()"
   ]
  },
  {
   "cell_type": "markdown",
   "id": "fa5064c5",
   "metadata": {},
   "source": [
    "- the relationship is linear for very small range of OpenPorchSF"
   ]
  },
  {
   "cell_type": "code",
   "execution_count": 44,
   "id": "81733a51",
   "metadata": {},
   "outputs": [
    {
     "data": {
      "image/png": "[encoded data removed]",
      "text/plain": [
       "<Figure size 432x288 with 1 Axes>"
      ]
     },
     "metadata": {
      "needs_background": "light"
     },
     "output_type": "display_data"
    }
   ],
   "source": [
    "sns.scatterplot('2ndFlrSF','SalePrice',data=train_df)\n",
    "plt.show()"
   ]
  },
  {
   "cell_type": "code",
   "execution_count": 45,
   "id": "68f06d5e",
   "metadata": {},
   "outputs": [
    {
     "data": {
      "image/png": "[encoded data removed]",
      "text/plain": [
       "<Figure size 432x288 with 1 Axes>"
      ]
     },
     "metadata": {
      "needs_background": "light"
     },
     "output_type": "display_data"
    }
   ],
   "source": [
    "sns.scatterplot('WoodDeckSF','SalePrice',data=train_df)\n",
    "plt.show()"
   ]
  },
  {
   "cell_type": "code",
   "execution_count": 46,
   "id": "26f7e8c0",
   "metadata": {},
   "outputs": [
    {
     "data": {
      "image/png": "[encoded data removed]",
      "text/plain": [
       "<Figure size 360x360 with 1 Axes>"
      ]
     },
     "metadata": {
      "needs_background": "light"
     },
     "output_type": "display_data"
    }
   ],
   "source": [
    "sns.catplot('HalfBath','SalePrice',data=train_df,kind='box')\n",
    "plt.show()"
   ]
  },
  {
   "cell_type": "code",
   "execution_count": 47,
   "id": "ef23e747",
   "metadata": {},
   "outputs": [
    {
     "data": {
      "image/png": "[encoded data removed]",
      "text/plain": [
       "<Figure size 432x288 with 1 Axes>"
      ]
     },
     "metadata": {
      "needs_background": "light"
     },
     "output_type": "display_data"
    }
   ],
   "source": [
    "sns.scatterplot('LotArea','SalePrice',data=train_df)\n",
    "plt.show()"
   ]
  },
  {
   "cell_type": "markdown",
   "id": "5e6d6298",
   "metadata": {},
   "source": [
    "- larger lot area have lower prices"
   ]
  },
  {
   "cell_type": "code",
   "execution_count": 48,
   "id": "a97bec4c",
   "metadata": {},
   "outputs": [
    {
     "data": {
      "image/png": "[encoded data removed]",
      "text/plain": [
       "<Figure size 432x288 with 1 Axes>"
      ]
     },
     "metadata": {
      "needs_background": "light"
     },
     "output_type": "display_data"
    }
   ],
   "source": [
    "sns.scatterplot('BsmtUnfSF','SalePrice',data=train_df)\n",
    "plt.show()"
   ]
  },
  {
   "cell_type": "code",
   "execution_count": 50,
   "id": "03cca90a",
   "metadata": {},
   "outputs": [
    {
     "data": {
      "image/png": "[encoded data removed]",
      "text/plain": [
       "<Figure size 360x360 with 1 Axes>"
      ]
     },
     "metadata": {
      "needs_background": "light"
     },
     "output_type": "display_data"
    }
   ],
   "source": [
    "sns.catplot('BsmtFullBath','SalePrice',data=train_df,kind='violin')\n",
    "plt.show()"
   ]
  },
  {
   "cell_type": "markdown",
   "id": "c403e686",
   "metadata": {},
   "source": [
    "# Data Preprocessing:"
   ]
  },
  {
   "cell_type": "code",
   "execution_count": 17,
   "id": "fff9e9a5",
   "metadata": {},
   "outputs": [],
   "source": [
    "#dropping Id feature as it doesn't have much value in predicting the response\n",
    "\n",
    "train_df = train_df.drop(['Id'], axis=1)"
   ]
  },
  {
   "cell_type": "code",
   "execution_count": 18,
   "id": "6ffdc8d1",
   "metadata": {},
   "outputs": [
    {
     "name": "stdout",
     "output_type": "stream",
     "text": [
      "LotFrontage : 214\n",
      "float64 \n",
      "\n",
      "Alley : 1091\n",
      "object \n",
      "\n",
      "MasVnrType : 7\n",
      "object \n",
      "\n",
      "MasVnrArea : 7\n",
      "float64 \n",
      "\n",
      "BsmtQual : 30\n",
      "object \n",
      "\n",
      "BsmtCond : 30\n",
      "object \n",
      "\n",
      "BsmtExposure : 31\n",
      "object \n",
      "\n",
      "BsmtFinType1 : 30\n",
      "object \n",
      "\n",
      "BsmtFinType2 : 31\n",
      "object \n",
      "\n",
      "FireplaceQu : 551\n",
      "object \n",
      "\n",
      "GarageType : 64\n",
      "object \n",
      "\n",
      "GarageYrBlt : 64\n",
      "float64 \n",
      "\n",
      "GarageFinish : 64\n",
      "object \n",
      "\n",
      "GarageQual : 64\n",
      "object \n",
      "\n",
      "GarageCond : 64\n",
      "object \n",
      "\n",
      "PoolQC : 1161\n",
      "object \n",
      "\n",
      "Fence : 931\n",
      "object \n",
      "\n",
      "MiscFeature : 1124\n",
      "object \n",
      "\n"
     ]
    }
   ],
   "source": [
    "#checking for missing values\n",
    "\n",
    "\n",
    "for i in train_df.columns:\n",
    "    if train_df[i].isnull().sum()>0:\n",
    "        print(i,':',train_df[i].isnull().sum())\n",
    "        print(train_df[i].dtypes,'\\n')"
   ]
  },
  {
   "cell_type": "code",
   "execution_count": 67,
   "id": "80a20610",
   "metadata": {},
   "outputs": [
    {
     "name": "stdout",
     "output_type": "stream",
     "text": [
      "LotFrontage : 45\n",
      "float64 \n",
      "\n",
      "Alley : 278\n",
      "object \n",
      "\n",
      "MasVnrType : 1\n",
      "object \n",
      "\n",
      "MasVnrArea : 1\n",
      "float64 \n",
      "\n",
      "BsmtQual : 7\n",
      "object \n",
      "\n",
      "BsmtCond : 7\n",
      "object \n",
      "\n",
      "BsmtExposure : 7\n",
      "object \n",
      "\n",
      "BsmtFinType1 : 7\n",
      "object \n",
      "\n",
      "BsmtFinType2 : 7\n",
      "object \n",
      "\n",
      "Electrical : 1\n",
      "object \n",
      "\n",
      "FireplaceQu : 139\n",
      "object \n",
      "\n",
      "GarageType : 17\n",
      "object \n",
      "\n",
      "GarageYrBlt : 17\n",
      "float64 \n",
      "\n",
      "GarageFinish : 17\n",
      "object \n",
      "\n",
      "GarageQual : 17\n",
      "object \n",
      "\n",
      "GarageCond : 17\n",
      "object \n",
      "\n",
      "PoolQC : 292\n",
      "float64 \n",
      "\n",
      "Fence : 248\n",
      "object \n",
      "\n",
      "MiscFeature : 282\n",
      "object \n",
      "\n"
     ]
    }
   ],
   "source": [
    "#checking for missing values\n",
    "\n",
    "for i in test_df.columns:\n",
    "    if test_df[i].isnull().sum()>0:\n",
    "        print(i,':',test_df[i].isnull().sum())\n",
    "        print(test_df[i].dtypes,'\\n')"
   ]
  },
  {
   "cell_type": "markdown",
   "id": "be5c849d",
   "metadata": {},
   "source": [
    "- the dataset has an count of 1168 examples , MiscFeature , PoolQC , Alley , Fence have equal to more than 80% missing data , so I am going to drop these from both training and test dataset , as there is no point in imputing them with their respective mode or most frequent value as the data will be biased"
   ]
  },
  {
   "cell_type": "code",
   "execution_count": 3,
   "id": "1e6dc716",
   "metadata": {},
   "outputs": [
    {
     "data": {
      "image/png": "[encoded data removed]",
      "text/plain": [
       "<Figure size 432x288 with 2 Axes>"
      ]
     },
     "metadata": {
      "needs_background": "light"
     },
     "output_type": "display_data"
    }
   ],
   "source": [
    "#checking for null values in training set\n",
    "\n",
    "sns.heatmap(train_df.isnull())\n",
    "plt.show()"
   ]
  },
  {
   "cell_type": "code",
   "execution_count": 19,
   "id": "1e8f98ff",
   "metadata": {},
   "outputs": [],
   "source": [
    "#dropping these above variables\n",
    "\n",
    "train_df.drop(['Alley','PoolQC','MiscFeature','Fence'],axis=1,inplace=True)\n",
    "test_df.drop(['Alley','PoolQC','MiscFeature','Fence'],axis=1,inplace=True)"
   ]
  },
  {
   "cell_type": "code",
   "execution_count": 8,
   "id": "087fcd14",
   "metadata": {},
   "outputs": [],
   "source": [
    "miss_cat=[]          #creating empty list for training categorical feature with missing values\n",
    "miss_int=[]          #creating empty list for training numerical feature with missing values\n",
    "for i in train_df.columns:\n",
    "    if train_df[i].isnull().sum()>0 and train_df[i].dtypes=='object':\n",
    "        miss_cat.append(i)\n",
    "    elif train_df[i].isnull().sum()>0 and train_df[i].dtypes=='float64':\n",
    "        miss_int.append(i)\n",
    "        \n",
    "miss_cat_test=[]     #creating empty list for testing categorical feature with missing values\n",
    "miss_int_test=[]     ##creating empty list for testing numerical feature with missing values\n",
    "for j in test_df.columns:\n",
    "    if test_df[j].isnull().sum()>0 and test_df[j].dtypes=='object':\n",
    "        miss_cat_test.append(j)\n",
    "    elif test_df[j].isnull().sum()>0 and test_df[j].dtypes=='float64':\n",
    "        miss_int_test.append(j)"
   ]
  },
  {
   "cell_type": "markdown",
   "id": "b5ada9a7",
   "metadata": {},
   "source": [
    "- Here I have used SimpleImputer to fill those missing values\n",
    "- for categorical features SimpleImputer with strategy as most frequent or mode of the data is going to be used\n",
    "- for numerical features SimpleImputer with strategy as mean of the data is going to be used"
   ]
  },
  {
   "cell_type": "code",
   "execution_count": 9,
   "id": "84d4bf4c",
   "metadata": {},
   "outputs": [],
   "source": [
    "from sklearn.impute import SimpleImputer     #importing SimpleImputer\n",
    "\n",
    "for i in miss_cat:\n",
    "    train_df[i]=SimpleImputer(strategy='most_frequent').fit_transform(train_df[i].values.reshape(-1,1)) \n",
    "    \n",
    "for j in miss_int:    \n",
    "    train_df[j]=SimpleImputer(strategy='mean').fit_transform(train_df[j].values.reshape(-1,1))\n",
    "    \n",
    "for k in miss_cat_test:\n",
    "    test_df[k]=SimpleImputer(strategy='most_frequent').fit_transform(test_df[k].values.reshape(-1,1))\n",
    "    \n",
    "for l in miss_int_test:    \n",
    "    test_df[l]=SimpleImputer(strategy='mean').fit_transform(test_df[l].values.reshape(-1,1))"
   ]
  },
  {
   "cell_type": "code",
   "execution_count": 77,
   "id": "98dbadb9",
   "metadata": {},
   "outputs": [
    {
     "data": {
      "image/png": "[encoded data removed]",
      "text/plain": [
       "<Figure size 432x288 with 2 Axes>"
      ]
     },
     "metadata": {
      "needs_background": "light"
     },
     "output_type": "display_data"
    }
   ],
   "source": [
    "#checking for null values in training set\n",
    "\n",
    "sns.heatmap(train_df.isnull())\n",
    "plt.show()"
   ]
  },
  {
   "cell_type": "code",
   "execution_count": 78,
   "id": "fc5059e2",
   "metadata": {
    "scrolled": true
   },
   "outputs": [
    {
     "data": {
      "image/png": "[encoded data removed]",
      "text/plain": [
       "<Figure size 432x288 with 2 Axes>"
      ]
     },
     "metadata": {
      "needs_background": "light"
     },
     "output_type": "display_data"
    }
   ],
   "source": [
    "#checking for null values in testing-set\n",
    "\n",
    "sns.heatmap(test_df.isnull())\n",
    "plt.show()"
   ]
  },
  {
   "cell_type": "markdown",
   "id": "3a7ff69e",
   "metadata": {},
   "source": [
    "- Now as the missing values have been replaced in both the sets , we can convert the categorical features into numeric one , for this I am going to use LabelEncoder"
   ]
  },
  {
   "cell_type": "code",
   "execution_count": 20,
   "id": "a0e90e24",
   "metadata": {},
   "outputs": [],
   "source": [
    "cat=[]                     #creating empty list for categorical variable from training set\n",
    "for i in train_df.columns:\n",
    "    if train_df[i].dtypes=='object':\n",
    "        cat.append(i)\n",
    "         \n",
    "cat_test=[]                #creating empty list for categorical variable from training set\n",
    "for j in test_df.columns:\n",
    "    if test_df[j].dtypes=='object':\n",
    "        cat_test.append(j)"
   ]
  },
  {
   "cell_type": "code",
   "execution_count": 21,
   "id": "ac6deab5",
   "metadata": {},
   "outputs": [],
   "source": [
    "from sklearn.preprocessing import LabelEncoder    #importing LabelEncoder\n",
    "\n",
    "for i in cat:\n",
    "    train_df[i]=LabelEncoder().fit_transform(train_df[i])\n",
    "    \n",
    "for j in cat_test:\n",
    "    test_df[j]=LabelEncoder().fit_transform(test_df[j])"
   ]
  },
  {
   "cell_type": "code",
   "execution_count": 12,
   "id": "5bd132ab",
   "metadata": {},
   "outputs": [
    {
     "data": {
      "text/html": [
       "<div>\n",
       "<style scoped>\n",
       "    .dataframe tbody tr th:only-of-type {\n",
       "        vertical-align: middle;\n",
       "    }\n",
       "\n",
       "    .dataframe tbody tr th {\n",
       "        vertical-align: top;\n",
       "    }\n",
       "\n",
       "    .dataframe thead th {\n",
       "        text-align: right;\n",
       "    }\n",
       "</style>\n",
       "<table border=\"1\" class=\"dataframe\">\n",
       "  <thead>\n",
       "    <tr style=\"text-align: right;\">\n",
       "      <th></th>\n",
       "      <th>SalePrice</th>\n",
       "    </tr>\n",
       "  </thead>\n",
       "  <tbody>\n",
       "    <tr>\n",
       "      <th>OpenPorchSF</th>\n",
       "      <td>0.339500</td>\n",
       "    </tr>\n",
       "    <tr>\n",
       "      <th>BsmtFinSF1</th>\n",
       "      <td>0.362874</td>\n",
       "    </tr>\n",
       "    <tr>\n",
       "      <th>Foundation</th>\n",
       "      <td>0.374169</td>\n",
       "    </tr>\n",
       "    <tr>\n",
       "      <th>GarageYrBlt</th>\n",
       "      <td>0.458007</td>\n",
       "    </tr>\n",
       "    <tr>\n",
       "      <th>Fireplaces</th>\n",
       "      <td>0.459611</td>\n",
       "    </tr>\n",
       "    <tr>\n",
       "      <th>MasVnrArea</th>\n",
       "      <td>0.463626</td>\n",
       "    </tr>\n",
       "    <tr>\n",
       "      <th>YearRemodAdd</th>\n",
       "      <td>0.507831</td>\n",
       "    </tr>\n",
       "    <tr>\n",
       "      <th>YearBuilt</th>\n",
       "      <td>0.514408</td>\n",
       "    </tr>\n",
       "    <tr>\n",
       "      <th>TotRmsAbvGrd</th>\n",
       "      <td>0.528363</td>\n",
       "    </tr>\n",
       "    <tr>\n",
       "      <th>FullBath</th>\n",
       "      <td>0.554988</td>\n",
       "    </tr>\n",
       "    <tr>\n",
       "      <th>1stFlrSF</th>\n",
       "      <td>0.587642</td>\n",
       "    </tr>\n",
       "    <tr>\n",
       "      <th>TotalBsmtSF</th>\n",
       "      <td>0.595042</td>\n",
       "    </tr>\n",
       "    <tr>\n",
       "      <th>GarageArea</th>\n",
       "      <td>0.619000</td>\n",
       "    </tr>\n",
       "    <tr>\n",
       "      <th>GarageCars</th>\n",
       "      <td>0.628329</td>\n",
       "    </tr>\n",
       "    <tr>\n",
       "      <th>GrLivArea</th>\n",
       "      <td>0.707300</td>\n",
       "    </tr>\n",
       "    <tr>\n",
       "      <th>OverallQual</th>\n",
       "      <td>0.789185</td>\n",
       "    </tr>\n",
       "    <tr>\n",
       "      <th>SalePrice</th>\n",
       "      <td>1.000000</td>\n",
       "    </tr>\n",
       "    <tr>\n",
       "      <th>Utilities</th>\n",
       "      <td>NaN</td>\n",
       "    </tr>\n",
       "  </tbody>\n",
       "</table>\n",
       "</div>"
      ],
      "text/plain": [
       "              SalePrice\n",
       "OpenPorchSF    0.339500\n",
       "BsmtFinSF1     0.362874\n",
       "Foundation     0.374169\n",
       "GarageYrBlt    0.458007\n",
       "Fireplaces     0.459611\n",
       "MasVnrArea     0.463626\n",
       "YearRemodAdd   0.507831\n",
       "YearBuilt      0.514408\n",
       "TotRmsAbvGrd   0.528363\n",
       "FullBath       0.554988\n",
       "1stFlrSF       0.587642\n",
       "TotalBsmtSF    0.595042\n",
       "GarageArea     0.619000\n",
       "GarageCars     0.628329\n",
       "GrLivArea      0.707300\n",
       "OverallQual    0.789185\n",
       "SalePrice      1.000000\n",
       "Utilities           NaN"
      ]
     },
     "execution_count": 12,
     "metadata": {},
     "output_type": "execute_result"
    }
   ],
   "source": [
    "#checking out correlation matrix again as all the features are numeric now\n",
    "\n",
    "corr=train_df.corr()['SalePrice'].sort_values()\n",
    "corr=pd.DataFrame(corr)\n",
    "corr.tail(18)"
   ]
  },
  {
   "cell_type": "markdown",
   "id": "307a043f",
   "metadata": {},
   "source": [
    "# Feature Selection:"
   ]
  },
  {
   "cell_type": "markdown",
   "id": "75401c62",
   "metadata": {},
   "source": [
    "- As 'Utilities' is showing NaN correlation with the traget variable , I am going to drop it from both train and test data"
   ]
  },
  {
   "cell_type": "code",
   "execution_count": 43,
   "id": "03334658",
   "metadata": {},
   "outputs": [],
   "source": [
    "X_train = train_df.drop([\"SalePrice\"], axis=1)\n",
    "Y_train = train_df[\"SalePrice\"]\n",
    "X_test  = test_df.drop([\"Id\"], axis=1).copy()"
   ]
  },
  {
   "cell_type": "markdown",
   "id": "7584feee",
   "metadata": {},
   "source": [
    "# Building Models:"
   ]
  },
  {
   "cell_type": "markdown",
   "id": "95ea1ef0",
   "metadata": {},
   "source": [
    "1. Linear Regression"
   ]
  },
  {
   "cell_type": "code",
   "execution_count": null,
   "id": "dd1245f9",
   "metadata": {
    "scrolled": true
   },
   "outputs": [],
   "source": [
    "#LinearRegression\n",
    "\n",
    "lr=LinearRegression()\n",
    "lr.fit(X_train,Y_train)\n",
    "predlr=lr.predict(X_test)\n",
    "acc_lr=lr.score(X_train,Y_train)\n",
    "acc_lr"
   ]
  },
  {
   "cell_type": "markdown",
   "id": "848e92b4",
   "metadata": {},
   "source": [
    "2. Regularization\n",
    "- Lasso\n",
    "- Ridge"
   ]
  },
  {
   "cell_type": "code",
   "execution_count": 95,
   "id": "8533cb35",
   "metadata": {},
   "outputs": [
    {
     "data": {
      "text/plain": [
       "0.8363109216137934"
      ]
     },
     "execution_count": 95,
     "metadata": {},
     "output_type": "execute_result"
    }
   ],
   "source": [
    "#Lasso\n",
    "\n",
    "ls=Lasso()\n",
    "ls.fit(X_train,Y_train)\n",
    "predls=ls.predict(X_test)\n",
    "acc_ls=ls.score(X_train,Y_train)\n",
    "acc_ls"
   ]
  },
  {
   "cell_type": "code",
   "execution_count": 96,
   "id": "66184d4e",
   "metadata": {},
   "outputs": [
    {
     "data": {
      "text/plain": [
       "0.8362944229769591"
      ]
     },
     "execution_count": 96,
     "metadata": {},
     "output_type": "execute_result"
    }
   ],
   "source": [
    "#Ridge\n",
    "\n",
    "lrr=Ridge()\n",
    "lrr.fit(X_train,Y_train)\n",
    "predlrr=lrr.predict(X_test)\n",
    "acc_lrr=lrr.score(X_train,Y_train)\n",
    "acc_lrr"
   ]
  },
  {
   "cell_type": "markdown",
   "id": "458fb6c7",
   "metadata": {},
   "source": [
    "3. K-Nearest_Neighbors"
   ]
  },
  {
   "cell_type": "code",
   "execution_count": 99,
   "id": "80142ed0",
   "metadata": {},
   "outputs": [
    {
     "data": {
      "text/plain": [
       "0.7620991766485199"
      ]
     },
     "execution_count": 99,
     "metadata": {},
     "output_type": "execute_result"
    }
   ],
   "source": [
    "#KNeighbors\n",
    "\n",
    "knn=KNeighborsRegressor()\n",
    "knn.fit(X_train,Y_train)\n",
    "predknn=knn.predict(X_test)\n",
    "acc_knn=knn.score(X_train,Y_train)\n",
    "acc_knn"
   ]
  },
  {
   "cell_type": "markdown",
   "id": "2c90d634",
   "metadata": {},
   "source": [
    "4. Ensemble\n",
    "- Ada Boost\n",
    "- Random Forest\n",
    "- Gradient Boosting"
   ]
  },
  {
   "cell_type": "code",
   "execution_count": 101,
   "id": "ea254376",
   "metadata": {},
   "outputs": [
    {
     "data": {
      "text/plain": [
       "0.8713451607478098"
      ]
     },
     "execution_count": 101,
     "metadata": {},
     "output_type": "execute_result"
    }
   ],
   "source": [
    "#AdaBoost\n",
    "\n",
    "ada=AdaBoostRegressor()\n",
    "ada.fit(X_train,Y_train)\n",
    "predada=ada.predict(X_test)\n",
    "acc_ada=ada.score(X_train,Y_train)\n",
    "acc_ada"
   ]
  },
  {
   "cell_type": "code",
   "execution_count": 110,
   "id": "cf586638",
   "metadata": {},
   "outputs": [
    {
     "data": {
      "text/plain": [
       "0.978546243162069"
      ]
     },
     "execution_count": 110,
     "metadata": {},
     "output_type": "execute_result"
    }
   ],
   "source": [
    "#RandomForest\n",
    "\n",
    "rf=RandomForestRegressor()\n",
    "rf.fit(X_train,Y_train)\n",
    "predrf=rf.predict(X_test)\n",
    "acc_rf=rf.score(X_train,Y_train)\n",
    "acc_rf"
   ]
  },
  {
   "cell_type": "code",
   "execution_count": 98,
   "id": "80797c69",
   "metadata": {
    "scrolled": true
   },
   "outputs": [
    {
     "data": {
      "text/plain": [
       "0.9674168693199413"
      ]
     },
     "execution_count": 98,
     "metadata": {},
     "output_type": "execute_result"
    }
   ],
   "source": [
    "#Gradient Boosting\n",
    "\n",
    "gbr=GradientBoostingRegressor()\n",
    "gbr.fit(X_train,Y_train)\n",
    "predgbr=gbr.predict(X_test)\n",
    "acc_gbr=gbr.score(X_train,Y_train)\n",
    "acc_gbr"
   ]
  },
  {
   "cell_type": "markdown",
   "id": "20b385cd",
   "metadata": {},
   "source": [
    "# Best Model?"
   ]
  },
  {
   "cell_type": "code",
   "execution_count": 104,
   "id": "65692d6f",
   "metadata": {},
   "outputs": [
    {
     "data": {
      "text/html": [
       "<div>\n",
       "<style scoped>\n",
       "    .dataframe tbody tr th:only-of-type {\n",
       "        vertical-align: middle;\n",
       "    }\n",
       "\n",
       "    .dataframe tbody tr th {\n",
       "        vertical-align: top;\n",
       "    }\n",
       "\n",
       "    .dataframe thead th {\n",
       "        text-align: right;\n",
       "    }\n",
       "</style>\n",
       "<table border=\"1\" class=\"dataframe\">\n",
       "  <thead>\n",
       "    <tr style=\"text-align: right;\">\n",
       "      <th></th>\n",
       "      <th>Model</th>\n",
       "    </tr>\n",
       "    <tr>\n",
       "      <th>Score</th>\n",
       "      <th></th>\n",
       "    </tr>\n",
       "  </thead>\n",
       "  <tbody>\n",
       "    <tr>\n",
       "      <th>97.973641</th>\n",
       "      <td>Random Forest</td>\n",
       "    </tr>\n",
       "    <tr>\n",
       "      <th>96.741687</th>\n",
       "      <td>Gradient Boosting</td>\n",
       "    </tr>\n",
       "    <tr>\n",
       "      <th>87.134516</th>\n",
       "      <td>Ada Boost</td>\n",
       "    </tr>\n",
       "    <tr>\n",
       "      <th>83.631103</th>\n",
       "      <td>Linear Regression</td>\n",
       "    </tr>\n",
       "    <tr>\n",
       "      <th>83.631092</th>\n",
       "      <td>Lasso</td>\n",
       "    </tr>\n",
       "    <tr>\n",
       "      <th>83.629442</th>\n",
       "      <td>Ridge</td>\n",
       "    </tr>\n",
       "    <tr>\n",
       "      <th>76.209918</th>\n",
       "      <td>KNN</td>\n",
       "    </tr>\n",
       "  </tbody>\n",
       "</table>\n",
       "</div>"
      ],
      "text/plain": [
       "                       Model\n",
       "Score                       \n",
       "97.973641      Random Forest\n",
       "96.741687  Gradient Boosting\n",
       "87.134516          Ada Boost\n",
       "83.631103  Linear Regression\n",
       "83.631092              Lasso\n",
       "83.629442              Ridge\n",
       "76.209918                KNN"
      ]
     },
     "execution_count": 104,
     "metadata": {},
     "output_type": "execute_result"
    }
   ],
   "source": [
    "results = pd.DataFrame({'Model': ['Linear Regression','Lasso','Ridge','KNN','Ada Boost','Random Forest','Gradient Boosting'],'Score': [acc_lr*100,acc_ls*100,acc_lrr*100,acc_knn*100,acc_ada*100,acc_rf*100,acc_gbr*100]})\n",
    "result_df = results.sort_values(by='Score', ascending=False)\n",
    "result_df = result_df.set_index('Score')\n",
    "result_df"
   ]
  },
  {
   "cell_type": "markdown",
   "id": "d990eac9",
   "metadata": {},
   "source": [
    "- As we can see, the Random Forest regressor goes on the first place. But first, let us check, how random-forest performs, when we use cross validation."
   ]
  },
  {
   "cell_type": "code",
   "execution_count": 46,
   "id": "607bfe3c",
   "metadata": {},
   "outputs": [],
   "source": [
    "rf = RandomForestRegressor()"
   ]
  },
  {
   "cell_type": "code",
   "execution_count": 108,
   "id": "0580811b",
   "metadata": {},
   "outputs": [
    {
     "name": "stdout",
     "output_type": "stream",
     "text": [
      "Scores: [0.87786402 0.89258741 0.86888924 0.65629995 0.91224612 0.74175333\n",
      " 0.86003129 0.92597692 0.85211491 0.82860826] \n",
      "\n",
      "Mean: 0.841637145713736 \n",
      "\n",
      "Standard Deviation: 0.07854574936370462\n"
     ]
    }
   ],
   "source": [
    "#Cross validation for Random Forest\n",
    "\n",
    "rf = RandomForestRegressor()\n",
    "scores = cross_val_score(rf, X_train, Y_train, cv=10)\n",
    "print(\"Scores:\", scores,'\\n')\n",
    "print(\"Mean:\", scores.mean(),'\\n')\n",
    "print(\"Standard Deviation:\", scores.std())"
   ]
  },
  {
   "cell_type": "markdown",
   "id": "342e2ede",
   "metadata": {},
   "source": [
    "- This looks much more realistic than before. Our model has a average accuracy of 84% with a standard deviation of 7 %. The standard deviation shows us, how precise the estimates are .\n",
    "- This means in our case that the accuracy of our model can differ + — 7%."
   ]
  },
  {
   "cell_type": "markdown",
   "id": "9a6d3fb4",
   "metadata": {},
   "source": [
    "# Feature Importance:"
   ]
  },
  {
   "cell_type": "code",
   "execution_count": null,
   "id": "f54b0562",
   "metadata": {
    "scrolled": true
   },
   "outputs": [],
   "source": [
    "importances = pd.DataFrame({'feature':X_train.columns,'importance':np.round(rf.feature_importances_,3)})\n",
    "importances = importances.sort_values('importance',ascending=False).set_index('feature')\n",
    "importances"
   ]
  },
  {
   "cell_type": "markdown",
   "id": "fa44c9e8",
   "metadata": {},
   "source": [
    "- only OverallQual and GrLivArea have good feature importance"
   ]
  },
  {
   "cell_type": "code",
   "execution_count": 120,
   "id": "b8c631d5",
   "metadata": {
    "scrolled": true
   },
   "outputs": [
    {
     "data": {
      "text/plain": [
       "<AxesSubplot:xlabel='feature'>"
      ]
     },
     "execution_count": 120,
     "metadata": {},
     "output_type": "execute_result"
    },
    {
     "data": {
      "image/png": "[encoded data removed]",
      "text/plain": [
       "<Figure size 432x288 with 1 Axes>"
      ]
     },
     "metadata": {
      "needs_background": "light"
     },
     "output_type": "display_data"
    }
   ],
   "source": [
    "importances.tail(22).plot.bar()"
   ]
  },
  {
   "cell_type": "markdown",
   "id": "473b3a13",
   "metadata": {},
   "source": [
    "- Many feature have zero importance"
   ]
  },
  {
   "cell_type": "code",
   "execution_count": 123,
   "id": "fd7efc62",
   "metadata": {
    "scrolled": true
   },
   "outputs": [
    {
     "data": {
      "text/html": [
       "<div>\n",
       "<style scoped>\n",
       "    .dataframe tbody tr th:only-of-type {\n",
       "        vertical-align: middle;\n",
       "    }\n",
       "\n",
       "    .dataframe tbody tr th {\n",
       "        vertical-align: top;\n",
       "    }\n",
       "\n",
       "    .dataframe thead th {\n",
       "        text-align: right;\n",
       "    }\n",
       "</style>\n",
       "<table border=\"1\" class=\"dataframe\">\n",
       "  <thead>\n",
       "    <tr style=\"text-align: right;\">\n",
       "      <th></th>\n",
       "      <th>importance</th>\n",
       "    </tr>\n",
       "    <tr>\n",
       "      <th>feature</th>\n",
       "      <th></th>\n",
       "    </tr>\n",
       "  </thead>\n",
       "  <tbody>\n",
       "    <tr>\n",
       "      <th>3SsnPorch</th>\n",
       "      <td>0.0</td>\n",
       "    </tr>\n",
       "    <tr>\n",
       "      <th>GarageCond</th>\n",
       "      <td>0.0</td>\n",
       "    </tr>\n",
       "    <tr>\n",
       "      <th>PoolArea</th>\n",
       "      <td>0.0</td>\n",
       "    </tr>\n",
       "    <tr>\n",
       "      <th>Fence</th>\n",
       "      <td>0.0</td>\n",
       "    </tr>\n",
       "    <tr>\n",
       "      <th>MiscVal</th>\n",
       "      <td>0.0</td>\n",
       "    </tr>\n",
       "    <tr>\n",
       "      <th>Street</th>\n",
       "      <td>0.0</td>\n",
       "    </tr>\n",
       "    <tr>\n",
       "      <th>PavedDrive</th>\n",
       "      <td>0.0</td>\n",
       "    </tr>\n",
       "    <tr>\n",
       "      <th>BsmtFinType2</th>\n",
       "      <td>0.0</td>\n",
       "    </tr>\n",
       "    <tr>\n",
       "      <th>GarageQual</th>\n",
       "      <td>0.0</td>\n",
       "    </tr>\n",
       "    <tr>\n",
       "      <th>Utilities</th>\n",
       "      <td>0.0</td>\n",
       "    </tr>\n",
       "    <tr>\n",
       "      <th>Condition2</th>\n",
       "      <td>0.0</td>\n",
       "    </tr>\n",
       "    <tr>\n",
       "      <th>BsmtFinSF2</th>\n",
       "      <td>0.0</td>\n",
       "    </tr>\n",
       "    <tr>\n",
       "      <th>RoofMatl</th>\n",
       "      <td>0.0</td>\n",
       "    </tr>\n",
       "    <tr>\n",
       "      <th>BsmtHalfBath</th>\n",
       "      <td>0.0</td>\n",
       "    </tr>\n",
       "    <tr>\n",
       "      <th>LowQualFinSF</th>\n",
       "      <td>0.0</td>\n",
       "    </tr>\n",
       "    <tr>\n",
       "      <th>ExterCond</th>\n",
       "      <td>0.0</td>\n",
       "    </tr>\n",
       "    <tr>\n",
       "      <th>Electrical</th>\n",
       "      <td>0.0</td>\n",
       "    </tr>\n",
       "    <tr>\n",
       "      <th>Foundation</th>\n",
       "      <td>0.0</td>\n",
       "    </tr>\n",
       "    <tr>\n",
       "      <th>BsmtCond</th>\n",
       "      <td>0.0</td>\n",
       "    </tr>\n",
       "    <tr>\n",
       "      <th>Heating</th>\n",
       "      <td>0.0</td>\n",
       "    </tr>\n",
       "    <tr>\n",
       "      <th>BldgType</th>\n",
       "      <td>0.0</td>\n",
       "    </tr>\n",
       "  </tbody>\n",
       "</table>\n",
       "</div>"
      ],
      "text/plain": [
       "              importance\n",
       "feature                 \n",
       "3SsnPorch            0.0\n",
       "GarageCond           0.0\n",
       "PoolArea             0.0\n",
       "Fence                0.0\n",
       "MiscVal              0.0\n",
       "Street               0.0\n",
       "PavedDrive           0.0\n",
       "BsmtFinType2         0.0\n",
       "GarageQual           0.0\n",
       "Utilities            0.0\n",
       "Condition2           0.0\n",
       "BsmtFinSF2           0.0\n",
       "RoofMatl             0.0\n",
       "BsmtHalfBath         0.0\n",
       "LowQualFinSF         0.0\n",
       "ExterCond            0.0\n",
       "Electrical           0.0\n",
       "Foundation           0.0\n",
       "BsmtCond             0.0\n",
       "Heating              0.0\n",
       "BldgType             0.0"
      ]
     },
     "execution_count": 123,
     "metadata": {},
     "output_type": "execute_result"
    }
   ],
   "source": [
    "drop=importances.tail(21)     #features with Zero importance\n",
    "drop"
   ]
  },
  {
   "cell_type": "code",
   "execution_count": 127,
   "id": "134eda70",
   "metadata": {},
   "outputs": [
    {
     "data": {
      "text/plain": [
       "Index(['3SsnPorch', 'GarageCond', 'PoolArea', 'Fence', 'MiscVal', 'Street',\n",
       "       'PavedDrive', 'BsmtFinType2', 'GarageQual', 'Utilities', 'Condition2',\n",
       "       'BsmtFinSF2', 'RoofMatl', 'BsmtHalfBath', 'LowQualFinSF', 'ExterCond',\n",
       "       'Electrical', 'Foundation', 'BsmtCond', 'Heating', 'BldgType'],\n",
       "      dtype='object', name='feature')"
      ]
     },
     "execution_count": 127,
     "metadata": {},
     "output_type": "execute_result"
    }
   ],
   "source": [
    "drop.index"
   ]
  },
  {
   "cell_type": "code",
   "execution_count": 49,
   "id": "2f3f8a3c",
   "metadata": {},
   "outputs": [],
   "source": [
    "#dropping the zero feature importance"
   ]
  },
  {
   "cell_type": "code",
   "execution_count": 129,
   "id": "d9e188ef",
   "metadata": {
    "scrolled": true
   },
   "outputs": [],
   "source": [
    "train_df=train_df.drop(['3SsnPorch', 'GarageCond', 'PoolArea', 'Fence', 'MiscVal', 'Street',\n",
    "       'PavedDrive', 'BsmtFinType2', 'GarageQual', 'Utilities', 'Condition2',\n",
    "       'BsmtFinSF2', 'RoofMatl', 'BsmtHalfBath', 'LowQualFinSF', 'ExterCond',\n",
    "       'Electrical', 'Foundation', 'BsmtCond', 'Heating', 'BldgType'],axis=1)\n",
    "\n",
    "test_df=test_df.drop(['3SsnPorch', 'GarageCond', 'PoolArea', 'Fence', 'MiscVal', 'Street',\n",
    "       'PavedDrive', 'BsmtFinType2', 'GarageQual', 'Utilities', 'Condition2',\n",
    "       'BsmtFinSF2', 'RoofMatl', 'BsmtHalfBath', 'LowQualFinSF', 'ExterCond',\n",
    "       'Electrical', 'Foundation', 'BsmtCond', 'Heating', 'BldgType'],axis=1)"
   ]
  },
  {
   "cell_type": "code",
   "execution_count": 131,
   "id": "4ed2de5c",
   "metadata": {},
   "outputs": [],
   "source": [
    "X_train = train_df.drop(\"SalePrice\", axis=1)\n",
    "Y_train = train_df[\"SalePrice\"]\n",
    "X_test  = test_df.drop(['Id'],axis=1)"
   ]
  },
  {
   "cell_type": "code",
   "execution_count": 132,
   "id": "8f158abc",
   "metadata": {
    "scrolled": true
   },
   "outputs": [
    {
     "name": "stdout",
     "output_type": "stream",
     "text": [
      "98.16 %\n"
     ]
    }
   ],
   "source": [
    "# Random Forest\n",
    "\n",
    "random_forest = RandomForestRegressor(n_estimators=100, oob_score = True)\n",
    "random_forest.fit(X_train, Y_train)\n",
    "Y_prediction = random_forest.predict(X_test)\n",
    "\n",
    "random_forest.score(X_train, Y_train)\n",
    "\n",
    "acc_random_forest = round(random_forest.score(X_train, Y_train) * 100, 2)\n",
    "print(round(acc_random_forest,2,), \"%\")"
   ]
  },
  {
   "cell_type": "code",
   "execution_count": 134,
   "id": "aeddb8aa",
   "metadata": {},
   "outputs": [
    {
     "name": "stdout",
     "output_type": "stream",
     "text": [
      "oob score: 85.99 %\n"
     ]
    }
   ],
   "source": [
    "#out of bag sample score\n",
    "\n",
    "print(\"oob score:\", round(random_forest.oob_score_, 4)*100, \"%\")"
   ]
  },
  {
   "cell_type": "markdown",
   "id": "6100a3ec",
   "metadata": {},
   "source": [
    "# Hyperparameter Tuning:"
   ]
  },
  {
   "cell_type": "code",
   "execution_count": 139,
   "id": "7e1aa506",
   "metadata": {},
   "outputs": [
    {
     "data": {
      "text/plain": [
       "{'criterion': 'squared_error', 'min_samples_leaf': 1, 'min_samples_split': 2}"
      ]
     },
     "execution_count": 139,
     "metadata": {},
     "output_type": "execute_result"
    }
   ],
   "source": [
    "param_grid = { \"criterion\" : [\"squared_error\", \"absolute_error\", \"poisson\"], \"min_samples_leaf\" : [1, 5, 10], \"min_samples_split\" : [2, 4, 10]}\n",
    "from sklearn.experimental import enable_halving_search_cv\n",
    "from sklearn.model_selection import HalvingGridSearchCV\n",
    "rf = RandomForestRegressor(n_estimators=100, max_features='auto', oob_score=True, random_state=1, n_jobs=-1)\n",
    "clf = HalvingGridSearchCV(estimator=rf, param_grid=param_grid)\n",
    "clf.fit(X_train, Y_train)\n",
    "clf.best_params_"
   ]
  },
  {
   "cell_type": "code",
   "execution_count": 141,
   "id": "c19aec02",
   "metadata": {},
   "outputs": [
    {
     "name": "stdout",
     "output_type": "stream",
     "text": [
      "oob score: 86.81 %\n"
     ]
    }
   ],
   "source": [
    "# Random Forest\n",
    "random_forest = RandomForestRegressor(criterion = 'squared_error', \n",
    "                                       min_samples_leaf = 1, \n",
    "                                       min_samples_split = 2, \n",
    "                                       max_features='auto', \n",
    "                                       oob_score=True, \n",
    "                                       random_state=1, \n",
    "                                       n_jobs=-1)\n",
    "\n",
    "random_forest.fit(X_train, Y_train)\n",
    "Y_prediction = random_forest.predict(X_test)\n",
    "\n",
    "random_forest.score(X_train, Y_train)\n",
    "\n",
    "print(\"oob score:\", round(random_forest.oob_score_, 4)*100, \"%\")"
   ]
  },
  {
   "cell_type": "markdown",
   "id": "b4ae6b02",
   "metadata": {},
   "source": [
    "oob score has been increased after hyperparameter tuning"
   ]
  },
  {
   "cell_type": "markdown",
   "id": "0d67ae84",
   "metadata": {},
   "source": [
    "# Evaluation:"
   ]
  },
  {
   "cell_type": "code",
   "execution_count": 142,
   "id": "bf7e82a3",
   "metadata": {},
   "outputs": [],
   "source": [
    "from sklearn.model_selection import cross_val_predict\n",
    "predictions = cross_val_predict(random_forest, X_train, Y_train, cv=3)"
   ]
  },
  {
   "cell_type": "markdown",
   "id": "23d655e2",
   "metadata": {},
   "source": [
    "1. Mean Absolute Error"
   ]
  },
  {
   "cell_type": "code",
   "execution_count": 145,
   "id": "5e9d28db",
   "metadata": {},
   "outputs": [
    {
     "name": "stdout",
     "output_type": "stream",
     "text": [
      "MAE: 18169.7277739726\n"
     ]
    }
   ],
   "source": [
    "print('MAE:',mean_absolute_error(Y_train,predictions))"
   ]
  },
  {
   "cell_type": "markdown",
   "id": "b5fcb683",
   "metadata": {},
   "source": [
    "2. Mean Squared Error"
   ]
  },
  {
   "cell_type": "code",
   "execution_count": 146,
   "id": "fbc9b139",
   "metadata": {},
   "outputs": [
    {
     "name": "stdout",
     "output_type": "stream",
     "text": [
      "MSE: 890304588.7224373\n"
     ]
    }
   ],
   "source": [
    "print('MSE:',mean_squared_error(Y_train,predictions))"
   ]
  },
  {
   "cell_type": "markdown",
   "id": "a76c6c24",
   "metadata": {},
   "source": [
    "3. R squared score"
   ]
  },
  {
   "cell_type": "code",
   "execution_count": 148,
   "id": "44104afb",
   "metadata": {},
   "outputs": [
    {
     "name": "stdout",
     "output_type": "stream",
     "text": [
      "r2_score: 85.76044934360606\n"
     ]
    }
   ],
   "source": [
    "print('r2_score:',r2_score(Y_train,predictions)*100)"
   ]
  },
  {
   "cell_type": "markdown",
   "id": "f1bd4870",
   "metadata": {},
   "source": [
    "4. Root Mean Squared Error"
   ]
  },
  {
   "cell_type": "code",
   "execution_count": 149,
   "id": "06107b12",
   "metadata": {},
   "outputs": [
    {
     "name": "stdout",
     "output_type": "stream",
     "text": [
      "RMSE: 29837.972262243915\n"
     ]
    }
   ],
   "source": [
    "print('RMSE:',np.sqrt(mean_squared_error(Y_train,predictions)))"
   ]
  },
  {
   "cell_type": "markdown",
   "id": "0f1b7818",
   "metadata": {},
   "source": [
    "5. Root Mean Squared Log Error"
   ]
  },
  {
   "cell_type": "code",
   "execution_count": 152,
   "id": "6abd019d",
   "metadata": {},
   "outputs": [
    {
     "name": "stdout",
     "output_type": "stream",
     "text": [
      "RMSLE: 10.303537098330589\n"
     ]
    }
   ],
   "source": [
    "print('RMSLE:',np.log(np.sqrt(mean_squared_error(Y_train,predictions))))"
   ]
  },
  {
   "cell_type": "code",
   "execution_count": 151,
   "id": "870b9846",
   "metadata": {},
   "outputs": [
    {
     "data": {
      "image/png": "[encoded data removed]",
      "text/plain": [
       "<Figure size 432x288 with 1 Axes>"
      ]
     },
     "metadata": {
      "needs_background": "light"
     },
     "output_type": "display_data"
    }
   ],
   "source": [
    "sns.scatterplot(Y_train,predictions)\n",
    "plt.show()"
   ]
  },
  {
   "cell_type": "code",
   "execution_count": 153,
   "id": "003b0129",
   "metadata": {},
   "outputs": [
    {
     "data": {
      "text/html": [
       "<div>\n",
       "<style scoped>\n",
       "    .dataframe tbody tr th:only-of-type {\n",
       "        vertical-align: middle;\n",
       "    }\n",
       "\n",
       "    .dataframe tbody tr th {\n",
       "        vertical-align: top;\n",
       "    }\n",
       "\n",
       "    .dataframe thead th {\n",
       "        text-align: right;\n",
       "    }\n",
       "</style>\n",
       "<table border=\"1\" class=\"dataframe\">\n",
       "  <thead>\n",
       "    <tr style=\"text-align: right;\">\n",
       "      <th></th>\n",
       "      <th>Sale Price</th>\n",
       "      <th>Predicted Sale Price</th>\n",
       "    </tr>\n",
       "  </thead>\n",
       "  <tbody>\n",
       "    <tr>\n",
       "      <th>0</th>\n",
       "      <td>128000</td>\n",
       "      <td>137551.88</td>\n",
       "    </tr>\n",
       "    <tr>\n",
       "      <th>1</th>\n",
       "      <td>268000</td>\n",
       "      <td>304833.17</td>\n",
       "    </tr>\n",
       "    <tr>\n",
       "      <th>2</th>\n",
       "      <td>269790</td>\n",
       "      <td>242290.65</td>\n",
       "    </tr>\n",
       "    <tr>\n",
       "      <th>3</th>\n",
       "      <td>190000</td>\n",
       "      <td>202726.50</td>\n",
       "    </tr>\n",
       "    <tr>\n",
       "      <th>4</th>\n",
       "      <td>215000</td>\n",
       "      <td>193206.50</td>\n",
       "    </tr>\n",
       "    <tr>\n",
       "      <th>...</th>\n",
       "      <td>...</td>\n",
       "      <td>...</td>\n",
       "    </tr>\n",
       "    <tr>\n",
       "      <th>1163</th>\n",
       "      <td>122000</td>\n",
       "      <td>123064.42</td>\n",
       "    </tr>\n",
       "    <tr>\n",
       "      <th>1164</th>\n",
       "      <td>108000</td>\n",
       "      <td>126311.75</td>\n",
       "    </tr>\n",
       "    <tr>\n",
       "      <th>1165</th>\n",
       "      <td>148500</td>\n",
       "      <td>157063.40</td>\n",
       "    </tr>\n",
       "    <tr>\n",
       "      <th>1166</th>\n",
       "      <td>40000</td>\n",
       "      <td>103755.02</td>\n",
       "    </tr>\n",
       "    <tr>\n",
       "      <th>1167</th>\n",
       "      <td>183200</td>\n",
       "      <td>181760.63</td>\n",
       "    </tr>\n",
       "  </tbody>\n",
       "</table>\n",
       "<p>1168 rows × 2 columns</p>\n",
       "</div>"
      ],
      "text/plain": [
       "      Sale Price  Predicted Sale Price\n",
       "0         128000             137551.88\n",
       "1         268000             304833.17\n",
       "2         269790             242290.65\n",
       "3         190000             202726.50\n",
       "4         215000             193206.50\n",
       "...          ...                   ...\n",
       "1163      122000             123064.42\n",
       "1164      108000             126311.75\n",
       "1165      148500             157063.40\n",
       "1166       40000             103755.02\n",
       "1167      183200             181760.63\n",
       "\n",
       "[1168 rows x 2 columns]"
      ]
     },
     "execution_count": 153,
     "metadata": {},
     "output_type": "execute_result"
    }
   ],
   "source": [
    "preddf=pd.DataFrame({'Sale Price':Y_train,'Predicted Sale Price':predictions})\n",
    "preddf"
   ]
  }
 ],
 "metadata": {
  "kernelspec": {
   "display_name": "Python 3 (ipykernel)",
   "language": "python",
   "name": "python3"
  },
  "language_info": {
   "codemirror_mode": {
    "name": "ipython",
    "version": 3
   },
   "file_extension": ".py",
   "mimetype": "text/x-python",
   "name": "python",
   "nbconvert_exporter": "python",
   "pygments_lexer": "ipython3",
   "version": "3.9.7"
  }
 },
 "nbformat": 4,
 "nbformat_minor": 5
}
